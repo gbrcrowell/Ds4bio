{
 "cells": [
  {
   "cell_type": "markdown",
   "source": [
    "## Learning objectives for this notebook\n",
    "- Grouping by a feature to make summaries comparing 2 features to each other\n",
    "- Interpret and apply an array of visualizations summarizing the relationship between a categorical and a number feature\n",
    "\n",
    "Then moving toward *modeling*:\n",
    "- Describe the difference between a variable and a set of observations\n",
    "- Describe categorical and number variables, and the difference between them\n"
   ],
   "metadata": {
    "collapsed": false,
    "pycharm": {
     "name": "#%% md\n"
    }
   }
  },
  {
   "cell_type": "markdown",
   "source": [
    "First let's load in our data"
   ],
   "metadata": {
    "collapsed": false,
    "pycharm": {
     "name": "#%% md\n"
    }
   }
  },
  {
   "cell_type": "code",
   "execution_count": 1,
   "outputs": [],
   "source": [
    "import pandas as pd\n",
    "import seaborn as sns\n",
    "geno = pd.read_table(\"arabidopsis_birds/arabmagic/arabmagic_geno.csv\", sep=\",\",skiprows=3,index_col=0)\n",
    "pmap = pd.read_table(\"arabidopsis_birds/arabmagic/arabmagic_pmap_tair9.csv\", sep=\",\",skiprows=3,index_col=0)\n",
    "pheno = pd.read_table(\"arabidopsis_birds/arabmagic/arabmagic_pheno.csv\", sep=\",\",skiprows=3,index_col=0)\n",
    "counts = pd.read_table(\"arabidopsis_birds/eco_data/species_counts.txt\")\n",
    "sites = pd.read_table(\"arabidopsis_birds/eco_data/eco_sites.txt\")\n",
    "fruit_length_geno = pd.read_table(\"fruit_length_geno.csv\",sep=\",\")\n",
    "gwas_plus_pmap = pd.read_table(\"gwas_plus_pmap.csv\",sep=\",\")"
   ],
   "metadata": {
    "collapsed": false,
    "pycharm": {
     "name": "#%%\n"
    }
   }
  },
  {
   "cell_type": "markdown",
   "source": [
    "# 0. Grouping your data\n",
    "You can group together observations in your dataframe using one feature and obtain summaries of the observations and the other features with `groupby`"
   ],
   "metadata": {
    "collapsed": false,
    "pycharm": {
     "name": "#%% md\n"
    }
   }
  },
  {
   "cell_type": "code",
   "execution_count": 7,
   "outputs": [
    {
     "data": {
      "text/plain": "chr\n1    274\n2    211\n3    248\n4    228\n5    290\ndtype: int64"
     },
     "execution_count": 7,
     "metadata": {},
     "output_type": "execute_result"
    }
   ],
   "source": [
    "gwas_plus_pmap.groupby('chr').size()"
   ],
   "metadata": {
    "collapsed": false,
    "pycharm": {
     "name": "#%%\n"
    }
   }
  },
  {
   "cell_type": "code",
   "execution_count": 5,
   "outputs": [
    {
     "data": {
      "text/plain": "1251"
     },
     "execution_count": 5,
     "metadata": {},
     "output_type": "execute_result"
    }
   ],
   "source": [
    "gwas_plus_pmap.groupby('chr').size().sum()"
   ],
   "metadata": {
    "collapsed": false,
    "pycharm": {
     "name": "#%%\n"
    }
   }
  },
  {
   "cell_type": "markdown",
   "source": [
    "Note that this gives you a new data frame or series"
   ],
   "metadata": {
    "collapsed": false,
    "pycharm": {
     "name": "#%% md\n"
    }
   }
  },
  {
   "cell_type": "markdown",
   "source": [
    "**How did we visualize the number of markers on a chromosome before?**"
   ],
   "metadata": {
    "collapsed": false,
    "pycharm": {
     "name": "#%% md\n"
    }
   }
  },
  {
   "cell_type": "code",
   "execution_count": 8,
   "outputs": [
    {
     "data": {
      "text/plain": "<seaborn.axisgrid.FacetGrid at 0x7fba310f65b0>"
     },
     "execution_count": 8,
     "metadata": {},
     "output_type": "execute_result"
    },
    {
     "data": {
      "text/plain": "<Figure size 360x360 with 1 Axes>",
      "image/png": "[encoded data removed]"
     },
     "metadata": {},
     "output_type": "display_data"
    }
   ],
   "source": [
    "sns.displot(gwas_plus_pmap, x=\"chr\")"
   ],
   "metadata": {
    "collapsed": false,
    "pycharm": {
     "name": "#%%\n"
    }
   }
  },
  {
   "cell_type": "markdown",
   "source": [
    "**Exercise 0.1**: verify using vectorized operations that there are indeed 274 rows corresponding to chromosome 1"
   ],
   "metadata": {
    "collapsed": false,
    "pycharm": {
     "name": "#%% md\n"
    }
   }
  },
  {
   "cell_type": "code",
   "execution_count": 18,
   "outputs": [
    {
     "data": {
      "text/plain": "274"
     },
     "execution_count": 18,
     "metadata": {},
     "output_type": "execute_result"
    }
   ],
   "source": [
    "(gwas_plus_pmap[\"chr\"] == 1).sum()"
   ],
   "metadata": {
    "collapsed": false,
    "pycharm": {
     "name": "#%%\n"
    }
   }
  },
  {
   "cell_type": "markdown",
   "source": [
    "**Exercise 0.2**: using the `fruit_length_geno` data frame we made above, group by marker MASC06116 to find out how many plants there are of each genotype"
   ],
   "metadata": {
    "collapsed": false,
    "pycharm": {
     "name": "#%% md\n"
    }
   }
  },
  {
   "cell_type": "code",
   "execution_count": 21,
   "outputs": [
    {
     "name": "stdout",
     "output_type": "stream",
     "text": [
      "628\n",
      "49\n"
     ]
    }
   ],
   "source": [
    "print((fruit_length_geno[\"MASC06116\"] == \"A\").sum())\n",
    "print((fruit_length_geno[\"MASC06116\"] != \"A\").sum())"
   ],
   "metadata": {
    "collapsed": false,
    "pycharm": {
     "name": "#%%\n"
    }
   }
  },
  {
   "cell_type": "markdown",
   "source": [
    "Just like with other vectorized data frame operations, There are a number of operations you can apply to your `groupby` result data frame, including `mean` which will get the mean in each group, `min`, `max`, etc...\n",
    "\n",
    "**Exercise 0.3**: Find the maximum value of fruit_length in the 2 genotype groups"
   ],
   "metadata": {
    "collapsed": false,
    "pycharm": {
     "name": "#%% md\n"
    }
   }
  },
  {
   "cell_type": "code",
   "execution_count": 34,
   "outputs": [
    {
     "data": {
      "text/plain": "           fruit_length\nMASC06116              \nA                 19.94\nB                 15.57",
      "text/html": "<div>\n<style scoped>\n    .dataframe tbody tr th:only-of-type {\n        vertical-align: middle;\n    }\n\n    .dataframe tbody tr th {\n        vertical-align: top;\n    }\n\n    .dataframe thead th {\n        text-align: right;\n    }\n</style>\n<table border=\"1\" class=\"dataframe\">\n  <thead>\n    <tr style=\"text-align: right;\">\n      <th></th>\n      <th>fruit_length</th>\n    </tr>\n    <tr>\n      <th>MASC06116</th>\n      <th></th>\n    </tr>\n  </thead>\n  <tbody>\n    <tr>\n      <th>A</th>\n      <td>19.94</td>\n    </tr>\n    <tr>\n      <th>B</th>\n      <td>15.57</td>\n    </tr>\n  </tbody>\n</table>\n</div>"
     },
     "execution_count": 34,
     "metadata": {},
     "output_type": "execute_result"
    }
   ],
   "source": [
    "fruit_length_geno.loc[:, (\"MASC06116\", \"fruit_length\")].groupby(\"MASC06116\").max()"
   ],
   "metadata": {
    "collapsed": false,
    "pycharm": {
     "name": "#%%\n"
    }
   }
  },
  {
   "cell_type": "markdown",
   "source": [
    "**Exercise 0.4**: Use groupby to get your Get the difference between phenotype means for the A and B genotypes of marker MASC06116. Compare this to what we previously calculated using the \"apply\" or the for loop."
   ],
   "metadata": {
    "collapsed": false,
    "pycharm": {
     "name": "#%% md\n"
    }
   }
  },
  {
   "cell_type": "code",
   "execution_count": 45,
   "outputs": [
    {
     "data": {
      "text/plain": "2.846939428571428"
     },
     "execution_count": 45,
     "metadata": {},
     "output_type": "execute_result"
    }
   ],
   "source": [
    "fruit_length_geno.loc[:, (\"MASC06116\", \"fruit_length\")].groupby(\"MASC06116\").mean().diff(axis= 0, periods=-1).loc[\"A\", \"fruit_length\"]"
   ],
   "metadata": {
    "collapsed": false,
    "pycharm": {
     "name": "#%%\n"
    }
   }
  },
  {
   "cell_type": "code",
   "execution_count": 56,
   "outputs": [
    {
     "data": {
      "text/plain": "2.846939428571428"
     },
     "execution_count": 56,
     "metadata": {},
     "output_type": "execute_result"
    }
   ],
   "source": [
    "groupab = fruit_length_geno.loc[:, (\"MASC06116\", \"fruit_length\")].groupby(\"MASC06116\")\n",
    "# group fruit length by the marker MASC06116\n",
    "meanab = groupab.mean()\n",
    "difab = meanab.loc[\"A\", \"fruit_length\"] - meanab.loc[\"B\", \"fruit_length\"]\n",
    "difab"
   ],
   "metadata": {
    "collapsed": false,
    "pycharm": {
     "name": "#%%\n"
    }
   }
  },
  {
   "cell_type": "code",
   "execution_count": 57,
   "outputs": [
    {
     "data": {
      "text/plain": "<seaborn.axisgrid.FacetGrid at 0x7fb9f1e3d0a0>"
     },
     "execution_count": 57,
     "metadata": {},
     "output_type": "execute_result"
    },
    {
     "data": {
      "text/plain": "<Figure size 360x360 with 1 Axes>",
      "image/png": "[encoded data removed]"
     },
     "metadata": {},
     "output_type": "display_data"
    }
   ],
   "source": [
    "sns.catplot(x=\"MASC06116\", y=\"fruit_length\", data=fruit_length_geno)"
   ],
   "metadata": {
    "collapsed": false,
    "pycharm": {
     "name": "#%%\n"
    }
   }
  },
  {
   "cell_type": "markdown",
   "source": [
    "**Exercise 1.1**: What are the axes? What are the data points? How can you interpret this plot?"
   ],
   "metadata": {
    "collapsed": false,
    "pycharm": {
     "name": "#%% md\n"
    }
   }
  },
  {
   "cell_type": "code",
   "execution_count": 60,
   "outputs": [
    {
     "data": {
      "text/plain": "<seaborn.axisgrid.FacetGrid at 0x7fba42ee15e0>"
     },
     "execution_count": 60,
     "metadata": {},
     "output_type": "execute_result"
    },
    {
     "data": {
      "text/plain": "<Figure size 360x360 with 1 Axes>",
      "image/png": "[encoded data removed]"
     },
     "metadata": {},
     "output_type": "display_data"
    }
   ],
   "source": [
    "sns.catplot(x=\"MASC06116\", y=\"fruit_length\", data=fruit_length_geno, jitter =False)"
   ],
   "metadata": {
    "collapsed": false,
    "pycharm": {
     "name": "#%%\n"
    }
   }
  },
  {
   "cell_type": "markdown",
   "source": [
    "**Exercise 1.2**: what happened now? Explain the purpose of the `jitter`. What is the default value for `jitter`"
   ],
   "metadata": {
    "collapsed": false,
    "pycharm": {
     "name": "#%% md\n"
    }
   }
  },
  {
   "cell_type": "code",
   "execution_count": null,
   "outputs": [],
   "source": [
    "# Separates the data, so observations don't overlay"
   ],
   "metadata": {
    "collapsed": false,
    "pycharm": {
     "name": "#%%\n"
    }
   }
  },
  {
   "cell_type": "markdown",
   "source": [
    "### 1.2 Box plot\n",
    "Using the same `catplot` function we can do other plots.\n",
    "\n",
    "Here's a box plot. Box plot legend [here](https://wilkelab.org/SDS375/slides/visualizing-distributions-2.html#10).\n"
   ],
   "metadata": {
    "collapsed": false,
    "pycharm": {
     "name": "#%% md\n"
    }
   }
  },
  {
   "cell_type": "markdown",
   "source": [
    "<img src=\"attachment:771262b2-751c-4e64-9366-ad3b7d639c70.png\" width=\"400\">"
   ],
   "metadata": {
    "collapsed": false,
    "pycharm": {
     "name": "#%% md\n"
    }
   }
  },
  {
   "cell_type": "code",
   "execution_count": 61,
   "outputs": [
    {
     "data": {
      "text/plain": "<seaborn.axisgrid.FacetGrid at 0x7fba120d4d00>"
     },
     "execution_count": 61,
     "metadata": {},
     "output_type": "execute_result"
    },
    {
     "data": {
      "text/plain": "<Figure size 360x360 with 1 Axes>",
      "image/png": "[encoded data removed]"
     },
     "metadata": {},
     "output_type": "display_data"
    }
   ],
   "source": [
    "sns.catplot(y=\"fruit_length\", x=\"MASC06116\", kind=\"box\", data=fruit_length_geno)"
   ],
   "metadata": {
    "collapsed": false,
    "pycharm": {
     "name": "#%%\n"
    }
   }
  },
  {
   "cell_type": "markdown",
   "source": [
    "**Exercise 1.3**: get the fruit length data for the plants with genotype of A at marker MASC06116. Run the `describe` function on this Series to compare the results to the box plot above"
   ],
   "metadata": {
    "collapsed": false,
    "pycharm": {
     "name": "#%% md\n"
    }
   }
  },
  {
   "cell_type": "code",
   "execution_count": 66,
   "outputs": [
    {
     "data": {
      "text/plain": "          fruit_length                                                       \n                 count       mean       std   min    25%    50%    75%    max\nMASC06116                                                                    \nA                625.0  15.148368  1.643411  9.86  14.11  15.06  16.27  19.94\nB                 49.0  12.301429  1.541018  8.79  11.22  12.34  13.27  15.57",
      "text/html": "<div>\n<style scoped>\n    .dataframe tbody tr th:only-of-type {\n        vertical-align: middle;\n    }\n\n    .dataframe tbody tr th {\n        vertical-align: top;\n    }\n\n    .dataframe thead tr th {\n        text-align: left;\n    }\n\n    .dataframe thead tr:last-of-type th {\n        text-align: right;\n    }\n</style>\n<table border=\"1\" class=\"dataframe\">\n  <thead>\n    <tr>\n      <th></th>\n      <th colspan=\"8\" halign=\"left\">fruit_length</th>\n    </tr>\n    <tr>\n      <th></th>\n      <th>count</th>\n      <th>mean</th>\n      <th>std</th>\n      <th>min</th>\n      <th>25%</th>\n      <th>50%</th>\n      <th>75%</th>\n      <th>max</th>\n    </tr>\n    <tr>\n      <th>MASC06116</th>\n      <th></th>\n      <th></th>\n      <th></th>\n      <th></th>\n      <th></th>\n      <th></th>\n      <th></th>\n      <th></th>\n    </tr>\n  </thead>\n  <tbody>\n    <tr>\n      <th>A</th>\n      <td>625.0</td>\n      <td>15.148368</td>\n      <td>1.643411</td>\n      <td>9.86</td>\n      <td>14.11</td>\n      <td>15.06</td>\n      <td>16.27</td>\n      <td>19.94</td>\n    </tr>\n    <tr>\n      <th>B</th>\n      <td>49.0</td>\n      <td>12.301429</td>\n      <td>1.541018</td>\n      <td>8.79</td>\n      <td>11.22</td>\n      <td>12.34</td>\n      <td>13.27</td>\n      <td>15.57</td>\n    </tr>\n  </tbody>\n</table>\n</div>"
     },
     "execution_count": 66,
     "metadata": {},
     "output_type": "execute_result"
    }
   ],
   "source": [
    "fruit_length_geno.loc[:, ('fruit_length', 'MASC06116')].groupby('MASC06116').describe()"
   ],
   "metadata": {
    "collapsed": false,
    "pycharm": {
     "name": "#%%\n"
    }
   }
  },
  {
   "cell_type": "markdown",
   "source": [
    "We can also flip the axes:"
   ],
   "metadata": {
    "collapsed": false,
    "pycharm": {
     "name": "#%% md\n"
    }
   }
  },
  {
   "cell_type": "code",
   "execution_count": 68,
   "outputs": [
    {
     "data": {
      "text/plain": "<seaborn.axisgrid.FacetGrid at 0x7fba325a93d0>"
     },
     "execution_count": 68,
     "metadata": {},
     "output_type": "execute_result"
    },
    {
     "data": {
      "text/plain": "<Figure size 360x360 with 1 Axes>",
      "image/png": "[encoded data removed]"
     },
     "metadata": {},
     "output_type": "display_data"
    }
   ],
   "source": [
    "sns.catplot(x=\"fruit_length\", y=\"MASC06116\", kind=\"box\", data=fruit_length_geno)"
   ],
   "metadata": {
    "collapsed": false,
    "pycharm": {
     "name": "#%%\n"
    }
   }
  },
  {
   "cell_type": "code",
   "execution_count": 67,
   "outputs": [
    {
     "data": {
      "text/plain": "<seaborn.axisgrid.FacetGrid at 0x7fba51d24ca0>"
     },
     "execution_count": 67,
     "metadata": {},
     "output_type": "execute_result"
    },
    {
     "data": {
      "text/plain": "<Figure size 360x360 with 1 Axes>",
      "image/png": "[encoded data removed]"
     },
     "metadata": {},
     "output_type": "display_data"
    }
   ],
   "source": [
    "sns.catplot(x=\"fruit_length\", y=\"MASC06116\", kind=\"violin\", data=fruit_length_geno)"
   ],
   "metadata": {
    "collapsed": false,
    "pycharm": {
     "name": "#%%\n"
    }
   }
  },
  {
   "cell_type": "markdown",
   "source": [
    "**Exercise 1.4**: Compare the violin plot above to the box plot, the strip plots, and the previous histogram we made (copied below). What's the same? What's different?"
   ],
   "metadata": {
    "collapsed": false,
    "pycharm": {
     "name": "#%% md\n"
    }
   }
  },
  {
   "cell_type": "code",
   "execution_count": 69,
   "outputs": [
    {
     "data": {
      "text/plain": "<seaborn.axisgrid.FacetGrid at 0x7fba03236d00>"
     },
     "execution_count": 69,
     "metadata": {},
     "output_type": "execute_result"
    },
    {
     "data": {
      "text/plain": "<Figure size 424.125x360 with 1 Axes>",
      "image/png": "[encoded data removed]"
     },
     "metadata": {},
     "output_type": "display_data"
    }
   ],
   "source": [
    "sns.displot(data=fruit_length_geno, x=\"fruit_length\", hue='MASC06116',stat='density',common_norm=False, kde=True)"
   ],
   "metadata": {
    "collapsed": false,
    "pycharm": {
     "name": "#%%\n"
    }
   }
  },
  {
   "cell_type": "code",
   "execution_count": 71,
   "outputs": [
    {
     "data": {
      "text/plain": "Index(['Unnamed: 0', 'bolting_days', 'seed_weight', 'seed_area',\n       'ttl_seedspfruit', 'branches', 'height', 'pc_seeds_aborted',\n       'fruit_length', 'MN1_29291',\n       ...\n       'MN5_26029439', 'MN5_26121184', 'MN5_26220737', 'MN5_26379737',\n       'MN5_26380009', 'MN5_26437895', 'MN5_26438023', 'MN5_26708459',\n       'MN5_26877341', 'MN5_26877463'],\n      dtype='object', length=1260)"
     },
     "execution_count": 71,
     "metadata": {},
     "output_type": "execute_result"
    }
   ],
   "source": [
    "# the box plot is a rough estemation of the violin plot which looks like the histogram (but smaller and overlayed inverted onto itselve)\n",
    "fruit_length_geno.columns"
   ],
   "metadata": {
    "collapsed": false,
    "pycharm": {
     "name": "#%%\n"
    }
   }
  },
  {
   "cell_type": "markdown",
   "source": [
    "**Exercise 1.5**: Look through the [documentation](https://seaborn.pydata.org/tutorial/categorical.html#categorical-scatterplots) of various options of Seaborn plots for a catagorical with a number feature. Make one other plot involving a categorical and a number feature, of your choosing, using any of the data sets."
   ],
   "metadata": {
    "collapsed": false,
    "pycharm": {
     "name": "#%% md\n"
    }
   }
  },
  {
   "cell_type": "markdown",
   "source": [
    "## Further reading\n",
    "See this [free book](https://clauswilke.com/dataviz) to learn more ideas about good data visualization. Unfortunately, mostly in R!\n",
    "\n",
    "Also [Edward Tufte](https://www.edwardtufte.com/tufte/) is a famous data visualization expert."
   ],
   "metadata": {
    "collapsed": false,
    "pycharm": {
     "name": "#%% md\n"
    }
   }
  },
  {
   "cell_type": "markdown",
   "source": [
    "## 2. Introducing types of variables\n",
    "\n",
    "I already mentioned another word for a feature is a variable.\n",
    "\n",
    "While variables in programming are placeholders for specific values, the word is taken from statistics or math where a variable is a placeholder for a number that can take on certain values.\n",
    "\n",
    "By gathering **observations** we are learning about these **variables**. In the end we don't care about the particular 677 plants, we only care about the biology of how genotype shapes phenotype.\n",
    "\n",
    "**Exercise 2.1**: Let's say we got 400 new plants. What do you expect to see when you look at the data for these new plants on MASC06116 and fruit_length\n",
    "\n",
    "Generally, in a DataFrame, we have features that are all of one variable type (as in our `lakes` dataframe columns).\n",
    "\n",
    "**Exercise 2.2**: For each of the following variables, describe:\n",
    "\n",
    "- Minimum value (if any)\n",
    "- Maximum value (if any)\n",
    "- One kind of value that is not valid\n",
    "\n",
    "A. `Columba_pulchricollis` (counts data frame):\n",
    "\n",
    "B. `MN5_26437895` (geno data frame)\n",
    "\n",
    "C. `fruit_length` (pheno data frame)\n",
    "\n",
    "D. `native_name` (lakes data frame)\n",
    "\n",
    "E. `shared_canada` (lakes data frame)\n",
    "\n",
    "**Exercise 2.3**: Create a histogram (distribution plot) for fruit_length and for MASC06116. Describe what is similar and what different about the axes and other characteristics of these two plots."
   ],
   "metadata": {
    "collapsed": false,
    "pycharm": {
     "name": "#%% md\n"
    }
   }
  },
  {
   "cell_type": "markdown",
   "source": [
    "**Exercise 2.4**: Use the `describe` function on both features. How is the result of `describe` different between the 2? Compare the results to the histogram you just made."
   ],
   "metadata": {
    "collapsed": false,
    "pycharm": {
     "name": "#%% md\n"
    }
   }
  },
  {
   "cell_type": "markdown",
   "source": [
    "A **distribution** describes how commonly different values of a feature are.\n",
    "\n",
    "For numbers, they are often a \"bell curve\" (no relation to the book), such as things like:\n",
    "- total number of birds in a forest\n",
    "- fruit length\n",
    "- human height\n",
    "\n",
    "Sometimes they are not a bell curve but have other shapes, but the bell curve is very common because, intuitively, many variables have a \"very common\" value, a \"somewhat common but high\" and \"somewhat common but low\" value. Also, many variables have roughly symmetric likelihood fof seeing aa value.\n",
    "\n",
    "**Exercise 2.5**: Describe what is a \"very common\", \"somewhat common but high\", and \"very high\" value for fruit length"
   ],
   "metadata": {
    "collapsed": false,
    "pycharm": {
     "name": "#%% md\n"
    }
   }
  },
  {
   "cell_type": "markdown",
   "source": [
    "**Exercise 2.6**: If you got a new plant at random, what do you think is the approximate chance the  plant's genotype at  MASC06116  will be an A?"
   ],
   "metadata": {
    "collapsed": false,
    "pycharm": {
     "name": "#%% md\n"
    }
   }
  },
  {
   "cell_type": "code",
   "execution_count": null,
   "outputs": [],
   "source": [],
   "metadata": {
    "collapsed": false,
    "pycharm": {
     "name": "#%%\n"
    }
   }
  }
 ],
 "metadata": {
  "kernelspec": {
   "display_name": "Python 3 (ipykernel)",
   "language": "python",
   "name": "python3"
  },
  "language_info": {
   "codemirror_mode": {
    "name": "ipython",
    "version": 3
   },
   "file_extension": ".py",
   "mimetype": "text/x-python",
   "name": "python",
   "nbconvert_exporter": "python",
   "pygments_lexer": "ipython3",
   "version": "3.7.13"
  }
 },
 "nbformat": 4,
 "nbformat_minor": 5
}