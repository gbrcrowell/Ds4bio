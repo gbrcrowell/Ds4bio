{
 "cells": [
  {
   "cell_type": "markdown",
   "id": "1ff1d0dc-35a2-426b-b403-8fa854ee8773",
   "metadata": {
    "pycharm": {
     "name": "#%% md\n"
    }
   },
   "source": [
    "\n",
    "\n",
    "\n",
    "## Learning objectives\n",
    "- Calculate metrics of a regression model\n",
    "- Understand why two predictors together in the same model have different slopes than if they are in separate models."
   ]
  },
  {
   "cell_type": "code",
   "execution_count": 2,
   "id": "43e7472f-7cb7-411d-8816-f1c4368c20e4",
   "metadata": {
    "pycharm": {
     "name": "#%%\n"
    }
   },
   "outputs": [
    {
     "name": "stdout",
     "output_type": "stream",
     "text": [
      "MASC06116 (674, 3)\n",
      "height (511, 3)\n"
     ]
    }
   ],
   "source": [
    "## our previous code...\n",
    "import pandas as pd, numpy as np, seaborn as sns, matplotlib.pyplot as plt, statsmodels.api as sm\n",
    "from scipy.stats import bernoulli\n",
    "sns.set_theme()\n",
    "from scipy.stats import norm\n",
    "geno = pd.read_table(\"arabidopsis_birds/arabmagic/arabmagic_geno.csv\", sep=\",\",skiprows=3,index_col=0)\n",
    "pmap = pd.read_table(\"arabidopsis_birds/arabmagic/arabmagic_pmap_tair9.csv\", sep=\",\",skiprows=3,index_col=0)\n",
    "pheno = pd.read_table(\"arabidopsis_birds/arabmagic/arabmagic_pheno.csv\", sep=\",\",skiprows=3,index_col=0)\n",
    "counts = pd.read_table(\"arabidopsis_birds/eco_data/species_counts.txt\")\n",
    "sites = pd.read_table(\"arabidopsis_birds/eco_data/eco_sites.txt\")\n",
    "fruit_length_geno = pd.read_table(\"fruit_length_geno.csv\",sep=\",\")\n",
    "gwas_plus_pmap = pd.read_table(\"gwas_plus_pmap.csv\",sep=\",\")\n",
    "\n",
    "### MASC06116 model\n",
    "to_model = pd.DataFrame({\"fruit_length\":fruit_length_geno['fruit_length'],\n",
    "                         \"MASC06116\": (fruit_length_geno['MASC06116']=='A').astype(int)})\n",
    "                                                                                    ###^^or *2\n",
    "to_model = to_model.loc[pd.isnull(to_model).sum(axis=1)==0, :]\n",
    "\n",
    "to_model = sm.add_constant(to_model)\n",
    "\n",
    "print('MASC06116',to_model.shape)\n",
    "X_marker = to_model.loc[:,['const','MASC06116']]\n",
    "y_marker = to_model['fruit_length']\n",
    "model_marker = sm.OLS(y_marker, X_marker).fit()\n",
    "#model_marker.summary()\n",
    "\n",
    "\n",
    "### height model\n",
    "to_model = pd.DataFrame({\"fruit_length\":fruit_length_geno['fruit_length'],\n",
    "                         \"height\": fruit_length_geno['height']})\n",
    "                                                                                    ###^^or *2\n",
    "to_model = to_model.loc[ pd.isnull(to_model).sum(axis=1)==0, :]\n",
    "\n",
    "to_model = sm.add_constant(to_model)\n",
    "print('height',to_model.shape)\n",
    "X_height = to_model.loc[:,['const','height']]\n",
    "y_height = to_model['fruit_length']\n",
    "model_height = sm.OLS(y_height, X_height).fit()\n",
    "#model_height.summary()"
   ]
  },
  {
   "cell_type": "markdown",
   "id": "e3906303-6f7c-4ab0-bdd2-bc95ce0d5965",
   "metadata": {
    "pycharm": {
     "name": "#%% md\n"
    }
   },
   "source": [
    "## 5. Linear regression Model metrics\n",
    "A **metric** is a formula we calculate using the data + the model to figure out how well the model fits the data\n",
    "\n",
    "**Question**: what metrics have we discussed so far? How can we decide which single predictor is more predictive of fruit_length?"
   ]
  },
  {
   "cell_type": "code",
   "execution_count": 65,
   "id": "deac5433-eda1-4217-af94-20bf3ee4853e",
   "metadata": {
    "pycharm": {
     "name": "#%%\n"
    }
   },
   "outputs": [
    {
     "name": "stdout",
     "output_type": "stream",
     "text": [
      "{'Unnamed: 0': True}\n"
     ]
    }
   ],
   "source": [
    "# needs fruit_length_geno\n",
    "import pandas as pd, numpy as np, statsmodels.api as sm\n",
    "\n",
    "fit = {}\n",
    "err = {}\n",
    "\n",
    "for unk in fruit_length_geno.columns:\n",
    "    # print(f'Trying: {unk}')\n",
    "    unk_int = (fruit_length_geno[unk]=='A').astype(int)\n",
    "    try:\n",
    "        if np.array(unk_int).sum() > 0:\n",
    "            to_model = pd.DataFrame({\"fruit_length\":fruit_length_geno['fruit_length'],\n",
    "                                     unk:unk_int})\n",
    "            to_model = to_model.loc[ pd.isnull(to_model).sum(axis=1)==0, :]\n",
    "            to_model = sm.add_constant(to_model)\n",
    "        else:\n",
    "            to_model = pd.DataFrame({\"fruit_length\":fruit_length_geno['fruit_length'],\n",
    "                                     unk: (fruit_length_geno[unk])})\n",
    "            to_model = to_model.loc[ pd.isnull(to_model).sum(axis=1)==0, :]\n",
    "            to_model = sm.add_constant(to_model)\n",
    "        X_fit = to_model.loc[:,['const',unk]]\n",
    "        y_fit = to_model['fruit_length']\n",
    "        model_unk = sm.OLS(y_fit, X_fit).fit()\n",
    "        fit[unk] = model_unk.rsquared\n",
    "    except ValueError:\n",
    "        err[unk] = True\n",
    "\n",
    "print(err)\n",
    "rsq_all = pd.Series(fit)"
   ]
  },
  {
   "cell_type": "code",
   "execution_count": 53,
   "outputs": [
    {
     "data": {
      "text/plain": "[0       True\n 1       True\n 2       True\n 3       True\n 4      False\n        ...  \n 672     True\n 673    False\n 674     True\n 675    False\n 676    False\n Name: MN5_26877463, Length: 677, dtype: bool]"
     },
     "execution_count": 53,
     "metadata": {},
     "output_type": "execute_result"
    }
   ],
   "source": [
    "[fruit_length_geno[unk] == 'A'].astype(int)"
   ],
   "metadata": {
    "collapsed": false,
    "pycharm": {
     "name": "#%%\n"
    }
   }
  },
  {
   "cell_type": "code",
   "execution_count": 48,
   "outputs": [
    {
     "data": {
      "text/plain": "0      A\n1      A\n2      A\n3      A\n4      B\n      ..\n672    A\n673    B\n674    A\n675    B\n676    B\nName: MN5_26877463, Length: 677, dtype: object"
     },
     "execution_count": 48,
     "metadata": {},
     "output_type": "execute_result"
    }
   ],
   "source": [
    "fruit_length_geno[unk]"
   ],
   "metadata": {
    "collapsed": false,
    "pycharm": {
     "name": "#%%\n"
    }
   }
  },
  {
   "cell_type": "code",
   "execution_count": 61,
   "outputs": [
    {
     "data": {
      "text/plain": "bolting_days       0.008932\nseed_weight        0.001888\nseed_area          0.003215\nttl_seedspfruit    0.251262\nbranches           0.007879\n                     ...   \nMN5_26437895       0.000649\nMN5_26438023       0.000007\nMN5_26708459       0.000553\nMN5_26877341       0.001725\nMN5_26877463       0.001725\nLength: 1259, dtype: float64"
     },
     "execution_count": 61,
     "metadata": {},
     "output_type": "execute_result"
    }
   ],
   "source": [
    "pd.Series(fit)"
   ],
   "metadata": {
    "collapsed": false,
    "pycharm": {
     "name": "#%%\n"
    }
   }
  },
  {
   "cell_type": "markdown",
   "id": "4629a576-db52-4ad0-9028-2dbe712a90df",
   "metadata": {
    "pycharm": {
     "name": "#%% md\n"
    }
   },
   "source": [
    "### 5.1 Residuals"
   ]
  },
  {
   "cell_type": "markdown",
   "id": "8c1263e5-c472-4a8c-956b-d423001c90f9",
   "metadata": {
    "pycharm": {
     "name": "#%% md\n"
    }
   },
   "source": [
    "The difference between our predicted average value of fruit length and the actual value is called the **residual**. You can think of this as the **error** in our prediction... the bigger the difference, the worse we did."
   ]
  },
  {
   "cell_type": "markdown",
   "id": "c2b6bdcb-34bd-46aa-ad47-b0ffadfb5425",
   "metadata": {
    "pycharm": {
     "name": "#%% md\n"
    }
   },
   "source": [
    "**Exercise 5.1.1**: Get the predictions for `model_marker` and save it in a variable called `predicted values`. Calculate the residuals  of fruit length.  "
   ]
  },
  {
   "cell_type": "code",
   "execution_count": 6,
   "id": "c080039a-ba95-48b4-b3b7-012eff168f7d",
   "metadata": {
    "pycharm": {
     "name": "#%%\n"
    }
   },
   "outputs": [
    {
     "data": {
      "text/plain": "0     -0.198368\n1     -1.878368\n2     -1.248368\n3      0.781632\n4     -2.338368\n         ...   \n670   -0.678368\n672   -0.018368\n674    0.831632\n675    2.041632\n676    1.501632\nName: fruit_length, Length: 674, dtype: float64"
     },
     "execution_count": 6,
     "metadata": {},
     "output_type": "execute_result"
    }
   ],
   "source": [
    "predicted_values = model_marker.predict()\n",
    "y_marker - predicted_values"
   ]
  },
  {
   "cell_type": "markdown",
   "id": "8cd9eed4-a03d-44f2-9f10-b560ae3cecb0",
   "metadata": {
    "pycharm": {
     "name": "#%% md\n"
    }
   },
   "source": [
    "You can also get this using the attribute `resid`:"
   ]
  },
  {
   "cell_type": "code",
   "execution_count": 7,
   "id": "0772dcb7-3134-41c5-89c4-c99c49fc73f3",
   "metadata": {
    "tags": [],
    "pycharm": {
     "name": "#%%\n"
    }
   },
   "outputs": [
    {
     "data": {
      "text/plain": "0     -0.198368\n1     -1.878368\n2     -1.248368\n3      0.781632\n4     -2.338368\n         ...   \n670   -0.678368\n672   -0.018368\n674    0.831632\n675    2.041632\n676    1.501632\nLength: 674, dtype: float64"
     },
     "execution_count": 7,
     "metadata": {},
     "output_type": "execute_result"
    }
   ],
   "source": [
    "model_marker.resid"
   ]
  },
  {
   "cell_type": "markdown",
   "id": "91569965-f1a5-451d-b199-0d10aeb417f1",
   "metadata": {
    "pycharm": {
     "name": "#%% md\n"
    }
   },
   "source": [
    "**Exercise 5.1.2**: Make a strip plot or violin plot of residuals for plants separated by the 2 values of genotypeNumber (refer to Seaborn docs [here](https://seaborn.pydata.org/generated/seaborn.catplot.html))"
   ]
  },
  {
   "cell_type": "code",
   "execution_count": 8,
   "id": "77bb1907-70ba-473b-ba12-84c9a8853e8d",
   "metadata": {
    "pycharm": {
     "name": "#%%\n"
    }
   },
   "outputs": [
    {
     "data": {
      "text/plain": "<AxesSubplot:xlabel='MASC06116'>"
     },
     "execution_count": 8,
     "metadata": {},
     "output_type": "execute_result"
    },
    {
     "data": {
      "text/plain": "<Figure size 432x288 with 1 Axes>",
      "image/png": "[encoded data removed]"
     },
     "metadata": {},
     "output_type": "display_data"
    }
   ],
   "source": [
    "sns.violinplot(y= model_marker.resid, x= X_marker['MASC06116'])"
   ]
  },
  {
   "cell_type": "markdown",
   "id": "b3f8f4c4-99fe-448a-ad62-a1c927975a5e",
   "metadata": {
    "pycharm": {
     "name": "#%% md\n"
    }
   },
   "source": [
    "**Exercise 5.1.3**: Find out whether the error in our model gets worse for taller plants by plotting height versus residual. "
   ]
  },
  {
   "cell_type": "code",
   "execution_count": 9,
   "id": "47eb8191-f24d-4bed-bc75-77b29005bf64",
   "metadata": {
    "pycharm": {
     "name": "#%%\n"
    }
   },
   "outputs": [
    {
     "data": {
      "text/plain": "<seaborn.axisgrid.FacetGrid at 0x7f9f809901c0>"
     },
     "execution_count": 9,
     "metadata": {},
     "output_type": "execute_result"
    },
    {
     "data": {
      "text/plain": "<Figure size 360x360 with 1 Axes>",
      "image/png": "[encoded data removed]"
     },
     "metadata": {},
     "output_type": "display_data"
    }
   ],
   "source": [
    "sns.relplot(y= model_height.resid, x=X_height['height'])"
   ]
  },
  {
   "cell_type": "markdown",
   "id": "8fe36a1a-1d18-48b9-8970-22027a12f418",
   "metadata": {
    "pycharm": {
     "name": "#%% md\n"
    }
   },
   "source": [
    "The **root mean squared error or RMSE** is a measure of how well your predictions fit the data. It is defined as:\n",
    "1. square the residuals (*squared error*)\n",
    "2. get the mean of the squared residuals (*mean squared error*)\n",
    "3. take the square root of that (*root mean squared error*)"
   ]
  },
  {
   "cell_type": "markdown",
   "id": "d86adf27-b7fe-4f9e-ad08-e1e63b6a6a0f",
   "metadata": {
    "pycharm": {
     "name": "#%% md\n"
    }
   },
   "source": [
    "**Exercise 5.1.4**: Calculate Root Mean Squared Error using your predictions for the height model and for the MASC06116 model."
   ]
  },
  {
   "cell_type": "code",
   "execution_count": 10,
   "id": "6c308f9a-06ad-4d71-aec1-dafb6787dfc8",
   "metadata": {
    "pycharm": {
     "name": "#%%\n"
    }
   },
   "outputs": [
    {
     "data": {
      "text/plain": "1.6473702911610906"
     },
     "execution_count": 10,
     "metadata": {},
     "output_type": "execute_result"
    }
   ],
   "source": [
    "np.sqrt((model_height.resid ** 2).mean())"
   ]
  },
  {
   "cell_type": "markdown",
   "id": "e6b5af43-7326-480c-bc9d-767610e57b79",
   "metadata": {
    "pycharm": {
     "name": "#%% md\n"
    }
   },
   "source": [
    "You can calculate root mean squared error using the `rmse` function, alongside your predicted values as follows:"
   ]
  },
  {
   "cell_type": "code",
   "execution_count": 11,
   "id": "90c985b4-212c-410e-bfc5-3635f48e2a61",
   "metadata": {
    "pycharm": {
     "name": "#%%\n"
    }
   },
   "outputs": [
    {
     "data": {
      "text/plain": "1.6338800442659325"
     },
     "execution_count": 11,
     "metadata": {},
     "output_type": "execute_result"
    }
   ],
   "source": [
    "from statsmodels.tools.eval_measures import rmse\n",
    "rmse(predicted_values, y_marker)"
   ]
  },
  {
   "cell_type": "markdown",
   "source": [
    "### 5.2 R-squared\n",
    "\n",
    "R-squared tells us the percent of variation in the fruit_length that is explained by the model, which we can see is 17% of the variation:"
   ],
   "metadata": {
    "collapsed": false,
    "pycharm": {
     "name": "#%% md\n"
    }
   }
  },
  {
   "cell_type": "code",
   "execution_count": 12,
   "id": "8e68001b-73d8-4ee3-999c-506c5315a689",
   "metadata": {
    "pycharm": {
     "name": "#%%\n"
    }
   },
   "outputs": [
    {
     "data": {
      "text/plain": "0.16990307104374025"
     },
     "execution_count": 12,
     "metadata": {},
     "output_type": "execute_result"
    }
   ],
   "source": [
    "model_marker.rsquared"
   ]
  },
  {
   "cell_type": "code",
   "execution_count": 13,
   "id": "3507d655-460e-4d8c-9018-43e90b43a1b5",
   "metadata": {
    "pycharm": {
     "name": "#%%\n"
    }
   },
   "outputs": [
    {
     "data": {
      "text/plain": "3.2207451545628083"
     },
     "execution_count": 13,
     "metadata": {},
     "output_type": "execute_result"
    }
   ],
   "source": [
    "fruit_length_geno['fruit_length'].var()"
   ]
  },
  {
   "cell_type": "markdown",
   "id": "ca297ee6-1ff9-4e74-87c8-e895cf4fed5f",
   "metadata": {
    "pycharm": {
     "name": "#%% md\n"
    }
   },
   "source": [
    "**Exercise 5.2.1**: Predict the mean values based on only genotype and intercept and get the variance of these (using `var()`). Divide that by the variance of the fruit_lengths overall to calculate fraction of variance explained. Compare that to the `rsquared`."
   ]
  },
  {
   "cell_type": "code",
   "execution_count": 14,
   "outputs": [
    {
     "data": {
      "text/plain": "0.1696509893359609"
     },
     "execution_count": 14,
     "metadata": {},
     "output_type": "execute_result"
    }
   ],
   "source": [
    "model_marker.predict().var() / y_marker.var()"
   ],
   "metadata": {
    "collapsed": false,
    "pycharm": {
     "name": "#%%\n"
    }
   }
  },
  {
   "cell_type": "code",
   "execution_count": 15,
   "outputs": [
    {
     "data": {
      "text/plain": "0.13179927940325592"
     },
     "execution_count": 15,
     "metadata": {},
     "output_type": "execute_result"
    }
   ],
   "source": [
    "model_height.predict().var() / y_height.var()"
   ],
   "metadata": {
    "collapsed": false,
    "pycharm": {
     "name": "#%%\n"
    }
   }
  },
  {
   "cell_type": "code",
   "execution_count": 16,
   "outputs": [
    {
     "data": {
      "text/plain": "0.1320577093628701"
     },
     "execution_count": 16,
     "metadata": {},
     "output_type": "execute_result"
    }
   ],
   "source": [
    "model_height.rsquared"
   ],
   "metadata": {
    "collapsed": false,
    "pycharm": {
     "name": "#%%\n"
    }
   }
  },
  {
   "cell_type": "markdown",
   "id": "c312f4c2-5aab-414d-a19e-3b6eb057552e",
   "metadata": {
    "pycharm": {
     "name": "#%% md\n"
    }
   },
   "source": [
    "**Exercise 5.2.2**: Is height a better predictor of fruit length? How can we use the summaries of the regression model to answer that question? Compare the models in 3 different metrics."
   ]
  },
  {
   "cell_type": "code",
   "execution_count": 17,
   "outputs": [
    {
     "name": "stdout",
     "output_type": "stream",
     "text": [
      "0     -0.198368\n",
      "1     -1.878368\n",
      "2     -1.248368\n",
      "3      0.781632\n",
      "4     -2.338368\n",
      "         ...   \n",
      "670   -0.678368\n",
      "672   -0.018368\n",
      "674    0.831632\n",
      "675    2.041632\n",
      "676    1.501632\n",
      "Name: fruit_length, Length: 674, dtype: float64\n",
      "1.6473702911610906\n"
     ]
    },
    {
     "data": {
      "text/plain": "0.13179927940325592"
     },
     "execution_count": 17,
     "metadata": {},
     "output_type": "execute_result"
    },
    {
     "data": {
      "text/plain": "<Figure size 432x288 with 1 Axes>",
      "image/png": "[encoded data removed]"
     },
     "metadata": {},
     "output_type": "display_data"
    },
    {
     "data": {
      "text/plain": "<Figure size 360x360 with 1 Axes>",
      "image/png": "[encoded data removed]"
     },
     "metadata": {},
     "output_type": "display_data"
    }
   ],
   "source": [
    "## Code so far\n",
    "\n",
    "#5.1.1 - getting resid\n",
    "predicted_values = model_marker.predict()\n",
    "print(y_marker - predicted_values)\n",
    "    # y marker is the actual fruit length values\n",
    "\n",
    "#5.1.1 - violin of resid sorted by MASC06116\n",
    "sns.violinplot(y= model_marker.resid, x= X_marker['MASC06116'])\n",
    "\n",
    "#5.1.1 - scatter of resid vs values of height\n",
    "sns.relplot(y= model_height.resid, x=X_height['height'])\n",
    "\n",
    "#5.1.4 - getting RMSE\n",
    "print(np.sqrt((model_height.resid ** 2).mean()))\n",
    "    # PEMDAS:\n",
    "    # ** 2 squares the value\n",
    "    # .mean\n",
    "    # np.sqrt takes square root\n",
    "\n",
    "#5.2.1\n",
    "model_marker.predict().var()/y_marker.var()\n",
    "    # for markers\n",
    "model_height.predict().var() / y_height.var()\n",
    "    # for heights\n"
   ],
   "metadata": {
    "collapsed": false,
    "pycharm": {
     "name": "#%%\n"
    }
   }
  },
  {
   "cell_type": "markdown",
   "id": "7a0f5ace-cc93-468f-a627-3db690da8f1b",
   "metadata": {
    "pycharm": {
     "name": "#%% md\n"
    }
   },
   "source": [
    "## 6 Regressions with more than 1 predictor\n",
    "Linear regression uses the maximum likelihood method to build a model of the **dependent variable (aka response)** feature where instead of the mean being a constant number (like 12) the mean of the model depends on the **independent variable (aka predictor)** features (fruit length mean = 12 + 3 * genotypeNumber). The value we expect for the dependent variable *depends* on the value of the independent variables.\n",
    "\n",
    "We've been just using the first marker in fruit_length_geno to predict fruit_length. Let's try a different marker."
   ]
  },
  {
   "cell_type": "code",
   "execution_count": 18,
   "id": "dcb32687-337b-413a-996a-cdfe29bcc72a",
   "metadata": {
    "pycharm": {
     "name": "#%%\n"
    }
   },
   "outputs": [
    {
     "data": {
      "text/plain": "  Unnamed: 0  bolting_days  seed_weight  seed_area  ttl_seedspfruit  branches  \\\n0    MAGIC.1         15.33        17.15       0.64            45.11     10.50   \n1    MAGIC.2         22.00        22.71       0.75            49.11      4.33   \n2    MAGIC.3         23.00        21.03       0.68            57.00      4.67   \n3    MAGIC.4         18.67        22.45       0.74            54.33      6.33   \n4    MAGIC.5         18.67        25.36       0.82            38.33      5.67   \n\n   height  pc_seeds_aborted  fruit_length MN1_29291  ... MN5_26029439  \\\n0     NaN              0.00         14.95         A  ...            A   \n1   42.33              1.09         13.27         A  ...            A   \n2   50.00              0.00         13.90         A  ...            A   \n3     NaN              0.23         15.93         A  ...            A   \n4   42.25              0.00         12.81         B  ...            B   \n\n  MN5_26121184 MN5_26220737 MN5_26379737 MN5_26380009 MN5_26437895  \\\n0            A            B            A            B            A   \n1            A            A            A            A            A   \n2            A            B            A            B            H   \n3            A            A            A            A            A   \n4            A            A            A            A            A   \n\n  MN5_26438023 MN5_26708459 MN5_26877341 MN5_26877463  \n0            A            A            A            A  \n1            A            B            A            A  \n2            A            A            A            A  \n3            A            A            A            A  \n4            A            A            B            B  \n\n[5 rows x 1260 columns]",
      "text/html": "<div>\n<style scoped>\n    .dataframe tbody tr th:only-of-type {\n        vertical-align: middle;\n    }\n\n    .dataframe tbody tr th {\n        vertical-align: top;\n    }\n\n    .dataframe thead th {\n        text-align: right;\n    }\n</style>\n<table border=\"1\" class=\"dataframe\">\n  <thead>\n    <tr style=\"text-align: right;\">\n      <th></th>\n      <th>Unnamed: 0</th>\n      <th>bolting_days</th>\n      <th>seed_weight</th>\n      <th>seed_area</th>\n      <th>ttl_seedspfruit</th>\n      <th>branches</th>\n      <th>height</th>\n      <th>pc_seeds_aborted</th>\n      <th>fruit_length</th>\n      <th>MN1_29291</th>\n      <th>...</th>\n      <th>MN5_26029439</th>\n      <th>MN5_26121184</th>\n      <th>MN5_26220737</th>\n      <th>MN5_26379737</th>\n      <th>MN5_26380009</th>\n      <th>MN5_26437895</th>\n      <th>MN5_26438023</th>\n      <th>MN5_26708459</th>\n      <th>MN5_26877341</th>\n      <th>MN5_26877463</th>\n    </tr>\n  </thead>\n  <tbody>\n    <tr>\n      <th>0</th>\n      <td>MAGIC.1</td>\n      <td>15.33</td>\n      <td>17.15</td>\n      <td>0.64</td>\n      <td>45.11</td>\n      <td>10.50</td>\n      <td>NaN</td>\n      <td>0.00</td>\n      <td>14.95</td>\n      <td>A</td>\n      <td>...</td>\n      <td>A</td>\n      <td>A</td>\n      <td>B</td>\n      <td>A</td>\n      <td>B</td>\n      <td>A</td>\n      <td>A</td>\n      <td>A</td>\n      <td>A</td>\n      <td>A</td>\n    </tr>\n    <tr>\n      <th>1</th>\n      <td>MAGIC.2</td>\n      <td>22.00</td>\n      <td>22.71</td>\n      <td>0.75</td>\n      <td>49.11</td>\n      <td>4.33</td>\n      <td>42.33</td>\n      <td>1.09</td>\n      <td>13.27</td>\n      <td>A</td>\n      <td>...</td>\n      <td>A</td>\n      <td>A</td>\n      <td>A</td>\n      <td>A</td>\n      <td>A</td>\n      <td>A</td>\n      <td>A</td>\n      <td>B</td>\n      <td>A</td>\n      <td>A</td>\n    </tr>\n    <tr>\n      <th>2</th>\n      <td>MAGIC.3</td>\n      <td>23.00</td>\n      <td>21.03</td>\n      <td>0.68</td>\n      <td>57.00</td>\n      <td>4.67</td>\n      <td>50.00</td>\n      <td>0.00</td>\n      <td>13.90</td>\n      <td>A</td>\n      <td>...</td>\n      <td>A</td>\n      <td>A</td>\n      <td>B</td>\n      <td>A</td>\n      <td>B</td>\n      <td>H</td>\n      <td>A</td>\n      <td>A</td>\n      <td>A</td>\n      <td>A</td>\n    </tr>\n    <tr>\n      <th>3</th>\n      <td>MAGIC.4</td>\n      <td>18.67</td>\n      <td>22.45</td>\n      <td>0.74</td>\n      <td>54.33</td>\n      <td>6.33</td>\n      <td>NaN</td>\n      <td>0.23</td>\n      <td>15.93</td>\n      <td>A</td>\n      <td>...</td>\n      <td>A</td>\n      <td>A</td>\n      <td>A</td>\n      <td>A</td>\n      <td>A</td>\n      <td>A</td>\n      <td>A</td>\n      <td>A</td>\n      <td>A</td>\n      <td>A</td>\n    </tr>\n    <tr>\n      <th>4</th>\n      <td>MAGIC.5</td>\n      <td>18.67</td>\n      <td>25.36</td>\n      <td>0.82</td>\n      <td>38.33</td>\n      <td>5.67</td>\n      <td>42.25</td>\n      <td>0.00</td>\n      <td>12.81</td>\n      <td>B</td>\n      <td>...</td>\n      <td>B</td>\n      <td>A</td>\n      <td>A</td>\n      <td>A</td>\n      <td>A</td>\n      <td>A</td>\n      <td>A</td>\n      <td>A</td>\n      <td>B</td>\n      <td>B</td>\n    </tr>\n  </tbody>\n</table>\n<p>5 rows × 1260 columns</p>\n</div>"
     },
     "execution_count": 18,
     "metadata": {},
     "output_type": "execute_result"
    }
   ],
   "source": [
    "fruit_length_geno.head()"
   ]
  },
  {
   "cell_type": "markdown",
   "id": "5884aa56-c230-4f82-85da-feba970086c5",
   "metadata": {
    "pycharm": {
     "name": "#%% md\n"
    }
   },
   "source": [
    "**Exercise 6.1**: Using a different marker to predict fruit length (Model 2) \n",
    "1. Use the marker MASC02863 as a predictor variable and do regression predicting fruit length (save this into a variable called `model2`)."
   ]
  },
  {
   "cell_type": "markdown",
   "id": "cead6373-f021-4692-ad60-6e686bd9e007",
   "metadata": {
    "pycharm": {
     "name": "#%% md\n"
    }
   },
   "source": [
    "2. Write down the linear model including the coefficients of the model. "
   ]
  },
  {
   "cell_type": "markdown",
   "id": "3e91a1da-e0c5-4b48-8037-f8ddc06faac2",
   "metadata": {
    "pycharm": {
     "name": "#%% md\n"
    }
   },
   "source": [
    "3. Calculate the predicted mean fruit lengths and the RMSE"
   ]
  },
  {
   "cell_type": "markdown",
   "id": "d484f7a3-020f-478c-bdd1-257fa4a74c2c",
   "metadata": {
    "pycharm": {
     "name": "#%% md\n"
    }
   },
   "source": [
    "4. Is this marker a good predictor of fruit length? Why? Compare it to `model_marker` using at least 2 metrics. "
   ]
  },
  {
   "cell_type": "code",
   "execution_count": 18,
   "id": "5032421d-b9e5-4202-9ae9-2aa1b0a8be9d",
   "metadata": {
    "pycharm": {
     "name": "#%%\n"
    }
   },
   "outputs": [],
   "source": []
  },
  {
   "cell_type": "markdown",
   "id": "19240d12-d3de-4417-80b6-2a53cbcd8e2f",
   "metadata": {
    "pycharm": {
     "name": "#%% md\n"
    }
   },
   "source": [
    "But there's no reason we have to pick one. We can use more than one by including it in the data frame `X`.\n",
    "\n",
    "We will fit a linear model like this one:\n",
    "    \n",
    "${mean Fruit Length} = intercept + slope1 \\times MASC06116 + slope2 \\times MASC02863 $\n",
    "\n",
    "(where the markers are converted into 0 and 1 as above)    "
   ]
  },
  {
   "cell_type": "markdown",
   "id": "4c3b7f24-6c61-487e-a49d-0739d2a00e22",
   "metadata": {
    "pycharm": {
     "name": "#%% md\n"
    }
   },
   "source": [
    "**Exercise 6.2**: Using both markers (Model 3).\n",
    "1. Run the regression now including both MASC06116 and MASC02863 as predictors of fruit length  (save this into a variable called `model3`). How can we compare it to the other models?"
   ]
  },
  {
   "cell_type": "code",
   "execution_count": 54,
   "id": "9806e3a0-c6f6-45f0-bf5e-94870e0e2165",
   "metadata": {
    "pycharm": {
     "name": "#%%\n"
    }
   },
   "outputs": [],
   "source": [
    "to_model = pd.DataFrame({\"fruit_length\":fruit_length_geno['fruit_length'],\n",
    "                         \"MASC06116\": (fruit_length_geno['MASC06116']=='A').astype(int),\n",
    "                         \"MASC02863\": (fruit_length_geno['MASC02863']=='A').astype(int)}\n",
    "                        )\n",
    "###^^or *2\n",
    "to_model = to_model.loc[pd.isnull(to_model).sum(axis=1)==0, :]\n",
    "\n",
    "to_model = sm.add_constant(to_model)\n",
    "\n",
    "X_marker = to_model.loc[:,['const','MASC06116','MASC02863']]\n",
    "y_marker = to_model['fruit_length']\n",
    "model_marker = sm.OLS(y_marker, X_marker).fit()"
   ]
  },
  {
   "cell_type": "markdown",
   "id": "6b499442-0c45-48b9-b179-b0e273216813",
   "metadata": {
    "pycharm": {
     "name": "#%% md\n"
    }
   },
   "source": [
    "2. Write out the linear model that includes both markers, including the actual numbers of the parameters (rounded to 2 decimals)."
   ]
  },
  {
   "cell_type": "code",
   "execution_count": 18,
   "id": "4e2e552e-0fc3-49b9-b5a7-21349add87c1",
   "metadata": {
    "pycharm": {
     "name": "#%%\n"
    }
   },
   "outputs": [],
   "source": []
  },
  {
   "cell_type": "markdown",
   "id": "b95c4d73-42a7-4b0a-8c53-9836a2bb5d69",
   "metadata": {
    "pycharm": {
     "name": "#%% md\n"
    }
   },
   "source": [
    "3. There are 4 possible genotypes considering these 2 markers, which is all combinations of A and B at the 2 markers. The values are below (converted to A=1, B=0) in the data frame `genoPairs`. Use the linear model in step 2 (or, if you prefer, the `predict` function) to predict mean fruit lengths for plants in the 4 categories. Add this prediction as a column to the data frame. "
   ]
  },
  {
   "cell_type": "code",
   "execution_count": 41,
   "id": "8bd4f639-829f-4b1b-8873-b07a6b4122a4",
   "metadata": {
    "pycharm": {
     "name": "#%%\n"
    }
   },
   "outputs": [],
   "source": [
    "geno_pairs = pd.DataFrame({'MASC06116':[0,0,1,1],\n",
    "                           'MASC02863':[0,1,0,1]})\n",
    "geno_pairs = sm.add_constant(geno_pairs)"
   ]
  },
  {
   "cell_type": "code",
   "execution_count": 42,
   "id": "36f2d143-f61d-46ef-a8ad-fb0e16402c14",
   "metadata": {
    "pycharm": {
     "name": "#%%\n"
    }
   },
   "outputs": [
    {
     "data": {
      "text/plain": "0    12.251128\n1    13.072703\n2    14.328108\n3    15.149683\ndtype: float64"
     },
     "execution_count": 42,
     "metadata": {},
     "output_type": "execute_result"
    }
   ],
   "source": [
    "model_marker.predict(geno_pairs)"
   ]
  },
  {
   "cell_type": "markdown",
   "id": "f1404cb0-0b63-4e19-950a-6c9935d9c988",
   "metadata": {
    "pycharm": {
     "name": "#%% md\n"
    }
   },
   "source": [
    "4. Compare the slope parameters for model_marker, model2, and model 3. What do you notice? Add another column to the genoPairs data frame that uses the slope parameters from Model 1 and Model 2, together to make predictions. What do you notice?"
   ]
  },
  {
   "cell_type": "markdown",
   "id": "5d888f55-ae5d-4105-a252-0be5de2aa3c4",
   "metadata": {
    "pycharm": {
     "name": "#%% md\n"
    }
   },
   "source": [
    "### 6.1 Collinearity of two independent variables\n",
    "When two independent variables have almost the same values, they can't both have a high slope if they are together in the same model. Even if when they have a high slope when they are in separate models.\n",
    "\n",
    "We can use the `crosstab` function to see what combinations of genotypes are present across the plants."
   ]
  },
  {
   "cell_type": "code",
   "execution_count": 20,
   "id": "b7551831-1c2f-427b-965b-5514395ac2be",
   "metadata": {
    "pycharm": {
     "name": "#%%\n"
    }
   },
   "outputs": [
    {
     "data": {
      "text/plain": "MASC02863    A   B\nMASC06116         \nA          627   1\nB            3  45",
      "text/html": "<div>\n<style scoped>\n    .dataframe tbody tr th:only-of-type {\n        vertical-align: middle;\n    }\n\n    .dataframe tbody tr th {\n        vertical-align: top;\n    }\n\n    .dataframe thead th {\n        text-align: right;\n    }\n</style>\n<table border=\"1\" class=\"dataframe\">\n  <thead>\n    <tr style=\"text-align: right;\">\n      <th>MASC02863</th>\n      <th>A</th>\n      <th>B</th>\n    </tr>\n    <tr>\n      <th>MASC06116</th>\n      <th></th>\n      <th></th>\n    </tr>\n  </thead>\n  <tbody>\n    <tr>\n      <th>A</th>\n      <td>627</td>\n      <td>1</td>\n    </tr>\n    <tr>\n      <th>B</th>\n      <td>3</td>\n      <td>45</td>\n    </tr>\n  </tbody>\n</table>\n</div>"
     },
     "execution_count": 20,
     "metadata": {},
     "output_type": "execute_result"
    }
   ],
   "source": [
    "pd.crosstab(fruit_length_geno['MASC06116'],\n",
    "            fruit_length_geno['MASC02863'])"
   ]
  },
  {
   "cell_type": "markdown",
   "id": "97dc43bb-daaf-480c-868f-f7a1d06f412d",
   "metadata": {
    "pycharm": {
     "name": "#%% md\n"
    }
   },
   "source": [
    "**Exercise 6.1.1**: In your own words describe the relationship between the two markers by looking at this table. "
   ]
  },
  {
   "cell_type": "markdown",
   "id": "663ac03e-8a5e-4389-97d6-098cf655e35b",
   "metadata": {
    "pycharm": {
     "name": "#%% md\n"
    }
   },
   "source": [
    "**Exercise 6.1.2**: Make another model `model4` that has 2 predictors, but now both predictors are the genotype at marker MASC06116 (so we have 2 identical independent variables). Compare the coefficients and r-squared between Model 4 and Model 1. What do you notice?"
   ]
  },
  {
   "cell_type": "code",
   "execution_count": null,
   "outputs": [],
   "source": [
    "to_model = pd.DataFrame({\"fruit_length\":fruit_length_geno['fruit_length'],\n",
    "                         \"MASC06116\": (fruit_length_geno['MASC06116']=='A').astype(int),\n",
    "                         \"MASC02863\": (fruit_length_geno['MASC02863']=='A').astype(int)}\n",
    "                        )\n",
    "###^^or *2\n",
    "to_model = to_model.loc[pd.isnull(to_model).sum(axis=1)==0, :]\n",
    "\n",
    "to_model = sm.add_constant(to_model)\n",
    "\n",
    "X_marker = to_model.loc[:,['const','MASC06116','MASC02863']]\n",
    "y_marker = to_model['fruit_length']\n",
    "model_marker = sm.OLS(y_marker, X_marker).fit()"
   ],
   "metadata": {
    "collapsed": false,
    "pycharm": {
     "name": "#%%\n"
    }
   }
  }
 ],
 "metadata": {
  "kernelspec": {
   "display_name": "Python 3 (ipykernel)",
   "language": "python",
   "name": "python3"
  },
  "language_info": {
   "codemirror_mode": {
    "name": "ipython",
    "version": 3
   },
   "file_extension": ".py",
   "mimetype": "text/x-python",
   "name": "python",
   "nbconvert_exporter": "python",
   "pygments_lexer": "ipython3",
   "version": "3.7.13"
  }
 },
 "nbformat": 4,
 "nbformat_minor": 5
}