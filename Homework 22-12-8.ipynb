{
 "cells": [
  {
   "cell_type": "code",
   "execution_count": 39,
   "outputs": [],
   "source": [
    "import pandas as pd, numpy as np, matplotlib.pyplot as plt,statsmodels.api as sm\n",
    "sites = pd.read_table(\"arabidopsis_birds/eco_data/eco_sites.txt\")\n",
    "counts = pd.read_table(\"arabidopsis_birds/eco_data/species_counts.txt\")\n",
    "\n",
    "is_mega = counts.columns.str.contains('Megalaima')\n",
    "sites['has_mega'] = counts.loc[:,is_mega].sum(axis=1) > 0\n",
    "# imports\n",
    "\n",
    "to_model = sites.loc[:,['has_mega','Elevation']]\n",
    "to_model = sm.add_constant(to_model)\n",
    "to_model.head()\n",
    "y = to_model['has_mega']\n",
    "X = to_model.drop(['has_mega'],axis=1)\n",
    "lr_mod = sm.Logit(y, X).fit()\n",
    "# builds a logistic model of our data to use for the cutoffs"
   ],
   "metadata": {
    "collapsed": false,
    "pycharm": {
     "name": "#%%\n"
    }
   }
  },
  {
   "cell_type": "markdown",
   "source": [
    "Write code that uses a variable  called  cutoff . Given any value of cutoff (and the predictions from lr_mod.predict(X) your code should calculate the true positive rate and the false positive rate for that cutoff."
   ],
   "metadata": {
    "collapsed": false,
    "pycharm": {
     "name": "#%% md\n"
    }
   }
  },
  {
   "cell_type": "code",
   "execution_count": 87,
   "outputs": [
    {
     "name": "stdout",
     "output_type": "stream",
     "text": [
      "Optimization terminated successfully.\n",
      "         Current function value: 0.329815\n",
      "         Iterations 7\n"
     ]
    }
   ],
   "source": [
    "to_model = sites.loc[:,['has_mega','Elevation']]\n",
    "to_model = sm.add_constant(to_model)\n",
    "to_model.head()\n",
    "y = to_model['has_mega']\n",
    "X = to_model.drop(['has_mega'],axis=1)\n",
    "lr_mod = sm.Logit(y, X).fit()\n",
    "# builds a logistic model of our data to use for the cutoffs\n",
    "\n",
    "net = np.linspace(1,0,1000)\n",
    "# to test our code we will run lots of cutoffs through it via np.linspace and a for loop.\n",
    "\n",
    "### IF YOU WANT A SPECIFIC CUTOFF CHANGE NET TO THAT CUTOFF OR SEARCH FOR IT IN DATAFRAME 'df_data' ###\n",
    "\n",
    "data = {\n",
    "    'tt_test' : [],\n",
    "    'ft_test' : [],\n",
    "    'cutoff' : []\n",
    "}\n",
    "# creates a dictionary to store our outputs\n",
    "\n",
    "sites['cutoff'] = lr_mod.predict(X)\n",
    "# adds cutoff to our sites df\n",
    "\n",
    "for cutoff in net:\n",
    "\n",
    "    ## BELOW IS THE ACTUAL CODE FOR THE HOMEWORK ##\n",
    "\n",
    "    sites_in_range = sites[sites['cutoff'] >= cutoff]\n",
    "    # finds the sites that fit within our cutoff\n",
    "\n",
    "    real_positive_in_range = (sites_in_range['has_mega'] == True).sum()\n",
    "    real_negative_in_range = (sites_in_range['has_mega'] == False).sum()\n",
    "    # finds number of real pos and real neg in range by using bool indexing and a sum\n",
    "\n",
    "    total1s = (sites['has_mega'] == True).sum()\n",
    "    total0s = (sites['has_mega'] == False).sum()\n",
    "    # calculates the total sites in range for 1s and 0s\n",
    "\n",
    "    data['cutoff'].append(cutoff)\n",
    "    data['tt_test'].append(real_positive_in_range / total1s)\n",
    "    data['ft_test'].append(real_negative_in_range / total0s)\n",
    "    # saves true positive test and false positive test and cutoff into our dictionary\n",
    "\n",
    "    ## END OF HOMEWORK CODE ##\n",
    "\n",
    "df_data = pd.DataFrame(data)\n",
    "# converts data into a dataframe"
   ],
   "metadata": {
    "collapsed": false,
    "pycharm": {
     "name": "#%%\n"
    }
   }
  },
  {
   "cell_type": "code",
   "execution_count": 88,
   "outputs": [
    {
     "data": {
      "text/plain": "<Figure size 432x288 with 1 Axes>",
      "image/png": "[encoded data removed]"
     },
     "metadata": {},
     "output_type": "display_data"
    }
   ],
   "source": [
    "sort_sites = sites.sort_values(by = 'cutoff')\n",
    "plt.plot(sort_sites['Elevation'], sort_sites['cutoff'], label = \"Cutoff\", color='red')\n",
    "plt.plot(sort_sites['Elevation'], sort_sites['has_mega'], '.', label = \"Has Mega\", color='black')\n",
    "plt.xlabel('Elevation')\n",
    "plt.legend()\n",
    "plt.show()\n",
    "# visualizes our cutoff and our sites with mega"
   ],
   "metadata": {
    "collapsed": false,
    "pycharm": {
     "name": "#%%\n"
    }
   }
  },
  {
   "cell_type": "code",
   "execution_count": 89,
   "outputs": [
    {
     "data": {
      "text/plain": "     tt_test  ft_test    cutoff\n0        0.0      0.0  1.000000\n1        0.0      0.0  0.998999\n2        0.0      0.0  0.997998\n3        0.0      0.0  0.996997\n4        0.0      0.0  0.995996\n..       ...      ...       ...\n995      1.0      1.0  0.004004\n996      1.0      1.0  0.003003\n997      1.0      1.0  0.002002\n998      1.0      1.0  0.001001\n999      1.0      1.0  0.000000\n\n[1000 rows x 3 columns]",
      "text/html": "<div>\n<style scoped>\n    .dataframe tbody tr th:only-of-type {\n        vertical-align: middle;\n    }\n\n    .dataframe tbody tr th {\n        vertical-align: top;\n    }\n\n    .dataframe thead th {\n        text-align: right;\n    }\n</style>\n<table border=\"1\" class=\"dataframe\">\n  <thead>\n    <tr style=\"text-align: right;\">\n      <th></th>\n      <th>tt_test</th>\n      <th>ft_test</th>\n      <th>cutoff</th>\n    </tr>\n  </thead>\n  <tbody>\n    <tr>\n      <th>0</th>\n      <td>0.0</td>\n      <td>0.0</td>\n      <td>1.000000</td>\n    </tr>\n    <tr>\n      <th>1</th>\n      <td>0.0</td>\n      <td>0.0</td>\n      <td>0.998999</td>\n    </tr>\n    <tr>\n      <th>2</th>\n      <td>0.0</td>\n      <td>0.0</td>\n      <td>0.997998</td>\n    </tr>\n    <tr>\n      <th>3</th>\n      <td>0.0</td>\n      <td>0.0</td>\n      <td>0.996997</td>\n    </tr>\n    <tr>\n      <th>4</th>\n      <td>0.0</td>\n      <td>0.0</td>\n      <td>0.995996</td>\n    </tr>\n    <tr>\n      <th>...</th>\n      <td>...</td>\n      <td>...</td>\n      <td>...</td>\n    </tr>\n    <tr>\n      <th>995</th>\n      <td>1.0</td>\n      <td>1.0</td>\n      <td>0.004004</td>\n    </tr>\n    <tr>\n      <th>996</th>\n      <td>1.0</td>\n      <td>1.0</td>\n      <td>0.003003</td>\n    </tr>\n    <tr>\n      <th>997</th>\n      <td>1.0</td>\n      <td>1.0</td>\n      <td>0.002002</td>\n    </tr>\n    <tr>\n      <th>998</th>\n      <td>1.0</td>\n      <td>1.0</td>\n      <td>0.001001</td>\n    </tr>\n    <tr>\n      <th>999</th>\n      <td>1.0</td>\n      <td>1.0</td>\n      <td>0.000000</td>\n    </tr>\n  </tbody>\n</table>\n<p>1000 rows × 3 columns</p>\n</div>"
     },
     "execution_count": 89,
     "metadata": {},
     "output_type": "execute_result"
    }
   ],
   "source": [
    "df_data\n",
    "# displays the dataframe"
   ],
   "metadata": {
    "collapsed": false,
    "pycharm": {
     "name": "#%%\n"
    }
   }
  }
 ],
 "metadata": {
  "kernelspec": {
   "display_name": "Python 3",
   "language": "python",
   "name": "python3"
  },
  "language_info": {
   "codemirror_mode": {
    "name": "ipython",
    "version": 2
   },
   "file_extension": ".py",
   "mimetype": "text/x-python",
   "name": "python",
   "nbconvert_exporter": "python",
   "pygments_lexer": "ipython2",
   "version": "2.7.6"
  }
 },
 "nbformat": 4,
 "nbformat_minor": 0
}