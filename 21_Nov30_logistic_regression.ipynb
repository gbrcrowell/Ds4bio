{
 "cells": [
  {
   "cell_type": "markdown",
   "id": "d2fd8a22-5ca0-4cc4-af91-ab60df8472b5",
   "metadata": {
    "pycharm": {
     "name": "#%% md\n"
    }
   },
   "source": [
    "# Learning objectives:\n",
    "- Connect similarity of logistic regression and linear regression-- both create linear model of the parameter of a model (loc or p), where the parameter (loc or p) is predicted based on other features\n",
    "- Able to roughly convert between probabilities and log odds\n",
    "- Describe why we use log odds in a linear model for binary variables\n",
    "- Interpret parameters of a logistic regression model"
   ]
  },
  {
   "cell_type": "markdown",
   "id": "5289b24c-b22a-4fc0-891c-09fc1709a3ff",
   "metadata": {
    "pycharm": {
     "name": "#%% md\n"
    }
   },
   "source": [
    "## 1. Linear models for binary variables\n",
    "Modeling mean fruit length as a function of genotype or plant height: model the **mean (aka loc)** of the normal. The **expected mean** depends on the other characteristics of the plant.\n",
    "\n",
    "We can also model binary variables in the same way. But of course, we are modeling **p** the probability of 1 vs 0, not mean. Then **expected chance of a 1** could depend on another variable. Examples.\n",
    "- *binary feature*: whether you voted or not; *another feature*: your age\n",
    "- *binary feature*: having a cavity;  *another feature*: frequency of flossing\n",
    "\n",
    "Another example, look at our bird watching data. Previously we made a column called `has_mega` that says whether or not each site had Megalaima (a genus of bird). Then we did a histogram of elevations for sites that do vs don't have Megalaima: "
   ]
  },
  {
   "cell_type": "code",
   "execution_count": 1,
   "id": "b3bf3688-9557-4e45-bbd6-4a68264110f2",
   "metadata": {
    "pycharm": {
     "name": "#%%\n"
    }
   },
   "outputs": [
    {
     "data": {
      "text/plain": "<class 'statsmodels.iolib.summary.Summary'>\n\"\"\"\n                            OLS Regression Results                            \n==============================================================================\nDep. Variable:           fruit_length   R-squared:                       0.170\nModel:                            OLS   Adj. R-squared:                  0.169\nMethod:                 Least Squares   F-statistic:                     137.5\nDate:                Thu, 01 Dec 2022   Prob (F-statistic):           4.98e-29\nTime:                        12:37:59   Log-Likelihood:                -1287.3\nNo. Observations:                 674   AIC:                             2579.\nDf Residuals:                     672   BIC:                             2588.\nDf Model:                           1                                         \nCovariance Type:            nonrobust                                         \n==============================================================================\n                 coef    std err          t      P>|t|      [0.025      0.975]\n------------------------------------------------------------------------------\nconst         12.3014      0.234     52.625      0.000      11.842      12.760\nMASC06116      2.8469      0.243     11.728      0.000       2.370       3.324\n==============================================================================\nOmnibus:                        0.247   Durbin-Watson:                   1.985\nProb(Omnibus):                  0.884   Jarque-Bera (JB):                0.168\nSkew:                           0.033   Prob(JB):                        0.919\nKurtosis:                       3.040   Cond. No.                         7.29\n==============================================================================\n\nNotes:\n[1] Standard Errors assume that the covariance matrix of the errors is correctly specified.\n\"\"\"",
      "text/html": "<table class=\"simpletable\">\n<caption>OLS Regression Results</caption>\n<tr>\n  <th>Dep. Variable:</th>      <td>fruit_length</td>   <th>  R-squared:         </th> <td>   0.170</td>\n</tr>\n<tr>\n  <th>Model:</th>                   <td>OLS</td>       <th>  Adj. R-squared:    </th> <td>   0.169</td>\n</tr>\n<tr>\n  <th>Method:</th>             <td>Least Squares</td>  <th>  F-statistic:       </th> <td>   137.5</td>\n</tr>\n<tr>\n  <th>Date:</th>             <td>Thu, 01 Dec 2022</td> <th>  Prob (F-statistic):</th> <td>4.98e-29</td>\n</tr>\n<tr>\n  <th>Time:</th>                 <td>12:37:59</td>     <th>  Log-Likelihood:    </th> <td> -1287.3</td>\n</tr>\n<tr>\n  <th>No. Observations:</th>      <td>   674</td>      <th>  AIC:               </th> <td>   2579.</td>\n</tr>\n<tr>\n  <th>Df Residuals:</th>          <td>   672</td>      <th>  BIC:               </th> <td>   2588.</td>\n</tr>\n<tr>\n  <th>Df Model:</th>              <td>     1</td>      <th>                     </th>     <td> </td>   \n</tr>\n<tr>\n  <th>Covariance Type:</th>      <td>nonrobust</td>    <th>                     </th>     <td> </td>   \n</tr>\n</table>\n<table class=\"simpletable\">\n<tr>\n      <td></td>         <th>coef</th>     <th>std err</th>      <th>t</th>      <th>P>|t|</th>  <th>[0.025</th>    <th>0.975]</th>  \n</tr>\n<tr>\n  <th>const</th>     <td>   12.3014</td> <td>    0.234</td> <td>   52.625</td> <td> 0.000</td> <td>   11.842</td> <td>   12.760</td>\n</tr>\n<tr>\n  <th>MASC06116</th> <td>    2.8469</td> <td>    0.243</td> <td>   11.728</td> <td> 0.000</td> <td>    2.370</td> <td>    3.324</td>\n</tr>\n</table>\n<table class=\"simpletable\">\n<tr>\n  <th>Omnibus:</th>       <td> 0.247</td> <th>  Durbin-Watson:     </th> <td>   1.985</td>\n</tr>\n<tr>\n  <th>Prob(Omnibus):</th> <td> 0.884</td> <th>  Jarque-Bera (JB):  </th> <td>   0.168</td>\n</tr>\n<tr>\n  <th>Skew:</th>          <td> 0.033</td> <th>  Prob(JB):          </th> <td>   0.919</td>\n</tr>\n<tr>\n  <th>Kurtosis:</th>      <td> 3.040</td> <th>  Cond. No.          </th> <td>    7.29</td>\n</tr>\n</table><br/><br/>Notes:<br/>[1] Standard Errors assume that the covariance matrix of the errors is correctly specified."
     },
     "execution_count": 1,
     "metadata": {},
     "output_type": "execute_result"
    }
   ],
   "source": [
    "import pandas as pd, numpy as np, seaborn as sns, matplotlib.pyplot as plt, statsmodels.api as sm\n",
    "from scipy.stats import bernoulli\n",
    "sns.set_theme()\n",
    "from scipy.stats import norm\n",
    "geno = pd.read_table(\"arabidopsis_birds/arabmagic/arabmagic_geno.csv\", sep=\",\",skiprows=3,index_col=0)\n",
    "pmap = pd.read_table(\"arabidopsis_birds/arabmagic/arabmagic_pmap_tair9.csv\", sep=\",\",skiprows=3,index_col=0)\n",
    "pheno = pd.read_table(\"arabidopsis_birds/arabmagic/arabmagic_pheno.csv\", sep=\",\",skiprows=3,index_col=0)\n",
    "counts = pd.read_table(\"arabidopsis_birds/eco_data/species_counts.txt\")\n",
    "sites = pd.read_table(\"arabidopsis_birds/eco_data/eco_sites.txt\")\n",
    "fruit_length_geno = pd.read_table(\"fruit_length_geno.csv\",sep=\",\")\n",
    "gwas_plus_pmap = pd.read_table(\"gwas_plus_pmap.csv\",sep=\",\")\n",
    "\n",
    "to_model = pd.DataFrame({\"fruit_length\":fruit_length_geno['fruit_length'],\n",
    "                         \"MASC06116\": (fruit_length_geno['MASC06116']=='A').astype(int)})\n",
    "                                                                                    ###^^\n",
    "to_model = to_model.loc[ pd.isnull(to_model).sum(axis=1)==0, :]\n",
    "\n",
    "to_model = sm.add_constant(to_model)\n",
    "\n",
    "X = to_model.loc[:,['const','MASC06116']]\n",
    "y = to_model['fruit_length']\n",
    "model_marker = sm.OLS(y, X).fit()\n",
    "model_marker.summary()"
   ]
  },
  {
   "cell_type": "code",
   "execution_count": 2,
   "id": "9162e740-1af6-4e6a-acad-384c58714cff",
   "metadata": {
    "pycharm": {
     "name": "#%%\n"
    }
   },
   "outputs": [
    {
     "data": {
      "text/plain": "    Elevation      North       East WorE  has_mega\nA2     198.25  26.978983  92.921975    E      True\nA3     734.25  27.006267  92.404575    E      True\nA4    1243.25  27.027496  92.410408    E      True\nA6    2629.00  27.147733  92.459379    E     False\nA7    2340.25  27.091979  92.408567    E     False",
      "text/html": "<div>\n<style scoped>\n    .dataframe tbody tr th:only-of-type {\n        vertical-align: middle;\n    }\n\n    .dataframe tbody tr th {\n        vertical-align: top;\n    }\n\n    .dataframe thead th {\n        text-align: right;\n    }\n</style>\n<table border=\"1\" class=\"dataframe\">\n  <thead>\n    <tr style=\"text-align: right;\">\n      <th></th>\n      <th>Elevation</th>\n      <th>North</th>\n      <th>East</th>\n      <th>WorE</th>\n      <th>has_mega</th>\n    </tr>\n  </thead>\n  <tbody>\n    <tr>\n      <th>A2</th>\n      <td>198.25</td>\n      <td>26.978983</td>\n      <td>92.921975</td>\n      <td>E</td>\n      <td>True</td>\n    </tr>\n    <tr>\n      <th>A3</th>\n      <td>734.25</td>\n      <td>27.006267</td>\n      <td>92.404575</td>\n      <td>E</td>\n      <td>True</td>\n    </tr>\n    <tr>\n      <th>A4</th>\n      <td>1243.25</td>\n      <td>27.027496</td>\n      <td>92.410408</td>\n      <td>E</td>\n      <td>True</td>\n    </tr>\n    <tr>\n      <th>A6</th>\n      <td>2629.00</td>\n      <td>27.147733</td>\n      <td>92.459379</td>\n      <td>E</td>\n      <td>False</td>\n    </tr>\n    <tr>\n      <th>A7</th>\n      <td>2340.25</td>\n      <td>27.091979</td>\n      <td>92.408567</td>\n      <td>E</td>\n      <td>False</td>\n    </tr>\n  </tbody>\n</table>\n</div>"
     },
     "execution_count": 2,
     "metadata": {},
     "output_type": "execute_result"
    }
   ],
   "source": [
    "is_mega = counts.columns.str.contains('Megalaima')\n",
    "sites['has_mega'] = counts.loc[:,is_mega].sum(axis=1) > 0\n",
    "sites.head()"
   ]
  },
  {
   "cell_type": "code",
   "execution_count": 3,
   "id": "92cb3eaa-4e52-4f1d-83ea-ca90eebb9754",
   "metadata": {
    "pycharm": {
     "name": "#%%\n"
    }
   },
   "outputs": [
    {
     "data": {
      "text/plain": "<seaborn.axisgrid.FacetGrid at 0x7fa578f1cdc0>"
     },
     "execution_count": 3,
     "metadata": {},
     "output_type": "execute_result"
    },
    {
     "data": {
      "text/plain": "<Figure size 426.35x360 with 1 Axes>",
      "image/png": "[encoded data removed]"
     },
     "metadata": {},
     "output_type": "display_data"
    }
   ],
   "source": [
    "sns.displot(data=sites, x=\"Elevation\", hue=\"has_mega\", kde=True)"
   ]
  },
  {
   "cell_type": "markdown",
   "id": "7a52e634-5aae-4696-9341-0c6453791e4d",
   "metadata": {
    "tags": [],
    "pycharm": {
     "name": "#%% md\n"
    }
   },
   "source": [
    "**Exercise 1.1**: What is the binary feature here? Does it seem like the binary feature being True/False (1/0) depends on any other feature?"
   ]
  },
  {
   "cell_type": "markdown",
   "id": "88258f52-0efd-4e23-96b7-20efb9a19a42",
   "metadata": {
    "pycharm": {
     "name": "#%% md\n"
    }
   },
   "source": [
    "**Exercise 1.2**: Think of another example, besides the ones above, in biology or elsewhere where there is a binary feature and another feature, and the probability of getting a 1 vs 0 in the binary feature depends on the value of the other feature. Each person in the group think of one and the group will share one of these"
   ]
  },
  {
   "cell_type": "markdown",
   "id": "dfc0c08c-4bbc-426e-b6a1-ca039acb7645",
   "metadata": {
    "pycharm": {
     "name": "#%% md\n"
    }
   },
   "source": [
    "## 2. Take 1: Try to make a linear model for the binary feature\n",
    "Previously with linear regression we modeled the mean of a normal. We know that the binary data is not modeled with a normal but with a Bernoulli, but let's try to model the same way."
   ]
  },
  {
   "cell_type": "markdown",
   "id": "2062f328-911e-449b-9b0d-38d9d115b2e9",
   "metadata": {
    "pycharm": {
     "name": "#%% md\n"
    }
   },
   "source": [
    "**Exercise 2.1**: Write a possible linear model for `has_mega` as a function of elevation, picking numbers you think might make a good model. As a reminder a linear model should look like the model we made for fruit length ${fruit length mean} = 12 + 3 * genotypeNumber$.  \n",
    "\n",
    "1. What is the meaning of the intercept?\n",
    "2. What is the meaning of the slope?"
   ]
  },
  {
   "cell_type": "code",
   "execution_count": 4,
   "outputs": [],
   "source": [
    "# has mega = elevation * -1.2500 + 1"
   ],
   "metadata": {
    "collapsed": false,
    "pycharm": {
     "name": "#%%\n"
    }
   }
  },
  {
   "cell_type": "markdown",
   "id": "6df45f31-f67f-4dbf-a29e-c68434e9d66e",
   "metadata": {
    "pycharm": {
     "name": "#%% md\n"
    }
   },
   "source": [
    "**Exercise 2.2**: What would you expect it to look like if you plotted elevation versus your prediction? \n",
    "- **A**: Fill in the predicted values below and then run the cell to make the plot. Adjust your values if you want\n",
    "- **B**: Examine the plot and describe its strengths and weaknesses. Where does it work well?"
   ]
  },
  {
   "cell_type": "code",
   "execution_count": 5,
   "id": "e1897a6f-9f12-45f1-8db5-b87c95fd6d14",
   "metadata": {
    "pycharm": {
     "name": "#%%\n"
    }
   },
   "outputs": [
    {
     "data": {
      "text/plain": "[<matplotlib.lines.Line2D at 0x7fa568518700>]"
     },
     "execution_count": 5,
     "metadata": {},
     "output_type": "execute_result"
    },
    {
     "data": {
      "text/plain": "<Figure size 432x288 with 1 Axes>",
      "image/png": "[encoded data removed]"
     },
     "metadata": {},
     "output_type": "display_data"
    }
   ],
   "source": [
    "to_model = pd.DataFrame()\n",
    "prediction = -1 * (sites['Elevation']//3500) + 1\n",
    "plt.plot(sites['Elevation'],prediction,'.')"
   ]
  },
  {
   "cell_type": "markdown",
   "id": "3fb166a9-245a-49f1-9ad1-2e6cbecebc70",
   "metadata": {
    "tags": [],
    "pycharm": {
     "name": "#%% md\n"
    }
   },
   "source": [
    "## 3 Log Odds\n",
    "It's actually not possible to model probabilities using the same linear model. You can see it doesn't work because p has to be between 0 and 1."
   ]
  },
  {
   "cell_type": "markdown",
   "id": "ed98199c-cd40-44b0-8654-4bb74f83373a",
   "metadata": {
    "pycharm": {
     "name": "#%% md\n"
    }
   },
   "source": [
    "So we use a special function called the **log odds**. The **odds** are simply defined as $odds = {p \\over{1-p}}$.  Then the log odds is just the log of the odds. So you can see, the higher the value of p, the higher the value of the log odds.\n",
    "\n",
    "Instead of modeling p we will model log odds. But first let's get comfortable with log odds."
   ]
  },
  {
   "cell_type": "markdown",
   "id": "d214dc2b-0efe-417d-8c6e-da30dc520121",
   "metadata": {
    "pycharm": {
     "name": "#%% md\n"
    }
   },
   "source": [
    "Just like a number variable, the log-odds can take on any value. (-infinity to +infinity)"
   ]
  },
  {
   "cell_type": "code",
   "execution_count": 6,
   "outputs": [
    {
     "name": "stderr",
     "output_type": "stream",
     "text": [
      "/var/folders/7z/1swymzp511x0s43d476pgl2h0000gp/T/ipykernel_31558/3994533765.py:2: RuntimeWarning: divide by zero encountered in true_divide\n",
      "  odds = p/(1-p)\n",
      "/var/folders/7z/1swymzp511x0s43d476pgl2h0000gp/T/ipykernel_31558/3994533765.py:3: RuntimeWarning: divide by zero encountered in log\n",
      "  log_odds = np.log(odds)\n"
     ]
    },
    {
     "data": {
      "text/plain": "[<matplotlib.lines.Line2D at 0x7fa558b23070>]"
     },
     "execution_count": 6,
     "metadata": {},
     "output_type": "execute_result"
    },
    {
     "data": {
      "text/plain": "<Figure size 432x288 with 1 Axes>",
      "image/png": "[encoded data removed]"
     },
     "metadata": {},
     "output_type": "display_data"
    }
   ],
   "source": [
    "p = np.linspace(0,1,10000000)\n",
    "odds = p/(1-p)\n",
    "log_odds = np.log(odds)\n",
    "plt.plot(p, log_odds,'.')"
   ],
   "metadata": {
    "collapsed": false,
    "pycharm": {
     "name": "#%%\n"
    }
   }
  },
  {
   "cell_type": "markdown",
   "id": "294f1b94-64e2-4618-a62c-4690cf8ce2b8",
   "metadata": {
    "pycharm": {
     "name": "#%% md\n"
    }
   },
   "source": [
    "**Exercise 3.1**: Write down approximate log odds of the following binary variables:\n",
    "- whether or not it rains in Lowell\n",
    "- whether a dog has 4 legs\n",
    "- whether it snows in July in Lowell\n",
    "- whether it snows in October in Lowell "
   ]
  },
  {
   "cell_type": "markdown",
   "id": "d2a0d228-3d7e-422e-b9d4-06becef82317",
   "metadata": {
    "pycharm": {
     "name": "#%% md\n"
    }
   },
   "source": [
    "**Exercise 3.2**: just referring the figure we made (copied below), not doing any pandas coding, what are the approximate odds of seeing megaliama at: \n",
    "- a site with elevation less than 500 meters? \n",
    "- What about at around 2000 meters  \n",
    "- a site at 3500 meters?"
   ]
  },
  {
   "cell_type": "markdown",
   "id": "858fe528-c43f-4197-bc92-756764068315",
   "metadata": {
    "pycharm": {
     "name": "#%% md\n"
    }
   },
   "source": [
    "**Exercise 3.3**: Calculating the log odds for bins of elevation."
   ]
  },
  {
   "cell_type": "markdown",
   "id": "bec2358d-12bb-4390-8c11-e5398a8e4258",
   "metadata": {
    "pycharm": {
     "name": "#%% md\n"
    }
   },
   "source": [
    "1. Make 7 equally spaced values of elevation between the minimum and maximum elevations using a np function. Save this as a variable called `elevation_bins`."
   ]
  },
  {
   "cell_type": "code",
   "execution_count": 51,
   "outputs": [
    {
     "name": "stdout",
     "output_type": "stream",
     "text": [
      "Between elevations 154 and 810, the log odds is 2.2 and p value is 0.9.\n",
      "Between elevations 810 and 1467, the log odds is 1.39 and p value is 0.8.\n",
      "Between elevations 1467 and 2124, the log odds is 0.41 and p value is 0.6.\n",
      "Between elevations 2124 and 2781, the log odds is -1.39 and p value is 0.2.\n",
      "Between elevations 2781 and 3437, the probability was clipped to 0.001 log odds was therefor -6.91.\n",
      "Between elevations 3437 and 4094, the probability was clipped to 0.001 log odds was therefor -6.91.\n"
     ]
    },
    {
     "data": {
      "text/plain": "<seaborn.axisgrid.FacetGrid at 0x7fa55953b760>"
     },
     "execution_count": 51,
     "metadata": {},
     "output_type": "execute_result"
    },
    {
     "data": {
      "text/plain": "<Figure size 360x360 with 1 Axes>",
      "image/png": "[encoded data removed]"
     },
     "metadata": {},
     "output_type": "display_data"
    },
    {
     "data": {
      "text/plain": "<Figure size 360x360 with 1 Axes>",
      "image/png": "[encoded data removed]"
     },
     "metadata": {},
     "output_type": "display_data"
    }
   ],
   "source": [
    "import warnings\n",
    "warnings.filterwarnings(\"ignore\", category=RuntimeWarning)\n",
    "\n",
    "is_mega = counts.columns.str.contains('Megalaima')\n",
    "sites['has_mega'] = counts.loc[:,is_mega].sum(axis=1) > 0\n",
    "num = 7\n",
    "d = {\n",
    "    'lower_elevation' : [],\n",
    "    'log_odds' : [],\n",
    "    'log_odds_clip' : []\n",
    "}\n",
    "\n",
    "tval = np.linspace(sites['Elevation'].min(), sites['Elevation'].max(), num)\n",
    "\n",
    "for lower,upper in zip(tval[:-1], tval[1:]):\n",
    "    lsites = sites['Elevation'] >= lower\n",
    "    hsites = sites['Elevation'] <= upper\n",
    "    usites = sites[lsites & hsites]\n",
    "\n",
    "    prob = usites['has_mega'].mean()\n",
    "\n",
    "    try:\n",
    "        l_odd = np.log(prob/(1-prob))\n",
    "        prob_C = np.clip(prob, .001,.999)\n",
    "        lc_odd = np.log(prob_C/(1-prob_C))\n",
    "\n",
    "    except RuntimeWarning:\n",
    "        prob_C = np.clip(prob, .001,.999)\n",
    "        lc_odd = np.log(prob_C/(1-prob_C))\n",
    "\n",
    "    if prob == prob_C:\n",
    "        print(f'Between elevations {round(lower)} and {round(upper)}, the log odds is {round(l_odd, 2)} and p value is {prob}.')\n",
    "    else:\n",
    "        print(f'Between elevations {round(lower)} and {round(upper)}, the probability was clipped to {prob_C} log odds was therefor {round(lc_odd, 2)}.')\n",
    "\n",
    "    d['lower_elevation'].append(lower)\n",
    "    d['log_odds'].append(l_odd)\n",
    "    d['log_odds_clip'].append(lc_odd)\n",
    "\n",
    "df = pd.DataFrame(d)\n",
    "\n",
    "sns.relplot(data = df, x = 'lower_elevation', y = 'log_odds')\n",
    "sns.relplot(data = df, x = 'lower_elevation', y = 'log_odds_clip')"
   ],
   "metadata": {
    "collapsed": false,
    "pycharm": {
     "name": "#%%\n"
    }
   }
  },
  {
   "cell_type": "markdown",
   "id": "5ab016b0-4478-47a8-a4b8-978d08d4159b",
   "metadata": {
    "pycharm": {
     "name": "#%% md\n"
    }
   },
   "source": [
    "3. Convert the fraction (p) to the log odds. In order to avoid dividing by zero, we first use the `np.clip` function that clips any values outside of a range to that range. Compare the `p_clipped` to `p`. What is different? Then, calculate the log odds using `p_clipped`. Again store elevation (left side of the bin) and log odds."
   ]
  },
  {
   "cell_type": "code",
   "execution_count": 21,
   "id": "3ac1a3c7-6d1e-4a61-8523-3b1c11e44215",
   "metadata": {
    "pycharm": {
     "name": "#%%\n"
    }
   },
   "outputs": [
    {
     "name": "stdout",
     "output_type": "stream",
     "text": [
      "Between elevations 154 and 810, the log odds is 2.2 and p value is 0.9.\n",
      "Between elevations 810 and 1467, the log odds is 1.39 and p value is 0.8.\n",
      "Between elevations 1467 and 2124, the log odds is 0.41 and p value is 0.6.\n",
      "Between elevations 2124 and 2781, the log odds is -1.39 and p value is 0.2.\n",
      "Between elevations 2781 and 3437, the probability was clipped to 0.001 log odds was therefor -6.91.\n",
      "Between elevations 3437 and 4094, the probability was clipped to 0.001 log odds was therefor -6.91.\n"
     ]
    },
    {
     "name": "stderr",
     "output_type": "stream",
     "text": [
      "/var/folders/7z/1swymzp511x0s43d476pgl2h0000gp/T/ipykernel_31558/1739852411.py:20: RuntimeWarning: divide by zero encountered in log\n",
      "  l_odd = np.log(prob/(1-prob))\n"
     ]
    },
    {
     "data": {
      "text/plain": "<seaborn.axisgrid.FacetGrid at 0x7fa589097520>"
     },
     "execution_count": 21,
     "metadata": {},
     "output_type": "execute_result"
    },
    {
     "data": {
      "text/plain": "<Figure size 360x360 with 1 Axes>",
      "image/png": "[encoded data removed]"
     },
     "metadata": {},
     "output_type": "display_data"
    },
    {
     "data": {
      "text/plain": "<Figure size 360x360 with 1 Axes>",
      "image/png": "[encoded data removed]"
     },
     "metadata": {},
     "output_type": "display_data"
    }
   ],
   "source": [
    "\n",
    "is_mega = counts.columns.str.contains('Megalaima')\n",
    "sites['has_mega'] = counts.loc[:,is_mega].sum(axis=1) > 0\n",
    "num = 7\n",
    "d = {\n",
    "    'lower_elevation' : [],\n",
    "    'log_odds' : [],\n",
    "    'log_odds_clip' : []\n",
    "}\n",
    "\n",
    "tval = np.linspace(sites['Elevation'].min(), sites['Elevation'].max(), num)\n",
    "\n",
    "for lower,upper in zip(tval[:-1], tval[1:]):\n",
    "    lsites = sites['Elevation'] >= lower\n",
    "    hsites = sites['Elevation'] <= upper\n",
    "    usites = sites[lsites & hsites]\n",
    "\n",
    "    prob = usites['has_mega'].mean()\n",
    "    l_odd = np.log(prob/(1-prob))\n",
    "    prob_C = np.clip(prob, .001,.999)\n",
    "    lc_odd = np.log(prob_C/(1-prob_C))\n",
    "\n",
    "    if prob == prob_C:\n",
    "        print(f'Between elevations {round(lower)} and {round(upper)}, the log odds is {round(l_odd, 2)} and p value is {prob}.')\n",
    "    else:\n",
    "        print(f'Between elevations {round(lower)} and {round(upper)}, the probability was clipped to {prob_C} log odds was therefor {round(lc_odd, 2)}.')\n",
    "\n",
    "    d['lower_elevation'].append(lower)\n",
    "    d['log_odds'].append(l_odd)\n",
    "    d['log_odds_clip'].append(lc_odd)\n",
    "\n",
    "df = pd.DataFrame(d)\n",
    "\n",
    "sns.relplot(data = df, x = 'lower_elevation', y = 'log_odds')\n",
    "sns.relplot(data = df, x = 'lower_elevation', y = 'log_odds_clip')"
   ]
  },
  {
   "cell_type": "markdown",
   "id": "8e2434cc-9613-485f-a5e8-40bb12636868",
   "metadata": {
    "pycharm": {
     "name": "#%% md\n"
    }
   },
   "source": [
    "4. Plot the elevation (the start of the bin) against the log odds of megalaima by running the cell below. Interpret the plot."
   ]
  },
  {
   "cell_type": "code",
   "execution_count": 7,
   "id": "6c71d021-7033-4279-8248-e73a19e336e9",
   "metadata": {
    "pycharm": {
     "name": "#%%\n"
    }
   },
   "outputs": [],
   "source": [
    "# log odds = 2.5 - elevation/750"
   ]
  },
  {
   "cell_type": "markdown",
   "id": "b244f619-17fd-4b12-853f-9db507d2265a",
   "metadata": {
    "pycharm": {
     "name": "#%% md\n"
    }
   },
   "source": [
    "Since the log odds can take on any value, we can now model *log-odds*, instead of trying to model *p* in a linear model.  Higher log-odds <--> higher p <--> higher chance of a 1 vs a 0."
   ]
  },
  {
   "cell_type": "markdown",
   "id": "b10f4bbd-2163-49de-bc6a-27ebdba8889b",
   "metadata": {
    "pycharm": {
     "name": "#%% md\n"
    }
   },
   "source": [
    "## 4. Estimate linear model for the log odds."
   ]
  },
  {
   "cell_type": "markdown",
   "id": "a8f558a7-aadb-457d-add3-ff0e471b4d13",
   "metadata": {
    "pycharm": {
     "name": "#%% md\n"
    }
   },
   "source": [
    "**Exercise 4.1** Now, propose a linear model for the log odds of megalaima as a function of elevation based on the plot we just made (like in Exercise 2.2, but now we are modeling log odds not p). \n"
   ]
  },
  {
   "cell_type": "code",
   "execution_count": null,
   "outputs": [],
   "source": [],
   "metadata": {
    "collapsed": false,
    "pycharm": {
     "name": "#%%\n"
    }
   }
  },
  {
   "cell_type": "markdown",
   "id": "ac89407f-f631-4b92-813b-383bcee51a8c",
   "metadata": {
    "pycharm": {
     "name": "#%% md\n"
    }
   },
   "source": [
    "**Exercise 4.2** Then, use the model to predict log-odds of megalaima at each elevation. Run the cell below to plot for each site, the predicted log odds of megalaima. "
   ]
  },
  {
   "cell_type": "code",
   "execution_count": 31,
   "id": "e29cf1dc-7862-426e-b3c5-955827ff3fec",
   "metadata": {
    "pycharm": {
     "name": "#%%\n"
    }
   },
   "outputs": [
    {
     "data": {
      "text/plain": "[<matplotlib.lines.Line2D at 0x7fa5a9d7b9a0>]"
     },
     "execution_count": 31,
     "metadata": {},
     "output_type": "execute_result"
    },
    {
     "data": {
      "text/plain": "<Figure size 432x288 with 1 Axes>",
      "image/png": "[encoded data removed]"
     },
     "metadata": {},
     "output_type": "display_data"
    }
   ],
   "source": [
    "predicted_odds = 2.5 - sites['Elevation']/750\n",
    "plt.plot(sites['Elevation'], predicted_odds, '.')\n",
    "plt.plot(df['lower_elevation'], df['log_odds_clip'])"
   ]
  },
  {
   "cell_type": "markdown",
   "id": "8937ff4d-f7de-4bc1-8b79-75f5ec65c4f3",
   "metadata": {
    "pycharm": {
     "name": "#%% md\n"
    }
   },
   "source": [
    "We can convert log odds back to probability using the formula $$p = {1 \\over{1 + e^{-logOdds}}}$$  (you should be able to calculate this yourself by converting from $logOdds = log{ p \\over {1-p} }$ if you remember algebra/pre-calculus, but no need if you don't). \n",
    "\n",
    "We can calculate $e^{-logOdds}$ using the numpy function `np.exp(-1 * logOdds)` . \n",
    "\n",
    "**Exercise 4.3** Plot elevation versus the probabilities your model gives."
   ]
  },
  {
   "cell_type": "code",
   "execution_count": 42,
   "id": "c7826dc4-ac97-40e8-8760-678dfbe2c427",
   "metadata": {
    "pycharm": {
     "name": "#%%\n"
    }
   },
   "outputs": [
    {
     "data": {
      "text/plain": "[<matplotlib.lines.Line2D at 0x7fa589c234f0>]"
     },
     "execution_count": 42,
     "metadata": {},
     "output_type": "execute_result"
    },
    {
     "data": {
      "text/plain": "<Figure size 432x288 with 1 Axes>",
      "image/png": "[encoded data removed]"
     },
     "metadata": {},
     "output_type": "display_data"
    }
   ],
   "source": [
    "predicted_odds = 2.5 - sites['Elevation'] / 550\n",
    "plt.plot(sites['Elevation'], predicted_odds, '.')\n",
    "plt.plot(df['lower_elevation'], df['log_odds_clip'])"
   ]
  },
  {
   "cell_type": "code",
   "execution_count": 43,
   "outputs": [
    {
     "data": {
      "text/plain": "[<matplotlib.lines.Line2D at 0x7fa5697440d0>]"
     },
     "execution_count": 43,
     "metadata": {},
     "output_type": "execute_result"
    },
    {
     "data": {
      "text/plain": "<Figure size 432x288 with 1 Axes>",
      "image/png": "[encoded data removed]"
     },
     "metadata": {},
     "output_type": "display_data"
    }
   ],
   "source": [
    "predicted_prediction = 1 / (1 + np.exp(-1 * predicted_odds))\n",
    "plt.plot(sites['Elevation'], predicted_prediction,'.')"
   ],
   "metadata": {
    "collapsed": false,
    "pycharm": {
     "name": "#%%\n"
    }
   }
  },
  {
   "cell_type": "markdown",
   "id": "26e28f00-8341-4d81-a675-5889f46d7a80",
   "metadata": {
    "pycharm": {
     "name": "#%% md\n"
    }
   },
   "source": [
    "Similar to when we used a list of `loc`s, we can use a list of `p`s for bernoulli to generate an observation for each value of `p`"
   ]
  },
  {
   "cell_type": "code",
   "execution_count": 44,
   "id": "b028d434-bdda-45d9-a0af-e8b4d0da71ac",
   "metadata": {
    "pycharm": {
     "name": "#%%\n"
    }
   },
   "outputs": [
    {
     "data": {
      "text/plain": "array([0, 0, 0, 1, 1, 1])"
     },
     "execution_count": 44,
     "metadata": {},
     "output_type": "execute_result"
    }
   ],
   "source": [
    "bernoulli.rvs(p=[.2,.2,.2,.8,.8,.8])"
   ]
  },
  {
   "cell_type": "markdown",
   "id": "86535b60-9551-4c72-82e3-eaafd919e101",
   "metadata": {
    "pycharm": {
     "name": "#%% md\n"
    }
   },
   "source": [
    "**Exercise 4.4**: Simulate what data you'd expect to see under your linear model for whether or not there is megalaima at each site. S Then recreate the histogram I made up top, but with your simulated data."
   ]
  },
  {
   "cell_type": "markdown",
   "source": [],
   "metadata": {
    "collapsed": false,
    "pycharm": {
     "name": "#%% md\n"
    }
   }
  },
  {
   "cell_type": "code",
   "execution_count": 48,
   "id": "f35cbfc0-4add-4b1e-8de6-5741e564b2a2",
   "metadata": {
    "pycharm": {
     "name": "#%%\n"
    }
   },
   "outputs": [
    {
     "data": {
      "text/plain": "<seaborn.axisgrid.FacetGrid at 0x7fa5a9be2250>"
     },
     "execution_count": 48,
     "metadata": {},
     "output_type": "execute_result"
    },
    {
     "data": {
      "text/plain": "<Figure size 405.725x360 with 1 Axes>",
      "image/png": "[encoded data removed]"
     },
     "metadata": {},
     "output_type": "display_data"
    }
   ],
   "source": [
    "sites['gmeg'] = bernoulli.rvs(p=predicted_prediction)\n",
    "\n",
    "sns.displot(data=sites, x=\"Elevation\", hue=\"gmeg\", kde=True)"
   ]
  },
  {
   "cell_type": "markdown",
   "id": "9111adc2-e625-47d8-b829-5337703a6f54",
   "metadata": {
    "pycharm": {
     "name": "#%% md\n"
    }
   },
   "source": [
    "**Exercise 4.5** Interpret the meaning of the intercept and slope of the model in everyday words. Write one sentence for each."
   ]
  },
  {
   "cell_type": "code",
   "execution_count": 50,
   "outputs": [],
   "source": [
    "## Linear of logistic ##\n",
    "    # intercept - chances (log odds) of seeing Megalaima at zero elevation\n",
    "    # slope - the change in the chance (log odds) of seeing Megalaima as elevation changes (increases)\n",
    "        # for every one increase in elevation the log odds decreases by 1/550"
   ],
   "metadata": {
    "collapsed": false,
    "pycharm": {
     "name": "#%%\n"
    }
   }
  }
 ],
 "metadata": {
  "kernelspec": {
   "display_name": "Python 3 (ipykernel)",
   "language": "python",
   "name": "python3"
  },
  "language_info": {
   "codemirror_mode": {
    "name": "ipython",
    "version": 3
   },
   "file_extension": ".py",
   "mimetype": "text/x-python",
   "name": "python",
   "nbconvert_exporter": "python",
   "pygments_lexer": "ipython3",
   "version": "3.7.13"
  }
 },
 "nbformat": 4,
 "nbformat_minor": 5
}