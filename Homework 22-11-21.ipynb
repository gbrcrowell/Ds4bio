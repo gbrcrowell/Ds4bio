{
 "cells": [
  {
   "cell_type": "code",
   "execution_count": 33,
   "outputs": [],
   "source": [
    "import pandas as pd, numpy as np, seaborn as sns, matplotlib.pyplot as plt, statsmodels.api as sm\n",
    "from scipy.stats import bernoulli\n",
    "sns.set_theme()\n",
    "from scipy.stats import norm\n",
    "geno = pd.read_table(\"arabidopsis_birds/arabmagic/arabmagic_geno.csv\", sep=\",\",skiprows=3,index_col=0)\n",
    "pmap = pd.read_table(\"arabidopsis_birds/arabmagic/arabmagic_pmap_tair9.csv\", sep=\",\",skiprows=3,index_col=0)\n",
    "pheno = pd.read_table(\"arabidopsis_birds/arabmagic/arabmagic_pheno.csv\", sep=\",\",skiprows=3,index_col=0)\n",
    "counts = pd.read_table(\"arabidopsis_birds/eco_data/species_counts.txt\")\n",
    "sites = pd.read_table(\"arabidopsis_birds/eco_data/eco_sites.txt\")\n",
    "fruit_length_geno = pd.read_table(\"fruit_length_geno.csv\",sep=\",\")\n",
    "gwas_plus_pmap = pd.read_table(\"gwas_plus_pmap.csv\",sep=\",\")\n",
    "# imports"
   ],
   "metadata": {
    "collapsed": false,
    "pycharm": {
     "name": "#%%\n"
    }
   }
  },
  {
   "cell_type": "code",
   "execution_count": 34,
   "outputs": [],
   "source": [
    "to_model = pd.DataFrame({\"fruit_length\":fruit_length_geno['fruit_length'],\n",
    "                         \"height\": fruit_length_geno['height']})\n",
    "to_model = to_model.loc[pd.isnull(to_model).sum(axis=1)==0, :]\n",
    "to_model = sm.add_constant(to_model)\n",
    "# We create a data frame called to model, with three columns. The first being fruit length, the second being height, and the third being a constant.\n",
    "    # we us isnull to remove any lines that have no value\n",
    "\n",
    "X = to_model.loc[:,['const','height']]\n",
    "y = to_model['fruit_length']\n",
    "model_height = sm.OLS(y, X).fit()\n",
    "# sets an x and y values that will be used in our linear model then plugs them in\n",
    "    # our x values will consist of heights (which will change),  and a constand.\n",
    "    # our y values wil consist of fruit length\n",
    "\n",
    "gen = model_height.predict()\n",
    "# we create an array of mean fruit length for a given height."
   ],
   "metadata": {
    "collapsed": false,
    "pycharm": {
     "name": "#%%\n"
    }
   }
  },
  {
   "cell_type": "code",
   "execution_count": 35,
   "outputs": [],
   "source": [
    "to_model = pd.concat((to_model, pd.DataFrame({\"gen_length\":gen})), axis=1)\n",
    "to_model = to_model.loc[pd.isnull(to_model).sum(axis=1)==0, :]\n",
    "to_model = sm.add_constant(to_model)\n",
    "# I add the previous to model to a new one with gen length.\n",
    "# then remove any lines with nan (With isnull)\n",
    "# then add a constant"
   ],
   "metadata": {
    "collapsed": false,
    "pycharm": {
     "name": "#%%\n"
    }
   }
  },
  {
   "cell_type": "code",
   "execution_count": 36,
   "outputs": [
    {
     "data": {
      "text/plain": "const     14.580532\nheight     0.005269\ndtype: float64"
     },
     "execution_count": 36,
     "metadata": {},
     "output_type": "execute_result"
    }
   ],
   "source": [
    "X = to_model.loc[:,['const','height']]\n",
    "y = to_model['gen_length']\n",
    "model_gen = sm.OLS(y, X).fit()\n",
    "# Sets are X values To the constant and height, sets our Y value to generated fruit length.\n",
    "# Using these 2 X and Y values, we create a model. The model is a best fit line.\n",
    "\n",
    "model_gen.params\n",
    "# prints the intercept and slope."
   ],
   "metadata": {
    "collapsed": false,
    "pycharm": {
     "name": "#%%\n"
    }
   }
  },
  {
   "cell_type": "code",
   "execution_count": 37,
   "outputs": [
    {
     "data": {
      "text/plain": "[<matplotlib.lines.Line2D at 0x7fc6f2820ee0>]"
     },
     "execution_count": 37,
     "metadata": {},
     "output_type": "execute_result"
    },
    {
     "data": {
      "text/plain": "<Figure size 432x288 with 1 Axes>",
      "image/png": "[encoded data removed]"
     },
     "metadata": {},
     "output_type": "display_data"
    }
   ],
   "source": [
    "to_model['pred'] = model_gen.predict()\n",
    "f, ax = plt.subplots(1)\n",
    "ax.plot( to_model['height'], to_model['fruit_length'],'.')\n",
    "ax.plot( to_model['height'], to_model['pred'],'.', color='red')\n",
    "# The above code designs, a scatterplot, with two plots one red. The first scatterplot is the normal fruit length values against height, the second scatterplot compares our predicted values to height. The two are superimposed."
   ],
   "metadata": {
    "collapsed": false,
    "pycharm": {
     "name": "#%%\n"
    }
   }
  },
  {
   "cell_type": "code",
   "execution_count": 38,
   "outputs": [],
   "source": [
    "# The red line, which is a scatter plot of the generated fruit lengths compared to height is a best fit line for the blue scatter plot of fruit length."
   ],
   "metadata": {
    "collapsed": false,
    "pycharm": {
     "name": "#%%\n"
    }
   }
  }
 ],
 "metadata": {
  "kernelspec": {
   "display_name": "Python 3",
   "language": "python",
   "name": "python3"
  },
  "language_info": {
   "codemirror_mode": {
    "name": "ipython",
    "version": 2
   },
   "file_extension": ".py",
   "mimetype": "text/x-python",
   "name": "python",
   "nbconvert_exporter": "python",
   "pygments_lexer": "ipython2",
   "version": "2.7.6"
  }
 },
 "nbformat": 4,
 "nbformat_minor": 0
}