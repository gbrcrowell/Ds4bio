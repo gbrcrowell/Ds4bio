{
 "cells": [
  {
   "cell_type": "markdown",
   "id": "088d7abf-5592-498c-ae56-969604e52910",
   "metadata": {
    "pycharm": {
     "name": "#%% md\n"
    }
   },
   "source": [
    "## Learning objectives\n",
    "- Understand how the parameter of hte model influences the probabilities of seeing different values from a model.\n",
    "- Predict how models with different probability of observations taking on certain values will generate different data\n",
    "- Implement the principle of maximum likelihood to find the best model."
   ]
  },
  {
   "cell_type": "markdown",
   "id": "1b4fe032-0ff4-4940-976a-8ba141fe8d7a",
   "metadata": {
    "pycharm": {
     "name": "#%% md\n"
    }
   },
   "source": [
    "# 1. Probabilities in Bernoulli, `pmf`\n",
    "\n",
    "As we have discussed a lot, 92% of our plants had an A at marker MASC06116.  We have formed a model in our heads that says, if we get a new plant, that plant has a 92% chance (probability = 0.92) of having an A. \n",
    "\n",
    "Yesterday we simulated data from different models to see what the data looked like and how close it was to our real data. But we can directly compare the model and the data by using the model to calculate the probability of getting a particular observation, under that model."
   ]
  },
  {
   "cell_type": "markdown",
   "id": "309e3ed1-7a58-4ac5-9d7e-aefae3b7bf8c",
   "metadata": {
    "pycharm": {
     "name": "#%% md\n"
    }
   },
   "source": [
    "**Exercise 1.1**: What is the probability of getting a 1 if the data follows Bernoulli with p = 0.1? What about p = 0.9?"
   ]
  },
  {
   "cell_type": "markdown",
   "id": "f55be164-c529-4aa8-9533-3b90e16160e4",
   "metadata": {
    "pycharm": {
     "name": "#%% md\n"
    }
   },
   "source": [
    "**Exercise 1.2**: The p=0.1 and p=0.9 are 2 different models that can generate binary observations. Which model is more likely for each of the following data sets (each containing 5 observations)?\n",
    "1. `[0, 0, 1, 0, 0]`\n",
    "2. `[1, 1, 1, 1, 0]`\n",
    "  "
   ]
  },
  {
   "cell_type": "markdown",
   "id": "20c0de28-62b9-422c-a1d1-758ea136bc17",
   "metadata": {
    "pycharm": {
     "name": "#%% md\n"
    }
   },
   "source": [
    "We can have the model directly calculate the probability using the `pmf` function, which says: **for each observation, how likely are you to get this observation from this model**"
   ]
  },
  {
   "cell_type": "code",
   "execution_count": 1,
   "id": "fb4ea26a-b931-4a0e-a258-72917ea5a2a8",
   "metadata": {
    "pycharm": {
     "name": "#%%\n"
    }
   },
   "outputs": [],
   "source": [
    "import pandas as pd, numpy as np, seaborn as sns, matplotlib.pyplot as plt\n",
    "from scipy.stats import bernoulli\n",
    "sns.set_theme()\n",
    "from scipy.stats import norm\n",
    "geno = pd.read_table(\"arabidopsis_birds/arabmagic/arabmagic_geno.csv\", sep=\",\",skiprows=3,index_col=0)\n",
    "pmap = pd.read_table(\"arabidopsis_birds/arabmagic/arabmagic_pmap_tair9.csv\", sep=\",\",skiprows=3,index_col=0)\n",
    "pheno = pd.read_table(\"arabidopsis_birds/arabmagic/arabmagic_pheno.csv\", sep=\",\",skiprows=3,index_col=0)\n",
    "counts = pd.read_table(\"arabidopsis_birds/eco_data/species_counts.txt\")\n",
    "sites = pd.read_table(\"arabidopsis_birds/eco_data/eco_sites.txt\")\n",
    "fruit_length_geno = pd.read_table(\"fruit_length_geno.csv\",sep=\",\")\n",
    "gwas_plus_pmap = pd.read_table(\"gwas_plus_pmap.csv\",sep=\",\")"
   ]
  },
  {
   "cell_type": "code",
   "execution_count": 2,
   "id": "0efc1fa5-7ce0-423b-83e2-7f0e256fee78",
   "metadata": {
    "pycharm": {
     "name": "#%%\n"
    }
   },
   "outputs": [
    {
     "data": {
      "text/plain": "0.1"
     },
     "execution_count": 2,
     "metadata": {},
     "output_type": "execute_result"
    }
   ],
   "source": [
    "bernoulli.pmf(1, p = 0.1)"
   ]
  },
  {
   "cell_type": "markdown",
   "id": "2f4f614b-ba6c-4648-8180-4f904cf2aeb0",
   "metadata": {
    "pycharm": {
     "name": "#%% md\n"
    }
   },
   "source": [
    "**Exercise 1.3**: predict what the output will be. Write down your predictions. Run it and if it's different, figure out why"
   ]
  },
  {
   "cell_type": "code",
   "execution_count": 3,
   "id": "1a43f879-6fd2-44c6-bf64-ff5b8794ee01",
   "metadata": {
    "pycharm": {
     "name": "#%%\n"
    }
   },
   "outputs": [
    {
     "data": {
      "text/plain": "0.9"
     },
     "execution_count": 3,
     "metadata": {},
     "output_type": "execute_result"
    }
   ],
   "source": [
    "bernoulli.pmf(0, p = 0.1)\n",
    "# 0.9"
   ]
  },
  {
   "cell_type": "code",
   "execution_count": 4,
   "id": "5495c3cd-5d12-494e-9473-9f8990397961",
   "metadata": {
    "pycharm": {
     "name": "#%%\n"
    }
   },
   "outputs": [
    {
     "data": {
      "text/plain": "0.5"
     },
     "execution_count": 4,
     "metadata": {},
     "output_type": "execute_result"
    }
   ],
   "source": [
    "bernoulli.pmf(0, p = 0.5)\n",
    "# 0.5"
   ]
  },
  {
   "cell_type": "code",
   "execution_count": 5,
   "id": "24441dde-6a54-439e-9c60-e78adbfb3718",
   "metadata": {
    "pycharm": {
     "name": "#%%\n"
    }
   },
   "outputs": [
    {
     "data": {
      "text/plain": "0.5"
     },
     "execution_count": 5,
     "metadata": {},
     "output_type": "execute_result"
    }
   ],
   "source": [
    "bernoulli.pmf(1, p = 0.5)\n",
    "# 0.5"
   ]
  },
  {
   "cell_type": "code",
   "execution_count": 6,
   "id": "a41d0ce5-1c71-4c15-a837-3fbe94f21134",
   "metadata": {
    "pycharm": {
     "name": "#%%\n"
    }
   },
   "outputs": [
    {
     "data": {
      "text/plain": "0.19999999999999996"
     },
     "execution_count": 6,
     "metadata": {},
     "output_type": "execute_result"
    }
   ],
   "source": [
    "bernoulli.pmf(0, p = 0.8)\n",
    "# 0.2"
   ]
  },
  {
   "cell_type": "markdown",
   "id": "6eea6cf0-a1a9-4565-998a-414616d90c69",
   "metadata": {
    "pycharm": {
     "name": "#%% md\n"
    }
   },
   "source": [
    "**Exercise 1.4**: we can calculate it for any number of observations. Predict what this one will be, for 3 observations, then run it"
   ]
  },
  {
   "cell_type": "code",
   "execution_count": 7,
   "id": "08ad9792-9673-44fe-bd26-6c07f8a23a49",
   "metadata": {
    "pycharm": {
     "name": "#%%\n"
    }
   },
   "outputs": [
    {
     "data": {
      "text/plain": "0.12799999999999997"
     },
     "execution_count": 7,
     "metadata": {},
     "output_type": "execute_result"
    }
   ],
   "source": [
    "np.prod(bernoulli.pmf([0,1,1], p = 0.8))\n",
    "# 0.128"
   ]
  },
  {
   "cell_type": "markdown",
   "id": "168ae184-1678-467d-ab29-822ea7483991",
   "metadata": {
    "pycharm": {
     "name": "#%% md\n"
    }
   },
   "source": [
    "## 1.1 From probability to likelihood\n",
    "Note that this gave us the probility of each observation. We want to get an overall score of how close our model to our data so we can automatically pick a good model.  This is called the **likelihood** of seeing our data, given that model. The models with the highest likelihood is the best model.\n",
    "\n",
    "We are going to use the *negative logarithm, summed across all observations* to get an overall picture of the closeness "
   ]
  },
  {
   "cell_type": "markdown",
   "id": "e40e1e83-44f9-4098-a4ab-9f04f7b434ff",
   "metadata": {
    "pycharm": {
     "name": "#%% md\n"
    }
   },
   "source": [
    "**Exercise 1.1.1**: Make a plot comparing 100 values between 0 and 1 (for probilities from the pmf function) versus their negative logs. Below is how your take the log. Then, interpret the plot. How do the axes compare?"
   ]
  },
  {
   "cell_type": "code",
   "execution_count": 8,
   "id": "421e24b2-dfe9-4850-9a73-03e95b8e9609",
   "metadata": {
    "pycharm": {
     "name": "#%%\n"
    }
   },
   "outputs": [
    {
     "data": {
      "text/plain": "-0.6931471805599453"
     },
     "execution_count": 8,
     "metadata": {},
     "output_type": "execute_result"
    }
   ],
   "source": [
    "np.log(.5)"
   ]
  },
  {
   "cell_type": "code",
   "execution_count": 9,
   "id": "e700590f-eca1-4d4a-b9fe-3e0ae8a24206",
   "metadata": {
    "pycharm": {
     "name": "#%%\n"
    }
   },
   "outputs": [
    {
     "data": {
      "text/plain": "array([0., 0., 0.])"
     },
     "execution_count": 9,
     "metadata": {},
     "output_type": "execute_result"
    }
   ],
   "source": [
    "np.log([1,1,1])"
   ]
  },
  {
   "cell_type": "markdown",
   "id": "67f814d0-0ff9-4c07-b4c8-60a66446e7f2",
   "metadata": {
    "pycharm": {
     "name": "#%% md\n"
    }
   },
   "source": [
    "**Exercise 1.1.2**: You can copy over some of your code from the previous notebook Exercise 2.2.3. But change it to use the maximium likelihood to find the best model. Plot the value of p versus the likelihood."
   ]
  },
  {
   "cell_type": "code",
   "execution_count": 10,
   "id": "72f88ad5-5b80-45e9-a74c-6d0d49258d5d",
   "metadata": {
    "pycharm": {
     "name": "#%%\n"
    }
   },
   "outputs": [
    {
     "name": "stdout",
     "output_type": "stream",
     "text": [
      "0.0\n",
      "0.010101010101010102\n",
      "0.020202020202020204\n",
      "0.030303030303030304\n",
      "0.04040404040404041\n",
      "0.05050505050505051\n",
      "0.06060606060606061\n",
      "0.07070707070707072\n",
      "0.08080808080808081\n",
      "0.09090909090909091\n",
      "0.10101010101010102\n",
      "0.11111111111111112\n",
      "0.12121212121212122\n",
      "0.13131313131313133\n",
      "0.14141414141414144\n",
      "0.15151515151515152\n",
      "0.16161616161616163\n",
      "0.17171717171717174\n",
      "0.18181818181818182\n",
      "0.19191919191919193\n",
      "0.20202020202020204\n",
      "0.21212121212121213\n",
      "0.22222222222222224\n",
      "0.23232323232323235\n",
      "0.24242424242424243\n",
      "0.25252525252525254\n",
      "0.26262626262626265\n",
      "0.27272727272727276\n",
      "0.2828282828282829\n",
      "0.29292929292929293\n",
      "0.30303030303030304\n",
      "0.31313131313131315\n",
      "0.32323232323232326\n",
      "0.33333333333333337\n",
      "0.3434343434343435\n",
      "0.3535353535353536\n",
      "0.36363636363636365\n",
      "0.37373737373737376\n",
      "0.38383838383838387\n",
      "0.393939393939394\n",
      "0.4040404040404041\n",
      "0.4141414141414142\n",
      "0.42424242424242425\n",
      "0.43434343434343436\n",
      "0.4444444444444445\n",
      "0.4545454545454546\n",
      "0.4646464646464647\n",
      "0.4747474747474748\n",
      "0.48484848484848486\n",
      "0.494949494949495\n",
      "0.5050505050505051\n",
      "0.5151515151515152\n",
      "0.5252525252525253\n",
      "0.5353535353535354\n",
      "0.5454545454545455\n",
      "0.5555555555555556\n",
      "0.5656565656565657\n",
      "0.5757575757575758\n",
      "0.5858585858585859\n",
      "0.595959595959596\n",
      "0.6060606060606061\n",
      "0.6161616161616162\n",
      "0.6262626262626263\n",
      "0.6363636363636365\n",
      "0.6464646464646465\n",
      "0.6565656565656566\n",
      "0.6666666666666667\n",
      "0.6767676767676768\n",
      "0.686868686868687\n",
      "0.696969696969697\n",
      "0.7070707070707072\n",
      "0.7171717171717172\n",
      "0.7272727272727273\n",
      "0.7373737373737375\n",
      "0.7474747474747475\n",
      "0.7575757575757577\n",
      "0.7676767676767677\n",
      "0.7777777777777778\n",
      "0.787878787878788\n",
      "0.797979797979798\n",
      "0.8080808080808082\n",
      "0.8181818181818182\n",
      "0.8282828282828284\n",
      "0.8383838383838385\n",
      "0.8484848484848485\n",
      "0.8585858585858587\n",
      "0.8686868686868687\n",
      "0.8787878787878789\n",
      "0.888888888888889\n",
      "0.8989898989898991\n",
      "0.9090909090909092\n",
      "0.9191919191919192\n",
      "0.9292929292929294\n",
      "0.9393939393939394\n",
      "0.9494949494949496\n",
      "0.9595959595959597\n",
      "0.9696969696969697\n",
      "0.9797979797979799\n",
      "0.98989898989899\n",
      "1.0\n"
     ]
    },
    {
     "name": "stderr",
     "output_type": "stream",
     "text": [
      "/var/folders/7z/1swymzp511x0s43d476pgl2h0000gp/T/ipykernel_70543/933478797.py:7: RuntimeWarning: divide by zero encountered in log\n",
      "  prob_logs = np.log(bernoulli.pmf(binary_marker, p=prob))\n"
     ]
    }
   ],
   "source": [
    "binary_marker = (geno.loc['MASC06116', :] == 'A').astype(int)\n",
    "bins = np.linspace(0,1, 100)\n",
    "logs = []\n",
    "import matplotlib\n",
    "for prob in bins:\n",
    "    print(prob)\n",
    "    prob_logs = np.log(bernoulli.pmf(binary_marker, p=prob))\n",
    "    logs.append(prob_logs.sum() * -1)\n",
    "logs_df = pd.DataFrame({'prob':bins, 'logs':logs})\n",
    "\n"
   ]
  },
  {
   "cell_type": "code",
   "execution_count": 11,
   "outputs": [
    {
     "data": {
      "text/plain": "<seaborn.axisgrid.FacetGrid at 0x7fa00045bd00>"
     },
     "execution_count": 11,
     "metadata": {},
     "output_type": "execute_result"
    },
    {
     "data": {
      "text/plain": "<Figure size 200x60 with 0 Axes>"
     },
     "metadata": {},
     "output_type": "display_data"
    },
    {
     "data": {
      "text/plain": "<Figure size 360x360 with 1 Axes>",
      "image/png": "[encoded data removed]"
     },
     "metadata": {},
     "output_type": "display_data"
    }
   ],
   "source": [
    "matplotlib.pyplot.figure(figsize=(10,3), dpi= 20)\n",
    "sns.relplot(data=logs_df, y='logs', x='prob')"
   ],
   "metadata": {
    "collapsed": false,
    "pycharm": {
     "name": "#%%\n"
    }
   }
  },
  {
   "cell_type": "markdown",
   "id": "3e2358c6-40f4-448c-9945-9617fb674b78",
   "metadata": {
    "pycharm": {
     "name": "#%% md\n"
    }
   },
   "source": [
    "# 3. Normal (Gaussian) model for number data\n",
    "Just like with the Binary data and the Bernoulli, there are built-in models for number data.\n",
    "\n",
    "The bell curve aka Normal aka Guassian model is good for modeling data that is:\n",
    "- numbers\n",
    "- most of them are close to the mean\n",
    "- distribution is symmetricl\n",
    "\n",
    "Just like the Bernoulli we can import the `norm` (normal) and use it to generate observations. \n",
    "\n",
    "And just like the Bernoulli we can tell it to use  particular **parameters**. The first one we'll learn is called `loc` which specifies the mean. The default is 0:"
   ]
  },
  {
   "cell_type": "code",
   "execution_count": 12,
   "id": "6394650a-5230-43bf-adce-038436a6c17a",
   "metadata": {
    "pycharm": {
     "name": "#%%\n"
    }
   },
   "outputs": [
    {
     "data": {
      "text/plain": "array([-3.91202301, -3.91202301, -3.91202301, -3.91202301, -3.91202301,\n       -3.91202301, -3.91202301, -0.02020271, -3.91202301, -3.91202301,\n       -3.91202301, -3.91202301, -3.91202301, -3.91202301, -3.91202301,\n       -3.91202301, -3.91202301, -3.91202301, -3.91202301, -3.91202301,\n       -3.91202301, -3.91202301, -3.91202301, -3.91202301, -0.02020271,\n       -3.91202301, -3.91202301, -3.91202301, -3.91202301, -3.91202301,\n       -3.91202301, -3.91202301, -3.91202301, -3.91202301, -3.91202301,\n       -3.91202301, -3.91202301, -3.91202301, -3.91202301, -3.91202301,\n       -3.91202301, -3.91202301, -3.91202301, -3.91202301, -3.91202301,\n       -3.91202301, -3.91202301, -3.91202301, -3.91202301, -3.91202301,\n       -3.91202301, -3.91202301, -3.91202301, -3.91202301, -3.91202301,\n       -3.91202301, -3.91202301, -3.91202301, -3.91202301, -3.91202301,\n       -0.02020271, -3.91202301, -3.91202301, -3.91202301, -3.91202301,\n       -3.91202301, -3.91202301, -0.02020271, -3.91202301, -3.91202301,\n       -3.91202301, -3.91202301, -3.91202301, -3.91202301, -3.91202301,\n       -3.91202301, -3.91202301, -3.91202301, -3.91202301, -3.91202301,\n       -0.02020271, -3.91202301, -3.91202301, -3.91202301, -3.91202301,\n       -0.02020271, -3.91202301, -3.91202301, -3.91202301, -3.91202301,\n       -3.91202301, -3.91202301, -3.91202301, -3.91202301, -3.91202301,\n       -0.02020271, -0.02020271, -3.91202301, -3.91202301, -0.02020271,\n       -3.91202301, -0.02020271, -0.02020271, -3.91202301, -3.91202301,\n       -3.91202301, -3.91202301, -3.91202301, -3.91202301, -3.91202301,\n       -3.91202301, -3.91202301, -0.02020271, -3.91202301, -3.91202301,\n       -3.91202301, -3.91202301, -3.91202301, -3.91202301, -3.91202301,\n       -3.91202301, -3.91202301, -3.91202301, -3.91202301, -3.91202301,\n       -3.91202301, -3.91202301, -3.91202301, -3.91202301, -3.91202301,\n       -3.91202301, -3.91202301, -3.91202301, -3.91202301, -3.91202301,\n       -3.91202301, -3.91202301, -3.91202301, -3.91202301, -3.91202301,\n       -3.91202301, -3.91202301, -3.91202301, -3.91202301, -3.91202301,\n       -3.91202301, -3.91202301, -3.91202301, -3.91202301, -3.91202301,\n       -3.91202301, -3.91202301, -3.91202301, -3.91202301, -3.91202301,\n       -3.91202301, -0.02020271, -0.02020271, -3.91202301, -3.91202301,\n       -3.91202301, -3.91202301, -3.91202301, -3.91202301, -3.91202301,\n       -3.91202301, -3.91202301, -3.91202301, -0.02020271, -3.91202301,\n       -3.91202301, -3.91202301, -3.91202301, -3.91202301, -3.91202301,\n       -3.91202301, -3.91202301, -3.91202301, -3.91202301, -3.91202301,\n       -3.91202301, -3.91202301, -3.91202301, -3.91202301, -3.91202301,\n       -3.91202301, -0.02020271, -3.91202301, -3.91202301, -3.91202301,\n       -3.91202301, -3.91202301, -3.91202301, -3.91202301, -3.91202301,\n       -3.91202301, -3.91202301, -3.91202301, -3.91202301, -3.91202301,\n       -0.02020271, -3.91202301, -3.91202301, -3.91202301, -3.91202301,\n       -3.91202301, -3.91202301, -3.91202301, -3.91202301, -3.91202301,\n       -0.02020271, -3.91202301, -0.02020271, -3.91202301, -3.91202301,\n       -3.91202301, -3.91202301, -3.91202301, -3.91202301, -3.91202301,\n       -3.91202301, -3.91202301, -3.91202301, -3.91202301, -3.91202301,\n       -3.91202301, -3.91202301, -3.91202301, -3.91202301, -3.91202301,\n       -0.02020271, -3.91202301, -0.02020271, -3.91202301, -3.91202301,\n       -3.91202301, -3.91202301, -3.91202301, -3.91202301, -3.91202301,\n       -3.91202301, -3.91202301, -3.91202301, -3.91202301, -3.91202301,\n       -3.91202301, -3.91202301, -3.91202301, -3.91202301, -3.91202301,\n       -3.91202301, -3.91202301, -3.91202301, -3.91202301, -3.91202301,\n       -3.91202301, -3.91202301, -3.91202301, -3.91202301, -3.91202301,\n       -3.91202301, -3.91202301, -3.91202301, -3.91202301, -3.91202301,\n       -3.91202301, -3.91202301, -3.91202301, -3.91202301, -3.91202301,\n       -3.91202301, -3.91202301, -3.91202301, -3.91202301, -0.02020271,\n       -3.91202301, -3.91202301, -3.91202301, -3.91202301, -3.91202301,\n       -3.91202301, -3.91202301, -3.91202301, -3.91202301, -3.91202301,\n       -3.91202301, -0.02020271, -3.91202301, -3.91202301, -3.91202301,\n       -3.91202301, -3.91202301, -3.91202301, -3.91202301, -3.91202301,\n       -3.91202301, -3.91202301, -3.91202301, -3.91202301, -3.91202301,\n       -3.91202301, -3.91202301, -3.91202301, -3.91202301, -3.91202301,\n       -3.91202301, -3.91202301, -3.91202301, -3.91202301, -3.91202301,\n       -3.91202301, -3.91202301, -3.91202301, -3.91202301, -3.91202301,\n       -3.91202301, -3.91202301, -3.91202301, -3.91202301, -3.91202301,\n       -3.91202301, -3.91202301, -3.91202301, -3.91202301, -3.91202301,\n       -3.91202301, -3.91202301, -3.91202301, -3.91202301, -3.91202301,\n       -3.91202301, -3.91202301, -3.91202301, -3.91202301, -3.91202301,\n       -3.91202301, -3.91202301, -3.91202301, -3.91202301, -3.91202301,\n       -3.91202301, -3.91202301, -3.91202301, -3.91202301, -3.91202301,\n       -3.91202301, -3.91202301, -3.91202301, -3.91202301, -3.91202301,\n       -3.91202301, -3.91202301, -3.91202301, -3.91202301, -3.91202301,\n       -3.91202301, -3.91202301, -3.91202301, -3.91202301, -3.91202301,\n       -3.91202301, -3.91202301, -3.91202301, -3.91202301, -3.91202301,\n       -3.91202301, -3.91202301, -3.91202301, -3.91202301, -3.91202301,\n       -3.91202301, -3.91202301, -3.91202301, -3.91202301, -3.91202301,\n       -3.91202301, -3.91202301, -3.91202301, -3.91202301, -3.91202301,\n       -3.91202301, -3.91202301, -3.91202301, -3.91202301, -3.91202301,\n       -3.91202301, -3.91202301, -3.91202301, -3.91202301, -3.91202301,\n       -0.02020271, -3.91202301, -3.91202301, -3.91202301, -3.91202301,\n       -0.02020271, -3.91202301, -3.91202301, -3.91202301, -3.91202301,\n       -3.91202301, -3.91202301, -3.91202301, -3.91202301, -0.02020271,\n       -3.91202301, -3.91202301, -3.91202301, -3.91202301, -3.91202301,\n       -3.91202301, -3.91202301, -3.91202301, -3.91202301, -3.91202301,\n       -3.91202301, -3.91202301, -3.91202301, -3.91202301, -3.91202301,\n       -3.91202301, -3.91202301, -3.91202301, -0.02020271, -3.91202301,\n       -3.91202301, -0.02020271, -3.91202301, -3.91202301, -3.91202301,\n       -3.91202301, -3.91202301, -3.91202301, -3.91202301, -3.91202301,\n       -3.91202301, -3.91202301, -3.91202301, -3.91202301, -3.91202301,\n       -3.91202301, -3.91202301, -3.91202301, -3.91202301, -3.91202301,\n       -3.91202301, -3.91202301, -3.91202301, -3.91202301, -3.91202301,\n       -3.91202301, -3.91202301, -3.91202301, -3.91202301, -3.91202301,\n       -3.91202301, -0.02020271, -3.91202301, -3.91202301, -3.91202301,\n       -3.91202301, -3.91202301, -3.91202301, -3.91202301, -3.91202301,\n       -3.91202301, -3.91202301, -3.91202301, -0.02020271, -3.91202301,\n       -3.91202301, -0.02020271, -3.91202301, -3.91202301, -3.91202301,\n       -3.91202301, -3.91202301, -3.91202301, -3.91202301, -3.91202301,\n       -3.91202301, -3.91202301, -3.91202301, -3.91202301, -3.91202301,\n       -3.91202301, -3.91202301, -3.91202301, -3.91202301, -3.91202301,\n       -3.91202301, -3.91202301, -3.91202301, -3.91202301, -3.91202301,\n       -3.91202301, -3.91202301, -3.91202301, -3.91202301, -3.91202301,\n       -3.91202301, -3.91202301, -3.91202301, -3.91202301, -3.91202301,\n       -3.91202301, -0.02020271, -3.91202301, -3.91202301, -3.91202301,\n       -3.91202301, -3.91202301, -3.91202301, -3.91202301, -3.91202301,\n       -0.02020271, -3.91202301, -3.91202301, -3.91202301, -3.91202301,\n       -0.02020271, -3.91202301, -3.91202301, -3.91202301, -3.91202301,\n       -3.91202301, -3.91202301, -3.91202301, -3.91202301, -3.91202301,\n       -3.91202301, -3.91202301, -3.91202301, -3.91202301, -3.91202301,\n       -3.91202301, -3.91202301, -3.91202301, -3.91202301, -3.91202301,\n       -3.91202301, -3.91202301, -3.91202301, -0.02020271, -3.91202301,\n       -3.91202301, -3.91202301, -3.91202301, -3.91202301, -3.91202301,\n       -3.91202301, -3.91202301, -0.02020271, -0.02020271, -3.91202301,\n       -3.91202301, -3.91202301, -3.91202301, -3.91202301, -3.91202301,\n       -3.91202301, -3.91202301, -3.91202301, -3.91202301, -3.91202301,\n       -3.91202301, -3.91202301, -3.91202301, -3.91202301, -3.91202301,\n       -3.91202301, -3.91202301, -3.91202301, -3.91202301, -3.91202301,\n       -3.91202301, -0.02020271, -3.91202301, -3.91202301, -3.91202301,\n       -3.91202301, -3.91202301, -3.91202301, -3.91202301, -3.91202301,\n       -3.91202301, -3.91202301, -3.91202301, -3.91202301, -3.91202301,\n       -0.02020271, -3.91202301, -3.91202301, -3.91202301, -3.91202301,\n       -3.91202301, -3.91202301, -3.91202301, -3.91202301, -3.91202301,\n       -3.91202301, -3.91202301, -3.91202301, -3.91202301, -3.91202301,\n       -3.91202301, -3.91202301, -3.91202301, -3.91202301, -3.91202301,\n       -3.91202301, -3.91202301, -3.91202301, -3.91202301, -3.91202301,\n       -0.02020271, -3.91202301, -3.91202301, -3.91202301, -3.91202301,\n       -3.91202301, -3.91202301, -3.91202301, -3.91202301, -0.02020271,\n       -3.91202301, -3.91202301, -3.91202301, -3.91202301, -3.91202301,\n       -3.91202301, -3.91202301, -3.91202301, -3.91202301, -3.91202301,\n       -3.91202301, -3.91202301, -3.91202301, -3.91202301, -3.91202301,\n       -3.91202301, -3.91202301, -0.02020271, -3.91202301, -3.91202301,\n       -3.91202301, -3.91202301, -3.91202301, -3.91202301, -3.91202301,\n       -3.91202301, -3.91202301, -3.91202301, -3.91202301, -3.91202301,\n       -3.91202301, -3.91202301, -3.91202301, -3.91202301, -3.91202301,\n       -3.91202301, -3.91202301, -3.91202301, -0.02020271, -3.91202301,\n       -3.91202301, -3.91202301, -3.91202301, -3.91202301, -3.91202301,\n       -0.02020271, -3.91202301, -0.02020271, -3.91202301, -3.91202301,\n       -3.91202301, -0.02020271, -0.02020271, -3.91202301, -3.91202301,\n       -0.02020271, -3.91202301, -3.91202301, -3.91202301, -3.91202301,\n       -3.91202301, -3.91202301, -3.91202301, -3.91202301, -0.02020271,\n       -3.91202301, -3.91202301, -3.91202301, -0.02020271, -3.91202301,\n       -3.91202301, -3.91202301, -3.91202301, -3.91202301, -3.91202301,\n       -3.91202301, -3.91202301, -3.91202301])"
     },
     "execution_count": 12,
     "metadata": {},
     "output_type": "execute_result"
    }
   ],
   "source": [
    "np.log(bernoulli.pmf(binary_marker, p=0.02))"
   ]
  },
  {
   "cell_type": "markdown",
   "id": "c2635b95-bc67-4504-8605-4ad497322c1f",
   "metadata": {
    "pycharm": {
     "name": "#%% md\n"
    }
   },
   "source": [
    "Another `loc`."
   ]
  },
  {
   "cell_type": "code",
   "execution_count": 13,
   "id": "a0b0c0d1-25e9-4eb9-b395-2f9a828bfa49",
   "metadata": {
    "pycharm": {
     "name": "#%%\n"
    }
   },
   "outputs": [
    {
     "data": {
      "text/plain": "10.023754464569528"
     },
     "execution_count": 13,
     "metadata": {},
     "output_type": "execute_result"
    }
   ],
   "source": [
    "norm.rvs(loc = 10)"
   ]
  },
  {
   "cell_type": "markdown",
   "id": "0e6eb2c6-4c4e-4c4a-b0fc-ffcfd7130a7a",
   "metadata": {
    "pycharm": {
     "name": "#%% md\n"
    }
   },
   "source": [
    "Sme thing with the size argument"
   ]
  },
  {
   "cell_type": "code",
   "execution_count": 14,
   "id": "568b7eb0-57d4-4a6d-a293-4611f8c9b534",
   "metadata": {
    "pycharm": {
     "name": "#%%\n"
    }
   },
   "outputs": [
    {
     "data": {
      "text/plain": "array([ 9.27365534,  9.94507748,  8.58277708,  9.31300482, 11.95906356])"
     },
     "execution_count": 14,
     "metadata": {},
     "output_type": "execute_result"
    }
   ],
   "source": [
    "norm.rvs(loc = 10, size=5)"
   ]
  },
  {
   "cell_type": "markdown",
   "id": "4c232470-aa43-4f4e-8ae6-118c84ab56f2",
   "metadata": {
    "pycharm": {
     "name": "#%% md\n"
    }
   },
   "source": [
    "**Exercise 3.1**: Generate 1000 observations of the distribution under models with different values for `loc` (such as, -5, 1, 100). Plot each in a histogram. What do you notice?"
   ]
  },
  {
   "cell_type": "markdown",
   "id": "56727fc6-b794-4ce4-a6e9-f16920c232da",
   "metadata": {
    "pycharm": {
     "name": "#%% md\n"
    }
   },
   "source": [
    "**Exercise 3.2 (think & discuss)**: Look at the histogram of the fruit_length data. What model could you make that could generate observations that look like that:\n",
    "- Would you use Bernoulli or normal? Why?\n",
    "- What do you think would be a good `loc` to make a model of the fruit_length?"
   ]
  },
  {
   "cell_type": "code",
   "execution_count": 15,
   "id": "ef6b26a0-d150-4306-9b02-e7f6a9442ab4",
   "metadata": {
    "pycharm": {
     "name": "#%%\n"
    }
   },
   "outputs": [
    {
     "data": {
      "text/plain": "<seaborn.axisgrid.FacetGrid at 0x7fa011d1cd90>"
     },
     "execution_count": 15,
     "metadata": {},
     "output_type": "execute_result"
    },
    {
     "data": {
      "text/plain": "<Figure size 360x360 with 1 Axes>",
      "image/png": "[encoded data removed]"
     },
     "metadata": {},
     "output_type": "display_data"
    }
   ],
   "source": [
    "sns.displot(data=pheno, x=\"fruit_length\")"
   ]
  },
  {
   "cell_type": "markdown",
   "id": "27bcbe39-51fe-4bf5-9954-5dec35f51427",
   "metadata": {
    "pycharm": {
     "name": "#%% md\n"
    }
   },
   "source": [
    "**Exercise 3.3**: *A*. Generate the data from your chosen model for the same number of plants as there is in the real data. Fill in the line below to make a data frame containing your real and generated data. "
   ]
  },
  {
   "cell_type": "code",
   "execution_count": 16,
   "id": "bb877972-40b0-48c8-b544-4b93215d0f3a",
   "metadata": {
    "pycharm": {
     "name": "#%%\n"
    }
   },
   "outputs": [
    {
     "ename": "ValueError",
     "evalue": "All arrays must be of the same length",
     "output_type": "error",
     "traceback": [
      "\u001B[0;31m---------------------------------------------------------------------------\u001B[0m",
      "\u001B[0;31mValueError\u001B[0m                                Traceback (most recent call last)",
      "Input \u001B[0;32mIn [16]\u001B[0m, in \u001B[0;36m<cell line: 6>\u001B[0;34m()\u001B[0m\n\u001B[1;32m      4\u001B[0m gen \u001B[38;5;241m=\u001B[39m [\u001B[38;5;124m'\u001B[39m\u001B[38;5;124mgenerated\u001B[39m\u001B[38;5;124m'\u001B[39m]\u001B[38;5;241m*\u001B[39mpheno\u001B[38;5;241m.\u001B[39mshape[\u001B[38;5;241m0\u001B[39m]\n\u001B[1;32m      5\u001B[0m is_real \u001B[38;5;241m=\u001B[39m real \u001B[38;5;241m+\u001B[39m gen\n\u001B[0;32m----> 6\u001B[0m toplot \u001B[38;5;241m=\u001B[39m \u001B[43mpd\u001B[49m\u001B[38;5;241;43m.\u001B[39;49m\u001B[43mDataFrame\u001B[49m\u001B[43m(\u001B[49m\u001B[43m{\u001B[49m\u001B[38;5;124;43m'\u001B[39;49m\u001B[38;5;124;43mfruit_length\u001B[39;49m\u001B[38;5;124;43m'\u001B[39;49m\u001B[43m:\u001B[49m\u001B[43mlengths\u001B[49m\u001B[43m,\u001B[49m\n\u001B[1;32m      7\u001B[0m \u001B[43m                       \u001B[49m\u001B[38;5;124;43m'\u001B[39;49m\u001B[38;5;124;43mis_real\u001B[39;49m\u001B[38;5;124;43m'\u001B[39;49m\u001B[43m:\u001B[49m\u001B[43m \u001B[49m\u001B[43mis_real\u001B[49m\n\u001B[1;32m      8\u001B[0m \u001B[43m                      \u001B[49m\u001B[43m}\u001B[49m\u001B[43m)\u001B[49m\n",
      "File \u001B[0;32m~/opt/anaconda3/lib/python3.9/site-packages/pandas/core/frame.py:636\u001B[0m, in \u001B[0;36mDataFrame.__init__\u001B[0;34m(self, data, index, columns, dtype, copy)\u001B[0m\n\u001B[1;32m    630\u001B[0m     mgr \u001B[38;5;241m=\u001B[39m \u001B[38;5;28mself\u001B[39m\u001B[38;5;241m.\u001B[39m_init_mgr(\n\u001B[1;32m    631\u001B[0m         data, axes\u001B[38;5;241m=\u001B[39m{\u001B[38;5;124m\"\u001B[39m\u001B[38;5;124mindex\u001B[39m\u001B[38;5;124m\"\u001B[39m: index, \u001B[38;5;124m\"\u001B[39m\u001B[38;5;124mcolumns\u001B[39m\u001B[38;5;124m\"\u001B[39m: columns}, dtype\u001B[38;5;241m=\u001B[39mdtype, copy\u001B[38;5;241m=\u001B[39mcopy\n\u001B[1;32m    632\u001B[0m     )\n\u001B[1;32m    634\u001B[0m \u001B[38;5;28;01melif\u001B[39;00m \u001B[38;5;28misinstance\u001B[39m(data, \u001B[38;5;28mdict\u001B[39m):\n\u001B[1;32m    635\u001B[0m     \u001B[38;5;66;03m# GH#38939 de facto copy defaults to False only in non-dict cases\u001B[39;00m\n\u001B[0;32m--> 636\u001B[0m     mgr \u001B[38;5;241m=\u001B[39m \u001B[43mdict_to_mgr\u001B[49m\u001B[43m(\u001B[49m\u001B[43mdata\u001B[49m\u001B[43m,\u001B[49m\u001B[43m \u001B[49m\u001B[43mindex\u001B[49m\u001B[43m,\u001B[49m\u001B[43m \u001B[49m\u001B[43mcolumns\u001B[49m\u001B[43m,\u001B[49m\u001B[43m \u001B[49m\u001B[43mdtype\u001B[49m\u001B[38;5;241;43m=\u001B[39;49m\u001B[43mdtype\u001B[49m\u001B[43m,\u001B[49m\u001B[43m \u001B[49m\u001B[43mcopy\u001B[49m\u001B[38;5;241;43m=\u001B[39;49m\u001B[43mcopy\u001B[49m\u001B[43m,\u001B[49m\u001B[43m \u001B[49m\u001B[43mtyp\u001B[49m\u001B[38;5;241;43m=\u001B[39;49m\u001B[43mmanager\u001B[49m\u001B[43m)\u001B[49m\n\u001B[1;32m    637\u001B[0m \u001B[38;5;28;01melif\u001B[39;00m \u001B[38;5;28misinstance\u001B[39m(data, ma\u001B[38;5;241m.\u001B[39mMaskedArray):\n\u001B[1;32m    638\u001B[0m     \u001B[38;5;28;01mimport\u001B[39;00m \u001B[38;5;21;01mnumpy\u001B[39;00m\u001B[38;5;21;01m.\u001B[39;00m\u001B[38;5;21;01mma\u001B[39;00m\u001B[38;5;21;01m.\u001B[39;00m\u001B[38;5;21;01mmrecords\u001B[39;00m \u001B[38;5;28;01mas\u001B[39;00m \u001B[38;5;21;01mmrecords\u001B[39;00m\n",
      "File \u001B[0;32m~/opt/anaconda3/lib/python3.9/site-packages/pandas/core/internals/construction.py:502\u001B[0m, in \u001B[0;36mdict_to_mgr\u001B[0;34m(data, index, columns, dtype, typ, copy)\u001B[0m\n\u001B[1;32m    494\u001B[0m     arrays \u001B[38;5;241m=\u001B[39m [\n\u001B[1;32m    495\u001B[0m         x\n\u001B[1;32m    496\u001B[0m         \u001B[38;5;28;01mif\u001B[39;00m \u001B[38;5;129;01mnot\u001B[39;00m \u001B[38;5;28mhasattr\u001B[39m(x, \u001B[38;5;124m\"\u001B[39m\u001B[38;5;124mdtype\u001B[39m\u001B[38;5;124m\"\u001B[39m) \u001B[38;5;129;01mor\u001B[39;00m \u001B[38;5;129;01mnot\u001B[39;00m \u001B[38;5;28misinstance\u001B[39m(x\u001B[38;5;241m.\u001B[39mdtype, ExtensionDtype)\n\u001B[1;32m    497\u001B[0m         \u001B[38;5;28;01melse\u001B[39;00m x\u001B[38;5;241m.\u001B[39mcopy()\n\u001B[1;32m    498\u001B[0m         \u001B[38;5;28;01mfor\u001B[39;00m x \u001B[38;5;129;01min\u001B[39;00m arrays\n\u001B[1;32m    499\u001B[0m     ]\n\u001B[1;32m    500\u001B[0m     \u001B[38;5;66;03m# TODO: can we get rid of the dt64tz special case above?\u001B[39;00m\n\u001B[0;32m--> 502\u001B[0m \u001B[38;5;28;01mreturn\u001B[39;00m \u001B[43marrays_to_mgr\u001B[49m\u001B[43m(\u001B[49m\u001B[43marrays\u001B[49m\u001B[43m,\u001B[49m\u001B[43m \u001B[49m\u001B[43mcolumns\u001B[49m\u001B[43m,\u001B[49m\u001B[43m \u001B[49m\u001B[43mindex\u001B[49m\u001B[43m,\u001B[49m\u001B[43m \u001B[49m\u001B[43mdtype\u001B[49m\u001B[38;5;241;43m=\u001B[39;49m\u001B[43mdtype\u001B[49m\u001B[43m,\u001B[49m\u001B[43m \u001B[49m\u001B[43mtyp\u001B[49m\u001B[38;5;241;43m=\u001B[39;49m\u001B[43mtyp\u001B[49m\u001B[43m,\u001B[49m\u001B[43m \u001B[49m\u001B[43mconsolidate\u001B[49m\u001B[38;5;241;43m=\u001B[39;49m\u001B[43mcopy\u001B[49m\u001B[43m)\u001B[49m\n",
      "File \u001B[0;32m~/opt/anaconda3/lib/python3.9/site-packages/pandas/core/internals/construction.py:120\u001B[0m, in \u001B[0;36marrays_to_mgr\u001B[0;34m(arrays, columns, index, dtype, verify_integrity, typ, consolidate)\u001B[0m\n\u001B[1;32m    117\u001B[0m \u001B[38;5;28;01mif\u001B[39;00m verify_integrity:\n\u001B[1;32m    118\u001B[0m     \u001B[38;5;66;03m# figure out the index, if necessary\u001B[39;00m\n\u001B[1;32m    119\u001B[0m     \u001B[38;5;28;01mif\u001B[39;00m index \u001B[38;5;129;01mis\u001B[39;00m \u001B[38;5;28;01mNone\u001B[39;00m:\n\u001B[0;32m--> 120\u001B[0m         index \u001B[38;5;241m=\u001B[39m \u001B[43m_extract_index\u001B[49m\u001B[43m(\u001B[49m\u001B[43marrays\u001B[49m\u001B[43m)\u001B[49m\n\u001B[1;32m    121\u001B[0m     \u001B[38;5;28;01melse\u001B[39;00m:\n\u001B[1;32m    122\u001B[0m         index \u001B[38;5;241m=\u001B[39m ensure_index(index)\n",
      "File \u001B[0;32m~/opt/anaconda3/lib/python3.9/site-packages/pandas/core/internals/construction.py:674\u001B[0m, in \u001B[0;36m_extract_index\u001B[0;34m(data)\u001B[0m\n\u001B[1;32m    672\u001B[0m lengths \u001B[38;5;241m=\u001B[39m \u001B[38;5;28mlist\u001B[39m(\u001B[38;5;28mset\u001B[39m(raw_lengths))\n\u001B[1;32m    673\u001B[0m \u001B[38;5;28;01mif\u001B[39;00m \u001B[38;5;28mlen\u001B[39m(lengths) \u001B[38;5;241m>\u001B[39m \u001B[38;5;241m1\u001B[39m:\n\u001B[0;32m--> 674\u001B[0m     \u001B[38;5;28;01mraise\u001B[39;00m \u001B[38;5;167;01mValueError\u001B[39;00m(\u001B[38;5;124m\"\u001B[39m\u001B[38;5;124mAll arrays must be of the same length\u001B[39m\u001B[38;5;124m\"\u001B[39m)\n\u001B[1;32m    676\u001B[0m \u001B[38;5;28;01mif\u001B[39;00m have_dicts:\n\u001B[1;32m    677\u001B[0m     \u001B[38;5;28;01mraise\u001B[39;00m \u001B[38;5;167;01mValueError\u001B[39;00m(\n\u001B[1;32m    678\u001B[0m         \u001B[38;5;124m\"\u001B[39m\u001B[38;5;124mMixing dicts with non-Series may lead to ambiguous ordering.\u001B[39m\u001B[38;5;124m\"\u001B[39m\n\u001B[1;32m    679\u001B[0m     )\n",
      "\u001B[0;31mValueError\u001B[0m: All arrays must be of the same length"
     ]
    }
   ],
   "source": [
    "generated =  None ## fill this in\n",
    "lengths = np.append(pheno['fruit_length'].values, generated)\n",
    "real = ['real']*pheno.shape[0]\n",
    "gen = ['generated']*pheno.shape[0]\n",
    "is_real = real + gen\n",
    "toplot = pd.DataFrame({'fruit_length':lengths,\n",
    "                       'is_real': is_real\n",
    "                      })\n",
    "\n"
   ]
  },
  {
   "cell_type": "markdown",
   "id": "a45566cd-835e-442d-a706-07d286c1ef2b",
   "metadata": {
    "pycharm": {
     "name": "#%% md\n"
    }
   },
   "source": [
    "*B*. Make a histogram that plots the real data and the generated data. Discuss: are you happy with your model? Does it seem to fit the data?"
   ]
  },
  {
   "cell_type": "code",
   "execution_count": null,
   "id": "a89a8a16-5aa6-47ed-9e0b-da8d06ae9824",
   "metadata": {
    "pycharm": {
     "name": "#%%\n"
    }
   },
   "outputs": [],
   "source": []
  },
  {
   "cell_type": "markdown",
   "id": "11e364f8-51af-4fae-9efa-62941c46a1bc",
   "metadata": {
    "pycharm": {
     "name": "#%% md\n"
    }
   },
   "source": [
    "**Exercise 3.4 (discuss as a group)**: The code above uses some Python I have not taught you. What is it doing? Add comments to the code."
   ]
  },
  {
   "cell_type": "markdown",
   "id": "65ad40e2-f0c7-4f09-a6a3-99ff71e752b7",
   "metadata": {
    "pycharm": {
     "name": "#%% md\n"
    }
   },
   "source": [
    "The reason the generated data doesn't look so good is because it is too wide. There is a second **parameter** called **`scale`** which controls how wide it is."
   ]
  },
  {
   "cell_type": "markdown",
   "id": "87c20268-3b66-41a4-bf85-e39f519c3e3e",
   "metadata": {
    "pycharm": {
     "name": "#%% md\n"
    }
   },
   "source": [
    "**Exercise 3.5**: Generate 703 observations of the distribution under models with the same loc above but different values for  values for `scale` (it must be greater than zero, you can't have a negative width)-- try 1, 5, 100). Plot each in a histogram. What do you notice?\n",
    "\n"
   ]
  },
  {
   "cell_type": "code",
   "execution_count": null,
   "id": "52593429-dc2c-4704-bb42-10ed043e1650",
   "metadata": {
    "pycharm": {
     "name": "#%%\n"
    }
   },
   "outputs": [],
   "source": []
  },
  {
   "cell_type": "markdown",
   "id": "03fe73ca-8b6b-48bf-b1ef-cfbbeabc7614",
   "metadata": {
    "pycharm": {
     "name": "#%% md\n"
    }
   },
   "source": [
    "**Exercise 3.6**: Plot a histogram of bolting days. Would a normal model be appropriate for bolting days?"
   ]
  },
  {
   "cell_type": "code",
   "execution_count": null,
   "id": "02a95346-5a72-4600-b2d8-1701272b212d",
   "metadata": {
    "pycharm": {
     "name": "#%%\n"
    }
   },
   "outputs": [],
   "source": []
  },
  {
   "cell_type": "markdown",
   "id": "ac0b59e1-7764-47e6-86c5-35c1875c12db",
   "metadata": {
    "pycharm": {
     "name": "#%% md\n"
    }
   },
   "source": [
    "**Exercise 3.7**: \n",
    "1. Create 20 evenly spaced values of `loc`  spaced out from 0 to 30. \n",
    "2. For each of these values, generate your plants, and get the squared difference in means like in 2.2.2. \n"
   ]
  },
  {
   "cell_type": "code",
   "execution_count": null,
   "id": "fcdd9c1f-a02e-4a03-8c27-e8d78c3c62bd",
   "metadata": {
    "pycharm": {
     "name": "#%%\n"
    }
   },
   "outputs": [],
   "source": []
  },
  {
   "cell_type": "markdown",
   "id": "b4a7ca4a-2728-4685-badb-f4dd06ebace5",
   "metadata": {
    "pycharm": {
     "name": "#%% md\n"
    }
   },
   "source": [
    "3. Plot on the x-axis \"loc\" and on the y-axis the squared difference in means."
   ]
  },
  {
   "cell_type": "code",
   "execution_count": null,
   "id": "6906ccf4-2e02-41aa-a8eb-81acb81a6ebf",
   "metadata": {
    "pycharm": {
     "name": "#%%\n"
    }
   },
   "outputs": [],
   "source": []
  },
  {
   "cell_type": "markdown",
   "id": "d05261ac-9756-4b81-b9bd-8c0144c171aa",
   "metadata": {
    "pycharm": {
     "name": "#%% md\n"
    }
   },
   "source": [
    "4. Get the value where the difference is smallest "
   ]
  },
  {
   "cell_type": "code",
   "execution_count": null,
   "id": "e6206530-3d38-4a61-a640-bc1da5af5947",
   "metadata": {
    "pycharm": {
     "name": "#%%\n"
    }
   },
   "outputs": [],
   "source": []
  },
  {
   "cell_type": "markdown",
   "id": "5b8f436f-2f3f-45dd-a3cb-dd9ea2335d88",
   "metadata": {
    "pycharm": {
     "name": "#%% md\n"
    }
   },
   "source": [
    "**Exercise 3.8**: Repeat 3.7 but keeping your loc you picked in 3.7 and with 20 evenly spaced values for scale. Find the best secale."
   ]
  },
  {
   "cell_type": "code",
   "execution_count": null,
   "id": "b5e33f78-352b-45db-93a6-a20330f87dd6",
   "metadata": {
    "pycharm": {
     "name": "#%%\n"
    }
   },
   "outputs": [],
   "source": []
  }
 ],
 "metadata": {
  "kernelspec": {
   "display_name": "Python 3 (ipykernel)",
   "language": "python",
   "name": "python3"
  },
  "language_info": {
   "codemirror_mode": {
    "name": "ipython",
    "version": 3
   },
   "file_extension": ".py",
   "mimetype": "text/x-python",
   "name": "python",
   "nbconvert_exporter": "python",
   "pygments_lexer": "ipython3",
   "version": "3.7.13"
  }
 },
 "nbformat": 4,
 "nbformat_minor": 5
}