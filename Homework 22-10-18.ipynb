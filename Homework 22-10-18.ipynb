{
 "cells": [
  {
   "cell_type": "markdown",
   "source": [
    "In class we found marker `MASC06116` was most associated with fruit length. Make two plots: 1) to help visualize the distribution of fruit lengths for plants with an A genotype at that marker and 2) same for plants with a not-A genotype at that marker.\n",
    "\n",
    "In addition to explaining your code as usual, explain the interpretation you can make by comparing two plots to each other. Also explain how do the plots relate to the number you got for difference in fruit lengths for plants at that genotype (2.85)."
   ],
   "metadata": {
    "collapsed": false,
    "pycharm": {
     "name": "#%% md\n"
    }
   }
  },
  {
   "cell_type": "code",
   "execution_count": 7,
   "outputs": [],
   "source": [
    "import pandas as pd\n",
    "import seaborn as sns\n",
    "\n",
    "geno = pd.read_table(\"arabidopsis_birds/arabmagic/arabmagic_geno.csv\", sep=\",\",skiprows=3,index_col=0)\n",
    "pmap = pd.read_table(\"arabidopsis_birds/arabmagic/arabmagic_pmap_tair9.csv\", sep=\",\",skiprows=3,index_col=0)\n",
    "pheno = pd.read_table(\"arabidopsis_birds/arabmagic/arabmagic_pheno.csv\", sep=\",\",skiprows=3,index_col=0)\n",
    "counts = pd.read_table(\"arabidopsis_birds/eco_data/species_counts.txt\")\n",
    "sites = pd.read_table(\"arabidopsis_birds/eco_data/eco_sites.txt\")\n",
    "# Set up includes creating variables from our table files and importing python packages"
   ],
   "metadata": {
    "collapsed": false,
    "pycharm": {
     "name": "#%%\n"
    }
   }
  },
  {
   "cell_type": "code",
   "execution_count": 5,
   "outputs": [],
   "source": [
    "w_masc = geno.loc['MASC06116', :] == 'A'\n",
    "wo_masc = geno.loc['MASC06116', :] != 'A'\n",
    "# creates two boolien indexes:\n",
    "    # the first includes a TRUE for all plants with the that have and A for MASC06116\n",
    "    # the second includes a TRUE for all plants that don't have an A for MASCOT06116"
   ],
   "metadata": {
    "collapsed": false,
    "pycharm": {
     "name": "#%%\n"
    }
   }
  },
  {
   "cell_type": "code",
   "execution_count": 9,
   "outputs": [
    {
     "name": "stderr",
     "output_type": "stream",
     "text": [
      "/var/folders/7z/1swymzp511x0s43d476pgl2h0000gp/T/ipykernel_35695/2323797772.py:1: UserWarning: Boolean Series key will be reindexed to match DataFrame index.\n",
      "  sns.displot(data= pheno[w_masc.transpose()], x= 'fruit_length')\n"
     ]
    },
    {
     "data": {
      "text/plain": "<seaborn.axisgrid.FacetGrid at 0x7f831121bdc0>"
     },
     "execution_count": 9,
     "metadata": {},
     "output_type": "execute_result"
    },
    {
     "data": {
      "text/plain": "<Figure size 360x360 with 1 Axes>",
      "image/png": "[encoded data removed]"
     },
     "metadata": {},
     "output_type": "display_data"
    }
   ],
   "source": [
    "sns.displot(data= pheno[w_masc.transpose()], x= 'fruit_length')\n",
    "# creates a histogram with from the data set of pheno including only those plants that have an A for MASC06116, setting the X axis to be fruit legnth"
   ],
   "metadata": {
    "collapsed": false,
    "pycharm": {
     "name": "#%%\n"
    }
   }
  },
  {
   "cell_type": "code",
   "execution_count": 10,
   "outputs": [
    {
     "name": "stderr",
     "output_type": "stream",
     "text": [
      "/var/folders/7z/1swymzp511x0s43d476pgl2h0000gp/T/ipykernel_35695/4101331025.py:1: UserWarning: Boolean Series key will be reindexed to match DataFrame index.\n",
      "  sns.displot(data= pheno[wo_masc.transpose()], x= 'fruit_length')\n"
     ]
    },
    {
     "data": {
      "text/plain": "<seaborn.axisgrid.FacetGrid at 0x7f8331b27940>"
     },
     "execution_count": 10,
     "metadata": {},
     "output_type": "execute_result"
    },
    {
     "data": {
      "text/plain": "<Figure size 360x360 with 1 Axes>",
      "image/png": "[encoded data removed]"
     },
     "metadata": {},
     "output_type": "display_data"
    }
   ],
   "source": [
    "sns.displot(data= pheno[wo_masc.transpose()], x= 'fruit_length')\n",
    "# creates a histogram with from the data set of pheno including only those plants that don't have an A for MASC06116, setting the X axis to be fruit legnth"
   ],
   "metadata": {
    "collapsed": false,
    "pycharm": {
     "name": "#%%\n"
    }
   }
  },
  {
   "cell_type": "markdown",
   "source": [
    "This tells me a lot about the effect of MASC06116 on fruit length the most common fruit length for plants with an A was around 15 where in plants without it the average was around 12. The difference in their means is represented directly in the histogram as the difference between their average \"masses\""
   ],
   "metadata": {
    "collapsed": false,
    "pycharm": {
     "name": "#%% md\n"
    }
   }
  }
 ],
 "metadata": {
  "kernelspec": {
   "display_name": "Python 3",
   "language": "python",
   "name": "python3"
  },
  "language_info": {
   "codemirror_mode": {
    "name": "ipython",
    "version": 2
   },
   "file_extension": ".py",
   "mimetype": "text/x-python",
   "name": "python",
   "nbconvert_exporter": "python",
   "pygments_lexer": "ipython2",
   "version": "2.7.6"
  }
 },
 "nbformat": 4,
 "nbformat_minor": 0
}