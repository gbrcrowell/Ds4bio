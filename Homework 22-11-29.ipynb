{
 "cells": [
  {
   "cell_type": "markdown",
   "source": [
    "Generate 100 random data sets of plants where mean fruit_length does follows your linear model created in model_height.\n",
    "\n",
    "This means the \"loc\" for each plant is determined by the model, but the actual value is random, with the mean coming from that loc.\n",
    "\n",
    "For each of the 100 data sets, fit the linear model again and get the slope. Then, after you obtain your 100 slopes, make a histogram of the slopes, and obtain the standard deviation and the lowest and highest slope."
   ],
   "metadata": {
    "collapsed": false,
    "pycharm": {
     "name": "#%% md\n"
    }
   }
  },
  {
   "cell_type": "code",
   "execution_count": 1,
   "outputs": [],
   "source": [
    "import pandas as pd, numpy as np, seaborn as sns, matplotlib.pyplot as plt, statsmodels.api as sm\n",
    "from scipy.stats import bernoulli\n",
    "sns.set_theme()\n",
    "from scipy.stats import norm\n",
    "geno = pd.read_table(\"arabidopsis_birds/arabmagic/arabmagic_geno.csv\", sep=\",\",skiprows=3,index_col=0)\n",
    "pmap = pd.read_table(\"arabidopsis_birds/arabmagic/arabmagic_pmap_tair9.csv\", sep=\",\",skiprows=3,index_col=0)\n",
    "pheno = pd.read_table(\"arabidopsis_birds/arabmagic/arabmagic_pheno.csv\", sep=\",\",skiprows=3,index_col=0)\n",
    "counts = pd.read_table(\"arabidopsis_birds/eco_data/species_counts.txt\")\n",
    "sites = pd.read_table(\"arabidopsis_birds/eco_data/eco_sites.txt\")\n",
    "fruit_length_geno = pd.read_table(\"fruit_length_geno.csv\",sep=\",\")\n",
    "gwas_plus_pmap = pd.read_table(\"gwas_plus_pmap.csv\",sep=\",\")\n",
    "# imports"
   ],
   "metadata": {
    "collapsed": false,
    "pycharm": {
     "name": "#%%\n"
    }
   }
  },
  {
   "cell_type": "code",
   "execution_count": 13,
   "outputs": [
    {
     "data": {
      "text/plain": "<class 'statsmodels.iolib.summary.Summary'>\n\"\"\"\n                            OLS Regression Results                            \n==============================================================================\nDep. Variable:           fruit_length   R-squared:                       0.132\nModel:                            OLS   Adj. R-squared:                  0.130\nMethod:                 Least Squares   F-statistic:                     77.44\nDate:                Tue, 29 Nov 2022   Prob (F-statistic):           2.13e-17\nTime:                        11:33:18   Log-Likelihood:                -980.16\nNo. Observations:                 511   AIC:                             1964.\nDf Residuals:                     509   BIC:                             1973.\nDf Model:                           1                                         \nCovariance Type:            nonrobust                                         \n==============================================================================\n                 coef    std err          t      P>|t|      [0.025      0.975]\n------------------------------------------------------------------------------\nconst         11.9419      0.336     35.532      0.000      11.282      12.602\nheight         0.0691      0.008      8.800      0.000       0.054       0.085\n==============================================================================\nOmnibus:                        0.078   Durbin-Watson:                   2.011\nProb(Omnibus):                  0.962   Jarque-Bera (JB):                0.107\nSkew:                          -0.030   Prob(JB):                        0.948\nKurtosis:                       2.961   Cond. No.                         197.\n==============================================================================\n\nNotes:\n[1] Standard Errors assume that the covariance matrix of the errors is correctly specified.\n\"\"\"",
      "text/html": "<table class=\"simpletable\">\n<caption>OLS Regression Results</caption>\n<tr>\n  <th>Dep. Variable:</th>      <td>fruit_length</td>   <th>  R-squared:         </th> <td>   0.132</td>\n</tr>\n<tr>\n  <th>Model:</th>                   <td>OLS</td>       <th>  Adj. R-squared:    </th> <td>   0.130</td>\n</tr>\n<tr>\n  <th>Method:</th>             <td>Least Squares</td>  <th>  F-statistic:       </th> <td>   77.44</td>\n</tr>\n<tr>\n  <th>Date:</th>             <td>Tue, 29 Nov 2022</td> <th>  Prob (F-statistic):</th> <td>2.13e-17</td>\n</tr>\n<tr>\n  <th>Time:</th>                 <td>11:33:18</td>     <th>  Log-Likelihood:    </th> <td> -980.16</td>\n</tr>\n<tr>\n  <th>No. Observations:</th>      <td>   511</td>      <th>  AIC:               </th> <td>   1964.</td>\n</tr>\n<tr>\n  <th>Df Residuals:</th>          <td>   509</td>      <th>  BIC:               </th> <td>   1973.</td>\n</tr>\n<tr>\n  <th>Df Model:</th>              <td>     1</td>      <th>                     </th>     <td> </td>   \n</tr>\n<tr>\n  <th>Covariance Type:</th>      <td>nonrobust</td>    <th>                     </th>     <td> </td>   \n</tr>\n</table>\n<table class=\"simpletable\">\n<tr>\n     <td></td>       <th>coef</th>     <th>std err</th>      <th>t</th>      <th>P>|t|</th>  <th>[0.025</th>    <th>0.975]</th>  \n</tr>\n<tr>\n  <th>const</th>  <td>   11.9419</td> <td>    0.336</td> <td>   35.532</td> <td> 0.000</td> <td>   11.282</td> <td>   12.602</td>\n</tr>\n<tr>\n  <th>height</th> <td>    0.0691</td> <td>    0.008</td> <td>    8.800</td> <td> 0.000</td> <td>    0.054</td> <td>    0.085</td>\n</tr>\n</table>\n<table class=\"simpletable\">\n<tr>\n  <th>Omnibus:</th>       <td> 0.078</td> <th>  Durbin-Watson:     </th> <td>   2.011</td>\n</tr>\n<tr>\n  <th>Prob(Omnibus):</th> <td> 0.962</td> <th>  Jarque-Bera (JB):  </th> <td>   0.107</td>\n</tr>\n<tr>\n  <th>Skew:</th>          <td>-0.030</td> <th>  Prob(JB):          </th> <td>   0.948</td>\n</tr>\n<tr>\n  <th>Kurtosis:</th>      <td> 2.961</td> <th>  Cond. No.          </th> <td>    197.</td>\n</tr>\n</table><br/><br/>Notes:<br/>[1] Standard Errors assume that the covariance matrix of the errors is correctly specified."
     },
     "execution_count": 13,
     "metadata": {},
     "output_type": "execute_result"
    }
   ],
   "source": [
    "to_model = pd.DataFrame({\"fruit_length\":fruit_length_geno['fruit_length'],\n",
    "                         \"height\": fruit_length_geno['height']})\n",
    "to_model = to_model.loc[pd.isnull(to_model).sum(axis=1)==0, :]\n",
    "to_model = sm.add_constant(to_model)\n",
    "# We create a data frame called to model, with three columns. The first being fruit length, the second being height, and the third being a constant.\n",
    "# we us isnull to remove any lines that have no value.\n",
    "\n",
    "X = to_model.loc[:,['const','height']]\n",
    "y = to_model['fruit_length']\n",
    "model_height = sm.OLS(y, X).fit()\n",
    "# sets an x and y values that will be used in our linear model then plugs them in\n",
    "# our x values will consist of heights (which will change), and a constant.\n",
    "# our y values will consist of fruit length\n",
    "\n",
    "gen = model_height.predict()\n",
    "# we create an array of mean fruit length for a given height.\n",
    "\n",
    "model_height.summary()\n",
    "# prints a summary of the above created model"
   ],
   "metadata": {
    "collapsed": false,
    "pycharm": {
     "name": "#%%\n"
    }
   }
  },
  {
   "cell_type": "code",
   "execution_count": 11,
   "outputs": [
    {
     "data": {
      "text/plain": "<seaborn.axisgrid.FacetGrid at 0x7f83d0f0d910>"
     },
     "execution_count": 11,
     "metadata": {},
     "output_type": "execute_result"
    },
    {
     "data": {
      "text/plain": "<Figure size 360x360 with 1 Axes>",
      "image/png": "[encoded data removed]"
     },
     "metadata": {},
     "output_type": "display_data"
    }
   ],
   "source": [
    "slopes = []\n",
    "# create an empty list called slopes\n",
    "\n",
    "for x in range(100):\n",
    "    # counts to one hundred outputting what count its on running the indented code each time.\n",
    "\n",
    "    to_model[x] = norm(loc = gen, scale = to_model['fruit_length'].std()).rvs()\n",
    "    # using norm we create an output of values similar to our fruit_length that fall within the normal plot\n",
    "\n",
    "    X = to_model.loc[:,['const','height']]\n",
    "    y = to_model[x]\n",
    "    tmod = sm.OLS(y, X).fit()\n",
    "    # same as above:\n",
    "        # sets an x and y values that will be used in our linear model then plugs them in\n",
    "        # our x values will consist of heights (which will change), and a constant.\n",
    "        # our y values will consist of our similar generated fruit lengths\n",
    "\n",
    "    slopes.append(tmod.params[1])\n",
    "    # we add the slope (params 1) to our list of slopes\n",
    "\n",
    "sns.displot(data=np.array(slopes))\n",
    "# we convert our list into an array then make a histogram from it"
   ],
   "metadata": {
    "collapsed": false,
    "pycharm": {
     "name": "#%%\n"
    }
   }
  },
  {
   "cell_type": "code",
   "execution_count": 12,
   "outputs": [
    {
     "name": "stdout",
     "output_type": "stream",
     "text": [
      "The standard deviation is 0.007839170016826665, the smallest slope is 0.047343595748066326 and the largest slope is 0.08515009404577291.\n"
     ]
    }
   ],
   "source": [
    "print(f'The standard deviation is {np.array(slopes).std()}, the smallest slope is {np.array(slopes).min()} and the largest slope is {np.array(slopes).max()}.')\n",
    "# we convert our list to a numpy array before finding standard dev, max, and min those apportions cannot be performed on a list."
   ],
   "metadata": {
    "collapsed": false,
    "pycharm": {
     "name": "#%%\n"
    }
   }
  },
  {
   "cell_type": "markdown",
   "source": [
    "Write ONE SENTENCE that compares the standard deviation, lowest, and highest value in your histogram to the model_height.summary() output values that include std err, and [0.025, 0.975] (the lowest and highest end of the confidence interval) for the slope."
   ],
   "metadata": {
    "collapsed": false,
    "pycharm": {
     "name": "#%% md\n"
    }
   }
  },
  {
   "cell_type": "code",
   "execution_count": 14,
   "outputs": [],
   "source": [
    "# All of our slopes fall within the confidence interval (as the lowest of 0.047 is well above 0.025 and the highest 0.085 is well below 0.097) Our average from the histogram was right around 0.065 which about where the true slope is (0.069)."
   ],
   "metadata": {
    "collapsed": false,
    "pycharm": {
     "name": "#%%\n"
    }
   }
  }
 ],
 "metadata": {
  "kernelspec": {
   "display_name": "Python 3",
   "language": "python",
   "name": "python3"
  },
  "language_info": {
   "codemirror_mode": {
    "name": "ipython",
    "version": 2
   },
   "file_extension": ".py",
   "mimetype": "text/x-python",
   "name": "python",
   "nbconvert_exporter": "python",
   "pygments_lexer": "ipython2",
   "version": "2.7.6"
  }
 },
 "nbformat": 4,
 "nbformat_minor": 0
}