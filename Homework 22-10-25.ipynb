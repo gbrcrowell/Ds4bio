{
 "cells": [
  {
   "cell_type": "markdown",
   "source": [
    "Daily HW -- use groupby to get the mean latitude, longitude, and elevations for sites in the E and W regions of the eco_sites data (you can get all this info in one data frame). Then choose one of those 3 features and compare these group means to one plot of your choosing (besides a histogram, so any catplot but a histogram). Explain how the means are consistent with what you see in the catplot."
   ],
   "metadata": {
    "collapsed": false,
    "pycharm": {
     "name": "#%% md\n"
    }
   }
  },
  {
   "cell_type": "code",
   "execution_count": 1,
   "outputs": [],
   "source": [
    "import pandas as pd\n",
    "import seaborn as sns\n",
    "sites = pd.read_table(\"arabidopsis_birds/eco_data/eco_sites.txt\")\n",
    "# import and seting up sites DF"
   ],
   "metadata": {
    "collapsed": false,
    "pycharm": {
     "name": "#%%\n"
    }
   }
  },
  {
   "cell_type": "code",
   "execution_count": 3,
   "outputs": [
    {
     "data": {
      "text/plain": "        Elevation      North       East\nWorE                                   \nE     1954.425439  27.117540  89.995794\nW     2001.982456  32.465899  76.312646",
      "text/html": "<div>\n<style scoped>\n    .dataframe tbody tr th:only-of-type {\n        vertical-align: middle;\n    }\n\n    .dataframe tbody tr th {\n        vertical-align: top;\n    }\n\n    .dataframe thead th {\n        text-align: right;\n    }\n</style>\n<table border=\"1\" class=\"dataframe\">\n  <thead>\n    <tr style=\"text-align: right;\">\n      <th></th>\n      <th>Elevation</th>\n      <th>North</th>\n      <th>East</th>\n    </tr>\n    <tr>\n      <th>WorE</th>\n      <th></th>\n      <th></th>\n      <th></th>\n    </tr>\n  </thead>\n  <tbody>\n    <tr>\n      <th>E</th>\n      <td>1954.425439</td>\n      <td>27.117540</td>\n      <td>89.995794</td>\n    </tr>\n    <tr>\n      <th>W</th>\n      <td>2001.982456</td>\n      <td>32.465899</td>\n      <td>76.312646</td>\n    </tr>\n  </tbody>\n</table>\n</div>"
     },
     "execution_count": 3,
     "metadata": {},
     "output_type": "execute_result"
    }
   ],
   "source": [
    "sites.groupby('WorE').mean()\n",
    "# using these sites DF we separate the observation by East and West then take the mean of each of our three remaining features\n",
    "# The final DF created will have the rows be west or esast and the columns as Elevation Latitude and Longitude."
   ],
   "metadata": {
    "collapsed": false,
    "pycharm": {
     "name": "#%%\n"
    }
   }
  },
  {
   "cell_type": "code",
   "execution_count": 7,
   "outputs": [
    {
     "data": {
      "text/plain": "<seaborn.axisgrid.FacetGrid at 0x7f8131043cd0>"
     },
     "execution_count": 7,
     "metadata": {},
     "output_type": "execute_result"
    },
    {
     "data": {
      "text/plain": "<Figure size 360x360 with 1 Axes>",
      "image/png": "[encoded data removed]"
     },
     "metadata": {},
     "output_type": "display_data"
    }
   ],
   "source": [
    "sns.catplot(data=sites, x='WorE', y='Elevation', kind='box')\n",
    "# I create a boxplot (with kind = box), from the series DF as the data (with data = sites), the catigories is East and West (with x = WorE), and the y axis is elevation (feature in question, with y = elevation)."
   ],
   "metadata": {
    "collapsed": false,
    "pycharm": {
     "name": "#%%\n"
    }
   }
  },
  {
   "cell_type": "markdown",
   "source": [
    "The center line in the box plot is the mean. The box plot does give a lot more data regarding the elevation. It shows our max in min but also the conecntration of elevation values."
   ],
   "metadata": {
    "collapsed": false,
    "pycharm": {
     "name": "#%% md\n"
    }
   }
  }
 ],
 "metadata": {
  "kernelspec": {
   "display_name": "Python 3",
   "language": "python",
   "name": "python3"
  },
  "language_info": {
   "codemirror_mode": {
    "name": "ipython",
    "version": 2
   },
   "file_extension": ".py",
   "mimetype": "text/x-python",
   "name": "python",
   "nbconvert_exporter": "python",
   "pygments_lexer": "ipython2",
   "version": "2.7.6"
  }
 },
 "nbformat": 4,
 "nbformat_minor": 0
}