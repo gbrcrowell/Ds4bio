{
 "cells": [
  {
   "cell_type": "markdown",
   "source": [
    "Hello! Daily homework today; similar to daily homework that was due Tuesday: Generate 100 samples from your loc = 10 model. Then, evaluate the likelihoods for this generated data for the following normal models: loc = 10, loc = 11, loc = 12. Remember, best likelihood is closest to zero (highest) sum of logs of probabilities. Which model is most likely by this score? Which is least likely? Is it what you expect?"
   ],
   "metadata": {
    "collapsed": false,
    "pycharm": {
     "name": "#%% md\n"
    }
   }
  },
  {
   "cell_type": "code",
   "execution_count": 168,
   "outputs": [],
   "source": [
    "from scipy.stats import norm\n",
    "import numpy as np\n",
    "norm_mod = norm(loc = 10) # make a normal model with a mean of 10\n",
    "arr = norm_mod.rvs(100) # use the above model to generate 100 instances and save that into an array"
   ],
   "metadata": {
    "collapsed": false,
    "pycharm": {
     "name": "#%%\n"
    }
   }
  },
  {
   "cell_type": "code",
   "execution_count": 169,
   "outputs": [],
   "source": [
    "test10 = norm(loc=10)\n",
    "test11 = norm(loc=11)\n",
    "test12 = norm(loc=12)\n",
    "# create 3 testing models with a mean of 10, 11, and 12."
   ],
   "metadata": {
    "collapsed": false,
    "pycharm": {
     "name": "#%%\n"
    }
   }
  },
  {
   "cell_type": "code",
   "execution_count": 170,
   "outputs": [],
   "source": [
    "arr1 = test10.pdf(arr)\n",
    "arr2 = test11.pdf(arr)\n",
    "arr3 = test12.pdf(arr)\n",
    "# use the test models to evaluate the probability of each of th generated points in the sample array"
   ],
   "metadata": {
    "collapsed": false,
    "pycharm": {
     "name": "#%%\n"
    }
   }
  },
  {
   "cell_type": "code",
   "execution_count": 171,
   "outputs": [],
   "source": [
    "log1 = np.log(arr1)\n",
    "log2 = np.log(arr2)\n",
    "log3 = np.log(arr3)\n",
    "# take the log of the probabilities for each test model"
   ],
   "metadata": {
    "collapsed": false,
    "pycharm": {
     "name": "#%%\n"
    }
   }
  },
  {
   "cell_type": "code",
   "execution_count": 172,
   "outputs": [],
   "source": [
    "sum1 = log1.sum()\n",
    "sum2 = log2.sum()\n",
    "sum3 = log3.sum()\n",
    "# sum the log of the probabilities for each test model, this will produce likelihood values"
   ],
   "metadata": {
    "collapsed": false,
    "pycharm": {
     "name": "#%%\n"
    }
   }
  },
  {
   "cell_type": "code",
   "execution_count": 173,
   "outputs": [
    {
     "name": "stdout",
     "output_type": "stream",
     "text": [
      "For our loc 10 the likelihood was -137.0, for our loc 11 the likelihood was -186.0, and for our loc 12 the likelihood  was -335.0\n"
     ]
    }
   ],
   "source": [
    "print(f'For our loc 10 the likelihood was {sum1.round(0)}, for our loc 11 the likelihood was {sum2.round(0)}, and for our loc 12 the likelihood  was {sum3.round(0)}')\n",
    "# round reduces the number of desmals of the float to zero"
   ],
   "metadata": {
    "collapsed": false,
    "pycharm": {
     "name": "#%%\n"
    }
   }
  },
  {
   "cell_type": "markdown",
   "source": [
    "This is what I expected, loc 10 was the best with the closest value to zero. I expected this because it was a loc 10 model that created our data array in the first place."
   ],
   "metadata": {
    "collapsed": false,
    "pycharm": {
     "name": "#%% md\n"
    }
   }
  }
 ],
 "metadata": {
  "kernelspec": {
   "display_name": "Python 3",
   "language": "python",
   "name": "python3"
  },
  "language_info": {
   "codemirror_mode": {
    "name": "ipython",
    "version": 2
   },
   "file_extension": ".py",
   "mimetype": "text/x-python",
   "name": "python",
   "nbconvert_exporter": "python",
   "pygments_lexer": "ipython2",
   "version": "2.7.6"
  }
 },
 "nbformat": 4,
 "nbformat_minor": 0
}