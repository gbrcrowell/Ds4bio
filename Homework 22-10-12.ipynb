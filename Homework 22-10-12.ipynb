{
 "cells": [
  {
   "cell_type": "markdown",
   "source": [
    "Daily homework due Tuesday Wednesday- using the sites data, make histogram of how common (how many times) each bird species is observed across all 38 sites. HINT: if you make a dictionary `bird` where the keys are species name and the value is the number of times that species is seen you can turn that into a data frame like this\n",
    "The first line above will convert the dictionary to a data frame with index being 1 row, containing number of sightings. The second line above uses the transpose function to turn the data frame on its side so the features are in the columns and observations (bird species, here) are in the rows (By the way, this explanation of the code is a good explanation of what code does)\n"
   ],
   "metadata": {
    "collapsed": false,
    "pycharm": {
     "name": "#%% md\n"
    }
   }
  },
  {
   "cell_type": "code",
   "execution_count": 18,
   "outputs": [
    {
     "data": {
      "text/plain": "<seaborn.axisgrid.FacetGrid at 0x7fa8e84cc5b0>"
     },
     "execution_count": 18,
     "metadata": {},
     "output_type": "execute_result"
    },
    {
     "data": {
      "text/plain": "<Figure size 360x360 with 1 Axes>",
      "image/png": "[encoded data removed]"
     },
     "metadata": {},
     "output_type": "display_data"
    }
   ],
   "source": [
    "import pandas as pd\n",
    "import seaborn as sns\n",
    "sites = pd.read_table(\"arabidopsis_birds/eco_data/eco_sites.txt\")\n",
    "counts = pd.read_table(\"arabidopsis_birds/eco_data/species_counts.txt\")\n",
    "\n",
    "bird = {}\n",
    "# creates empty dictionary\n",
    "\n",
    "for b in counts.columns:\n",
    "    # assigns b to the first column of the counts, which are birds then moves to the next one...\n",
    "    bird[b] = counts[b].sum()\n",
    "    # fills the dictionary with index b (bird name) and key being the sum of its counts\n",
    "\n",
    "bird_df = pd.DataFrame(bird,index=['number sightings'])\n",
    "bird_df = bird_df.transpose()\n",
    "# code provided to create dataframe from dictionary and set the column name to be 'number sightings'\n",
    "\n",
    "sns.displot(data= bird_df, x= 'number sightings')\n",
    "# creates histogram with from the data frame using number sightings as the x variable"
   ],
   "metadata": {
    "collapsed": false,
    "pycharm": {
     "name": "#%%\n"
    }
   }
  }
 ],
 "metadata": {
  "kernelspec": {
   "display_name": "Python 3",
   "language": "python",
   "name": "python3"
  },
  "language_info": {
   "codemirror_mode": {
    "name": "ipython",
    "version": 2
   },
   "file_extension": ".py",
   "mimetype": "text/x-python",
   "name": "python",
   "nbconvert_exporter": "python",
   "pygments_lexer": "ipython2",
   "version": "2.7.6"
  }
 },
 "nbformat": 4,
 "nbformat_minor": 0
}