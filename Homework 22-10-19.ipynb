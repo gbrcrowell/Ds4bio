{
 "cells": [
  {
   "cell_type": "markdown",
   "source": [
    "Make a visualization that will allow you to visualize if sites in the \"E\" region are at a different latitude than sites in the\"W\" region. Compare your results to figure 2 from the paper: https://www.nature.com/articles/s41467-019-10253-6/figures/2 (don't worry about all the parts about the motifs, just look at the maps)"
   ],
   "metadata": {
    "collapsed": false,
    "pycharm": {
     "name": "#%% md\n"
    }
   }
  },
  {
   "cell_type": "code",
   "execution_count": 1,
   "outputs": [],
   "source": [
    "import pandas as pd\n",
    "import seaborn as sns\n",
    "\n",
    "geno = pd.read_table(\"arabidopsis_birds/arabmagic/arabmagic_geno.csv\", sep=\",\",skiprows=3,index_col=0)\n",
    "pmap = pd.read_table(\"arabidopsis_birds/arabmagic/arabmagic_pmap_tair9.csv\", sep=\",\",skiprows=3,index_col=0)\n",
    "pheno = pd.read_table(\"arabidopsis_birds/arabmagic/arabmagic_pheno.csv\", sep=\",\",skiprows=3,index_col=0)\n",
    "counts = pd.read_table(\"arabidopsis_birds/eco_data/species_counts.txt\")\n",
    "sites = pd.read_table(\"arabidopsis_birds/eco_data/eco_sites.txt\")\n",
    "# Set up includes creating variables from our table files and importing python packages"
   ],
   "metadata": {
    "collapsed": false,
    "pycharm": {
     "name": "#%%\n"
    }
   }
  },
  {
   "cell_type": "code",
   "execution_count": 19,
   "outputs": [],
   "source": [
    "e_sites = sites['WorE'] == 'E'\n",
    "# creates a boolian index of sites that have E with name e_sites\n",
    "    # searches through the sites data frame, within the column WorE, and sets the site row true if in WorE there was an E\n",
    "w_sites = sites['WorE'] == 'W'\n",
    "# same as above but for sites in the west"
   ],
   "metadata": {
    "collapsed": false,
    "pycharm": {
     "name": "#%%\n"
    }
   }
  },
  {
   "cell_type": "code",
   "execution_count": 20,
   "outputs": [],
   "source": [
    "e_mean = sites[e_sites].mean(numeric_only=True)\n",
    "# finds the mean of each column in sites only if they are in the east with name e_mean\n",
    "    # uses esites to limit the mean to only sites in the east\n",
    "    # numeric only stops the mean function from trying to find the mean of WorE as they have chr values instead of numeric values\n",
    "w_mean = sites[w_sites].mean(numeric_only=True)\n",
    "# same as above but for sites in the west"
   ],
   "metadata": {
    "collapsed": false,
    "pycharm": {
     "name": "#%%\n"
    }
   }
  },
  {
   "cell_type": "code",
   "execution_count": 25,
   "outputs": [
    {
     "name": "stdout",
     "output_type": "stream",
     "text": [
      "Sites in the east have a mean elevation of 1954.4254385789475 while sites in the west have mean elevation of 2001.9824561578946.\n"
     ]
    },
    {
     "data": {
      "text/plain": "<Figure size 360x360 with 1 Axes>",
      "image/png": "[encoded data removed]"
     },
     "metadata": {},
     "output_type": "display_data"
    },
    {
     "data": {
      "text/plain": "<Figure size 360x360 with 1 Axes>",
      "image/png": "[encoded data removed]"
     },
     "metadata": {},
     "output_type": "display_data"
    }
   ],
   "source": [
    "sns.displot(data=sites[e_sites], x=\"Elevation\")\n",
    "sns.displot(data=sites[w_sites], x=\"Elevation\")\n",
    "# creates two histograms with from the data set of sites including only those sites in the east then for the south, setting the X axis or the exact data in th histogram to be elevation.\n",
    "\n",
    "print(f'Sites in the east have a mean elevation of {e_mean[\"Elevation\"]} while sites in the west have mean elevation of {w_mean[\"Elevation\"]}.')\n",
    "# This is a print statement that uses string formats and calls the mean elevation from emean and wmean"
   ],
   "metadata": {
    "collapsed": false,
    "pycharm": {
     "name": "#%%\n"
    }
   }
  },
  {
   "cell_type": "markdown",
   "source": [
    "I dont know if we learned another graphing stratigy in the class last week but using a histogram and calculation the diferences in mean between the wto it makes sence that the western stats are higher than the eastern stats. We see lots of low values on the eastern stats which is reflected in Fig.2 from the nautre artical as there is 6 sites that are not in the mountain rage and therefore would have near zero values. in the western graph there is a lot of data points both in low and highlands and we can see that on the the visualizion of the mountain range in the western graph."
   ],
   "metadata": {
    "collapsed": false,
    "pycharm": {
     "name": "#%% md\n"
    }
   }
  },
  {
   "cell_type": "code",
   "execution_count": 26,
   "outputs": [
    {
     "data": {
      "text/plain": "<seaborn.axisgrid.FacetGrid at 0x7fd2f16d0be0>"
     },
     "execution_count": 26,
     "metadata": {},
     "output_type": "execute_result"
    },
    {
     "data": {
      "text/plain": "<Figure size 405.5x360 with 1 Axes>",
      "image/png": "[encoded data removed]"
     },
     "metadata": {},
     "output_type": "display_data"
    }
   ],
   "source": [
    "sns.displot(data=sites, x=\"Elevation\", hue=\"WorE\")\n"
   ],
   "metadata": {
    "collapsed": false,
    "pycharm": {
     "name": "#%%\n"
    }
   }
  },
  {
   "cell_type": "code",
   "execution_count": null,
   "outputs": [],
   "source": [],
   "metadata": {
    "collapsed": false,
    "pycharm": {
     "name": "#%%\n"
    }
   }
  }
 ],
 "metadata": {
  "kernelspec": {
   "display_name": "Python 3",
   "language": "python",
   "name": "python3"
  },
  "language_info": {
   "codemirror_mode": {
    "name": "ipython",
    "version": 2
   },
   "file_extension": ".py",
   "mimetype": "text/x-python",
   "name": "python",
   "nbconvert_exporter": "python",
   "pygments_lexer": "ipython2",
   "version": "2.7.6"
  }
 },
 "nbformat": 4,
 "nbformat_minor": 0
}