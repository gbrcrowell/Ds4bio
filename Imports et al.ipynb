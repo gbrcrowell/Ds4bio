{
 "cells": [
  {
   "cell_type": "code",
   "execution_count": 2,
   "metadata": {
    "collapsed": true,
    "pycharm": {
     "name": "#%%\n"
    }
   },
   "outputs": [],
   "source": [
    "import pandas as pd, numpy as np, seaborn as sns, matplotlib.pyplot as plt, statsmodels.api as sm\n",
    "from scipy.stats import bernoulli\n",
    "sns.set_theme()\n",
    "from scipy.stats import norm\n",
    "geno = pd.read_table(\"arabidopsis_birds/arabmagic/arabmagic_geno.csv\", sep=\",\",skiprows=3,index_col=0)\n",
    "pmap = pd.read_table(\"arabidopsis_birds/arabmagic/arabmagic_pmap_tair9.csv\", sep=\",\",skiprows=3,index_col=0)\n",
    "pheno = pd.read_table(\"arabidopsis_birds/arabmagic/arabmagic_pheno.csv\", sep=\",\",skiprows=3,index_col=0)\n",
    "counts = pd.read_table(\"arabidopsis_birds/eco_data/species_counts.txt\")\n",
    "sites = pd.read_table(\"arabidopsis_birds/eco_data/eco_sites.txt\")\n",
    "fruit_length_geno = pd.read_table(\"fruit_length_geno.csv\",sep=\",\")\n",
    "gwas_plus_pmap = pd.read_table(\"gwas_plus_pmap.csv\",sep=\",\")"
   ]
  },
  {
   "cell_type": "code",
   "execution_count": null,
   "outputs": [],
   "source": [],
   "metadata": {
    "collapsed": false,
    "pycharm": {
     "name": "#%%\n"
    }
   }
  }
 ],
 "metadata": {
  "kernelspec": {
   "display_name": "Python 3",
   "language": "python",
   "name": "python3"
  },
  "language_info": {
   "codemirror_mode": {
    "name": "ipython",
    "version": 2
   },
   "file_extension": ".py",
   "mimetype": "text/x-python",
   "name": "python",
   "nbconvert_exporter": "python",
   "pygments_lexer": "ipython2",
   "version": "2.7.6"
  }
 },
 "nbformat": 4,
 "nbformat_minor": 0
}