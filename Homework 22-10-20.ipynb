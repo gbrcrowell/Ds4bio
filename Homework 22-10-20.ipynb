{
 "cells": [
  {
   "cell_type": "markdown",
   "source": [
    "General homework- from the states data, sum up the columns containing \"Parent or guardian\" (using the vectorized string operations to obtain those columns) to get a rough measure of disruptions to parenthood in each state. Then make a plot to compare this \"parent or guardian\" sum against one other feature. Then interpret your plot: what are the axes, the points, the features, the observations, and what can you conclude from the visualization."
   ],
   "metadata": {
    "collapsed": false,
    "pycharm": {
     "name": "#%% md\n"
    }
   }
  },
  {
   "cell_type": "code",
   "execution_count": 1,
   "outputs": [],
   "source": [
    "import pandas as pd\n",
    "import seaborn as sns\n",
    "states = pd.read_csv(\"state_health.csv\")\n",
    "states_named = states.set_index('State Name')\n",
    "# Set up includes creating variables from our table files and importing python packages"
   ],
   "metadata": {
    "collapsed": false,
    "pycharm": {
     "name": "#%%\n"
    }
   }
  },
  {
   "cell_type": "code",
   "execution_count": 38,
   "outputs": [
    {
     "data": {
      "text/plain": "State Name\nMaine                   38.1\nMassachusetts           26.1\nRhode Island            31.8\nDistrict of Columbia    32.9\nMichigan                35.4\nNew Hampshire           32.2\nVermont                 34.7\nPennsylvania            32.1\nConnecticut             31.9\nDelaware                33.7\nHawaii                  24.3\nMinnesota               26.2\nAlabama                 38.9\nNew York                25.8\nMaryland                29.7\nSouth Carolina          42.5\nSouth Dakota            37.4\nVirginia                31.9\nFlorida                 36.3\nNorth Carolina          31.4\nKentucky                40.5\nTennessee               41.0\nOregon                  32.2\nUtah                    23.4\nIowa                    31.9\nWashington              27.3\nUnited States           33.1\nOhio                    38.0\nColorado                34.4\nLouisiana               44.5\nNebraska                29.3\nNorth Dakota            33.9\nMissouri                34.4\nNew Jersey              25.0\nNevada                  35.7\nGeorgia                 37.3\nArkansas                50.3\nIndiana                 39.3\nMississippi             44.0\nWest Virginia           46.8\nAlaska                  38.4\nKansas                  35.3\nMontana                 44.1\nArizona                 42.0\nIllinois                29.0\nNew Mexico              45.7\nIdaho                   33.0\nWisconsin               35.9\nTexas                   34.3\nOklahoma                44.7\nWyoming                 42.3\nCalifornia              25.6\ndtype: float64"
     },
     "execution_count": 38,
     "metadata": {},
     "output_type": "execute_result"
    }
   ],
   "source": [
    "s_cols = states_named.columns\n",
    "# creates a list of all the columns in states\n",
    "p_cols = s_cols.str.contains(\"Parent or guardian\")\n",
    "# searched through the list of the columns, s_cols, for any that included the term \"Parent or guardian\" and assigned that to p_cols\n",
    "pg_sum = states_named.loc[:,p_cols].sum(axis = 1)\n",
    "# I used .loc to assemble all the rows but only the columns that included the term Parent or guardian, p_cols.\n",
    "    # then I summed each of those rows (axis 1 defigned that the rows are summed not the columns)\n",
    "    # and assigned that to pg_sum\n",
    "\n",
    "pg_sum.to_frame(pg_sum)\n",
    "pg_sum\n",
    "# transformed pg_sum into a dataframe"
   ],
   "metadata": {
    "collapsed": false,
    "pycharm": {
     "name": "#%%\n"
    }
   }
  },
  {
   "cell_type": "code",
   "execution_count": 37,
   "outputs": [
    {
     "data": {
      "text/plain": "<seaborn.axisgrid.FacetGrid at 0x7f7b99fedaf0>"
     },
     "execution_count": 37,
     "metadata": {},
     "output_type": "execute_result"
    },
    {
     "data": {
      "text/plain": "<Figure size 360x360 with 1 Axes>",
      "image/png": "[encoded data removed]"
     },
     "metadata": {},
     "output_type": "display_data"
    }
   ],
   "source": [
    "ace_pg = pd.concat((pg_sum, states_named[\"Adverse Childhood Experiences\"]), axis= 1)\n",
    "# build a new dataframe of the Parent or guardian sum, pg_sum, and the states data about \"Adverse Childhood Experiences\"\n",
    "sns.relplot(data=ace_pg, x=0, y=\"Adverse Childhood Experiences\")\n",
    "# made a plot displaying the relationship of Parent or guardian disterbance, pg_sum, vs \"Adverse Childhood Experiences\""
   ],
   "metadata": {
    "collapsed": false,
    "pycharm": {
     "name": "#%%\n"
    }
   }
  },
  {
   "cell_type": "markdown",
   "source": [
    "disterbances in parenthood have corrilation with Adverse Childhood Experiences"
   ],
   "metadata": {
    "collapsed": false,
    "pycharm": {
     "name": "#%% md\n"
    }
   }
  },
  {
   "cell_type": "code",
   "execution_count": null,
   "outputs": [],
   "source": [],
   "metadata": {
    "collapsed": false,
    "pycharm": {
     "name": "#%%\n"
    }
   }
  }
 ],
 "metadata": {
  "kernelspec": {
   "display_name": "Python 3",
   "language": "python",
   "name": "python3"
  },
  "language_info": {
   "codemirror_mode": {
    "name": "ipython",
    "version": 2
   },
   "file_extension": ".py",
   "mimetype": "text/x-python",
   "name": "python",
   "nbconvert_exporter": "python",
   "pygments_lexer": "ipython2",
   "version": "2.7.6"
  }
 },
 "nbformat": 4,
 "nbformat_minor": 0
}