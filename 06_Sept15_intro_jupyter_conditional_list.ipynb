{
 "cells": [
  {
   "cell_type": "markdown",
   "source": [
    "# Welcome to our first Jupyter Notebook!\n",
    "\n",
    "This is a jupyter notebook.  Let's take a tour.\n",
    "\n",
    "A notebook is made up of **cells**, which are these bits of text with a box around them. Cells can be:\n",
    "  - *mark-down cells*: like this one! You can learn more about Markdown by clicking on the \"Help\" menu.\n",
    "  - Or *code cells*: like **the one below! (with numbers and gray boxes)**\n",
    "\n",
    "## Try it and take notes:\n",
    "Click or double-click in the middle of the cell to edit the cell content for 1) this cell and 2) the cell below, then press `Shift-Enter` (or the \"play\" button) to \"run\" each cell. When you run the 2 types of cell, they do different things. What do they do?\n",
    "Describe what you observe:\n",
    "\n",
    "1) What happens when I double-click in this cell, edit it, and \"run\":\n",
    "\n",
    "<font color= green> Insert notes here (your notes can be green if you want)\n",
    "    \n",
    "    \n",
    "2) What happens when I click in the next cell, and run it? What if I change the 10 to 11 below, and \"run\":\n",
    "\n",
    "<font color=purple> Insert notes here (your notes could also be purple if you like that better)\n"
   ],
   "metadata": {
    "collapsed": false,
    "pycharm": {
     "name": "#%% md\n"
    }
   }
  },
  {
   "cell_type": "code",
   "execution_count": 11,
   "id": "4acf5f4d-708c-4856-981b-634dcf06c860",
   "metadata": {
    "pycharm": {
     "name": "#%%\n"
    }
   },
   "outputs": [
    {
     "data": {
      "text/plain": "11.5"
     },
     "execution_count": 11,
     "metadata": {},
     "output_type": "execute_result"
    }
   ],
   "source": [
    "11 + 3 - 2.5"
   ]
  },
  {
   "cell_type": "markdown",
   "id": "35f2a9fe-ba7a-4182-bc5d-e4427b6c88ae",
   "metadata": {
    "pycharm": {
     "name": "#%% md\n"
    }
   },
   "source": [
    "Some notes: \n",
    "    \n",
    "- You can add cells using the \"+\" button up top. And you can move cells around using the cut/paste/copy buttons too.\n",
    "- There's keyboard modes for those of us who hate clicking. I use a lot so you won't see me clicking those buttons very much. Look at the \"Help\" menu for that but that's up to you.\n",
    "- When I changed the 10 to an 11 it changed the answer.\n",
    "-"
   ]
  },
  {
   "cell_type": "markdown",
   "id": "df2c3145-7c6c-4842-bdc4-4b2e412766c7",
   "metadata": {
    "pycharm": {
     "name": "#%% md\n"
    }
   },
   "source": [
    "## Some programs similar to what we learned\n",
    "\n",
    "Predict the thing that will be printed and then run it to see if your prediction was right\n",
    "\n",
    "### Program 1:\n",
    "I predict the code will give us 42:"
   ]
  },
  {
   "cell_type": "code",
   "execution_count": 12,
   "id": "a483d9c1-28c3-47ae-9efb-81efc50b2cad",
   "metadata": {
    "pycharm": {
     "name": "#%%\n"
    }
   },
   "outputs": [
    {
     "name": "stdout",
     "output_type": "stream",
     "text": [
      "42\n"
     ]
    }
   ],
   "source": [
    "nickels = 8\n",
    "pennies = 2\n",
    "money_in_cents = pennies + nickels * 5   \n",
    "print(money_in_cents )"
   ]
  },
  {
   "cell_type": "markdown",
   "id": "5002663f-0d61-4c55-8cd4-51d35cb7e81f",
   "metadata": {
    "pycharm": {
     "name": "#%% md\n"
    }
   },
   "source": [
    "### Program 2 | value | < compare_to:\n",
    "will give us >="
   ]
  },
  {
   "cell_type": "code",
   "execution_count": 4,
   "id": "7407b8aa-9011-4d5b-b62e-4341aaa7593f",
   "metadata": {
    "pycharm": {
     "name": "#%%\n"
    }
   },
   "outputs": [
    {
     "name": "stdout",
     "output_type": "stream",
     "text": [
      "it's greater: | 8 | >= 4\n"
     ]
    }
   ],
   "source": [
    "\n",
    "value = 8\n",
    "compare_to = 4\n",
    "check_positive = value < compare_to\n",
    "check_negative = -1 * value < compare_to\n",
    "check_both = check_positive and check_negative\n",
    "if check_both:\n",
    "    print(\"it's less: |\", value, \"| <\", compare_to)\n",
    "else:\n",
    "    print(\"it's greater: |\", value, \"| >=\", compare_to)"
   ]
  },
  {
   "cell_type": "markdown",
   "id": "a37a1c34-dbb6-4f99-bf38-d70e3a2aa655",
   "metadata": {
    "pycharm": {
     "name": "#%% md\n"
    }
   },
   "source": [
    "Change the value of `value` and then predict what the output will be. Run it again to see if you predicted right."
   ]
  },
  {
   "cell_type": "markdown",
   "id": "17949c0b-f699-46e6-b913-bda91abee206",
   "metadata": {
    "pycharm": {
     "name": "#%% md\n"
    }
   },
   "source": [
    "You actually don't always need to use print statements. You can retrieve the value of a variable just by putting its name alone on one line of code and Jupyter will print out what's in there. Try it out:"
   ]
  },
  {
   "cell_type": "code",
   "execution_count": 13,
   "id": "1c36a420-db0b-4bc9-bc82-8c84e55d76c3",
   "metadata": {
    "pycharm": {
     "name": "#%%\n"
    }
   },
   "outputs": [
    {
     "data": {
      "text/plain": "42"
     },
     "execution_count": 13,
     "metadata": {},
     "output_type": "execute_result"
    }
   ],
   "source": [
    "money_in_cents"
   ]
  },
  {
   "cell_type": "code",
   "execution_count": null,
   "id": "f88b8d43-adc5-41c1-bc02-c2503140794d",
   "metadata": {
    "pycharm": {
     "name": "#%%\n"
    }
   },
   "outputs": [],
   "source": [
    "check_both"
   ]
  },
  {
   "cell_type": "markdown",
   "id": "267abe98-f875-43e1-a362-89b722799528",
   "metadata": {
    "pycharm": {
     "name": "#%% md\n"
    }
   },
   "source": [
    "**Why did this work??? We never defined `money_in_cents` or `check_both` in those code cells?!**\n",
    "\n",
    "Important note: all variables are saved throughout the session! So as long as your Jupyter notebooks is running, your \"post-its\" will keep accumulating. This can mess you up!"
   ]
  },
  {
   "cell_type": "markdown",
   "id": "769eba2e-cf10-4806-a0d0-c4827e953273",
   "metadata": {
    "pycharm": {
     "name": "#%% md\n"
    }
   },
   "source": [
    "### Exercise 1: Daily homework for today: discuss group answers\n",
    "\n",
    "Below is a program to test if |value| < 3\n",
    " \n",
    "1. Add some lines that will print out “Congratulations!” if |value| < 3 and print \"Too bad!\" if |value| >= 3\n",
    "2. And add more lines to tell the person whether they should try adding 1 to their value or if they should try subtracting 1 from their value to get the \"Congratulations!\". So if value is -3.5 (as below) it should print Too bad!  and it should print \"Try adding 1\". Let me know if there are questions\n",
    "\n",
    "```\n",
    "value = -3.5\n",
    "compare_to = 3\n",
    "check_positive = value < compare_to\n",
    "check_negative = -1 * value < compare_to\n",
    "abs_less = check_positive and check_negative\n",
    "print(“|”, value, “| < “, compare_to “?”, abs_less)\n",
    "```\n",
    "(note how I made the code block in markdown!)"
   ]
  },
  {
   "cell_type": "code",
   "execution_count": 19,
   "id": "bb7cdc34-ae64-445a-9875-7ee652fdb63e",
   "metadata": {
    "pycharm": {
     "name": "#%%\n"
    }
   },
   "outputs": [
    {
     "name": "stdout",
     "output_type": "stream",
     "text": [
      "| 7 | < 3 ? False\n",
      "Too Bad\n",
      "subtract 1\n"
     ]
    }
   ],
   "source": [
    "value = 7\n",
    "compare_to = 3\n",
    "check_positive = value < compare_to\n",
    "# print(check_positive)\n",
    "check_negative = -1 * value < compare_to\n",
    "# print(check_negative)\n",
    "abs_less = check_positive and check_negative\n",
    "print(\"|\", value, \"| <\", compare_to, \"?\", abs_less)\n",
    "if abs_less:\n",
    "    print(\"Congratulations!\")\n",
    "else:\n",
    "    print(\"Too Bad\")\n",
    "    if check_negative:\n",
    "        print(\"subtract 1\")\n",
    "    else:\n",
    "        print(\"add 1\")\n"
   ]
  },
  {
   "cell_type": "markdown",
   "id": "d1885afb-9d09-41b0-89d4-b2f96ff302af",
   "metadata": {
    "pycharm": {
     "name": "#%% md\n"
    }
   },
   "source": [
    "# Lists: a new type of variable\n",
    "Lists allow us to aggregate multiple values together into one somewhat more complicated variable. We can make a list of numbers or strings (or both together) using `[ ]`\n",
    "\n",
    "Here I'm making 2 lists, one is different plants, and the other is the continent it originated from before agriculture."
   ]
  },
  {
   "cell_type": "code",
   "execution_count": 24,
   "id": "f04fbfd9-6c66-410d-9c8e-ec5c43126c8d",
   "metadata": {
    "pycharm": {
     "name": "#%%\n"
    }
   },
   "outputs": [],
   "source": [
    "plants = ['Cabbage', 'Coffee', 'Corn', 'Tea', 'Tomato', 'Apple', 'Potato']\n",
    "\n",
    "## notice that you can put them on separate lines.. python is looking for the right-] to match the left one\n",
    "places = ['Europe',\n",
    "             'Africa',\n",
    "             'North America',\n",
    "             'Asia',\n",
    "             'North America',\n",
    "             'Asia',\n",
    "             'South America']\n",
    "\n"
   ]
  },
  {
   "cell_type": "code",
   "execution_count": null,
   "id": "dca318ec-f6df-4c74-b0ea-11c31d3ff123",
   "metadata": {
    "pycharm": {
     "name": "#%%\n"
    }
   },
   "outputs": [],
   "source": [
    "print(plants)"
   ]
  },
  {
   "cell_type": "markdown",
   "id": "19c8900e-cb0d-47f6-a8b7-847a153aa7ab",
   "metadata": {
    "pycharm": {
     "name": "#%% md\n"
    }
   },
   "source": [
    "Lists have their own special operator, the `[]` You can use this to get the **items** from the list by what position they are in. **POSITIONS ALWAYS START FROM ZERO!!!**:"
   ]
  },
  {
   "cell_type": "code",
   "execution_count": null,
   "id": "b40d8808-19c1-45cd-809d-059766b38405",
   "metadata": {
    "pycharm": {
     "name": "#%%\n"
    }
   },
   "outputs": [],
   "source": [
    "plants[0]"
   ]
  },
  {
   "cell_type": "code",
   "execution_count": null,
   "id": "236bdb70-abc8-4698-89fe-d39957731262",
   "metadata": {
    "pycharm": {
     "name": "#%%\n"
    }
   },
   "outputs": [],
   "source": [
    "places[0]"
   ]
  },
  {
   "cell_type": "markdown",
   "id": "bbe13af9-2ef0-43f1-926f-4cf5e85ca4c5",
   "metadata": {
    "pycharm": {
     "name": "#%% md\n"
    }
   },
   "source": [
    "### Exercise 2\n",
    "Make a list variable (call the variable whatever you want) that contains the number of pets each person in the group has. The person sitting closest to me should be person zero, and the other students (going clockwise) would be numbers 1, etc.\n",
    "\n",
    "Use the list variable to retrieve the number of pets person 2 has."
   ]
  },
  {
   "cell_type": "code",
   "execution_count": 22,
   "outputs": [
    {
     "name": "stdout",
     "output_type": "stream",
     "text": [
      "2\n"
     ]
    }
   ],
   "source": [
    "pets = [2,\n",
    "        0,\n",
    "        2,\n",
    "        1]\n",
    "print(pets[1])"
   ],
   "metadata": {
    "collapsed": false,
    "pycharm": {
     "name": "#%%\n"
    }
   }
  },
  {
   "cell_type": "markdown",
   "id": "494a7bd9-7802-46e3-926d-04ed1a9007c2",
   "metadata": {
    "pycharm": {
     "name": "#%% md\n"
    }
   },
   "source": [
    "### Exercise 3 \n",
    "Let's say we had a really long list of 1000 plants and places as above. The 927th plant is a yam. What code would you type to find from your data where yams are from?"
   ]
  },
  {
   "cell_type": "code",
   "execution_count": 30,
   "outputs": [
    {
     "ename": "IndexError",
     "evalue": "list index out of range",
     "output_type": "error",
     "traceback": [
      "\u001B[0;31m---------------------------------------------------------------------------\u001B[0m",
      "\u001B[0;31mIndexError\u001B[0m                                Traceback (most recent call last)",
      "Input \u001B[0;32mIn [30]\u001B[0m, in \u001B[0;36m<cell line: 1>\u001B[0;34m()\u001B[0m\n\u001B[0;32m----> 1\u001B[0m \u001B[38;5;28mprint\u001B[39m(\u001B[43mplants\u001B[49m\u001B[43m[\u001B[49m\u001B[38;5;241;43m926\u001B[39;49m\u001B[43m]\u001B[49m, \u001B[38;5;124m\"\u001B[39m\u001B[38;5;124mis from\u001B[39m\u001B[38;5;124m\"\u001B[39m, places[\u001B[38;5;241m926\u001B[39m])\n",
      "\u001B[0;31mIndexError\u001B[0m: list index out of range"
     ]
    }
   ],
   "source": [
    "print(plants[926], \"is from\", places[926])\n"
   ],
   "metadata": {
    "collapsed": false,
    "pycharm": {
     "name": "#%%\n"
    }
   }
  },
  {
   "cell_type": "markdown",
   "id": "4d25e4f0-bea4-458a-9606-d903b2efe404",
   "metadata": {
    "pycharm": {
     "name": "#%% md\n"
    }
   },
   "source": [
    "But we can specify a range with of how many elements we want to get with a `:` like this:\n",
    "`list[start:end]`\n",
    "\n",
    "**Important**: \"end\" is always the last index + 1.\n",
    "\n",
    "Note you can leave off the number to the left of the colon and it will aassume you want to start from the start. You can leave off the number to the right and it will assume you want to go all the way to the end\n",
    "\n",
    "### Exercise 4\n",
    "for each of the following code cells, predict the output before running it. Does the output make sense?\n",
    "\n",
    "**DO NOT JUST RUN IT WITHOUT FIRST PREDICTING!!! We are not monkeys who just press a button**\n",
    "\n",
    "![img](https://cdn-0.emojis.wiki/emoji-pics/lg/see-no-evil-monkey-lg.png \"see no evil monkey\")"
   ]
  },
  {
   "cell_type": "code",
   "execution_count": null,
   "id": "17dedc85-dd81-4c70-88a0-1ac6a838ee10",
   "metadata": {
    "pycharm": {
     "name": "#%%\n",
     "is_executing": true
    }
   },
   "outputs": [],
   "source": [
    "plants[0:3]"
   ]
  },
  {
   "cell_type": "code",
   "execution_count": null,
   "id": "b6e27883-9eae-460f-bc8e-022bd325699e",
   "metadata": {
    "pycharm": {
     "name": "#%%\n",
     "is_executing": true
    }
   },
   "outputs": [],
   "source": [
    "plants[:3]"
   ]
  },
  {
   "cell_type": "code",
   "execution_count": null,
   "id": "e9f589e0-e202-4138-8040-ca15f8f7c002",
   "metadata": {
    "pycharm": {
     "name": "#%%\n",
     "is_executing": true
    }
   },
   "outputs": [],
   "source": [
    "plants[3:]"
   ]
  },
  {
   "cell_type": "code",
   "execution_count": null,
   "id": "bf7ca333-bcdc-4f38-ac37-4bc10092ebe3",
   "metadata": {
    "pycharm": {
     "name": "#%%\n",
     "is_executing": true
    }
   },
   "outputs": [],
   "source": [
    "places[0:3]"
   ]
  },
  {
   "cell_type": "code",
   "execution_count": null,
   "id": "c30b3213-5649-48b6-9fd3-2e3470f12455",
   "metadata": {
    "pycharm": {
     "name": "#%%\n",
     "is_executing": true
    }
   },
   "outputs": [],
   "source": [
    "plants[1:2]"
   ]
  },
  {
   "cell_type": "code",
   "execution_count": null,
   "id": "48312292-1554-4f70-8206-051fe57e389e",
   "metadata": {
    "pycharm": {
     "name": "#%%\n",
     "is_executing": true
    }
   },
   "outputs": [],
   "source": [
    "plants[:]"
   ]
  },
  {
   "cell_type": "markdown",
   "id": "be9e6b4d-c689-459e-827c-5901868cf45d",
   "metadata": {
    "pycharm": {
     "name": "#%% md\n"
    }
   },
   "source": [
    "### Exercise 5\n",
    "There is an addition operator for lists too. Try out the addition operator and describe what it does by inspecting the variable you get."
   ]
  },
  {
   "cell_type": "code",
   "execution_count": null,
   "id": "cfb0903b-5202-44bc-b424-5d07bf0e71f0",
   "metadata": {
    "pycharm": {
     "name": "#%%\n"
    }
   },
   "outputs": [],
   "source": [
    "result = plants + places"
   ]
  },
  {
   "cell_type": "markdown",
   "id": "0330c8b2-7d95-4bd5-b872-638e115d99be",
   "metadata": {
    "pycharm": {
     "name": "#%% md\n"
    }
   },
   "source": [
    "# Functions\n",
    "Funtions are little built in programs. We already learned one function:  `print`.\n",
    "\n",
    "It's very similar to command line: In command line you did the name of the function then spaces then the inputs.\n",
    "With functions you specify the name of the function, then in *parentheses* the inputs.  \n",
    "\n",
    "\n",
    "|Setting | How to specify function | how to specify inputs to function | how to specify multiple inputs | example |\n",
    "|---  |--- |--- |--- |--- |\n",
    "|Command line | name of function (command) | followed by space | inputs separated  by space | `head a b` |\n",
    "|Python (and most programming) | name of function | followed by `( )` |  inputs (arguments) separated by commas | `print(\"a\",1)` |\n",
    "\n",
    "Some functions can take anything as an input, and other functions only work with specific inputs.\n",
    "\n",
    "## `len()` function\n",
    "This will tell you how long your variable is:\n",
    "- if it's a string variable, it will tell you how many characters\n",
    "- If it's a list variable, it will tell you how many items in the list.\n",
    "\n",
    "**AGAIN DO NOT JUST RUN IT WITHOUT FIRST PREDICTING!!! you need to understand how it is working to learn for when things get more complicated! we can't just type code randomly**\n",
    "\n",
    "![img](https://www.sciencealert.com/images/articles/processed/monkey-typing_1024.jpg \"typing monkey\")\n",
    "\n",
    "### Exercise 5\n",
    "For each of the cells code below, predict what it will give you as an output, then run it and compare to your prediction. Explain how you predicted it.\n",
    "\n"
   ]
  },
  {
   "cell_type": "code",
   "execution_count": null,
   "id": "656d6e91-abac-4be0-9f70-d99a49c21f69",
   "metadata": {
    "pycharm": {
     "name": "#%%\n"
    }
   },
   "outputs": [],
   "source": [
    "len(\"Corn\")"
   ]
  },
  {
   "cell_type": "code",
   "execution_count": null,
   "id": "32c44cad-cfad-4f6a-ae6c-d88c6f015ba3",
   "metadata": {
    "pycharm": {
     "name": "#%%\n"
    }
   },
   "outputs": [],
   "source": [
    "len(plants)"
   ]
  },
  {
   "cell_type": "markdown",
   "id": "ad275741-f196-4288-9247-c743003b0df6",
   "metadata": {
    "pycharm": {
     "name": "#%% md\n"
    }
   },
   "source": [
    "Other list functions\n",
    "- Just like with strings, you can concatenate lists with `+`\n",
    "- You can add an element to the end of the list with `append`\n",
    "- Find out how long your list is with `len`"
   ]
  },
  {
   "cell_type": "markdown",
   "id": "6d3e74a4-4322-444e-ae30-f54444e3c3c7",
   "metadata": {
    "pycharm": {
     "name": "#%% md\n"
    }
   },
   "source": [
    "## Objects \n",
    "\n",
    "The`list` variable is more complicated than the simple number or boolean types. These are called **objects** which are special variable types that group together in one place related:\n",
    "- **attributes**: (nouns/adjectives) Pieces of knowledge we need in order to use the object. For example, how long a list is. \n",
    "- **abilities**: (verbs)\n",
    "    - functions: used by using the `.` period operator, such as `plants.append('Mango')`\n",
    "    - operators: like functions but don't use the period operator \n",
    "\n",
    "## `list` object\n",
    "Stores sequential data. \n",
    "\n",
    "Some operators:\n",
    "- `[]` access or store data at particular locations in list\n",
    "- `+` concatenate 2 lists\n",
    "- `in` check if particular variable is in the list\n",
    "\n",
    "We can use a `list` function like below. Here the input is (goes inside the parenthesis) is what you want to add to the list. You are telling the list \"Here list, add this `\"Mango\"` to yourself\""
   ]
  },
  {
   "cell_type": "code",
   "execution_count": 40,
   "id": "782e0af4-d0d6-41aa-b444-228f6da5eb2d",
   "metadata": {
    "pycharm": {
     "name": "#%%\n"
    }
   },
   "outputs": [],
   "source": [
    "\n",
    "plants.append(\"Mango\")"
   ]
  },
  {
   "cell_type": "markdown",
   "id": "a2df2896-ae0c-436a-8b87-c4a1d59786e7",
   "metadata": {
    "pycharm": {
     "name": "#%% md\n"
    }
   },
   "source": [
    "### Exercise 6\n",
    "How can we check what is in the `plants` variable now? Predict what's in it then check it."
   ]
  },
  {
   "cell_type": "code",
   "execution_count": 41,
   "id": "d9640b13-72a4-452e-ace6-6a6292320662",
   "metadata": {
    "pycharm": {
     "name": "#%%\n"
    }
   },
   "outputs": [
    {
     "data": {
      "text/plain": "['Cabbage', 'Coffee', 'Corn', 'Tea', 'Tomato', 'Apple', 'Potato', 'Mango']"
     },
     "execution_count": 41,
     "metadata": {},
     "output_type": "execute_result"
    }
   ],
   "source": [
    "plants"
   ]
  },
  {
   "cell_type": "code",
   "execution_count": 44,
   "outputs": [
    {
     "data": {
      "text/plain": "True"
     },
     "execution_count": 44,
     "metadata": {},
     "output_type": "execute_result"
    }
   ],
   "source": [
    "'Tea' in plants"
   ],
   "metadata": {
    "collapsed": false,
    "pycharm": {
     "name": "#%%\n"
    }
   }
  },
  {
   "cell_type": "code",
   "execution_count": null,
   "outputs": [],
   "source": [],
   "metadata": {
    "collapsed": false,
    "pycharm": {
     "name": "#%%\n"
    }
   }
  }
 ],
 "metadata": {
  "kernelspec": {
   "display_name": "Python 3",
   "language": "python",
   "name": "python3"
  },
  "language_info": {
   "codemirror_mode": {
    "name": "ipython",
    "version": 3
   },
   "file_extension": ".py",
   "mimetype": "text/x-python",
   "name": "python",
   "nbconvert_exporter": "python",
   "pygments_lexer": "ipython3",
   "version": "3.6.10"
  }
 },
 "nbformat": 4,
 "nbformat_minor": 5
}