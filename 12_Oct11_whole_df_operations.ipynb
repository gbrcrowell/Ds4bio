{
 "cells": [
  {
   "cell_type": "markdown",
   "id": "f245f300",
   "metadata": {
    "pycharm": {
     "name": "#%% md\n"
    }
   },
   "source": [
    "## Learning objectives\n",
    "- Manipulate whole data frames by flipping them around, putting them together into one data frame\n",
    "- Summarize lots of data with vectorized data frame operations to get statistics on multiple features at once\n",
    "- Compare two features two each other (bivariate summaries and visualizations) "
   ]
  },
  {
   "cell_type": "code",
   "execution_count": 2,
   "id": "01722832",
   "metadata": {
    "collapsed": false,
    "jupyter": {
     "outputs_hidden": false
    },
    "pycharm": {
     "name": "#%%\n"
    }
   },
   "outputs": [
    {
     "data": {
      "text/plain": "'/Users/gcrowell/Library/CloudStorage/OneDrive-Personal/Desktop/School Shit/Fall 2022/ds4bio/Jupyter_Notebook'"
     },
     "execution_count": 2,
     "metadata": {},
     "output_type": "execute_result"
    }
   ],
   "source": [
    "pwd"
   ]
  },
  {
   "cell_type": "code",
   "execution_count": 3,
   "id": "329ebe26",
   "metadata": {
    "pycharm": {
     "name": "#%%\n"
    }
   },
   "outputs": [],
   "source": [
    "import pandas as pd\n",
    "geno = pd.read_table(\"arabidopsis_birds/arabmagic/arabmagic_geno.csv\", sep=\",\",skiprows=3,index_col=0)\n",
    "pmap = pd.read_table(\"arabidopsis_birds/arabmagic/arabmagic_pmap_tair9.csv\", sep=\",\",skiprows=3,index_col=0)\n",
    "pheno = pd.read_table(\"arabidopsis_birds/arabmagic/arabmagic_pheno.csv\", sep=\",\",skiprows=3,index_col=0)\n",
    "\n",
    "\n",
    "counts = pd.read_table(\"arabidopsis_birds/eco_data/species_counts.txt\")\n",
    "sites = pd.read_table(\"arabidopsis_birds/eco_data/eco_sites.txt\")\n",
    "\n",
    "states = pd.read_csv(\"state_health.csv\")\n",
    "states_named = states.set_index('State Name')"
   ]
  },
  {
   "cell_type": "markdown",
   "id": "8f27c5bc",
   "metadata": {
    "pycharm": {
     "name": "#%% md\n"
    }
   },
   "source": [
    "## Daily homework\n",
    "using the sites data, make histogram of how common each bird species is across all 38 sites.\n",
    "\n",
    "HINT: if you make a dictionary  `bird` where the keys are species name and the value is the number of times that species is seen you can turn that into a data frame like this\n",
    "\n",
    "    bird_df = pd.DataFrame(bird,index=['number sightings'])\n",
    "    bird_df = bird_df.transpose()\n",
    "\n",
    "The first line above will convert the dictionary to a data frame with index being 1 row, containing number of sightings. The second line above uses the transpose function to turn the data frame on its side so the features are in the columns and observations (bird species, here) are in the rows (By the way, this explanation of the code is a good explanation of what code does)"
   ]
  },
  {
   "cell_type": "markdown",
   "id": "323c7233",
   "metadata": {
    "pycharm": {
     "name": "#%% md\n"
    }
   },
   "source": [
    "## 1. Manipulating data frames"
   ]
  },
  {
   "cell_type": "markdown",
   "id": "b22a3a80",
   "metadata": {
    "pycharm": {
     "name": "#%% md\n"
    }
   },
   "source": [
    "### 1.1 Concatenate DataFrames `concat`\n",
    "For multiple DataFrames of the same size on one dimension we can use the `pd.concat()` to mush them together into 1 DataFrame. \n",
    "\n",
    "The index and columns must match.\n",
    "\n",
    "You don't always want to put all your data together like this, but sometimes it's useful. \n",
    "\n",
    "The input must be a  \n",
    "1. `list` or other data structure containing multiple data and \n",
    "2. (recommended) do you want to do horizontal concatenation (add more columns to the same rows) axis = 0 or vertical (axis =1) (default is axis=0)\n",
    "### OTHER WAY AROUND\n",
    "As always, I recommend Googling the documentation! "
   ]
  },
  {
   "cell_type": "markdown",
   "id": "007ed0b4",
   "metadata": {
    "pycharm": {
     "name": "#%% md\n"
    }
   },
   "source": [
    "**Exercise 1.1.1**: Concatenate the \"sites\" and \"counts\" data frames together. Which way did it append? Horizontally or vertically?\n",
    "\n",
    "*Note*: I don't recommend keeping them together in this case-- it can be a  bit uncomfortable for beginners but I recommend keeping your data in different data frames if it makes more sense."
   ]
  },
  {
   "cell_type": "code",
   "execution_count": 4,
   "outputs": [
    {
     "data": {
      "text/plain": "      Elevation      North       East WorE  Macropygia_unchall  \\\nA2   198.250000  26.978983  92.921975    E                   0   \nA3   734.250000  27.006267  92.404575    E                   0   \nA4  1243.250000  27.027496  92.410408    E                   0   \nA6  2629.000000  27.147733  92.459379    E                   0   \nA7  2340.250000  27.091979  92.408567    E                   0   \nA8   300.000000  26.961380  93.012160    E                   0   \nB1  1932.250000  27.061125  88.770667    E                   0   \nB2   164.250000  26.629383  89.582958    E                   0   \nB3   153.500000  26.631250  89.583242    E                   0   \nB4   209.750000  26.896422  88.855932    E                   0   \nB5  1970.250000  27.063185  88.770390    E                   0   \nD1  4024.250000  27.469675  88.164671    E                   0   \nD3  4094.250000  27.477342  88.162617    E                   0   \nG1  3151.500000  27.445467  88.175292    E                   0   \nJ1   480.500000  32.755154  74.866821    W                   0   \nJ2  1875.000000  33.071079  75.330475    W                   0   \nJ4  1560.750000  33.100090  75.128870    W                   0   \nJ5   989.250000  32.979732  75.121480    W                   0   \nJ6   560.250000  32.765853  74.870395    W                   0   \nK1  3249.750000  33.978404  75.249475    W                   0   \nK2  2808.500000  33.975725  75.241388    W                   0   \nK4  3620.250000  33.986721  75.252242    W                   0   \nK5  1735.000000  34.145620  74.919022    W                   0   \nK6  2288.250000  33.950585  75.251605    W                   0   \nL1  3387.500000  32.500533  76.981704    W                   0   \nM1  2982.666667  32.241646  77.131033    W                   0   \nM2  3285.000000  32.236058  77.127212    W                   0   \nM3  2439.750000  32.246729  77.161158    W                   0   \nM4  3730.000000  32.227554  77.132417    W                   0   \nN1  3025.750000  27.770192  88.521233    E                   0   \nN2  3952.250000  27.894908  88.528113    E                   0   \nN3  3362.333333  27.822279  88.552604    E                   0   \nS1  2358.750000  27.416375  88.197942    E                   4   \nU3   495.750000  30.163412  77.914738    W                   0   \nU4  1248.000000  31.014554  78.047737    W                   0   \nMA  1290.000000  25.441827  90.437366    E                   0   \nU1   435.000000  29.721111  78.586389    W                   0   \nU2   866.500000  29.791528  78.626111    W                   0   \n\n    Streptopelia_chinensis  Streptopelia_senegalensis  Columba_pulchricollis  \\\nA2                       0                          0                      0   \nA3                       0                          0                      0   \nA4                       0                          0                      0   \nA6                       0                          0                      0   \nA7                       0                          0                      2   \nA8                       0                          0                      0   \nB1                       0                          0                      0   \nB2                       0                          0                      0   \nB3                       0                          0                      0   \nB4                       0                          0                      0   \nB5                       0                          0                      0   \nD1                       0                          0                      0   \nD3                       0                          0                      0   \nG1                       0                          0                      0   \nJ1                       6                          6                      0   \nJ2                       0                          0                      0   \nJ4                       2                          0                      0   \nJ5                       0                          0                      0   \nJ6                       4                          0                      0   \nK1                       0                          0                      0   \nK2                       0                          0                      0   \nK4                       0                          0                      0   \nK5                       0                          0                      0   \nK6                       0                          0                      0   \nL1                       0                          0                      0   \nM1                       0                          0                      0   \nM2                       0                          0                      0   \nM3                       0                          0                      0   \nM4                       0                          0                      0   \nN1                       0                          0                      0   \nN2                       0                          0                      0   \nN3                       0                          0                      0   \nS1                       0                          0                      0   \nU3                       0                          0                      0   \nU4                       0                          0                      0   \nMA                       0                          0                      0   \nU1                       0                          0                      0   \nU2                       2                          0                      0   \n\n    Streptopelia_orientalis  Chalcophaps_indica  ...  Psarisomus_dalhousiae  \\\nA2                        0                   0  ...                      0   \nA3                        0                   0  ...                      0   \nA4                        0                   0  ...                      2   \nA6                        0                   0  ...                      0   \nA7                        0                   0  ...                      0   \nA8                        0                   0  ...                      0   \nB1                        0                   0  ...                      0   \nB2                        0                   2  ...                      0   \nB3                        0                   2  ...                      0   \nB4                        0                   0  ...                      0   \nB5                        0                   0  ...                      0   \nD1                        0                   0  ...                      0   \nD3                        0                   0  ...                      0   \nG1                        0                   0  ...                      0   \nJ1                        0                   0  ...                      0   \nJ2                        0                   0  ...                      0   \nJ4                        4                   0  ...                      0   \nJ5                        2                   0  ...                      0   \nJ6                        0                   0  ...                      0   \nK1                        2                   0  ...                      0   \nK2                        0                   0  ...                      0   \nK4                        0                   0  ...                      0   \nK5                        2                   0  ...                      0   \nK6                        2                   0  ...                      0   \nL1                        0                   0  ...                      0   \nM1                        4                   0  ...                      0   \nM2                        0                   0  ...                      0   \nM3                        4                   0  ...                      0   \nM4                        0                   0  ...                      0   \nN1                        0                   0  ...                      0   \nN2                        0                   0  ...                      0   \nN3                        0                   0  ...                      0   \nS1                        0                   0  ...                      0   \nU3                        2                   0  ...                      0   \nU4                        2                   0  ...                      0   \nMA                        0                   2  ...                      0   \nU1                        0                   0  ...                      0   \nU2                        0                   0  ...                      0   \n\n    Pitta_brachyura  Megalaima_australis  Caprimulgus_macrurus  \\\nA2                0                    0                     0   \nA3                0                    0                     0   \nA4                0                    0                     0   \nA6                0                    0                     0   \nA7                0                    0                     0   \nA8                0                    0                     0   \nB1                0                    0                     0   \nB2                0                    0                     0   \nB3                0                    4                     0   \nB4                0                    0                     0   \nB5                0                    0                     0   \nD1                0                    0                     0   \nD3                0                    0                     0   \nG1                0                    0                     0   \nJ1                0                    0                     0   \nJ2                0                    0                     0   \nJ4                0                    0                     0   \nJ5                0                    0                     0   \nJ6                1                    0                     0   \nK1                0                    0                     0   \nK2                0                    0                     0   \nK4                0                    0                     0   \nK5                0                    0                     0   \nK6                0                    0                     0   \nL1                0                    0                     0   \nM1                0                    0                     0   \nM2                0                    0                     0   \nM3                0                    0                     0   \nM4                0                    0                     0   \nN1                0                    0                     0   \nN2                0                    0                     0   \nN3                0                    0                     0   \nS1                0                    0                     0   \nU3                0                    0                     0   \nU4                0                    0                     0   \nMA                0                    0                     0   \nU1                0                    0                     2   \nU2                0                    0                     2   \n\n    Picus_xanthopygaeus  Cettia_pallidipes  Nyctyornis_athertoni  \\\nA2                    0                  0                     0   \nA3                    0                  0                     0   \nA4                    0                  0                     0   \nA6                    0                  0                     0   \nA7                    0                  0                     0   \nA8                    0                  0                     0   \nB1                    0                  0                     0   \nB2                    0                  0                     0   \nB3                    0                  0                     0   \nB4                    0                  0                     0   \nB5                    0                  0                     0   \nD1                    0                  0                     0   \nD3                    0                  0                     0   \nG1                    0                  0                     0   \nJ1                    0                  0                     0   \nJ2                    0                  0                     0   \nJ4                    0                  0                     0   \nJ5                    0                  0                     0   \nJ6                    0                  0                     0   \nK1                    0                  0                     0   \nK2                    0                  0                     0   \nK4                    0                  0                     0   \nK5                    0                  0                     0   \nK6                    0                  0                     0   \nL1                    0                  0                     0   \nM1                    0                  0                     0   \nM2                    0                  0                     0   \nM3                    0                  0                     0   \nM4                    0                  0                     0   \nN1                    0                  0                     0   \nN2                    0                  0                     0   \nN3                    0                  0                     0   \nS1                    0                  0                     0   \nU3                    0                  0                     0   \nU4                    0                  0                     0   \nMA                    0                  0                     0   \nU1                    0                  4                     2   \nU2                    2                  2                     0   \n\n    Pericrocotus_roseus  Psittacula_cyanocephala  Abroscopus_albogularis  \nA2                    0                        0                       0  \nA3                    0                        0                       0  \nA4                    0                        0                       0  \nA6                    0                        0                       0  \nA7                    0                        0                       0  \nA8                    0                        0                       0  \nB1                    0                        0                       0  \nB2                    0                        0                       0  \nB3                    0                        0                       0  \nB4                    0                        0                       0  \nB5                    0                        0                       0  \nD1                    0                        0                       0  \nD3                    0                        0                       0  \nG1                    0                        0                       0  \nJ1                    0                        0                       0  \nJ2                    0                        0                       0  \nJ4                    0                        0                       0  \nJ5                    0                        0                       0  \nJ6                    0                        0                       0  \nK1                    0                        0                       0  \nK2                    0                        0                       0  \nK4                    0                        0                       0  \nK5                    0                        0                       0  \nK6                    0                        0                       0  \nL1                    0                        0                       0  \nM1                    0                        0                       0  \nM2                    0                        0                       0  \nM3                    0                        0                       0  \nM4                    0                        0                       0  \nN1                    0                        0                       0  \nN2                    0                        0                       0  \nN3                    0                        0                       0  \nS1                    0                        0                       0  \nU3                    0                        0                       0  \nU4                    0                        0                       0  \nMA                    0                        0                       2  \nU1                    6                        2                       0  \nU2                    8                        4                       0  \n\n[38 rows x 308 columns]",
      "text/html": "<div>\n<style scoped>\n    .dataframe tbody tr th:only-of-type {\n        vertical-align: middle;\n    }\n\n    .dataframe tbody tr th {\n        vertical-align: top;\n    }\n\n    .dataframe thead th {\n        text-align: right;\n    }\n</style>\n<table border=\"1\" class=\"dataframe\">\n  <thead>\n    <tr style=\"text-align: right;\">\n      <th></th>\n      <th>Elevation</th>\n      <th>North</th>\n      <th>East</th>\n      <th>WorE</th>\n      <th>Macropygia_unchall</th>\n      <th>Streptopelia_chinensis</th>\n      <th>Streptopelia_senegalensis</th>\n      <th>Columba_pulchricollis</th>\n      <th>Streptopelia_orientalis</th>\n      <th>Chalcophaps_indica</th>\n      <th>...</th>\n      <th>Psarisomus_dalhousiae</th>\n      <th>Pitta_brachyura</th>\n      <th>Megalaima_australis</th>\n      <th>Caprimulgus_macrurus</th>\n      <th>Picus_xanthopygaeus</th>\n      <th>Cettia_pallidipes</th>\n      <th>Nyctyornis_athertoni</th>\n      <th>Pericrocotus_roseus</th>\n      <th>Psittacula_cyanocephala</th>\n      <th>Abroscopus_albogularis</th>\n    </tr>\n  </thead>\n  <tbody>\n    <tr>\n      <th>A2</th>\n      <td>198.250000</td>\n      <td>26.978983</td>\n      <td>92.921975</td>\n      <td>E</td>\n      <td>0</td>\n      <td>0</td>\n      <td>0</td>\n      <td>0</td>\n      <td>0</td>\n      <td>0</td>\n      <td>...</td>\n      <td>0</td>\n      <td>0</td>\n      <td>0</td>\n      <td>0</td>\n      <td>0</td>\n      <td>0</td>\n      <td>0</td>\n      <td>0</td>\n      <td>0</td>\n      <td>0</td>\n    </tr>\n    <tr>\n      <th>A3</th>\n      <td>734.250000</td>\n      <td>27.006267</td>\n      <td>92.404575</td>\n      <td>E</td>\n      <td>0</td>\n      <td>0</td>\n      <td>0</td>\n      <td>0</td>\n      <td>0</td>\n      <td>0</td>\n      <td>...</td>\n      <td>0</td>\n      <td>0</td>\n      <td>0</td>\n      <td>0</td>\n      <td>0</td>\n      <td>0</td>\n      <td>0</td>\n      <td>0</td>\n      <td>0</td>\n      <td>0</td>\n    </tr>\n    <tr>\n      <th>A4</th>\n      <td>1243.250000</td>\n      <td>27.027496</td>\n      <td>92.410408</td>\n      <td>E</td>\n      <td>0</td>\n      <td>0</td>\n      <td>0</td>\n      <td>0</td>\n      <td>0</td>\n      <td>0</td>\n      <td>...</td>\n      <td>2</td>\n      <td>0</td>\n      <td>0</td>\n      <td>0</td>\n      <td>0</td>\n      <td>0</td>\n      <td>0</td>\n      <td>0</td>\n      <td>0</td>\n      <td>0</td>\n    </tr>\n    <tr>\n      <th>A6</th>\n      <td>2629.000000</td>\n      <td>27.147733</td>\n      <td>92.459379</td>\n      <td>E</td>\n      <td>0</td>\n      <td>0</td>\n      <td>0</td>\n      <td>0</td>\n      <td>0</td>\n      <td>0</td>\n      <td>...</td>\n      <td>0</td>\n      <td>0</td>\n      <td>0</td>\n      <td>0</td>\n      <td>0</td>\n      <td>0</td>\n      <td>0</td>\n      <td>0</td>\n      <td>0</td>\n      <td>0</td>\n    </tr>\n    <tr>\n      <th>A7</th>\n      <td>2340.250000</td>\n      <td>27.091979</td>\n      <td>92.408567</td>\n      <td>E</td>\n      <td>0</td>\n      <td>0</td>\n      <td>0</td>\n      <td>2</td>\n      <td>0</td>\n      <td>0</td>\n      <td>...</td>\n      <td>0</td>\n      <td>0</td>\n      <td>0</td>\n      <td>0</td>\n      <td>0</td>\n      <td>0</td>\n      <td>0</td>\n      <td>0</td>\n      <td>0</td>\n      <td>0</td>\n    </tr>\n    <tr>\n      <th>A8</th>\n      <td>300.000000</td>\n      <td>26.961380</td>\n      <td>93.012160</td>\n      <td>E</td>\n      <td>0</td>\n      <td>0</td>\n      <td>0</td>\n      <td>0</td>\n      <td>0</td>\n      <td>0</td>\n      <td>...</td>\n      <td>0</td>\n      <td>0</td>\n      <td>0</td>\n      <td>0</td>\n      <td>0</td>\n      <td>0</td>\n      <td>0</td>\n      <td>0</td>\n      <td>0</td>\n      <td>0</td>\n    </tr>\n    <tr>\n      <th>B1</th>\n      <td>1932.250000</td>\n      <td>27.061125</td>\n      <td>88.770667</td>\n      <td>E</td>\n      <td>0</td>\n      <td>0</td>\n      <td>0</td>\n      <td>0</td>\n      <td>0</td>\n      <td>0</td>\n      <td>...</td>\n      <td>0</td>\n      <td>0</td>\n      <td>0</td>\n      <td>0</td>\n      <td>0</td>\n      <td>0</td>\n      <td>0</td>\n      <td>0</td>\n      <td>0</td>\n      <td>0</td>\n    </tr>\n    <tr>\n      <th>B2</th>\n      <td>164.250000</td>\n      <td>26.629383</td>\n      <td>89.582958</td>\n      <td>E</td>\n      <td>0</td>\n      <td>0</td>\n      <td>0</td>\n      <td>0</td>\n      <td>0</td>\n      <td>2</td>\n      <td>...</td>\n      <td>0</td>\n      <td>0</td>\n      <td>0</td>\n      <td>0</td>\n      <td>0</td>\n      <td>0</td>\n      <td>0</td>\n      <td>0</td>\n      <td>0</td>\n      <td>0</td>\n    </tr>\n    <tr>\n      <th>B3</th>\n      <td>153.500000</td>\n      <td>26.631250</td>\n      <td>89.583242</td>\n      <td>E</td>\n      <td>0</td>\n      <td>0</td>\n      <td>0</td>\n      <td>0</td>\n      <td>0</td>\n      <td>2</td>\n      <td>...</td>\n      <td>0</td>\n      <td>0</td>\n      <td>4</td>\n      <td>0</td>\n      <td>0</td>\n      <td>0</td>\n      <td>0</td>\n      <td>0</td>\n      <td>0</td>\n      <td>0</td>\n    </tr>\n    <tr>\n      <th>B4</th>\n      <td>209.750000</td>\n      <td>26.896422</td>\n      <td>88.855932</td>\n      <td>E</td>\n      <td>0</td>\n      <td>0</td>\n      <td>0</td>\n      <td>0</td>\n      <td>0</td>\n      <td>0</td>\n      <td>...</td>\n      <td>0</td>\n      <td>0</td>\n      <td>0</td>\n      <td>0</td>\n      <td>0</td>\n      <td>0</td>\n      <td>0</td>\n      <td>0</td>\n      <td>0</td>\n      <td>0</td>\n    </tr>\n    <tr>\n      <th>B5</th>\n      <td>1970.250000</td>\n      <td>27.063185</td>\n      <td>88.770390</td>\n      <td>E</td>\n      <td>0</td>\n      <td>0</td>\n      <td>0</td>\n      <td>0</td>\n      <td>0</td>\n      <td>0</td>\n      <td>...</td>\n      <td>0</td>\n      <td>0</td>\n      <td>0</td>\n      <td>0</td>\n      <td>0</td>\n      <td>0</td>\n      <td>0</td>\n      <td>0</td>\n      <td>0</td>\n      <td>0</td>\n    </tr>\n    <tr>\n      <th>D1</th>\n      <td>4024.250000</td>\n      <td>27.469675</td>\n      <td>88.164671</td>\n      <td>E</td>\n      <td>0</td>\n      <td>0</td>\n      <td>0</td>\n      <td>0</td>\n      <td>0</td>\n      <td>0</td>\n      <td>...</td>\n      <td>0</td>\n      <td>0</td>\n      <td>0</td>\n      <td>0</td>\n      <td>0</td>\n      <td>0</td>\n      <td>0</td>\n      <td>0</td>\n      <td>0</td>\n      <td>0</td>\n    </tr>\n    <tr>\n      <th>D3</th>\n      <td>4094.250000</td>\n      <td>27.477342</td>\n      <td>88.162617</td>\n      <td>E</td>\n      <td>0</td>\n      <td>0</td>\n      <td>0</td>\n      <td>0</td>\n      <td>0</td>\n      <td>0</td>\n      <td>...</td>\n      <td>0</td>\n      <td>0</td>\n      <td>0</td>\n      <td>0</td>\n      <td>0</td>\n      <td>0</td>\n      <td>0</td>\n      <td>0</td>\n      <td>0</td>\n      <td>0</td>\n    </tr>\n    <tr>\n      <th>G1</th>\n      <td>3151.500000</td>\n      <td>27.445467</td>\n      <td>88.175292</td>\n      <td>E</td>\n      <td>0</td>\n      <td>0</td>\n      <td>0</td>\n      <td>0</td>\n      <td>0</td>\n      <td>0</td>\n      <td>...</td>\n      <td>0</td>\n      <td>0</td>\n      <td>0</td>\n      <td>0</td>\n      <td>0</td>\n      <td>0</td>\n      <td>0</td>\n      <td>0</td>\n      <td>0</td>\n      <td>0</td>\n    </tr>\n    <tr>\n      <th>J1</th>\n      <td>480.500000</td>\n      <td>32.755154</td>\n      <td>74.866821</td>\n      <td>W</td>\n      <td>0</td>\n      <td>6</td>\n      <td>6</td>\n      <td>0</td>\n      <td>0</td>\n      <td>0</td>\n      <td>...</td>\n      <td>0</td>\n      <td>0</td>\n      <td>0</td>\n      <td>0</td>\n      <td>0</td>\n      <td>0</td>\n      <td>0</td>\n      <td>0</td>\n      <td>0</td>\n      <td>0</td>\n    </tr>\n    <tr>\n      <th>J2</th>\n      <td>1875.000000</td>\n      <td>33.071079</td>\n      <td>75.330475</td>\n      <td>W</td>\n      <td>0</td>\n      <td>0</td>\n      <td>0</td>\n      <td>0</td>\n      <td>0</td>\n      <td>0</td>\n      <td>...</td>\n      <td>0</td>\n      <td>0</td>\n      <td>0</td>\n      <td>0</td>\n      <td>0</td>\n      <td>0</td>\n      <td>0</td>\n      <td>0</td>\n      <td>0</td>\n      <td>0</td>\n    </tr>\n    <tr>\n      <th>J4</th>\n      <td>1560.750000</td>\n      <td>33.100090</td>\n      <td>75.128870</td>\n      <td>W</td>\n      <td>0</td>\n      <td>2</td>\n      <td>0</td>\n      <td>0</td>\n      <td>4</td>\n      <td>0</td>\n      <td>...</td>\n      <td>0</td>\n      <td>0</td>\n      <td>0</td>\n      <td>0</td>\n      <td>0</td>\n      <td>0</td>\n      <td>0</td>\n      <td>0</td>\n      <td>0</td>\n      <td>0</td>\n    </tr>\n    <tr>\n      <th>J5</th>\n      <td>989.250000</td>\n      <td>32.979732</td>\n      <td>75.121480</td>\n      <td>W</td>\n      <td>0</td>\n      <td>0</td>\n      <td>0</td>\n      <td>0</td>\n      <td>2</td>\n      <td>0</td>\n      <td>...</td>\n      <td>0</td>\n      <td>0</td>\n      <td>0</td>\n      <td>0</td>\n      <td>0</td>\n      <td>0</td>\n      <td>0</td>\n      <td>0</td>\n      <td>0</td>\n      <td>0</td>\n    </tr>\n    <tr>\n      <th>J6</th>\n      <td>560.250000</td>\n      <td>32.765853</td>\n      <td>74.870395</td>\n      <td>W</td>\n      <td>0</td>\n      <td>4</td>\n      <td>0</td>\n      <td>0</td>\n      <td>0</td>\n      <td>0</td>\n      <td>...</td>\n      <td>0</td>\n      <td>1</td>\n      <td>0</td>\n      <td>0</td>\n      <td>0</td>\n      <td>0</td>\n      <td>0</td>\n      <td>0</td>\n      <td>0</td>\n      <td>0</td>\n    </tr>\n    <tr>\n      <th>K1</th>\n      <td>3249.750000</td>\n      <td>33.978404</td>\n      <td>75.249475</td>\n      <td>W</td>\n      <td>0</td>\n      <td>0</td>\n      <td>0</td>\n      <td>0</td>\n      <td>2</td>\n      <td>0</td>\n      <td>...</td>\n      <td>0</td>\n      <td>0</td>\n      <td>0</td>\n      <td>0</td>\n      <td>0</td>\n      <td>0</td>\n      <td>0</td>\n      <td>0</td>\n      <td>0</td>\n      <td>0</td>\n    </tr>\n    <tr>\n      <th>K2</th>\n      <td>2808.500000</td>\n      <td>33.975725</td>\n      <td>75.241388</td>\n      <td>W</td>\n      <td>0</td>\n      <td>0</td>\n      <td>0</td>\n      <td>0</td>\n      <td>0</td>\n      <td>0</td>\n      <td>...</td>\n      <td>0</td>\n      <td>0</td>\n      <td>0</td>\n      <td>0</td>\n      <td>0</td>\n      <td>0</td>\n      <td>0</td>\n      <td>0</td>\n      <td>0</td>\n      <td>0</td>\n    </tr>\n    <tr>\n      <th>K4</th>\n      <td>3620.250000</td>\n      <td>33.986721</td>\n      <td>75.252242</td>\n      <td>W</td>\n      <td>0</td>\n      <td>0</td>\n      <td>0</td>\n      <td>0</td>\n      <td>0</td>\n      <td>0</td>\n      <td>...</td>\n      <td>0</td>\n      <td>0</td>\n      <td>0</td>\n      <td>0</td>\n      <td>0</td>\n      <td>0</td>\n      <td>0</td>\n      <td>0</td>\n      <td>0</td>\n      <td>0</td>\n    </tr>\n    <tr>\n      <th>K5</th>\n      <td>1735.000000</td>\n      <td>34.145620</td>\n      <td>74.919022</td>\n      <td>W</td>\n      <td>0</td>\n      <td>0</td>\n      <td>0</td>\n      <td>0</td>\n      <td>2</td>\n      <td>0</td>\n      <td>...</td>\n      <td>0</td>\n      <td>0</td>\n      <td>0</td>\n      <td>0</td>\n      <td>0</td>\n      <td>0</td>\n      <td>0</td>\n      <td>0</td>\n      <td>0</td>\n      <td>0</td>\n    </tr>\n    <tr>\n      <th>K6</th>\n      <td>2288.250000</td>\n      <td>33.950585</td>\n      <td>75.251605</td>\n      <td>W</td>\n      <td>0</td>\n      <td>0</td>\n      <td>0</td>\n      <td>0</td>\n      <td>2</td>\n      <td>0</td>\n      <td>...</td>\n      <td>0</td>\n      <td>0</td>\n      <td>0</td>\n      <td>0</td>\n      <td>0</td>\n      <td>0</td>\n      <td>0</td>\n      <td>0</td>\n      <td>0</td>\n      <td>0</td>\n    </tr>\n    <tr>\n      <th>L1</th>\n      <td>3387.500000</td>\n      <td>32.500533</td>\n      <td>76.981704</td>\n      <td>W</td>\n      <td>0</td>\n      <td>0</td>\n      <td>0</td>\n      <td>0</td>\n      <td>0</td>\n      <td>0</td>\n      <td>...</td>\n      <td>0</td>\n      <td>0</td>\n      <td>0</td>\n      <td>0</td>\n      <td>0</td>\n      <td>0</td>\n      <td>0</td>\n      <td>0</td>\n      <td>0</td>\n      <td>0</td>\n    </tr>\n    <tr>\n      <th>M1</th>\n      <td>2982.666667</td>\n      <td>32.241646</td>\n      <td>77.131033</td>\n      <td>W</td>\n      <td>0</td>\n      <td>0</td>\n      <td>0</td>\n      <td>0</td>\n      <td>4</td>\n      <td>0</td>\n      <td>...</td>\n      <td>0</td>\n      <td>0</td>\n      <td>0</td>\n      <td>0</td>\n      <td>0</td>\n      <td>0</td>\n      <td>0</td>\n      <td>0</td>\n      <td>0</td>\n      <td>0</td>\n    </tr>\n    <tr>\n      <th>M2</th>\n      <td>3285.000000</td>\n      <td>32.236058</td>\n      <td>77.127212</td>\n      <td>W</td>\n      <td>0</td>\n      <td>0</td>\n      <td>0</td>\n      <td>0</td>\n      <td>0</td>\n      <td>0</td>\n      <td>...</td>\n      <td>0</td>\n      <td>0</td>\n      <td>0</td>\n      <td>0</td>\n      <td>0</td>\n      <td>0</td>\n      <td>0</td>\n      <td>0</td>\n      <td>0</td>\n      <td>0</td>\n    </tr>\n    <tr>\n      <th>M3</th>\n      <td>2439.750000</td>\n      <td>32.246729</td>\n      <td>77.161158</td>\n      <td>W</td>\n      <td>0</td>\n      <td>0</td>\n      <td>0</td>\n      <td>0</td>\n      <td>4</td>\n      <td>0</td>\n      <td>...</td>\n      <td>0</td>\n      <td>0</td>\n      <td>0</td>\n      <td>0</td>\n      <td>0</td>\n      <td>0</td>\n      <td>0</td>\n      <td>0</td>\n      <td>0</td>\n      <td>0</td>\n    </tr>\n    <tr>\n      <th>M4</th>\n      <td>3730.000000</td>\n      <td>32.227554</td>\n      <td>77.132417</td>\n      <td>W</td>\n      <td>0</td>\n      <td>0</td>\n      <td>0</td>\n      <td>0</td>\n      <td>0</td>\n      <td>0</td>\n      <td>...</td>\n      <td>0</td>\n      <td>0</td>\n      <td>0</td>\n      <td>0</td>\n      <td>0</td>\n      <td>0</td>\n      <td>0</td>\n      <td>0</td>\n      <td>0</td>\n      <td>0</td>\n    </tr>\n    <tr>\n      <th>N1</th>\n      <td>3025.750000</td>\n      <td>27.770192</td>\n      <td>88.521233</td>\n      <td>E</td>\n      <td>0</td>\n      <td>0</td>\n      <td>0</td>\n      <td>0</td>\n      <td>0</td>\n      <td>0</td>\n      <td>...</td>\n      <td>0</td>\n      <td>0</td>\n      <td>0</td>\n      <td>0</td>\n      <td>0</td>\n      <td>0</td>\n      <td>0</td>\n      <td>0</td>\n      <td>0</td>\n      <td>0</td>\n    </tr>\n    <tr>\n      <th>N2</th>\n      <td>3952.250000</td>\n      <td>27.894908</td>\n      <td>88.528113</td>\n      <td>E</td>\n      <td>0</td>\n      <td>0</td>\n      <td>0</td>\n      <td>0</td>\n      <td>0</td>\n      <td>0</td>\n      <td>...</td>\n      <td>0</td>\n      <td>0</td>\n      <td>0</td>\n      <td>0</td>\n      <td>0</td>\n      <td>0</td>\n      <td>0</td>\n      <td>0</td>\n      <td>0</td>\n      <td>0</td>\n    </tr>\n    <tr>\n      <th>N3</th>\n      <td>3362.333333</td>\n      <td>27.822279</td>\n      <td>88.552604</td>\n      <td>E</td>\n      <td>0</td>\n      <td>0</td>\n      <td>0</td>\n      <td>0</td>\n      <td>0</td>\n      <td>0</td>\n      <td>...</td>\n      <td>0</td>\n      <td>0</td>\n      <td>0</td>\n      <td>0</td>\n      <td>0</td>\n      <td>0</td>\n      <td>0</td>\n      <td>0</td>\n      <td>0</td>\n      <td>0</td>\n    </tr>\n    <tr>\n      <th>S1</th>\n      <td>2358.750000</td>\n      <td>27.416375</td>\n      <td>88.197942</td>\n      <td>E</td>\n      <td>4</td>\n      <td>0</td>\n      <td>0</td>\n      <td>0</td>\n      <td>0</td>\n      <td>0</td>\n      <td>...</td>\n      <td>0</td>\n      <td>0</td>\n      <td>0</td>\n      <td>0</td>\n      <td>0</td>\n      <td>0</td>\n      <td>0</td>\n      <td>0</td>\n      <td>0</td>\n      <td>0</td>\n    </tr>\n    <tr>\n      <th>U3</th>\n      <td>495.750000</td>\n      <td>30.163412</td>\n      <td>77.914738</td>\n      <td>W</td>\n      <td>0</td>\n      <td>0</td>\n      <td>0</td>\n      <td>0</td>\n      <td>2</td>\n      <td>0</td>\n      <td>...</td>\n      <td>0</td>\n      <td>0</td>\n      <td>0</td>\n      <td>0</td>\n      <td>0</td>\n      <td>0</td>\n      <td>0</td>\n      <td>0</td>\n      <td>0</td>\n      <td>0</td>\n    </tr>\n    <tr>\n      <th>U4</th>\n      <td>1248.000000</td>\n      <td>31.014554</td>\n      <td>78.047737</td>\n      <td>W</td>\n      <td>0</td>\n      <td>0</td>\n      <td>0</td>\n      <td>0</td>\n      <td>2</td>\n      <td>0</td>\n      <td>...</td>\n      <td>0</td>\n      <td>0</td>\n      <td>0</td>\n      <td>0</td>\n      <td>0</td>\n      <td>0</td>\n      <td>0</td>\n      <td>0</td>\n      <td>0</td>\n      <td>0</td>\n    </tr>\n    <tr>\n      <th>MA</th>\n      <td>1290.000000</td>\n      <td>25.441827</td>\n      <td>90.437366</td>\n      <td>E</td>\n      <td>0</td>\n      <td>0</td>\n      <td>0</td>\n      <td>0</td>\n      <td>0</td>\n      <td>2</td>\n      <td>...</td>\n      <td>0</td>\n      <td>0</td>\n      <td>0</td>\n      <td>0</td>\n      <td>0</td>\n      <td>0</td>\n      <td>0</td>\n      <td>0</td>\n      <td>0</td>\n      <td>2</td>\n    </tr>\n    <tr>\n      <th>U1</th>\n      <td>435.000000</td>\n      <td>29.721111</td>\n      <td>78.586389</td>\n      <td>W</td>\n      <td>0</td>\n      <td>0</td>\n      <td>0</td>\n      <td>0</td>\n      <td>0</td>\n      <td>0</td>\n      <td>...</td>\n      <td>0</td>\n      <td>0</td>\n      <td>0</td>\n      <td>2</td>\n      <td>0</td>\n      <td>4</td>\n      <td>2</td>\n      <td>6</td>\n      <td>2</td>\n      <td>0</td>\n    </tr>\n    <tr>\n      <th>U2</th>\n      <td>866.500000</td>\n      <td>29.791528</td>\n      <td>78.626111</td>\n      <td>W</td>\n      <td>0</td>\n      <td>2</td>\n      <td>0</td>\n      <td>0</td>\n      <td>0</td>\n      <td>0</td>\n      <td>...</td>\n      <td>0</td>\n      <td>0</td>\n      <td>0</td>\n      <td>2</td>\n      <td>2</td>\n      <td>2</td>\n      <td>0</td>\n      <td>8</td>\n      <td>4</td>\n      <td>0</td>\n    </tr>\n  </tbody>\n</table>\n<p>38 rows × 308 columns</p>\n</div>"
     },
     "execution_count": 4,
     "metadata": {},
     "output_type": "execute_result"
    }
   ],
   "source": [
    "pd.concat((sites, counts), axis=1)"
   ],
   "metadata": {
    "collapsed": false,
    "pycharm": {
     "name": "#%%\n"
    }
   }
  },
  {
   "cell_type": "markdown",
   "id": "380c9c83",
   "metadata": {
    "pycharm": {
     "name": "#%% md\n"
    }
   },
   "source": [
    "**Exercise 1.1.2**: For each of the following, predict what you will get as an output if you run the following code: what will be the shape of the resulting data frame? What is the index and columns? What do you think would be a desireable result to get? Does the result make sense?\n",
    "\n",
    "First, we will take a subset of the states data"
   ]
  },
  {
   "cell_type": "code",
   "execution_count": 5,
   "id": "848dd2b9",
   "metadata": {
    "pycharm": {
     "name": "#%%\n"
    }
   },
   "outputs": [],
   "source": [
    "df1 = states_named.loc[:,['Poverty','Cancer']].head(10)\n",
    "#first ten states for poverity and cancer\n",
    "df2 = states_named.loc[:,['Exercise','Drive Alone to Work']].iloc[20:30,:]\n",
    "# states 20-30\n",
    "df3 = states_named.loc[:,['Exercise','Drive Alone to Work']].iloc[40:50,:]"
   ]
  },
  {
   "cell_type": "markdown",
   "id": "52388051",
   "metadata": {
    "pycharm": {
     "name": "#%% md\n"
    }
   },
   "source": [
    "*A*. Predict (shape, columns, index), then run it"
   ]
  },
  {
   "cell_type": "code",
   "execution_count": 6,
   "id": "5e87e8bf",
   "metadata": {
    "collapsed": false,
    "jupyter": {
     "outputs_hidden": false
    },
    "tags": [],
    "pycharm": {
     "name": "#%%\n"
    }
   },
   "outputs": [
    {
     "data": {
      "text/plain": "                      Poverty  Cancer  Exercise  Drive Alone to Work\nState Name                                                          \nMaine                    10.9     8.1       NaN                  NaN\nMassachusetts            10.3     7.0       NaN                  NaN\nRhode Island             11.9     6.8       NaN                  NaN\nDistrict of Columbia     12.6     5.0       NaN                  NaN\nMichigan                 12.6     7.6       NaN                  NaN\nNew Hampshire             8.1     7.6       NaN                  NaN\nVermont                  10.8     7.0       NaN                  NaN\nPennsylvania             11.9     7.9       NaN                  NaN\nConnecticut              10.4     7.4       NaN                  NaN\nDelaware                 11.1     7.4       NaN                  NaN\nKentucky                  NaN     NaN      15.3                 82.0\nTennessee                 NaN     NaN      21.8                 82.0\nOregon                    NaN     NaN      24.9                 71.5\nUtah                      NaN     NaN      24.9                 76.1\nIowa                      NaN     NaN      20.0                 80.2\nWashington                NaN     NaN      25.9                 70.9\nUnited States             NaN     NaN      23.0                 75.9\nOhio                      NaN     NaN      20.9                 82.4\nColorado                  NaN     NaN      27.4                 74.2\nLouisiana                 NaN     NaN      19.7                 82.1",
      "text/html": "<div>\n<style scoped>\n    .dataframe tbody tr th:only-of-type {\n        vertical-align: middle;\n    }\n\n    .dataframe tbody tr th {\n        vertical-align: top;\n    }\n\n    .dataframe thead th {\n        text-align: right;\n    }\n</style>\n<table border=\"1\" class=\"dataframe\">\n  <thead>\n    <tr style=\"text-align: right;\">\n      <th></th>\n      <th>Poverty</th>\n      <th>Cancer</th>\n      <th>Exercise</th>\n      <th>Drive Alone to Work</th>\n    </tr>\n    <tr>\n      <th>State Name</th>\n      <th></th>\n      <th></th>\n      <th></th>\n      <th></th>\n    </tr>\n  </thead>\n  <tbody>\n    <tr>\n      <th>Maine</th>\n      <td>10.9</td>\n      <td>8.1</td>\n      <td>NaN</td>\n      <td>NaN</td>\n    </tr>\n    <tr>\n      <th>Massachusetts</th>\n      <td>10.3</td>\n      <td>7.0</td>\n      <td>NaN</td>\n      <td>NaN</td>\n    </tr>\n    <tr>\n      <th>Rhode Island</th>\n      <td>11.9</td>\n      <td>6.8</td>\n      <td>NaN</td>\n      <td>NaN</td>\n    </tr>\n    <tr>\n      <th>District of Columbia</th>\n      <td>12.6</td>\n      <td>5.0</td>\n      <td>NaN</td>\n      <td>NaN</td>\n    </tr>\n    <tr>\n      <th>Michigan</th>\n      <td>12.6</td>\n      <td>7.6</td>\n      <td>NaN</td>\n      <td>NaN</td>\n    </tr>\n    <tr>\n      <th>New Hampshire</th>\n      <td>8.1</td>\n      <td>7.6</td>\n      <td>NaN</td>\n      <td>NaN</td>\n    </tr>\n    <tr>\n      <th>Vermont</th>\n      <td>10.8</td>\n      <td>7.0</td>\n      <td>NaN</td>\n      <td>NaN</td>\n    </tr>\n    <tr>\n      <th>Pennsylvania</th>\n      <td>11.9</td>\n      <td>7.9</td>\n      <td>NaN</td>\n      <td>NaN</td>\n    </tr>\n    <tr>\n      <th>Connecticut</th>\n      <td>10.4</td>\n      <td>7.4</td>\n      <td>NaN</td>\n      <td>NaN</td>\n    </tr>\n    <tr>\n      <th>Delaware</th>\n      <td>11.1</td>\n      <td>7.4</td>\n      <td>NaN</td>\n      <td>NaN</td>\n    </tr>\n    <tr>\n      <th>Kentucky</th>\n      <td>NaN</td>\n      <td>NaN</td>\n      <td>15.3</td>\n      <td>82.0</td>\n    </tr>\n    <tr>\n      <th>Tennessee</th>\n      <td>NaN</td>\n      <td>NaN</td>\n      <td>21.8</td>\n      <td>82.0</td>\n    </tr>\n    <tr>\n      <th>Oregon</th>\n      <td>NaN</td>\n      <td>NaN</td>\n      <td>24.9</td>\n      <td>71.5</td>\n    </tr>\n    <tr>\n      <th>Utah</th>\n      <td>NaN</td>\n      <td>NaN</td>\n      <td>24.9</td>\n      <td>76.1</td>\n    </tr>\n    <tr>\n      <th>Iowa</th>\n      <td>NaN</td>\n      <td>NaN</td>\n      <td>20.0</td>\n      <td>80.2</td>\n    </tr>\n    <tr>\n      <th>Washington</th>\n      <td>NaN</td>\n      <td>NaN</td>\n      <td>25.9</td>\n      <td>70.9</td>\n    </tr>\n    <tr>\n      <th>United States</th>\n      <td>NaN</td>\n      <td>NaN</td>\n      <td>23.0</td>\n      <td>75.9</td>\n    </tr>\n    <tr>\n      <th>Ohio</th>\n      <td>NaN</td>\n      <td>NaN</td>\n      <td>20.9</td>\n      <td>82.4</td>\n    </tr>\n    <tr>\n      <th>Colorado</th>\n      <td>NaN</td>\n      <td>NaN</td>\n      <td>27.4</td>\n      <td>74.2</td>\n    </tr>\n    <tr>\n      <th>Louisiana</th>\n      <td>NaN</td>\n      <td>NaN</td>\n      <td>19.7</td>\n      <td>82.1</td>\n    </tr>\n  </tbody>\n</table>\n</div>"
     },
     "execution_count": 6,
     "metadata": {},
     "output_type": "execute_result"
    }
   ],
   "source": [
    "pd.concat((df1, df2))"
   ]
  },
  {
   "cell_type": "markdown",
   "id": "beea5931",
   "metadata": {
    "pycharm": {
     "name": "#%% md\n"
    }
   },
   "source": [
    "*B*. Predict (shape, columns, index), then run it"
   ]
  },
  {
   "cell_type": "code",
   "execution_count": 7,
   "id": "e842c56a",
   "metadata": {
    "tags": [],
    "pycharm": {
     "name": "#%%\n"
    }
   },
   "outputs": [
    {
     "data": {
      "text/plain": "               Exercise  Drive Alone to Work  Exercise  Drive Alone to Work\nState Name                                                                 \nAlaska             25.6                 70.0       NaN                  NaN\nKansas             20.8                 82.7       NaN                  NaN\nMontana            28.3                 76.2       NaN                  NaN\nArizona            25.5                 75.6       NaN                  NaN\nIllinois           23.4                 72.4       NaN                  NaN\nNew Mexico         25.7                 80.7       NaN                  NaN\nIdaho              21.7                 78.3       NaN                  NaN\nWisconsin          24.7                 80.8       NaN                  NaN\nTexas              24.3                 80.1       NaN                  NaN\nOklahoma           15.6                 82.7       NaN                  NaN\nKentucky            NaN                  NaN      15.3                 82.0\nTennessee           NaN                  NaN      21.8                 82.0\nOregon              NaN                  NaN      24.9                 71.5\nUtah                NaN                  NaN      24.9                 76.1\nIowa                NaN                  NaN      20.0                 80.2\nWashington          NaN                  NaN      25.9                 70.9\nUnited States       NaN                  NaN      23.0                 75.9\nOhio                NaN                  NaN      20.9                 82.4\nColorado            NaN                  NaN      27.4                 74.2\nLouisiana           NaN                  NaN      19.7                 82.1",
      "text/html": "<div>\n<style scoped>\n    .dataframe tbody tr th:only-of-type {\n        vertical-align: middle;\n    }\n\n    .dataframe tbody tr th {\n        vertical-align: top;\n    }\n\n    .dataframe thead th {\n        text-align: right;\n    }\n</style>\n<table border=\"1\" class=\"dataframe\">\n  <thead>\n    <tr style=\"text-align: right;\">\n      <th></th>\n      <th>Exercise</th>\n      <th>Drive Alone to Work</th>\n      <th>Exercise</th>\n      <th>Drive Alone to Work</th>\n    </tr>\n    <tr>\n      <th>State Name</th>\n      <th></th>\n      <th></th>\n      <th></th>\n      <th></th>\n    </tr>\n  </thead>\n  <tbody>\n    <tr>\n      <th>Alaska</th>\n      <td>25.6</td>\n      <td>70.0</td>\n      <td>NaN</td>\n      <td>NaN</td>\n    </tr>\n    <tr>\n      <th>Kansas</th>\n      <td>20.8</td>\n      <td>82.7</td>\n      <td>NaN</td>\n      <td>NaN</td>\n    </tr>\n    <tr>\n      <th>Montana</th>\n      <td>28.3</td>\n      <td>76.2</td>\n      <td>NaN</td>\n      <td>NaN</td>\n    </tr>\n    <tr>\n      <th>Arizona</th>\n      <td>25.5</td>\n      <td>75.6</td>\n      <td>NaN</td>\n      <td>NaN</td>\n    </tr>\n    <tr>\n      <th>Illinois</th>\n      <td>23.4</td>\n      <td>72.4</td>\n      <td>NaN</td>\n      <td>NaN</td>\n    </tr>\n    <tr>\n      <th>New Mexico</th>\n      <td>25.7</td>\n      <td>80.7</td>\n      <td>NaN</td>\n      <td>NaN</td>\n    </tr>\n    <tr>\n      <th>Idaho</th>\n      <td>21.7</td>\n      <td>78.3</td>\n      <td>NaN</td>\n      <td>NaN</td>\n    </tr>\n    <tr>\n      <th>Wisconsin</th>\n      <td>24.7</td>\n      <td>80.8</td>\n      <td>NaN</td>\n      <td>NaN</td>\n    </tr>\n    <tr>\n      <th>Texas</th>\n      <td>24.3</td>\n      <td>80.1</td>\n      <td>NaN</td>\n      <td>NaN</td>\n    </tr>\n    <tr>\n      <th>Oklahoma</th>\n      <td>15.6</td>\n      <td>82.7</td>\n      <td>NaN</td>\n      <td>NaN</td>\n    </tr>\n    <tr>\n      <th>Kentucky</th>\n      <td>NaN</td>\n      <td>NaN</td>\n      <td>15.3</td>\n      <td>82.0</td>\n    </tr>\n    <tr>\n      <th>Tennessee</th>\n      <td>NaN</td>\n      <td>NaN</td>\n      <td>21.8</td>\n      <td>82.0</td>\n    </tr>\n    <tr>\n      <th>Oregon</th>\n      <td>NaN</td>\n      <td>NaN</td>\n      <td>24.9</td>\n      <td>71.5</td>\n    </tr>\n    <tr>\n      <th>Utah</th>\n      <td>NaN</td>\n      <td>NaN</td>\n      <td>24.9</td>\n      <td>76.1</td>\n    </tr>\n    <tr>\n      <th>Iowa</th>\n      <td>NaN</td>\n      <td>NaN</td>\n      <td>20.0</td>\n      <td>80.2</td>\n    </tr>\n    <tr>\n      <th>Washington</th>\n      <td>NaN</td>\n      <td>NaN</td>\n      <td>25.9</td>\n      <td>70.9</td>\n    </tr>\n    <tr>\n      <th>United States</th>\n      <td>NaN</td>\n      <td>NaN</td>\n      <td>23.0</td>\n      <td>75.9</td>\n    </tr>\n    <tr>\n      <th>Ohio</th>\n      <td>NaN</td>\n      <td>NaN</td>\n      <td>20.9</td>\n      <td>82.4</td>\n    </tr>\n    <tr>\n      <th>Colorado</th>\n      <td>NaN</td>\n      <td>NaN</td>\n      <td>27.4</td>\n      <td>74.2</td>\n    </tr>\n    <tr>\n      <th>Louisiana</th>\n      <td>NaN</td>\n      <td>NaN</td>\n      <td>19.7</td>\n      <td>82.1</td>\n    </tr>\n  </tbody>\n</table>\n</div>"
     },
     "execution_count": 7,
     "metadata": {},
     "output_type": "execute_result"
    }
   ],
   "source": [
    "pd.concat((df3, df2),axis=1)"
   ]
  },
  {
   "cell_type": "markdown",
   "id": "749423c5",
   "metadata": {
    "pycharm": {
     "name": "#%% md\n"
    }
   },
   "source": [
    "*C*. Predict (shape, columns, index), then run it"
   ]
  },
  {
   "cell_type": "code",
   "execution_count": 8,
   "id": "d72de833",
   "metadata": {
    "collapsed": false,
    "jupyter": {
     "outputs_hidden": false
    },
    "tags": [],
    "pycharm": {
     "name": "#%%\n"
    }
   },
   "outputs": [
    {
     "data": {
      "text/plain": "               Exercise  Drive Alone to Work\nState Name                                  \nAlaska             25.6                 70.0\nKansas             20.8                 82.7\nMontana            28.3                 76.2\nArizona            25.5                 75.6\nIllinois           23.4                 72.4\nNew Mexico         25.7                 80.7\nIdaho              21.7                 78.3\nWisconsin          24.7                 80.8\nTexas              24.3                 80.1\nOklahoma           15.6                 82.7\nKentucky           15.3                 82.0\nTennessee          21.8                 82.0\nOregon             24.9                 71.5\nUtah               24.9                 76.1\nIowa               20.0                 80.2\nWashington         25.9                 70.9\nUnited States      23.0                 75.9\nOhio               20.9                 82.4\nColorado           27.4                 74.2\nLouisiana          19.7                 82.1",
      "text/html": "<div>\n<style scoped>\n    .dataframe tbody tr th:only-of-type {\n        vertical-align: middle;\n    }\n\n    .dataframe tbody tr th {\n        vertical-align: top;\n    }\n\n    .dataframe thead th {\n        text-align: right;\n    }\n</style>\n<table border=\"1\" class=\"dataframe\">\n  <thead>\n    <tr style=\"text-align: right;\">\n      <th></th>\n      <th>Exercise</th>\n      <th>Drive Alone to Work</th>\n    </tr>\n    <tr>\n      <th>State Name</th>\n      <th></th>\n      <th></th>\n    </tr>\n  </thead>\n  <tbody>\n    <tr>\n      <th>Alaska</th>\n      <td>25.6</td>\n      <td>70.0</td>\n    </tr>\n    <tr>\n      <th>Kansas</th>\n      <td>20.8</td>\n      <td>82.7</td>\n    </tr>\n    <tr>\n      <th>Montana</th>\n      <td>28.3</td>\n      <td>76.2</td>\n    </tr>\n    <tr>\n      <th>Arizona</th>\n      <td>25.5</td>\n      <td>75.6</td>\n    </tr>\n    <tr>\n      <th>Illinois</th>\n      <td>23.4</td>\n      <td>72.4</td>\n    </tr>\n    <tr>\n      <th>New Mexico</th>\n      <td>25.7</td>\n      <td>80.7</td>\n    </tr>\n    <tr>\n      <th>Idaho</th>\n      <td>21.7</td>\n      <td>78.3</td>\n    </tr>\n    <tr>\n      <th>Wisconsin</th>\n      <td>24.7</td>\n      <td>80.8</td>\n    </tr>\n    <tr>\n      <th>Texas</th>\n      <td>24.3</td>\n      <td>80.1</td>\n    </tr>\n    <tr>\n      <th>Oklahoma</th>\n      <td>15.6</td>\n      <td>82.7</td>\n    </tr>\n    <tr>\n      <th>Kentucky</th>\n      <td>15.3</td>\n      <td>82.0</td>\n    </tr>\n    <tr>\n      <th>Tennessee</th>\n      <td>21.8</td>\n      <td>82.0</td>\n    </tr>\n    <tr>\n      <th>Oregon</th>\n      <td>24.9</td>\n      <td>71.5</td>\n    </tr>\n    <tr>\n      <th>Utah</th>\n      <td>24.9</td>\n      <td>76.1</td>\n    </tr>\n    <tr>\n      <th>Iowa</th>\n      <td>20.0</td>\n      <td>80.2</td>\n    </tr>\n    <tr>\n      <th>Washington</th>\n      <td>25.9</td>\n      <td>70.9</td>\n    </tr>\n    <tr>\n      <th>United States</th>\n      <td>23.0</td>\n      <td>75.9</td>\n    </tr>\n    <tr>\n      <th>Ohio</th>\n      <td>20.9</td>\n      <td>82.4</td>\n    </tr>\n    <tr>\n      <th>Colorado</th>\n      <td>27.4</td>\n      <td>74.2</td>\n    </tr>\n    <tr>\n      <th>Louisiana</th>\n      <td>19.7</td>\n      <td>82.1</td>\n    </tr>\n  </tbody>\n</table>\n</div>"
     },
     "execution_count": 8,
     "metadata": {},
     "output_type": "execute_result"
    }
   ],
   "source": [
    "pd.concat((df3, df2),axis=0)"
   ]
  },
  {
   "cell_type": "markdown",
   "id": "bb0ee034",
   "metadata": {
    "pycharm": {
     "name": "#%% md\n"
    }
   },
   "source": [
    "*D*. Predict (shape, columns, index) then run it:"
   ]
  },
  {
   "cell_type": "code",
   "execution_count": 9,
   "id": "3b7a1ffa",
   "metadata": {
    "pycharm": {
     "name": "#%%\n"
    }
   },
   "outputs": [
    {
     "data": {
      "text/plain": "               Exercise  Drive Alone to Work\nState Name                                  \nKentucky           15.3                 82.0\nTennessee          21.8                 82.0\nOregon             24.9                 71.5\nUtah               24.9                 76.1\nIowa               20.0                 80.2\nWashington         25.9                 70.9\nUnited States      23.0                 75.9\nOhio               20.9                 82.4\nColorado           27.4                 74.2\nLouisiana          19.7                 82.1\nAlaska             25.6                 70.0\nKansas             20.8                 82.7\nMontana            28.3                 76.2\nArizona            25.5                 75.6\nIllinois           23.4                 72.4\nNew Mexico         25.7                 80.7\nIdaho              21.7                 78.3\nWisconsin          24.7                 80.8\nTexas              24.3                 80.1\nOklahoma           15.6                 82.7",
      "text/html": "<div>\n<style scoped>\n    .dataframe tbody tr th:only-of-type {\n        vertical-align: middle;\n    }\n\n    .dataframe tbody tr th {\n        vertical-align: top;\n    }\n\n    .dataframe thead th {\n        text-align: right;\n    }\n</style>\n<table border=\"1\" class=\"dataframe\">\n  <thead>\n    <tr style=\"text-align: right;\">\n      <th></th>\n      <th>Exercise</th>\n      <th>Drive Alone to Work</th>\n    </tr>\n    <tr>\n      <th>State Name</th>\n      <th></th>\n      <th></th>\n    </tr>\n  </thead>\n  <tbody>\n    <tr>\n      <th>Kentucky</th>\n      <td>15.3</td>\n      <td>82.0</td>\n    </tr>\n    <tr>\n      <th>Tennessee</th>\n      <td>21.8</td>\n      <td>82.0</td>\n    </tr>\n    <tr>\n      <th>Oregon</th>\n      <td>24.9</td>\n      <td>71.5</td>\n    </tr>\n    <tr>\n      <th>Utah</th>\n      <td>24.9</td>\n      <td>76.1</td>\n    </tr>\n    <tr>\n      <th>Iowa</th>\n      <td>20.0</td>\n      <td>80.2</td>\n    </tr>\n    <tr>\n      <th>Washington</th>\n      <td>25.9</td>\n      <td>70.9</td>\n    </tr>\n    <tr>\n      <th>United States</th>\n      <td>23.0</td>\n      <td>75.9</td>\n    </tr>\n    <tr>\n      <th>Ohio</th>\n      <td>20.9</td>\n      <td>82.4</td>\n    </tr>\n    <tr>\n      <th>Colorado</th>\n      <td>27.4</td>\n      <td>74.2</td>\n    </tr>\n    <tr>\n      <th>Louisiana</th>\n      <td>19.7</td>\n      <td>82.1</td>\n    </tr>\n    <tr>\n      <th>Alaska</th>\n      <td>25.6</td>\n      <td>70.0</td>\n    </tr>\n    <tr>\n      <th>Kansas</th>\n      <td>20.8</td>\n      <td>82.7</td>\n    </tr>\n    <tr>\n      <th>Montana</th>\n      <td>28.3</td>\n      <td>76.2</td>\n    </tr>\n    <tr>\n      <th>Arizona</th>\n      <td>25.5</td>\n      <td>75.6</td>\n    </tr>\n    <tr>\n      <th>Illinois</th>\n      <td>23.4</td>\n      <td>72.4</td>\n    </tr>\n    <tr>\n      <th>New Mexico</th>\n      <td>25.7</td>\n      <td>80.7</td>\n    </tr>\n    <tr>\n      <th>Idaho</th>\n      <td>21.7</td>\n      <td>78.3</td>\n    </tr>\n    <tr>\n      <th>Wisconsin</th>\n      <td>24.7</td>\n      <td>80.8</td>\n    </tr>\n    <tr>\n      <th>Texas</th>\n      <td>24.3</td>\n      <td>80.1</td>\n    </tr>\n    <tr>\n      <th>Oklahoma</th>\n      <td>15.6</td>\n      <td>82.7</td>\n    </tr>\n  </tbody>\n</table>\n</div>"
     },
     "execution_count": 9,
     "metadata": {},
     "output_type": "execute_result"
    }
   ],
   "source": [
    "pd.concat((df2, df3),axis=0)"
   ]
  },
  {
   "cell_type": "markdown",
   "id": "05e6e94e",
   "metadata": {
    "pycharm": {
     "name": "#%% md\n"
    }
   },
   "source": [
    "**Self-check**: Get the 15 top and 10 bottom poverty states. Then concatenate these together into one data frame. Which way should it concatenate?"
   ]
  },
  {
   "cell_type": "markdown",
   "id": "29275675",
   "metadata": {
    "pycharm": {
     "name": "#%% md\n"
    }
   },
   "source": [
    "**Self-check**: Use the eco_data from Oct 14. Concatenate the bird counts and site info and then sort by count of Streptopelia_chinensis to find what the average elevation is for the 5 places with the most of that bird."
   ]
  },
  {
   "cell_type": "markdown",
   "id": "1a4c991e",
   "metadata": {
    "pycharm": {
     "name": "#%% md\n"
    }
   },
   "source": [
    "### 1.2 `transpose()` \n",
    "Flips the rows and the columns:"
   ]
  },
  {
   "cell_type": "code",
   "execution_count": 10,
   "id": "15784814",
   "metadata": {
    "collapsed": false,
    "jupyter": {
     "outputs_hidden": false
    },
    "pycharm": {
     "name": "#%%\n"
    }
   },
   "outputs": [
    {
     "data": {
      "text/plain": "                                        0              1             2  \\\nState Name                          Maine  Massachusetts  Rhode Island   \nAdverse Childhood Experiences        18.2           10.8          13.6   \nAir Pollution                         5.0            7.0           7.0   \nArthritis                            29.0           23.8          24.2   \nAsthma                               10.6           10.7          12.1   \n...                                   ...            ...           ...   \nVolunteerism                         38.5           33.6          28.3   \nVoter Participation (Average)        68.5           60.9          59.0   \nVoter Participation (Midterm)        65.6           55.5          51.6   \nVoter Participation (Presidential)   71.3           66.3          66.3   \nWater Fluoridation                   79.3           57.3          83.2   \n\n                                                       3         4  \nState Name                          District of Columbia  Michigan  \nAdverse Childhood Experiences                       17.5      15.5  \nAir Pollution                                        8.7       7.9  \nArthritis                                           16.3      30.1  \nAsthma                                              10.4      11.0  \n...                                                  ...       ...  \nVolunteerism                                        40.7      34.5  \nVoter Participation (Average)                       72.6      63.2  \nVoter Participation (Midterm)                       61.1      59.5  \nVoter Participation (Presidential)                  84.0      66.9  \nWater Fluoridation                                 100.0      89.5  \n\n[100 rows x 5 columns]",
      "text/html": "<div>\n<style scoped>\n    .dataframe tbody tr th:only-of-type {\n        vertical-align: middle;\n    }\n\n    .dataframe tbody tr th {\n        vertical-align: top;\n    }\n\n    .dataframe thead th {\n        text-align: right;\n    }\n</style>\n<table border=\"1\" class=\"dataframe\">\n  <thead>\n    <tr style=\"text-align: right;\">\n      <th></th>\n      <th>0</th>\n      <th>1</th>\n      <th>2</th>\n      <th>3</th>\n      <th>4</th>\n    </tr>\n  </thead>\n  <tbody>\n    <tr>\n      <th>State Name</th>\n      <td>Maine</td>\n      <td>Massachusetts</td>\n      <td>Rhode Island</td>\n      <td>District of Columbia</td>\n      <td>Michigan</td>\n    </tr>\n    <tr>\n      <th>Adverse Childhood Experiences</th>\n      <td>18.2</td>\n      <td>10.8</td>\n      <td>13.6</td>\n      <td>17.5</td>\n      <td>15.5</td>\n    </tr>\n    <tr>\n      <th>Air Pollution</th>\n      <td>5.0</td>\n      <td>7.0</td>\n      <td>7.0</td>\n      <td>8.7</td>\n      <td>7.9</td>\n    </tr>\n    <tr>\n      <th>Arthritis</th>\n      <td>29.0</td>\n      <td>23.8</td>\n      <td>24.2</td>\n      <td>16.3</td>\n      <td>30.1</td>\n    </tr>\n    <tr>\n      <th>Asthma</th>\n      <td>10.6</td>\n      <td>10.7</td>\n      <td>12.1</td>\n      <td>10.4</td>\n      <td>11.0</td>\n    </tr>\n    <tr>\n      <th>...</th>\n      <td>...</td>\n      <td>...</td>\n      <td>...</td>\n      <td>...</td>\n      <td>...</td>\n    </tr>\n    <tr>\n      <th>Volunteerism</th>\n      <td>38.5</td>\n      <td>33.6</td>\n      <td>28.3</td>\n      <td>40.7</td>\n      <td>34.5</td>\n    </tr>\n    <tr>\n      <th>Voter Participation (Average)</th>\n      <td>68.5</td>\n      <td>60.9</td>\n      <td>59.0</td>\n      <td>72.6</td>\n      <td>63.2</td>\n    </tr>\n    <tr>\n      <th>Voter Participation (Midterm)</th>\n      <td>65.6</td>\n      <td>55.5</td>\n      <td>51.6</td>\n      <td>61.1</td>\n      <td>59.5</td>\n    </tr>\n    <tr>\n      <th>Voter Participation (Presidential)</th>\n      <td>71.3</td>\n      <td>66.3</td>\n      <td>66.3</td>\n      <td>84.0</td>\n      <td>66.9</td>\n    </tr>\n    <tr>\n      <th>Water Fluoridation</th>\n      <td>79.3</td>\n      <td>57.3</td>\n      <td>83.2</td>\n      <td>100.0</td>\n      <td>89.5</td>\n    </tr>\n  </tbody>\n</table>\n<p>100 rows × 5 columns</p>\n</div>"
     },
     "execution_count": 10,
     "metadata": {},
     "output_type": "execute_result"
    }
   ],
   "source": [
    "states.head().transpose()"
   ]
  },
  {
   "cell_type": "markdown",
   "id": "d14e87e0",
   "metadata": {
    "pycharm": {
     "name": "#%% md\n"
    }
   },
   "source": [
    "**Exercise 1.2.1**: Predict what will be the shape of the `sites` data frame after we run transpose. Then, get the actual shape and compare."
   ]
  },
  {
   "cell_type": "code",
   "execution_count": 11,
   "id": "d60f6e15",
   "metadata": {
    "collapsed": false,
    "jupyter": {
     "outputs_hidden": false
    },
    "pycharm": {
     "name": "#%%\n"
    }
   },
   "outputs": [
    {
     "name": "stdout",
     "output_type": "stream",
     "text": [
      "(38, 4)\n",
      "(4, 38)\n"
     ]
    }
   ],
   "source": [
    "print(sites.shape)\n",
    "print(sites.transpose().shape)"
   ]
  },
  {
   "cell_type": "markdown",
   "id": "d219213b",
   "metadata": {
    "pycharm": {
     "name": "#%% md\n"
    }
   },
   "source": [
    "## 2. Doing research with genotype-phenotype data\n",
    "As a group, discuss:\n",
    "1. How many plants do we have information on?\n",
    "2. what information do we have on each plant\n",
    "3. think of one research question could we ask with the Arabidopsis MAGIC data. Pick one person to take notes. We will share with the class after 5 minutes discussion."
   ]
  },
  {
   "cell_type": "code",
   "execution_count": 11,
   "outputs": [],
   "source": [],
   "metadata": {
    "collapsed": false,
    "pycharm": {
     "name": "#%%\n"
    }
   }
  },
  {
   "cell_type": "markdown",
   "id": "08d17b76",
   "metadata": {
    "pycharm": {
     "name": "#%% md\n"
    }
   },
   "source": [
    "## 3. Cleaning your data\n",
    "As a group figure out what steps you could take to make the Arabidopsis data all have same observations in the same rows and features in the columns (note that  the pmap is not observations in this case but metadata). Keep them in separate data frames!"
   ]
  },
  {
   "cell_type": "code",
   "execution_count": 12,
   "id": "25663406",
   "metadata": {
    "pycharm": {
     "name": "#%%\n"
    }
   },
   "outputs": [
    {
     "data": {
      "text/plain": "marker    MN1_29291 MN1_29716 MN1_112907 MASC03771 MN1_197787 MN1_340810  \\\nMAGIC.1           A         A          A         A          A          A   \nMAGIC.10          A         A          A         B          B          B   \nMAGIC.100         A         A          A         A          A          A   \nMAGIC.101         B         B          B         A          B          A   \nMAGIC.102         B         B          B         B          B          A   \n...             ...       ...        ...       ...        ...        ...   \nMAGIC.699         B         B          B         A          A          A   \nMAGIC.700         B         B          B         A          A          A   \nMAGIC.701         B         B          B         A          B          A   \nMAGIC.702         A         A          A         A          A          A   \nMAGIC.703         A         A          B         B          A          A   \n\nmarker    MN1_395107 MN1_444820 MN1_494205 MN1_592863  ... MN5_26029439  \\\nMAGIC.1            A          A          A          A  ...            A   \nMAGIC.10           A          A          A          B  ...            A   \nMAGIC.100          A        NaN          A          A  ...            A   \nMAGIC.101          A          A          A          A  ...            B   \nMAGIC.102          B          A          A          A  ...            B   \n...              ...        ...        ...        ...  ...          ...   \nMAGIC.699          A          A          A          A  ...            A   \nMAGIC.700          A          A          A          A  ...            A   \nMAGIC.701          A          A          A          A  ...            B   \nMAGIC.702          A          A          A          A  ...            A   \nMAGIC.703          A          B          B          A  ...            A   \n\nmarker    MN5_26121184 MN5_26220737 MN5_26379737 MN5_26380009 MN5_26437895  \\\nMAGIC.1              A            B            A            B            A   \nMAGIC.10             A            A            A            A            A   \nMAGIC.100            A            B            B            A            B   \nMAGIC.101            A            B            B            A            B   \nMAGIC.102            B            B            B            A            B   \n...                ...          ...          ...          ...          ...   \nMAGIC.699            B            B            B            A            B   \nMAGIC.700            B            B            B            A            B   \nMAGIC.701            A            A            A            B            A   \nMAGIC.702            A            A            A            A            A   \nMAGIC.703            B            B            A            B            A   \n\nmarker    MN5_26438023 MN5_26708459 MN5_26877341 MN5_26877463  \nMAGIC.1              A            A            A            A  \nMAGIC.10             A            A            A            A  \nMAGIC.100            B            B            A            A  \nMAGIC.101            B            A            A            A  \nMAGIC.102            B            A            A            A  \n...                ...          ...          ...          ...  \nMAGIC.699            B            A            A            A  \nMAGIC.700            B            A            B            B  \nMAGIC.701            A            A            A            A  \nMAGIC.702            A            A            B            B  \nMAGIC.703            A            A            B            B  \n\n[677 rows x 1251 columns]",
      "text/html": "<div>\n<style scoped>\n    .dataframe tbody tr th:only-of-type {\n        vertical-align: middle;\n    }\n\n    .dataframe tbody tr th {\n        vertical-align: top;\n    }\n\n    .dataframe thead th {\n        text-align: right;\n    }\n</style>\n<table border=\"1\" class=\"dataframe\">\n  <thead>\n    <tr style=\"text-align: right;\">\n      <th>marker</th>\n      <th>MN1_29291</th>\n      <th>MN1_29716</th>\n      <th>MN1_112907</th>\n      <th>MASC03771</th>\n      <th>MN1_197787</th>\n      <th>MN1_340810</th>\n      <th>MN1_395107</th>\n      <th>MN1_444820</th>\n      <th>MN1_494205</th>\n      <th>MN1_592863</th>\n      <th>...</th>\n      <th>MN5_26029439</th>\n      <th>MN5_26121184</th>\n      <th>MN5_26220737</th>\n      <th>MN5_26379737</th>\n      <th>MN5_26380009</th>\n      <th>MN5_26437895</th>\n      <th>MN5_26438023</th>\n      <th>MN5_26708459</th>\n      <th>MN5_26877341</th>\n      <th>MN5_26877463</th>\n    </tr>\n  </thead>\n  <tbody>\n    <tr>\n      <th>MAGIC.1</th>\n      <td>A</td>\n      <td>A</td>\n      <td>A</td>\n      <td>A</td>\n      <td>A</td>\n      <td>A</td>\n      <td>A</td>\n      <td>A</td>\n      <td>A</td>\n      <td>A</td>\n      <td>...</td>\n      <td>A</td>\n      <td>A</td>\n      <td>B</td>\n      <td>A</td>\n      <td>B</td>\n      <td>A</td>\n      <td>A</td>\n      <td>A</td>\n      <td>A</td>\n      <td>A</td>\n    </tr>\n    <tr>\n      <th>MAGIC.10</th>\n      <td>A</td>\n      <td>A</td>\n      <td>A</td>\n      <td>B</td>\n      <td>B</td>\n      <td>B</td>\n      <td>A</td>\n      <td>A</td>\n      <td>A</td>\n      <td>B</td>\n      <td>...</td>\n      <td>A</td>\n      <td>A</td>\n      <td>A</td>\n      <td>A</td>\n      <td>A</td>\n      <td>A</td>\n      <td>A</td>\n      <td>A</td>\n      <td>A</td>\n      <td>A</td>\n    </tr>\n    <tr>\n      <th>MAGIC.100</th>\n      <td>A</td>\n      <td>A</td>\n      <td>A</td>\n      <td>A</td>\n      <td>A</td>\n      <td>A</td>\n      <td>A</td>\n      <td>NaN</td>\n      <td>A</td>\n      <td>A</td>\n      <td>...</td>\n      <td>A</td>\n      <td>A</td>\n      <td>B</td>\n      <td>B</td>\n      <td>A</td>\n      <td>B</td>\n      <td>B</td>\n      <td>B</td>\n      <td>A</td>\n      <td>A</td>\n    </tr>\n    <tr>\n      <th>MAGIC.101</th>\n      <td>B</td>\n      <td>B</td>\n      <td>B</td>\n      <td>A</td>\n      <td>B</td>\n      <td>A</td>\n      <td>A</td>\n      <td>A</td>\n      <td>A</td>\n      <td>A</td>\n      <td>...</td>\n      <td>B</td>\n      <td>A</td>\n      <td>B</td>\n      <td>B</td>\n      <td>A</td>\n      <td>B</td>\n      <td>B</td>\n      <td>A</td>\n      <td>A</td>\n      <td>A</td>\n    </tr>\n    <tr>\n      <th>MAGIC.102</th>\n      <td>B</td>\n      <td>B</td>\n      <td>B</td>\n      <td>B</td>\n      <td>B</td>\n      <td>A</td>\n      <td>B</td>\n      <td>A</td>\n      <td>A</td>\n      <td>A</td>\n      <td>...</td>\n      <td>B</td>\n      <td>B</td>\n      <td>B</td>\n      <td>B</td>\n      <td>A</td>\n      <td>B</td>\n      <td>B</td>\n      <td>A</td>\n      <td>A</td>\n      <td>A</td>\n    </tr>\n    <tr>\n      <th>...</th>\n      <td>...</td>\n      <td>...</td>\n      <td>...</td>\n      <td>...</td>\n      <td>...</td>\n      <td>...</td>\n      <td>...</td>\n      <td>...</td>\n      <td>...</td>\n      <td>...</td>\n      <td>...</td>\n      <td>...</td>\n      <td>...</td>\n      <td>...</td>\n      <td>...</td>\n      <td>...</td>\n      <td>...</td>\n      <td>...</td>\n      <td>...</td>\n      <td>...</td>\n      <td>...</td>\n    </tr>\n    <tr>\n      <th>MAGIC.699</th>\n      <td>B</td>\n      <td>B</td>\n      <td>B</td>\n      <td>A</td>\n      <td>A</td>\n      <td>A</td>\n      <td>A</td>\n      <td>A</td>\n      <td>A</td>\n      <td>A</td>\n      <td>...</td>\n      <td>A</td>\n      <td>B</td>\n      <td>B</td>\n      <td>B</td>\n      <td>A</td>\n      <td>B</td>\n      <td>B</td>\n      <td>A</td>\n      <td>A</td>\n      <td>A</td>\n    </tr>\n    <tr>\n      <th>MAGIC.700</th>\n      <td>B</td>\n      <td>B</td>\n      <td>B</td>\n      <td>A</td>\n      <td>A</td>\n      <td>A</td>\n      <td>A</td>\n      <td>A</td>\n      <td>A</td>\n      <td>A</td>\n      <td>...</td>\n      <td>A</td>\n      <td>B</td>\n      <td>B</td>\n      <td>B</td>\n      <td>A</td>\n      <td>B</td>\n      <td>B</td>\n      <td>A</td>\n      <td>B</td>\n      <td>B</td>\n    </tr>\n    <tr>\n      <th>MAGIC.701</th>\n      <td>B</td>\n      <td>B</td>\n      <td>B</td>\n      <td>A</td>\n      <td>B</td>\n      <td>A</td>\n      <td>A</td>\n      <td>A</td>\n      <td>A</td>\n      <td>A</td>\n      <td>...</td>\n      <td>B</td>\n      <td>A</td>\n      <td>A</td>\n      <td>A</td>\n      <td>B</td>\n      <td>A</td>\n      <td>A</td>\n      <td>A</td>\n      <td>A</td>\n      <td>A</td>\n    </tr>\n    <tr>\n      <th>MAGIC.702</th>\n      <td>A</td>\n      <td>A</td>\n      <td>A</td>\n      <td>A</td>\n      <td>A</td>\n      <td>A</td>\n      <td>A</td>\n      <td>A</td>\n      <td>A</td>\n      <td>A</td>\n      <td>...</td>\n      <td>A</td>\n      <td>A</td>\n      <td>A</td>\n      <td>A</td>\n      <td>A</td>\n      <td>A</td>\n      <td>A</td>\n      <td>A</td>\n      <td>B</td>\n      <td>B</td>\n    </tr>\n    <tr>\n      <th>MAGIC.703</th>\n      <td>A</td>\n      <td>A</td>\n      <td>B</td>\n      <td>B</td>\n      <td>A</td>\n      <td>A</td>\n      <td>A</td>\n      <td>B</td>\n      <td>B</td>\n      <td>A</td>\n      <td>...</td>\n      <td>A</td>\n      <td>B</td>\n      <td>B</td>\n      <td>A</td>\n      <td>B</td>\n      <td>A</td>\n      <td>A</td>\n      <td>A</td>\n      <td>B</td>\n      <td>B</td>\n    </tr>\n  </tbody>\n</table>\n<p>677 rows × 1251 columns</p>\n</div>"
     },
     "execution_count": 12,
     "metadata": {},
     "output_type": "execute_result"
    }
   ],
   "source": [
    "geno_T = geno.transpose()\n",
    "indexer = geno_T.index.isin(pheno.index)\n",
    "geno_T.loc[indexer, :]"
   ]
  },
  {
   "cell_type": "markdown",
   "id": "eaec7de6",
   "metadata": {
    "pycharm": {
     "name": "#%% md\n"
    }
   },
   "source": [
    "## 4. Vectorized operations across multiple rows/columns\n",
    "We previously learned about vectorized operations on a Series. \n",
    "We can do the same thing across all rows/column in a DataFrame."
   ]
  },
  {
   "cell_type": "code",
   "execution_count": 13,
   "id": "9c23c775",
   "metadata": {
    "collapsed": false,
    "jupyter": {
     "outputs_hidden": false
    },
    "pycharm": {
     "name": "#%%\n"
    }
   },
   "outputs": [
    {
     "data": {
      "text/plain": "bolting_days        15876.52\nseed_weight         14998.86\nseed_area             501.48\nttl_seedspfruit     35521.49\nbranches             3893.63\nheight              21479.24\npc_seeds_aborted      616.93\nfruit_length        10070.50\ndtype: float64"
     },
     "execution_count": 13,
     "metadata": {},
     "output_type": "execute_result"
    }
   ],
   "source": [
    "pheno.sum()"
   ]
  },
  {
   "cell_type": "code",
   "execution_count": 14,
   "id": "e643a0af",
   "metadata": {
    "collapsed": false,
    "jupyter": {
     "outputs_hidden": false
    },
    "pycharm": {
     "name": "#%%\n"
    }
   },
   "outputs": [
    {
     "data": {
      "text/plain": "bolting_days        23.451285\nseed_weight         22.154889\nseed_area            0.741834\nttl_seedspfruit     52.468966\nbranches             5.811388\nheight              41.788405\npc_seeds_aborted     0.911270\nfruit_length        14.941395\ndtype: float64"
     },
     "execution_count": 14,
     "metadata": {},
     "output_type": "execute_result"
    }
   ],
   "source": [
    "pheno.mean()"
   ]
  },
  {
   "cell_type": "markdown",
   "id": "ff048932",
   "metadata": {
    "pycharm": {
     "name": "#%% md\n"
    }
   },
   "source": [
    "By default, it operates on each column. We can make it operate on the rows using the `axis` argument. In pandas axis 0 is rows and axis 1 is columns. So axis=1 means we are summing *across columns*. What do these numbers represent?"
   ]
  },
  {
   "cell_type": "code",
   "execution_count": 15,
   "id": "973a6995",
   "metadata": {
    "collapsed": false,
    "jupyter": {
     "outputs_hidden": false
    },
    "pycharm": {
     "name": "#%%\n"
    }
   },
   "outputs": [
    {
     "data": {
      "text/plain": "id\nMAGIC.1      14.811429\nMAGIC.2      19.448750\nMAGIC.3      21.285000\nMAGIC.4      16.954286\nMAGIC.5      17.988750\n               ...    \nMAGIC.699    19.878750\nMAGIC.700    21.601429\nMAGIC.701    20.128750\nMAGIC.702    25.622500\nMAGIC.703    21.250000\nLength: 677, dtype: float64"
     },
     "execution_count": 15,
     "metadata": {},
     "output_type": "execute_result"
    }
   ],
   "source": [
    "pheno.mean(axis=1)"
   ]
  },
  {
   "cell_type": "markdown",
   "id": "7e3b7942",
   "metadata": {
    "pycharm": {
     "name": "#%% md\n"
    }
   },
   "source": [
    "**Self-check**: Using the eco_sites data, get the maximum values for the features of the sites (location, elevation), across all sites."
   ]
  },
  {
   "cell_type": "markdown",
   "id": "a8d8f7fc",
   "metadata": {
    "pycharm": {
     "name": "#%% md\n"
    }
   },
   "source": [
    "**Exercise 4.1**: Use vectorized DataFrame operations to calculate the difference in mean value of all phenotypes between plants with MN1_444820 is A and those where it is not A. **Write down an algorithm first**"
   ]
  },
  {
   "cell_type": "code",
   "execution_count": 16,
   "id": "0734308d",
   "metadata": {
    "collapsed": false,
    "jupyter": {
     "outputs_hidden": false
    },
    "pycharm": {
     "name": "#%%\n"
    }
   },
   "outputs": [],
   "source": [
    "fs = pd.concat((geno[pheno.transpose().columns].transpose(), pheno))"
   ]
  },
  {
   "cell_type": "markdown",
   "id": "4103af3e",
   "metadata": {
    "pycharm": {
     "name": "#%% md\n"
    }
   },
   "source": [
    "**Exercise 4.2**: Instead of just MN1_444820, calculate the difference in mean for **all** genotypes. Save the result into a new DataFrame where the rows are markers and the columns are phenotypes.  **Write down an algorithm first**"
   ]
  },
  {
   "cell_type": "code",
   "execution_count": 17,
   "id": "b69c50a4",
   "metadata": {
    "pycharm": {
     "name": "#%%\n"
    }
   },
   "outputs": [
    {
     "name": "stdout",
     "output_type": "stream",
     "text": [
      "MAGIC.1       True\n",
      "MAGIC.2      False\n",
      "MAGIC.3       True\n",
      "MAGIC.4       True\n",
      "MAGIC.5      False\n",
      "             ...  \n",
      "MAGIC.699     True\n",
      "MAGIC.700     True\n",
      "MAGIC.701     True\n",
      "MAGIC.702     True\n",
      "MAGIC.703    False\n",
      "Name: MN1_444820, Length: 677, dtype: bool\n"
     ]
    }
   ],
   "source": [
    "geno_t = geno[pheno.transpose().columns].transpose()\n",
    "A_true = geno_t.loc[:,'MN1_444820'] == 'A'\n",
    "print(A_true)"
   ]
  },
  {
   "cell_type": "code",
   "execution_count": 18,
   "id": "955ce88e",
   "metadata": {
    "collapsed": false,
    "jupyter": {
     "outputs_hidden": false
    },
    "pycharm": {
     "name": "#%%\n"
    }
   },
   "outputs": [
    {
     "ename": "NameError",
     "evalue": "name 'gwas' is not defined",
     "output_type": "error",
     "traceback": [
      "\u001B[0;31m---------------------------------------------------------------------------\u001B[0m",
      "\u001B[0;31mNameError\u001B[0m                                 Traceback (most recent call last)",
      "Input \u001B[0;32mIn [18]\u001B[0m, in \u001B[0;36m<cell line: 1>\u001B[0;34m()\u001B[0m\n\u001B[0;32m----> 1\u001B[0m \u001B[43mgwas\u001B[49m[:\u001B[38;5;241m5\u001B[39m]\n",
      "\u001B[0;31mNameError\u001B[0m: name 'gwas' is not defined"
     ]
    }
   ],
   "source": [
    "gwas[:5]"
   ]
  },
  {
   "cell_type": "markdown",
   "id": "4c21a806",
   "metadata": {
    "pycharm": {
     "name": "#%% md\n"
    }
   },
   "source": [
    "**Exercise 4.3**: Discuss as a group. What is the meaning of the values in the DataFrame created in 4.2? How could you find some kind of interesting result from this DataFrame?"
   ]
  },
  {
   "cell_type": "code",
   "execution_count": null,
   "id": "a6b15f1f",
   "metadata": {
    "collapsed": false,
    "jupyter": {
     "outputs_hidden": false
    },
    "pycharm": {
     "name": "#%%\n"
    }
   },
   "outputs": [],
   "source": []
  },
  {
   "cell_type": "markdown",
   "id": "4a641096",
   "metadata": {
    "pycharm": {
     "name": "#%% md\n"
    }
   },
   "source": [
    "### 4.1 Combining data frames for certain analyses\n",
    "\n",
    "**Exercise 4.1.1**: Let's put together our GWAS results with the pmap info into one data frame, with markers in the rows and GWAS results + chromosome + position in the columns. Call this data frame `gwas_plus_pmap`. If you're not sure how to do it, Google for the pandas documentation (make suer to check the version to make sure."
   ]
  },
  {
   "cell_type": "code",
   "execution_count": null,
   "id": "2a4e8265",
   "metadata": {
    "collapsed": false,
    "jupyter": {
     "outputs_hidden": false
    },
    "pycharm": {
     "name": "#%%\n"
    }
   },
   "outputs": [],
   "source": [
    "pd.__version__"
   ]
  },
  {
   "cell_type": "markdown",
   "id": "19bbe900",
   "metadata": {
    "pycharm": {
     "name": "#%% md\n"
    }
   },
   "source": [
    "**Exercise 4.1.2**: Find the chromosome for the 5 top markers where genotype A increases fruit_length. "
   ]
  },
  {
   "cell_type": "code",
   "execution_count": null,
   "id": "26d47bca",
   "metadata": {
    "collapsed": false,
    "jupyter": {
     "outputs_hidden": false
    },
    "pycharm": {
     "name": "#%%\n"
    }
   },
   "outputs": [],
   "source": [
    "top_markers = gwas_plus_pmap.sort_values('fruit_length',ascending=False).head()\n",
    "set(top_markers['chr'])"
   ]
  },
  {
   "cell_type": "markdown",
   "id": "04a51bfe",
   "metadata": {
    "pycharm": {
     "name": "#%% md\n"
    }
   },
   "source": [
    "**Exercise 4.1.3**: make a data frame called `fruit_length_geno` containing the genotypes for top 5 markers for association with fruit_length, concatenated with the phenotype data. "
   ]
  },
  {
   "cell_type": "code",
   "execution_count": null,
   "id": "ca977837",
   "metadata": {
    "collapsed": false,
    "jupyter": {
     "outputs_hidden": false
    },
    "pycharm": {
     "name": "#%%\n"
    }
   },
   "outputs": [],
   "source": [
    "geno.head()"
   ]
  },
  {
   "cell_type": "markdown",
   "id": "083d539b",
   "metadata": {
    "pycharm": {
     "name": "#%% md\n"
    }
   },
   "source": [
    "# 5. Plots of two or more features\n",
    "\n",
    "Bivariate plots allow us to compare two or more features for each data point.\n",
    "\n",
    "The most intuitive is a scatter plot which we can make with `relplot` \n",
    "\n",
    "Remember, seaborn takes as input a data frame, and will plot entries from its **columns**:"
   ]
  },
  {
   "cell_type": "code",
   "execution_count": null,
   "id": "79b5a0ae",
   "metadata": {
    "collapsed": false,
    "jupyter": {
     "outputs_hidden": false
    },
    "pycharm": {
     "name": "#%%\n"
    }
   },
   "outputs": [],
   "source": [
    "\n",
    "import seaborn as sns\n",
    "sns.set_theme()  ## the default theme with a grid"
   ]
  },
  {
   "cell_type": "code",
   "execution_count": null,
   "id": "68f00046",
   "metadata": {
    "collapsed": false,
    "jupyter": {
     "outputs_hidden": false
    },
    "pycharm": {
     "name": "#%%\n"
    }
   },
   "outputs": [],
   "source": [
    "pheno.head()"
   ]
  },
  {
   "cell_type": "code",
   "execution_count": null,
   "id": "53cfd034",
   "metadata": {
    "collapsed": false,
    "jupyter": {
     "outputs_hidden": false
    },
    "pycharm": {
     "name": "#%%\n"
    }
   },
   "outputs": [],
   "source": [
    "sns.relplot(\n",
    "    data=pheno,\n",
    "    x=\"seed_weight\", \n",
    "    y=\"seed_area\"\n",
    ")"
   ]
  },
  {
   "cell_type": "markdown",
   "id": "b8719e03",
   "metadata": {
    "pycharm": {
     "name": "#%% md\n"
    }
   },
   "source": [
    "**Exercise 5.1**: What are the axes? What are the points on this plot?\n",
    "\n",
    "**Exercise 5.2**: What is your interpretation of this plot? Is this how you expect the plot to look?"
   ]
  },
  {
   "cell_type": "markdown",
   "id": "676edafb",
   "metadata": {
    "pycharm": {
     "name": "#%% md\n"
    }
   },
   "source": [
    "We can use \"hue\" and \"size\" to add more dimensions to our 2-D plots using color or point size. Just like with plot we specify our x and y axis, but then we can specify the color of each point:"
   ]
  },
  {
   "cell_type": "code",
   "execution_count": null,
   "id": "aff37eb8",
   "metadata": {
    "collapsed": false,
    "jupyter": {
     "outputs_hidden": false
    },
    "pycharm": {
     "name": "#%%\n"
    }
   },
   "outputs": [],
   "source": [
    "sns.relplot(\n",
    "    data=pheno,\n",
    "    x=\"seed_weight\", \n",
    "    y=\"seed_area\",\n",
    "    hue = \"bolting_days\"\n",
    ")"
   ]
  },
  {
   "cell_type": "markdown",
   "id": "bdc4c520",
   "metadata": {
    "pycharm": {
     "name": "#%% md\n"
    }
   },
   "source": [
    "**Exercise 5.3**: what do you see when you add the bolting days dimension?"
   ]
  },
  {
   "cell_type": "code",
   "execution_count": null,
   "id": "5705cbc5",
   "metadata": {
    "collapsed": false,
    "jupyter": {
     "outputs_hidden": false
    },
    "pycharm": {
     "name": "#%%\n"
    }
   },
   "outputs": [],
   "source": [
    "sns.relplot(\n",
    "    data=pheno,\n",
    "    x=\"seed_weight\", y=\"seed_area\",\n",
    "    hue = \"bolting_days\",\n",
    "    size = \"ttl_seedspfruit\"\n",
    ")"
   ]
  },
  {
   "cell_type": "markdown",
   "id": "3ef1f195",
   "metadata": {
    "pycharm": {
     "name": "#%% md\n"
    }
   },
   "source": [
    "**Exercise 5.4**: How many observations and features are there in this plot?"
   ]
  },
  {
   "cell_type": "markdown",
   "id": "58959832",
   "metadata": {
    "pycharm": {
     "name": "#%% md\n"
    }
   },
   "source": [
    "### 5.1 Bivariate plots with a number and a binary/categorical feature"
   ]
  },
  {
   "cell_type": "markdown",
   "id": "0a2e67fb",
   "metadata": {
    "pycharm": {
     "name": "#%% md\n"
    }
   },
   "source": [
    "Going back to our Arabidopsis, we are interested in the effect of genotype on phenotype. We created the data frame `fruit_length_geno`. \n",
    "\n",
    "\n",
    "What are the features in this subset of the data?"
   ]
  },
  {
   "cell_type": "code",
   "execution_count": null,
   "id": "4fd9f148",
   "metadata": {
    "collapsed": false,
    "jupyter": {
     "outputs_hidden": false
    },
    "tags": [],
    "pycharm": {
     "name": "#%%\n"
    }
   },
   "outputs": [],
   "source": [
    "fruit_length_geno"
   ]
  },
  {
   "cell_type": "markdown",
   "id": "de4ff01c",
   "metadata": {
    "pycharm": {
     "name": "#%% md\n"
    }
   },
   "source": [
    "Instead of just looking at fruit length by itself, we can compare fruit lengths of different subsets by using the `col` option to make two columns in your plot, separated by value of marker MASC06116. So instead of the regular bins for different values of fruit length, we have bins of BOTH fruit length and MASC06116:"
   ]
  },
  {
   "cell_type": "code",
   "execution_count": null,
   "id": "8a8d8f5e",
   "metadata": {
    "collapsed": false,
    "jupyter": {
     "outputs_hidden": false
    },
    "pycharm": {
     "name": "#%%\n"
    }
   },
   "outputs": [],
   "source": [
    "sns.displot(data=fruit_length_geno, \n",
    "            x=\"fruit_length\", col='MASC06116')"
   ]
  },
  {
   "cell_type": "markdown",
   "id": "a7c20c16",
   "metadata": {
    "pycharm": {
     "name": "#%% md\n"
    }
   },
   "source": [
    "**Exercise 5.1.1**: What do you see? What are the axes? What are the different plots? What are the bars? What is the interpretation?"
   ]
  },
  {
   "cell_type": "markdown",
   "id": "49e0d728",
   "metadata": {
    "pycharm": {
     "name": "#%% md\n"
    }
   },
   "source": [
    "It's hard to see what's the same or different because way more plants have A genotype than B genotype. We can try to convert from total numbers to fractions"
   ]
  },
  {
   "cell_type": "code",
   "execution_count": null,
   "id": "be46a59e",
   "metadata": {
    "collapsed": false,
    "jupyter": {
     "outputs_hidden": false
    },
    "pycharm": {
     "name": "#%%\n"
    }
   },
   "outputs": [],
   "source": [
    "sns.displot(data=fruit_length_geno, \n",
    "            x=\"fruit_length\", \n",
    "            col='MASC06116',\n",
    "            stat='density')"
   ]
  },
  {
   "cell_type": "markdown",
   "id": "449f8370",
   "metadata": {
    "pycharm": {
     "name": "#%% md\n"
    }
   },
   "source": [
    "**Exercise 5.1.2**: What changed? "
   ]
  },
  {
   "cell_type": "markdown",
   "id": "9104c183",
   "metadata": {
    "pycharm": {
     "name": "#%% md\n"
    }
   },
   "source": [
    "Still, it would be nice if they were on the same scale as fractions."
   ]
  },
  {
   "cell_type": "code",
   "execution_count": null,
   "id": "656c503f",
   "metadata": {
    "collapsed": false,
    "jupyter": {
     "outputs_hidden": false
    },
    "pycharm": {
     "name": "#%%\n"
    }
   },
   "outputs": [],
   "source": [
    "sns.displot(data=fruit_length_geno, \n",
    "            x=\"fruit_length\", \n",
    "            col='MASC06116',\n",
    "            stat='density',\n",
    "            common_norm=False)"
   ]
  },
  {
   "cell_type": "markdown",
   "id": "69ecdb89",
   "metadata": {
    "pycharm": {
     "name": "#%% md\n"
    }
   },
   "source": [
    "**Exercise 5.1.3**: what do you think `common_norm` does?"
   ]
  },
  {
   "cell_type": "markdown",
   "id": "4eeaf2dc",
   "metadata": {
    "pycharm": {
     "name": "#%% md\n"
    }
   },
   "source": [
    "We can also put them on the same axis with different colors by changinge `col` to `hue`. This still keeps them in separate bins but just on the same plot:"
   ]
  },
  {
   "cell_type": "code",
   "execution_count": null,
   "id": "d9ba1be0",
   "metadata": {
    "collapsed": false,
    "jupyter": {
     "outputs_hidden": false
    },
    "pycharm": {
     "name": "#%%\n"
    }
   },
   "outputs": [],
   "source": [
    "sns.displot(data=fruit_length_geno, x=\"fruit_length\", hue='MASC06116',stat='density',common_norm=False, kde=True)"
   ]
  },
  {
   "cell_type": "markdown",
   "id": "7df6cd4f",
   "metadata": {
    "pycharm": {
     "name": "#%% md\n"
    }
   },
   "source": [
    "We can add a smoothed line onto this displot (or any displot) with `kde=True`"
   ]
  },
  {
   "cell_type": "code",
   "execution_count": null,
   "id": "fe0e56c0",
   "metadata": {
    "collapsed": false,
    "jupyter": {
     "outputs_hidden": false
    },
    "pycharm": {
     "name": "#%%\n"
    }
   },
   "outputs": [],
   "source": [
    "sns.displot(data=fruit_length_geno, x=\"fruit_length\", hue='MASC06116',stat='density',common_norm=False, kde=True)"
   ]
  },
  {
   "cell_type": "markdown",
   "id": "d97ae91d",
   "metadata": {
    "pycharm": {
     "name": "#%% md\n"
    }
   },
   "source": [
    "## 5.2 Scatter plots of multiple panels & back to our GWAS\n",
    "Now that it's together in one dataframe. \n",
    "\n",
    "Remember seabon can plot different columns in a dataframe. We can use seaborn to plot our GWAS results by genomic position using our combined data frame:"
   ]
  },
  {
   "cell_type": "code",
   "execution_count": null,
   "id": "e4d1df54",
   "metadata": {
    "tags": [],
    "pycharm": {
     "name": "#%%\n"
    }
   },
   "outputs": [],
   "source": [
    "gwas_plus_pmap"
   ]
  },
  {
   "cell_type": "code",
   "execution_count": null,
   "id": "611284b7",
   "metadata": {
    "collapsed": false,
    "jupyter": {
     "outputs_hidden": false
    },
    "pycharm": {
     "name": "#%%\n"
    }
   },
   "outputs": [],
   "source": [
    "sns.relplot(\n",
    "    data=gwas_plus_pmap,\n",
    "    x=\"pos\", y=\"fruit_length\",\n",
    "    col = \"chr\"\n",
    ")"
   ]
  },
  {
   "cell_type": "markdown",
   "id": "6344fe15",
   "metadata": {
    "pycharm": {
     "name": "#%% md\n"
    }
   },
   "source": [
    "**Exercise 6.1**: As a group, answer these questions, discuss for 5 minutes\n",
    "- What are the various subplots?\n",
    "- What are the axes?\n",
    "- What are the points?\n",
    "- Which chromosome is the biggest and smallest?\n",
    "- What can we conclude from this data about the association of genotype with the phenotype?"
   ]
  },
  {
   "cell_type": "markdown",
   "id": "6c04095e",
   "metadata": {
    "pycharm": {
     "name": "#%% md\n"
    }
   },
   "source": [
    "## Exercise 5\n",
    "We will get practice with **vectorized string operations** to find the strings in a series that match some criterion, and use this to do some analysis of the birds data. This includes `startswith`, `endswith`, and `contains`.\n",
    "\n",
    "To use these you have to access the string functions of a series, using `.str` as follows."
   ]
  },
  {
   "cell_type": "code",
   "execution_count": null,
   "id": "91b0a029",
   "metadata": {
    "collapsed": false,
    "jupyter": {
     "outputs_hidden": false
    },
    "pycharm": {
     "name": "#%%\n"
    }
   },
   "outputs": [],
   "source": [
    "\n",
    "tenstates = states['State Name'].head(10)\n",
    "tenstates"
   ]
  },
  {
   "cell_type": "code",
   "execution_count": null,
   "id": "3f9ee859",
   "metadata": {
    "collapsed": false,
    "jupyter": {
     "outputs_hidden": false
    },
    "pycharm": {
     "name": "#%%\n"
    }
   },
   "outputs": [],
   "source": [
    "tenstates.str.startswith(\"M\")"
   ]
  },
  {
   "cell_type": "code",
   "execution_count": null,
   "id": "c5faaccf",
   "metadata": {
    "collapsed": false,
    "jupyter": {
     "outputs_hidden": false
    },
    "pycharm": {
     "name": "#%%\n"
    }
   },
   "outputs": [],
   "source": [
    "tenstates.str.endswith(\"re\")"
   ]
  },
  {
   "cell_type": "code",
   "execution_count": null,
   "id": "4e5ce43c",
   "metadata": {
    "collapsed": false,
    "jupyter": {
     "outputs_hidden": false
    },
    "pycharm": {
     "name": "#%%\n"
    }
   },
   "outputs": [],
   "source": [
    "tenstates.str.contains(\"nn\")"
   ]
  },
  {
   "cell_type": "markdown",
   "id": "7a88556d",
   "metadata": {
    "pycharm": {
     "name": "#%% md\n"
    }
   },
   "source": [
    "**Exercise 5.1**: Make a series containing info for every site about *whether or not* it has any of the Megalaima (any bird species with Megalaima in its name)."
   ]
  },
  {
   "cell_type": "markdown",
   "id": "bfd4a8bb",
   "metadata": {
    "pycharm": {
     "name": "#%% md\n"
    }
   },
   "source": [
    "**Exercise 5.2**: Make a data frame `sites_mega` that contains the information about the site and *whether or not* the site contains Megalaima. You can convert a series to a data frame by using the function `pd.DataFrame(series_variable)`"
   ]
  },
  {
   "cell_type": "code",
   "execution_count": null,
   "id": "63d075f2",
   "metadata": {
    "collapsed": false,
    "jupyter": {
     "outputs_hidden": false
    },
    "pycharm": {
     "name": "#%%\n"
    }
   },
   "outputs": [],
   "source": []
  },
  {
   "cell_type": "markdown",
   "id": "2d3ffa84",
   "metadata": {
    "pycharm": {
     "name": "#%% md\n"
    }
   },
   "source": [
    "Of course you could always assign the series back into the data frame but I want you to get some practice with `concat`:"
   ]
  },
  {
   "cell_type": "code",
   "execution_count": null,
   "id": "ba01c74b",
   "metadata": {
    "pycharm": {
     "name": "#%%\n"
    }
   },
   "outputs": [],
   "source": [
    "sites['has_mega'] = mega_df.sum(axis=1) > 0"
   ]
  },
  {
   "cell_type": "code",
   "execution_count": null,
   "id": "c79a0a6d",
   "metadata": {
    "tags": [],
    "pycharm": {
     "name": "#%%\n"
    }
   },
   "outputs": [],
   "source": []
  },
  {
   "cell_type": "markdown",
   "id": "e294d53d",
   "metadata": {
    "pycharm": {
     "name": "#%% md\n"
    }
   },
   "source": [
    "\n",
    "**Exercise 5.2**: Use the data frame you made above to make one plot for each feature comparing sites that do or don't have megalaima."
   ]
  },
  {
   "cell_type": "code",
   "execution_count": null,
   "id": "5c4d5696",
   "metadata": {
    "pycharm": {
     "name": "#%%\n"
    }
   },
   "outputs": [],
   "source": [
    "sns.catplot(x=\"MASC06116\", y=\"fruit_length\", data=sites)"
   ]
  },
  {
   "cell_type": "markdown",
   "id": "61facb6f",
   "metadata": {
    "pycharm": {
     "name": "#%% md\n"
    }
   },
   "source": [
    "\n",
    "**Exercise 5.3**: Get the mean elevation for sites that have megalaima and sites that don't"
   ]
  },
  {
   "cell_type": "code",
   "execution_count": null,
   "id": "e1c62885",
   "metadata": {
    "pycharm": {
     "name": "#%%\n"
    }
   },
   "outputs": [],
   "source": [
    "sns.catplot(x=\"MASC06116\", y=\"fruit_length\", data=sites)"
   ]
  },
  {
   "cell_type": "markdown",
   "id": "9b777bc5",
   "metadata": {
    "pycharm": {
     "name": "#%% md\n"
    }
   },
   "source": [
    "# Extra material on `apply` -- you don't need this for this class\n",
    "While those built-in functions like `mean`, etc, will take you a long way toward summarizing your data frame, we have a lot of flexibility with `apply`. \n",
    "\n",
    "This is a DataFrame function that can take any function that is applied to one row or column (series) and apply that across all of them.\n",
    "\n",
    "you use it by: \n",
    "` df.apply( func_name, axis = axis number, [any other inputs to the function named func_name]) `"
   ]
  },
  {
   "cell_type": "code",
   "execution_count": null,
   "id": "44f1dd74",
   "metadata": {
    "pycharm": {
     "name": "#%%\n"
    }
   },
   "outputs": [],
   "source": [
    "b = pheno.apply(np.percentile,  ## using the np.percentile function\n",
    "                axis=0,  ## across rows\n",
    "                q=[10, 25,50,75,90] ### also inputting the percentiles we want\n",
    "               )"
   ]
  },
  {
   "cell_type": "code",
   "execution_count": null,
   "id": "ad00a4ad",
   "metadata": {
    "collapsed": false,
    "jupyter": {
     "outputs_hidden": false
    },
    "tags": [],
    "pycharm": {
     "name": "#%%\n"
    }
   },
   "outputs": [],
   "source": [
    "b"
   ]
  },
  {
   "cell_type": "markdown",
   "id": "4f2a0a6d",
   "metadata": {
    "pycharm": {
     "name": "#%% md\n"
    }
   },
   "source": [
    "Compare this with our `perc_seeds` variable above. "
   ]
  },
  {
   "cell_type": "markdown",
   "id": "d75f6a97",
   "metadata": {
    "pycharm": {
     "name": "#%% md\n"
    }
   },
   "source": [
    "**Self-check**: Use apply with np.max on the pheno dataframe to get the maximum value of each phenotype. Verify that the result is the same as if you used regular vectorized operations."
   ]
  },
  {
   "cell_type": "code",
   "execution_count": null,
   "id": "889b83bb",
   "metadata": {
    "collapsed": false,
    "jupyter": {
     "outputs_hidden": false
    },
    "pycharm": {
     "name": "#%%\n"
    }
   },
   "outputs": [],
   "source": [
    "b = pheno.apply(np.max,  ## using the np.percentile function\n",
    "                axis=0\n",
    "               )\n",
    "b"
   ]
  },
  {
   "cell_type": "code",
   "execution_count": null,
   "id": "d83e78dc",
   "metadata": {
    "collapsed": false,
    "jupyter": {
     "outputs_hidden": false
    },
    "pycharm": {
     "name": "#%%\n"
    }
   },
   "outputs": [],
   "source": [
    "pheno.max()"
   ]
  },
  {
   "cell_type": "markdown",
   "id": "58ca5042",
   "metadata": {
    "pycharm": {
     "name": "#%% md\n"
    }
   },
   "source": [
    "## Extra.1 `lambdas`\n",
    "This below is one way to get the difference in phenotypes among plants at each genotype. This is what we did yesterday:"
   ]
  },
  {
   "cell_type": "code",
   "execution_count": null,
   "id": "8a296d36",
   "metadata": {
    "collapsed": false,
    "jupyter": {
     "outputs_hidden": false
    },
    "pycharm": {
     "name": "#%%\n"
    }
   },
   "outputs": [],
   "source": [
    "gwas.head()"
   ]
  },
  {
   "cell_type": "markdown",
   "id": "48cd2efc",
   "metadata": {
    "pycharm": {
     "name": "#%% md\n"
    }
   },
   "source": [
    "**Self-check**: Go through the code above and add comments explaining what it is doing. Verify that your comments are correct by copying bits of the code into a code cell and running it and inspecting the resulting values (for example, start by assigning `i=\"MN1_29291\"` and run the code inside of the for loop)"
   ]
  },
  {
   "cell_type": "markdown",
   "id": "219e9481",
   "metadata": {
    "pycharm": {
     "name": "#%% md\n"
    }
   },
   "source": [
    "We always want to avoid `for` loops if we can though! We will try to use `apply` instead, but we need something that can be applied just like `np.percentile` was.\n",
    "Lambdas are functions that don't have a name and are usually one line long. Instead of using `def` we use `lambda`.\n",
    "\n",
    "Here is a `lambda` that will take as input one genotype vector/Series, `x`. It splits the `pheno` DataFrame into those plants with genotype A and those plants without it: "
   ]
  },
  {
   "cell_type": "code",
   "execution_count": null,
   "id": "16abe9eb",
   "metadata": {
    "pycharm": {
     "name": "#%%\n"
    }
   },
   "outputs": [],
   "source": [
    "lambda x: pheno.loc[x=='A',:].mean() - pheno.loc[x!='A',:].mean()"
   ]
  },
  {
   "cell_type": "markdown",
   "id": "e9ca6f84",
   "metadata": {
    "pycharm": {
     "name": "#%% md\n"
    }
   },
   "source": [
    "We can store a lambda in a variable. "
   ]
  },
  {
   "cell_type": "code",
   "execution_count": null,
   "id": "3987c8df",
   "metadata": {
    "pycharm": {
     "name": "#%%\n"
    }
   },
   "outputs": [],
   "source": [
    "diff_phe = lambda x: pheno.loc[x=='A',:].mean() - pheno.loc[x!='A',:].mean()"
   ]
  },
  {
   "cell_type": "code",
   "execution_count": null,
   "id": "ded5deb1",
   "metadata": {
    "pycharm": {
     "name": "#%%\n"
    }
   },
   "outputs": [],
   "source": [
    "diff_phe"
   ]
  },
  {
   "cell_type": "markdown",
   "id": "e5c87879",
   "metadata": {
    "pycharm": {
     "name": "#%% md\n"
    }
   },
   "source": [
    "And then use it to `apply` across each **marker**: so logically, for each marker, we are separating the plants by their genotype at that marker, and looking at the difference in mean phenotypes"
   ]
  },
  {
   "cell_type": "code",
   "execution_count": null,
   "id": "c3319e52",
   "metadata": {
    "pycharm": {
     "name": "#%%\n"
    }
   },
   "outputs": [],
   "source": [
    "gwas =  geno.apply(diff_phe,\n",
    "                   axis=1)"
   ]
  },
  {
   "cell_type": "markdown",
   "id": "fe71c9a8",
   "metadata": {
    "pycharm": {
     "name": "#%% md\n"
    }
   },
   "source": [
    "Or, you can put it all on one line:"
   ]
  },
  {
   "cell_type": "code",
   "execution_count": null,
   "id": "3bfb056a",
   "metadata": {
    "pycharm": {
     "name": "#%%\n"
    }
   },
   "outputs": [],
   "source": [
    "gwas =  geno.apply(lambda x: pheno.loc[x=='A',:].mean() - pheno.loc[x!='A',:].mean(),\n",
    "                   axis=1)"
   ]
  },
  {
   "cell_type": "markdown",
   "id": "af33e1f6",
   "metadata": {
    "pycharm": {
     "name": "#%% md\n"
    }
   },
   "source": [
    "## Extra.2 Matplotlib\n",
    "Matplotlib has more flexibility than seaborn. Seaborn is nice for certain built-in things, but matplotlib you can make any plot. Here are some examples."
   ]
  },
  {
   "cell_type": "code",
   "execution_count": null,
   "id": "536a43d1",
   "metadata": {
    "pycharm": {
     "name": "#%%\n"
    }
   },
   "outputs": [],
   "source": [
    "import matplotlib.pyplot as plt\n",
    "\n",
    "## the line below allows us to see our plots inside jupyter\n",
    "%matplotlib inline "
   ]
  },
  {
   "cell_type": "code",
   "execution_count": null,
   "id": "11ee22e0",
   "metadata": {
    "collapsed": false,
    "jupyter": {
     "outputs_hidden": false
    },
    "pycharm": {
     "name": "#%%\n"
    }
   },
   "outputs": [],
   "source": [
    "x = pheno['seed_weight']\n",
    "y = pheno['seed_area']\n",
    "plt.plot(x, y,'.')"
   ]
  },
  {
   "cell_type": "markdown",
   "id": "59fc975c",
   "metadata": {
    "pycharm": {
     "name": "#%% md\n"
    }
   },
   "source": [
    "**Self-check**: Add comments to the code above. Copy the same code and try changing what is plotted to plot two different phenotypes.\n",
    "\n",
    "We can make multiple plots using `subplots` function which gives you back a `figure` and `axis` object.\n",
    "\n",
    "We can additionally use the `axis` object to set the x and y label of the axes:"
   ]
  },
  {
   "cell_type": "code",
   "execution_count": null,
   "id": "4b272455",
   "metadata": {
    "collapsed": false,
    "jupyter": {
     "outputs_hidden": false
    },
    "tags": [],
    "pycharm": {
     "name": "#%%\n"
    }
   },
   "outputs": [],
   "source": [
    "x = pheno['seed_weight']\n",
    "y = pheno['seed_area']\n",
    "\n",
    "figure ,axis = plt.subplots(1)\n",
    "axis.plot(x, y,'.')\n",
    "axis.set_xlabel('seed_weight')\n",
    "axis.set_ylabel('seed_area')"
   ]
  },
  {
   "cell_type": "markdown",
   "id": "c95401e1",
   "metadata": {
    "pycharm": {
     "name": "#%% md\n"
    }
   },
   "source": [
    "We can create a grid of subplots using the `subplots` function specifying the number of rows and columns (here 2 rows). The `subplots` function returns both the figure and a `list` of axes. We use the first item in the list (the first axis) to make the first plot, and the 2nd one to make the 2nd plot:"
   ]
  },
  {
   "cell_type": "code",
   "execution_count": null,
   "id": "e6fa2a11",
   "metadata": {
    "collapsed": false,
    "jupyter": {
     "outputs_hidden": false
    },
    "pycharm": {
     "name": "#%%\n"
    }
   },
   "outputs": [],
   "source": [
    "\n",
    "\n",
    "figure ,axis = plt.subplots(2)\n",
    "\n",
    "axis[0].plot(pheno['seed_weight'], pheno['seed_area'],'.')\n",
    "axis[0].set_xlabel('seed_weight')\n",
    "axis[0].set_ylabel('seed_area')\n",
    "\n",
    "\n",
    "axis[1].plot(pheno['bolting_days'], pheno['branches'],'.')\n",
    "axis[1].set_xlabel('bolting_days')\n",
    "axis[1].set_ylabel('branches')"
   ]
  },
  {
   "cell_type": "markdown",
   "id": "25689dd7",
   "metadata": {
    "pycharm": {
     "name": "#%% md\n"
    }
   },
   "source": [
    "Here I make 2 rows and 3 columns:"
   ]
  },
  {
   "cell_type": "code",
   "execution_count": null,
   "id": "2636cb5b",
   "metadata": {
    "collapsed": false,
    "jupyter": {
     "outputs_hidden": false
    },
    "pycharm": {
     "name": "#%%\n"
    }
   },
   "outputs": [],
   "source": [
    "figure ,axis = plt.subplots(2,3, figsize=(12,6))\n",
    "\n",
    "first_row = axis[0]\n",
    "first_row[0].plot(pheno['seed_weight'], pheno['seed_area'],'.')\n",
    "first_row[0].set_xlabel('seed_weight')\n",
    "first_row[0].set_ylabel('seed_area')\n",
    "\n",
    "second_row = axis[1]\n",
    "second_row[1].plot(pheno['bolting_days'], pheno['branches'],'.')\n",
    "second_row[1].set_xlabel('bolting_days')\n",
    "second_row[1].set_ylabel('branches')"
   ]
  },
  {
   "cell_type": "markdown",
   "id": "d07c6e0c",
   "metadata": {
    "pycharm": {
     "name": "#%% md\n"
    }
   },
   "source": [
    "**Self-check**: add more comparisons of the phenotypes to the plot above. Take a screenshot and paste the resulting plot into Teams so everyone can see your plot."
   ]
  },
  {
   "cell_type": "markdown",
   "id": "ba69f49b",
   "metadata": {
    "pycharm": {
     "name": "#%% md\n"
    }
   },
   "source": [
    "**Self-check**: Make your own subplots where you plot for each of the five arabidopsis chromosomes, the marker position versus the association with the *fruit_length* phenotype."
   ]
  },
  {
   "cell_type": "markdown",
   "id": "18c95b1b",
   "metadata": {
    "pycharm": {
     "name": "#%% md\n"
    }
   },
   "source": [
    "## Extra.2.1 `scatter` function\n",
    "The matplotlib scatter allows us to add a 3rd dimension to our 2-D plots using color or point size. Just like with `plot` we specify our x and y axis, but then we can specify the color of each point:"
   ]
  },
  {
   "cell_type": "code",
   "execution_count": null,
   "id": "b18c907b",
   "metadata": {
    "collapsed": false,
    "jupyter": {
     "outputs_hidden": false
    },
    "pycharm": {
     "name": "#%%\n"
    }
   },
   "outputs": [],
   "source": [
    "plt.scatter(pheno['seed_weight'],\n",
    "            pheno['seed_area'],\n",
    "            c = pheno['bolting_days'])"
   ]
  },
  {
   "cell_type": "markdown",
   "id": "2227b7b5",
   "metadata": {
    "pycharm": {
     "name": "#%% md\n"
    }
   },
   "source": [
    "This is the same thing, using the figure and axes.  We can also use the figure object to add a colorbar for the legend:"
   ]
  },
  {
   "cell_type": "code",
   "execution_count": null,
   "id": "96c1f17e",
   "metadata": {
    "collapsed": false,
    "jupyter": {
     "outputs_hidden": false
    },
    "pycharm": {
     "name": "#%%\n"
    }
   },
   "outputs": [],
   "source": [
    "f, ax = plt.subplots(1)\n",
    "scatter_res = ax.scatter(pheno['seed_weight'],\n",
    "            pheno['seed_area'],\n",
    "            c = pheno['bolting_days'])\n",
    "f.colorbar(scatter_res)"
   ]
  }
 ],
 "metadata": {
  "kernelspec": {
   "display_name": "Python 3 (ipykernel)",
   "language": "python",
   "name": "python3"
  },
  "language_info": {
   "codemirror_mode": {
    "name": "ipython",
    "version": 3
   },
   "file_extension": ".py",
   "mimetype": "text/x-python",
   "name": "python",
   "nbconvert_exporter": "python",
   "pygments_lexer": "ipython3",
   "version": "3.7.13"
  }
 },
 "nbformat": 4,
 "nbformat_minor": 5
}