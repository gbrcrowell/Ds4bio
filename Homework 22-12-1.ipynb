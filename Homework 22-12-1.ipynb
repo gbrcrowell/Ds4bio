{
 "cells": [
  {
   "cell_type": "code",
   "execution_count": 19,
   "outputs": [],
   "source": [
    "import pandas as pd, numpy as np, seaborn as sns, matplotlib.pyplot as plt, statsmodels.api as sm\n",
    "from scipy.stats import bernoulli\n",
    "sns.set_theme()\n",
    "from scipy.stats import norm\n",
    "\n",
    "counts = pd.read_table(\"arabidopsis_birds/eco_data/species_counts.txt\")\n",
    "sites = pd.read_table(\"arabidopsis_birds/eco_data/eco_sites.txt\")"
   ],
   "metadata": {
    "collapsed": false,
    "pycharm": {
     "name": "#%%\n"
    }
   }
  },
  {
   "cell_type": "markdown",
   "source": [
    "write code that will use 2 variables, lower_elevation and higher_elevation and can calculate the log odds of having megalaima for sites with elevation between those 2 values.\n",
    "\n",
    "For example, with lower_elevation = 750 and higher_elevation = 1250, the log odds is about 1.1\n",
    "\n",
    "\n",
    "ALSO: hint for the homework.... you should be using boolean indexing to get the sites that are between the two elevations"
   ],
   "metadata": {
    "collapsed": false,
    "pycharm": {
     "name": "#%% md\n"
    }
   }
  },
  {
   "cell_type": "code",
   "execution_count": 28,
   "outputs": [
    {
     "name": "stdout",
     "output_type": "stream",
     "text": [
      "Between elevations 1467 and 2781, the log odds is -0.41 and p value is 0.4.\n"
     ]
    }
   ],
   "source": [
    "is_mega = counts.columns.str.contains('Megalaima')\n",
    "sites['has_mega'] = counts.loc[:,is_mega].sum(axis=1) > 0\n",
    "# adds has mega to the sites DF\n",
    "\n",
    "tval = np.linspace(sites['Elevation'].min(), sites['Elevation'].max(), 4)[1:3]\n",
    "# creates our higher elevation and lower elevation\n",
    "\n",
    "lsites = sites['Elevation'] >= tval[0]\n",
    "hsites = sites['Elevation'] <= tval[1]\n",
    "# finds the upper and lower bounds\n",
    "\n",
    "usites = sites[lsites & hsites]\n",
    "# sums the upper and lower bounds to find sites between the two bounds\n",
    "\n",
    "prob = usites['has_mega'].mean()\n",
    "# finds the prob for sites between the two bounds\n",
    "\n",
    "l_odd = np.log(prob/(1-prob))\n",
    "# calculates the log odds for sites between the two bounds\n",
    "\n",
    "print(f'Between elevations {round(tval[0])} and {round(tval[1])}, the log odds is {round(l_odd, 2)} and p value is {p_val}.')\n",
    "# round limits the float to an int or just 2 decimal places."
   ],
   "metadata": {
    "collapsed": false,
    "pycharm": {
     "name": "#%%\n"
    }
   }
  }
 ],
 "metadata": {
  "kernelspec": {
   "display_name": "Python 3",
   "language": "python",
   "name": "python3"
  },
  "language_info": {
   "codemirror_mode": {
    "name": "ipython",
    "version": 2
   },
   "file_extension": ".py",
   "mimetype": "text/x-python",
   "name": "python",
   "nbconvert_exporter": "python",
   "pygments_lexer": "ipython2",
   "version": "2.7.6"
  }
 },
 "nbformat": 4,
 "nbformat_minor": 0
}