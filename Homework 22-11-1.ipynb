{
 "cells": [
  {
   "cell_type": "code",
   "execution_count": 58,
   "metadata": {
    "collapsed": true,
    "pycharm": {
     "name": "#%%\n"
    }
   },
   "outputs": [],
   "source": [
    "import pandas as pd\n",
    "import numpy as np\n",
    "import seaborn as sns\n",
    "from scipy.stats import bernoulli\n",
    "samples = []\n",
    "for i in range(20):\n",
    "    samples.append( bernoulli.rvs(size=10000,p=.8) )\n",
    "samples = pd.Series(samples)"
   ]
  },
  {
   "cell_type": "markdown",
   "source": [
    "`A.` Calculate the likelihood for the first sample under 4 different Bernoulli models: p = .2, p=.4, p=.6, p=.8 (remember, likelihood is sum of the logs of the probabilities of each of hte observations). Describe the likelihood results. Is it what you expect? Which is the most likely model?"
   ],
   "metadata": {
    "collapsed": false,
    "pycharm": {
     "name": "#%% md\n"
    }
   }
  },
  {
   "cell_type": "code",
   "execution_count": 59,
   "outputs": [
    {
     "name": "stdout",
     "output_type": "stream",
     "text": [
      "[13449.329483324245, 8389.279892471171, 5881.883663930284, 4876.485154158849]\n"
     ]
    }
   ],
   "source": [
    "four = [0.2, 0.4, 0.6, 0.8]\n",
    "# in a list define the different model probabilities\n",
    "model_x = []\n",
    "# create empty list\n",
    "\n",
    "for x in four:\n",
    "    # moves between each of our four probabilities\n",
    "    a1 = bernoulli.pmf(samples[0],p=x)\n",
    "    # for each probability x we create an array of probabilities for each item in our sample\n",
    "    a2 = np.log(a1)\n",
    "    # we take the log of every value in the array\n",
    "    model_x.append(a2.sum() * -1)\n",
    "    # adds the array to the list (times by -1)\n",
    "\n",
    "print(model_x)\n",
    "# prints our empty list\n",
    "\n",
    "## I think that the 0.8 list should fit closely with our sample as the sample was created at 0.8, of corse because we only have 30 units of data there can be significant stray."
   ],
   "metadata": {
    "collapsed": false,
    "pycharm": {
     "name": "#%%\n"
    }
   }
  },
  {
   "cell_type": "markdown",
   "source": [
    "`B.` For each of the 4 different models, calculate the likelihood for all 20 samlpes, and make a histogram of the distribution of the likelihoods  (4 separate histograms is ok, nothing fancy) Explain/interpret the results. What is different? Which model is most likely and how ccan you see that in the histograms?"
   ],
   "metadata": {
    "collapsed": false,
    "pycharm": {
     "name": "#%% md\n"
    }
   }
  },
  {
   "cell_type": "code",
   "execution_count": 60,
   "outputs": [
    {
     "data": {
      "text/plain": "               0            1            2            3\n0   13449.329483  8389.279892  5881.883664  4876.485154\n1   13299.609692  8345.489661  5925.673896  5026.204945\n2   13327.335580  8353.598963  5917.564593  4998.479058\n3   13460.419838  8392.523613  5878.639943  4865.394799\n4   13259.407156  8333.731173  5937.432384  5066.407482\n5   13270.497511  8336.974894  5934.188663  5055.317127\n6   13424.376185  8381.981521  5889.182036  4901.438453\n7   13373.083293  8366.979312  5904.184245  4952.731344\n8   13429.921362  8383.603381  5887.560175  4895.893275\n9   13252.475684  8331.703847  5939.459709  5073.338953\n10  13416.058419  8379.548730  5891.614827  4909.756219\n11  13370.310705  8366.168381  5904.995175  4955.503933\n12  13287.133043  8341.840475  5929.323082  5038.681594\n13  13282.974160  8340.624079  5930.539477  5042.840477\n14  13363.379233  8364.141056  5907.022501  4962.435405\n15  13228.908680  8324.810940  5946.352616  5096.905958\n16  13389.718826  8371.844893  5899.318664  4936.095812\n17  13282.974160  8340.624079  5930.539477  5042.840477\n18  13317.631519  8350.760707  5920.402849  5008.183118\n19  13284.360454  8341.029545  5930.134012  5041.454183",
      "text/html": "<div>\n<style scoped>\n    .dataframe tbody tr th:only-of-type {\n        vertical-align: middle;\n    }\n\n    .dataframe tbody tr th {\n        vertical-align: top;\n    }\n\n    .dataframe thead th {\n        text-align: right;\n    }\n</style>\n<table border=\"1\" class=\"dataframe\">\n  <thead>\n    <tr style=\"text-align: right;\">\n      <th></th>\n      <th>0</th>\n      <th>1</th>\n      <th>2</th>\n      <th>3</th>\n    </tr>\n  </thead>\n  <tbody>\n    <tr>\n      <th>0</th>\n      <td>13449.329483</td>\n      <td>8389.279892</td>\n      <td>5881.883664</td>\n      <td>4876.485154</td>\n    </tr>\n    <tr>\n      <th>1</th>\n      <td>13299.609692</td>\n      <td>8345.489661</td>\n      <td>5925.673896</td>\n      <td>5026.204945</td>\n    </tr>\n    <tr>\n      <th>2</th>\n      <td>13327.335580</td>\n      <td>8353.598963</td>\n      <td>5917.564593</td>\n      <td>4998.479058</td>\n    </tr>\n    <tr>\n      <th>3</th>\n      <td>13460.419838</td>\n      <td>8392.523613</td>\n      <td>5878.639943</td>\n      <td>4865.394799</td>\n    </tr>\n    <tr>\n      <th>4</th>\n      <td>13259.407156</td>\n      <td>8333.731173</td>\n      <td>5937.432384</td>\n      <td>5066.407482</td>\n    </tr>\n    <tr>\n      <th>5</th>\n      <td>13270.497511</td>\n      <td>8336.974894</td>\n      <td>5934.188663</td>\n      <td>5055.317127</td>\n    </tr>\n    <tr>\n      <th>6</th>\n      <td>13424.376185</td>\n      <td>8381.981521</td>\n      <td>5889.182036</td>\n      <td>4901.438453</td>\n    </tr>\n    <tr>\n      <th>7</th>\n      <td>13373.083293</td>\n      <td>8366.979312</td>\n      <td>5904.184245</td>\n      <td>4952.731344</td>\n    </tr>\n    <tr>\n      <th>8</th>\n      <td>13429.921362</td>\n      <td>8383.603381</td>\n      <td>5887.560175</td>\n      <td>4895.893275</td>\n    </tr>\n    <tr>\n      <th>9</th>\n      <td>13252.475684</td>\n      <td>8331.703847</td>\n      <td>5939.459709</td>\n      <td>5073.338953</td>\n    </tr>\n    <tr>\n      <th>10</th>\n      <td>13416.058419</td>\n      <td>8379.548730</td>\n      <td>5891.614827</td>\n      <td>4909.756219</td>\n    </tr>\n    <tr>\n      <th>11</th>\n      <td>13370.310705</td>\n      <td>8366.168381</td>\n      <td>5904.995175</td>\n      <td>4955.503933</td>\n    </tr>\n    <tr>\n      <th>12</th>\n      <td>13287.133043</td>\n      <td>8341.840475</td>\n      <td>5929.323082</td>\n      <td>5038.681594</td>\n    </tr>\n    <tr>\n      <th>13</th>\n      <td>13282.974160</td>\n      <td>8340.624079</td>\n      <td>5930.539477</td>\n      <td>5042.840477</td>\n    </tr>\n    <tr>\n      <th>14</th>\n      <td>13363.379233</td>\n      <td>8364.141056</td>\n      <td>5907.022501</td>\n      <td>4962.435405</td>\n    </tr>\n    <tr>\n      <th>15</th>\n      <td>13228.908680</td>\n      <td>8324.810940</td>\n      <td>5946.352616</td>\n      <td>5096.905958</td>\n    </tr>\n    <tr>\n      <th>16</th>\n      <td>13389.718826</td>\n      <td>8371.844893</td>\n      <td>5899.318664</td>\n      <td>4936.095812</td>\n    </tr>\n    <tr>\n      <th>17</th>\n      <td>13282.974160</td>\n      <td>8340.624079</td>\n      <td>5930.539477</td>\n      <td>5042.840477</td>\n    </tr>\n    <tr>\n      <th>18</th>\n      <td>13317.631519</td>\n      <td>8350.760707</td>\n      <td>5920.402849</td>\n      <td>5008.183118</td>\n    </tr>\n    <tr>\n      <th>19</th>\n      <td>13284.360454</td>\n      <td>8341.029545</td>\n      <td>5930.134012</td>\n      <td>5041.454183</td>\n    </tr>\n  </tbody>\n</table>\n</div>"
     },
     "execution_count": 60,
     "metadata": {},
     "output_type": "execute_result"
    },
    {
     "data": {
      "text/plain": "<Figure size 360x360 with 1 Axes>",
      "image/png": "[encoded data removed]"
     },
     "metadata": {},
     "output_type": "display_data"
    },
    {
     "data": {
      "text/plain": "<Figure size 360x360 with 1 Axes>",
      "image/png": "[encoded data removed]"
     },
     "metadata": {},
     "output_type": "display_data"
    },
    {
     "data": {
      "text/plain": "<Figure size 360x360 with 1 Axes>",
      "image/png": "[encoded data removed]"
     },
     "metadata": {},
     "output_type": "display_data"
    },
    {
     "data": {
      "text/plain": "<Figure size 360x360 with 1 Axes>",
      "image/png": "[encoded data removed]"
     },
     "metadata": {},
     "output_type": "display_data"
    }
   ],
   "source": [
    "four = [0.2, 0.4, 0.6, 0.8]\n",
    "# in a list define the different model probabilities\n",
    "d = {}\n",
    "# create empty dictionary\n",
    "for n in range(samples.count()):\n",
    "    # moves between zero and the number of samples -1 creating an int called n\n",
    "    # there is a faster way to do this\n",
    "    model_x = []\n",
    "    # every time we move to a new n we create a new empty list\n",
    "    for x in four:\n",
    "        # moves between each of our four probabilities\n",
    "        a1 = bernoulli.pmf(samples[n],p=x)\n",
    "        # for each probability x we create an array of probabilities for each item in our sample\n",
    "        a2 = np.log(a1)\n",
    "        # we take the log of every value in the array\n",
    "        model_x.append(a2.sum() * -1)\n",
    "        # adds each array (times by -1) of probabilities for each probabilty to the list for the sample\n",
    "    d[n] = model_x\n",
    "    # adds each list for each sample to our dictionary of all samples\n",
    "df = pd.DataFrame(d).transpose()\n",
    "# transforms our dictuionary to a dataframe (transpose is used because our x and y are flipped)\n",
    "#print(df)\n",
    "# print to check dataframe\n",
    "sns.displot(data=df, x=0)\n",
    "sns.displot(data=df, x=1)\n",
    "sns.displot(data=df, x=2)\n",
    "sns.displot(data=df, x=3)\n",
    "# creats a histogram for each column (probability) in our dataframe\n",
    "\n",
    "## As I predicted in the last question I predict again that the 0.8 will be most like the sample.\n",
    "## I have no idea why my histogram looks the same I reset the data and did the same thing again, I looked over my code and cant figure out why either way.\n",
    "df"
   ],
   "metadata": {
    "collapsed": false,
    "pycharm": {
     "name": "#%%\n"
    }
   }
  },
  {
   "cell_type": "code",
   "execution_count": 60,
   "outputs": [],
   "source": [],
   "metadata": {
    "collapsed": false,
    "pycharm": {
     "name": "#%%\n"
    }
   }
  }
 ],
 "metadata": {
  "kernelspec": {
   "display_name": "Python 3",
   "language": "python",
   "name": "python3"
  },
  "language_info": {
   "codemirror_mode": {
    "name": "ipython",
    "version": 2
   },
   "file_extension": ".py",
   "mimetype": "text/x-python",
   "name": "python",
   "nbconvert_exporter": "python",
   "pygments_lexer": "ipython2",
   "version": "2.7.6"
  }
 },
 "nbformat": 4,
 "nbformat_minor": 0
}