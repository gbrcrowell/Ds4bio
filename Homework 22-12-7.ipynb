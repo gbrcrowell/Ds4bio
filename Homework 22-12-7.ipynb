{
 "cells": [
  {
   "cell_type": "code",
   "execution_count": 17,
   "outputs": [],
   "source": [
    "import pandas as pd, numpy as np, matplotlib.pyplot as plt\n",
    "from scipy.stats import bernoulli\n",
    "sites = pd.read_table(\"arabidopsis_birds/eco_data/eco_sites.txt\")\n",
    "counts = pd.read_table(\"arabidopsis_birds/eco_data/species_counts.txt\")\n",
    "\n",
    "is_mega = counts.columns.str.contains('Megalaima')\n",
    "sites['has_mega'] = counts.loc[:,is_mega].sum(axis=1) > 0"
   ],
   "metadata": {
    "collapsed": false,
    "pycharm": {
     "name": "#%%\n"
    }
   }
  },
  {
   "cell_type": "markdown",
   "source": [
    "Using the same linear model for has_mega  fixed intercept of 3.6, try 100 different values for the slope between -.005 and +.005. For each slope, calculate the likelihood of the has_megalaima observations. Plot slope versus the likelihood of the observations given that slope."
   ],
   "metadata": {
    "collapsed": false,
    "pycharm": {
     "name": "#%% md\n"
    }
   }
  },
  {
   "cell_type": "code",
   "execution_count": 18,
   "outputs": [],
   "source": [
    "slopes = np.linspace(-0.005, 0.005, 100)\n",
    "intercept = 3.6\n",
    "data = {\n",
    "    'slope':[],\n",
    "    'lky':[]\n",
    "}\n",
    "\n",
    "for slope in slopes:\n",
    "    pred_odds = sites['Elevation'] * slope + intercept\n",
    "    # uses slope and intercept of log odds to create a linear log odds model\n",
    "\n",
    "    pred_prob = 1 / (1 + np.exp(-1 * pred_odds))\n",
    "    # form our liner log odds model we create a logarithmic probability model\n",
    "\n",
    "    arr = bernoulli(p=pred_prob).pmf(sites['has_mega'])\n",
    "    # using bernoulli we find the probability of the observations\n",
    "\n",
    "    log = np.log(arr)\n",
    "    # we take the log of the probabilities\n",
    "\n",
    "    data['lky'].append(log.sum())\n",
    "    data['slope'].append(slope)\n",
    "    # we sum the logs to get likelihood and add it to our data dictionary with the slope\n",
    "\n",
    "data = pd.DataFrame(data)"
   ],
   "metadata": {
    "collapsed": false,
    "pycharm": {
     "name": "#%%\n"
    }
   }
  },
  {
   "cell_type": "code",
   "execution_count": 19,
   "outputs": [
    {
     "data": {
      "text/plain": "<Figure size 432x288 with 1 Axes>",
      "image/png": "[encoded data removed]"
     },
     "metadata": {},
     "output_type": "display_data"
    }
   ],
   "source": [
    "plt.plot(data['slope'], data['lky'])\n",
    "plt.show()\n",
    "# plots slope vs likelihood"
   ],
   "metadata": {
    "collapsed": false,
    "pycharm": {
     "name": "#%%\n"
    }
   }
  }
 ],
 "metadata": {
  "kernelspec": {
   "display_name": "Python 3",
   "language": "python",
   "name": "python3"
  },
  "language_info": {
   "codemirror_mode": {
    "name": "ipython",
    "version": 2
   },
   "file_extension": ".py",
   "mimetype": "text/x-python",
   "name": "python",
   "nbconvert_exporter": "python",
   "pygments_lexer": "ipython2",
   "version": "2.7.6"
  }
 },
 "nbformat": 4,
 "nbformat_minor": 0
}