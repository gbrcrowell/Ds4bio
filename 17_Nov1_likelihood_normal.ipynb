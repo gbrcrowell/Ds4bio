{
 "cells": [
  {
   "cell_type": "markdown",
   "id": "72aa1f66-429b-4a21-9de9-6f5e4a836b75",
   "metadata": {
    "pycharm": {
     "name": "#%% md\n"
    }
   },
   "source": [
    "## Learning objectives\n",
    "- Understand how the parameter of the model influences the probabilities of seeing different values from a model.\n",
    "- Predict how models with different probability of observations taking on certain values will generate different data\n",
    "- Implement the principle of maximum likelihood to find the best model.\n",
    "- Describe how "
   ]
  },
  {
   "cell_type": "code",
   "execution_count": 12,
   "id": "f81db392-91bf-452f-ab09-ca71711f9758",
   "metadata": {
    "pycharm": {
     "name": "#%%\n"
    }
   },
   "outputs": [],
   "source": [
    "## some imports...\n",
    "import pandas as pd\n",
    "import numpy as np\n",
    "import seaborn as sns\n",
    "sns.set_theme()\n",
    "from scipy.stats import bernoulli\n",
    "# import  statsmodels\n",
    "\n",
    "%matplotlib inline"
   ]
  },
  {
   "cell_type": "markdown",
   "id": "b7fc9854-b197-4b93-a9d7-2a23cb9f5e05",
   "metadata": {
    "pycharm": {
     "name": "#%% md\n"
    }
   },
   "source": [
    "## 1.1 From probability to likelihood\n",
    "Note that this gave us the probility of each observation. We want to get an overall score of how close our model to our data so we can automatically pick a good model.  This is called the **likelihood** of seeing our data, given that model. The models with the highest likelihood is the best model."
   ]
  },
  {
   "cell_type": "code",
   "execution_count": 13,
   "id": "5ba795a3-2403-4310-88fb-07796bb0a82f",
   "metadata": {
    "pycharm": {
     "name": "#%%\n"
    }
   },
   "outputs": [],
   "source": [
    "model1 = bernoulli(p=0.05)"
   ]
  },
  {
   "cell_type": "code",
   "execution_count": 14,
   "id": "f35e61e1-b9d1-4254-b1bd-c5cd86dcd2a5",
   "metadata": {
    "pycharm": {
     "name": "#%%\n"
    }
   },
   "outputs": [],
   "source": [
    "model2 = bernoulli(p=0.9)"
   ]
  },
  {
   "cell_type": "markdown",
   "id": "bc7f112f-93d9-4464-be5b-d4c2ea230032",
   "metadata": {
    "pycharm": {
     "name": "#%% md\n"
    }
   },
   "source": [
    "For a single observation `[1]` we know the probability of getting that observation was 0.05 from `model1` and 0.9 from `model2`. That's how **likely** each model is to create this one observation.\n",
    "\n",
    "Now let's go to multiple observations."
   ]
  },
  {
   "cell_type": "markdown",
   "id": "5816c995-2fb8-4d6b-a2df-7cfc0c1281d6",
   "metadata": {
    "pycharm": {
     "name": "#%% md\n"
    }
   },
   "source": [
    "(Recap) **Exercise 1.2**: Which model above is more likely for each of the following data sets (each containing 5 observations)?\n",
    "1. `[0, 0, 1, 0, 0]`\n",
    "2. `[1, 1, 1, 1, 0]`\n",
    "  \n",
    "As we discussed `model1` is more likely for 1 and `model2` for 2. Because a p=0.05 model has a probability of 0.05 of generating 1 and 0.95 of generating a 0.\n",
    "\n",
    "But we want the computer to automatically be able to pick the best model, not us! Therefore we make a score, that says: when your overall observations are *more likely to have come from this model vs other models* then this most likely model is the best one.\n",
    "\n",
    "A bit of math: feel free to ignore: BASICALLY with independent observations, the likelihood of observing all of them is the product of their individual probabilities.. so we would like to multiply together probabilities to get this overall value. So for data set 1 `[0, 0, 1, 0, 0]`:\n",
    "\n",
    "$$ likelihood = p(0 | model1) \\times p(0 | model1) \\times p(1 | model1) \\times p(0 | model1) \\times p(0 | model1 )$$\n",
    "\n",
    "But, with many observations this can get very small when you multiply together many things that are under 1. THe rules of log are: $log(A \\times B) = log(A) + log(B)$. So we log them and add it up to get this overall likleihood."
   ]
  },
  {
   "cell_type": "code",
   "execution_count": 15,
   "outputs": [
    {
     "data": {
      "text/plain": "-9.315700887634009"
     },
     "execution_count": 15,
     "metadata": {},
     "output_type": "execute_result"
    }
   ],
   "source": [
    "data = [0,0,1,0,0]\n",
    "score = 0\n",
    "for d in data:\n",
    "    a = model2.pmf(d)\n",
    "    score = np.log(a) + score\n",
    "\n",
    "score"
   ],
   "metadata": {
    "collapsed": false,
    "pycharm": {
     "name": "#%%\n"
    }
   }
  },
  {
   "cell_type": "markdown",
   "id": "bc6aa7a5-6e6e-4c86-9b3c-91c74e805717",
   "metadata": {
    "pycharm": {
     "name": "#%% md\n"
    }
   },
   "source": [
    "\n",
    "Therefore, we are going to use the *logarithm, summed across all observations* to get an overall picture of the closeness of the model and the data."
   ]
  },
  {
   "cell_type": "markdown",
   "id": "d29df045-6c8f-44d9-b1fe-9e06df4f6dd3",
   "metadata": {
    "pycharm": {
     "name": "#%% md\n"
    }
   },
   "source": [
    "**Exercise 1.1.1**: Make a plot comparing 100 values between 0 and 1 (for probilities from the pmf function) versus their logs. Below is how your take the log. Then, interpret the plot. How do the axes compare?"
   ]
  },
  {
   "cell_type": "code",
   "execution_count": 16,
   "id": "e2a795ca-2b66-4dcb-ac05-efb50356b50e",
   "metadata": {
    "pycharm": {
     "name": "#%%\n"
    }
   },
   "outputs": [
    {
     "data": {
      "text/plain": "<seaborn.axisgrid.FacetGrid at 0x7fae58f71220>"
     },
     "execution_count": 16,
     "metadata": {},
     "output_type": "execute_result"
    },
    {
     "data": {
      "text/plain": "<Figure size 360x360 with 1 Axes>",
      "image/png": "[encoded data removed]"
     },
     "metadata": {
      "needs_background": "light"
     },
     "output_type": "display_data"
    }
   ],
   "source": [
    "p = np.linspace(.01,1,100)\n",
    "for_plot = pd.DataFrame({'p':p,\n",
    "                         'log': np.log(p)})\n",
    "sns.relplot(data=for_plot, x = 'p', y='log')"
   ]
  },
  {
   "cell_type": "markdown",
   "id": "38cd95ce-90c7-4404-bfbf-1f6f65be2585",
   "metadata": {
    "pycharm": {
     "name": "#%% md\n"
    }
   },
   "source": [
    "**Exercise 1.1.2**: **without doing math or code** describe which model is *more likely* (log sum of the probabilities) by considering the steps:\n",
    "\n",
    "1. Get probability of each observation\n",
    "2. Get the log of each probability (refer to the plot above)\n",
    "3. Add those up\n",
    "\n",
    "For which model should the likelihood value be closer to zero? "
   ]
  },
  {
   "cell_type": "code",
   "execution_count": 17,
   "id": "2348d69d-643f-4aee-bc6f-ff8ce338ecd3",
   "metadata": {
    "pycharm": {
     "name": "#%%\n"
    }
   },
   "outputs": [],
   "source": [
    "# model 1 should be much higher as it mostly generates zeros in a data set of zeros and one one it should follow that model one could have created that graph\n",
    "# prob with pmf\n",
    "# log of prob\n",
    "# add them up"
   ]
  },
  {
   "cell_type": "markdown",
   "id": "453a7731-12d2-4d29-93d2-ad5d204d97e9",
   "metadata": {
    "pycharm": {
     "name": "#%% md\n"
    }
   },
   "source": [
    "## Homework\n",
    "Here I'm creating 20 data sets (samples), each containing 30 observations, from a bernoulli model with p = 0.8.\n",
    " \n",
    "```\n",
    "list_of_bernoulli_samples = []\n",
    "bern_p8 = bernoulli(p = 0.8 )\n",
    "for i in range(20):\n",
    "    list_of_bernoulli_samples.append( bernoulli.rvs(size=30) )\n",
    "```\n",
    "So this is a list of lists-- every item in this list is 30 samples from a bernoulli.\n",
    " \n",
    "Write code to use this data\n",
    "\n",
    "A. Calculate the likelihood for the first sample under 4 different Bernoulli models: p = .2, p=.4, p=.6, p=.8 (remember, likelihood is sum of the logs of the probabilities of each of hte observations). Describe the likelihood results. Is it what you expect? Which is the most likely model?\n",
    " \n",
    "B. For each of the 4 different models, calculate the likelihood for all 20 samlpes, and make a histogram of the distribution of the likelihoods  (4 separate histograms is ok, nothing fancy) Explain/interpret the results. What is different? Which model is most likely and how ccan you see that in the histograms?"
   ]
  },
  {
   "cell_type": "markdown",
   "id": "3088a95e-8fa3-4d1e-9097-933492c42532",
   "metadata": {
    "pycharm": {
     "name": "#%% md\n"
    }
   },
   "source": [
    "**Exercise 1.1.3**: You can copy over some of your code from the previous notebook Exercise 2.2.3. But change it to use the maximium likelihood to find the best model. Plot the value of p versus the likelihood."
   ]
  },
  {
   "cell_type": "code",
   "execution_count": 18,
   "id": "31d73791-d835-4c4e-9713-441719468412",
   "metadata": {
    "pycharm": {
     "name": "#%%\n"
    }
   },
   "outputs": [
    {
     "name": "stderr",
     "output_type": "stream",
     "text": [
      "/var/folders/7z/1swymzp511x0s43d476pgl2h0000gp/T/ipykernel_51279/592535568.py:6: RuntimeWarning: divide by zero encountered in log\n",
      "  prob_logs = np.log(bernoulli.pmf(binary_marker, p=prob))\n"
     ]
    },
    {
     "data": {
      "text/plain": "        prob         logs\n0   0.000000          inf\n1   0.010101  3001.120881\n2   0.020202  2549.008597\n3   0.030303  2284.758021\n4   0.040404  2097.425192\n..       ...          ...\n95  0.959596   187.372926\n96  0.969697   194.919271\n97  0.979798   208.425627\n98  0.989899   236.385491\n99  1.000000          inf\n\n[100 rows x 2 columns]",
      "text/html": "<div>\n<style scoped>\n    .dataframe tbody tr th:only-of-type {\n        vertical-align: middle;\n    }\n\n    .dataframe tbody tr th {\n        vertical-align: top;\n    }\n\n    .dataframe thead th {\n        text-align: right;\n    }\n</style>\n<table border=\"1\" class=\"dataframe\">\n  <thead>\n    <tr style=\"text-align: right;\">\n      <th></th>\n      <th>prob</th>\n      <th>logs</th>\n    </tr>\n  </thead>\n  <tbody>\n    <tr>\n      <th>0</th>\n      <td>0.000000</td>\n      <td>inf</td>\n    </tr>\n    <tr>\n      <th>1</th>\n      <td>0.010101</td>\n      <td>3001.120881</td>\n    </tr>\n    <tr>\n      <th>2</th>\n      <td>0.020202</td>\n      <td>2549.008597</td>\n    </tr>\n    <tr>\n      <th>3</th>\n      <td>0.030303</td>\n      <td>2284.758021</td>\n    </tr>\n    <tr>\n      <th>4</th>\n      <td>0.040404</td>\n      <td>2097.425192</td>\n    </tr>\n    <tr>\n      <th>...</th>\n      <td>...</td>\n      <td>...</td>\n    </tr>\n    <tr>\n      <th>95</th>\n      <td>0.959596</td>\n      <td>187.372926</td>\n    </tr>\n    <tr>\n      <th>96</th>\n      <td>0.969697</td>\n      <td>194.919271</td>\n    </tr>\n    <tr>\n      <th>97</th>\n      <td>0.979798</td>\n      <td>208.425627</td>\n    </tr>\n    <tr>\n      <th>98</th>\n      <td>0.989899</td>\n      <td>236.385491</td>\n    </tr>\n    <tr>\n      <th>99</th>\n      <td>1.000000</td>\n      <td>inf</td>\n    </tr>\n  </tbody>\n</table>\n<p>100 rows × 2 columns</p>\n</div>"
     },
     "execution_count": 18,
     "metadata": {},
     "output_type": "execute_result"
    }
   ],
   "source": [
    "geno = pd.read_table(\"arabidopsis_birds/arabmagic/arabmagic_geno.csv\", sep=\",\",skiprows=3,index_col=0)\n",
    "binary_marker = (geno.loc['MASC06116', :] == 'A').astype(int)\n",
    "bins = np.linspace(0,1, 100)\n",
    "logs = []\n",
    "for prob in bins:\n",
    "    prob_logs = np.log(bernoulli.pmf(binary_marker, p=prob))\n",
    "    logs.append(prob_logs.sum() * -1)\n",
    "logs_df = pd.DataFrame({'prob':bins, 'logs':logs})\n",
    "logs_df.sort_values('logs').head(1).iloc[0, 0]\n",
    "logs_df"
   ]
  },
  {
   "cell_type": "markdown",
   "id": "ac729a83-1189-4db0-b7ab-b75077b748b4",
   "metadata": {
    "pycharm": {
     "name": "#%% md\n"
    }
   },
   "source": [
    "# 2. Normal (Gaussian) model for number data\n",
    "Just like with the Binary data and the Bernoulli, there are built-in models for number data.\n",
    "\n",
    "The bell curve aka Normal aka Guassian model is good for modeling data that is:\n",
    "- numbers\n",
    "- most of them are close to the mean\n",
    "- distribution is symmetricl"
   ]
  },
  {
   "cell_type": "code",
   "execution_count": 19,
   "id": "9643d5fb-90c6-470f-b858-a556f6c4eb3a",
   "metadata": {
    "pycharm": {
     "name": "#%%\n"
    }
   },
   "outputs": [
    {
     "ename": "FileNotFoundError",
     "evalue": "[Errno 2] No such file or directory: 'data/arabmagic/arabmagic_geno.csv'",
     "output_type": "error",
     "traceback": [
      "\u001B[0;31m---------------------------------------------------------------------------\u001B[0m",
      "\u001B[0;31mFileNotFoundError\u001B[0m                         Traceback (most recent call last)",
      "Input \u001B[0;32mIn [19]\u001B[0m, in \u001B[0;36m<cell line: 1>\u001B[0;34m()\u001B[0m\n\u001B[0;32m----> 1\u001B[0m geno \u001B[38;5;241m=\u001B[39m \u001B[43mpd\u001B[49m\u001B[38;5;241;43m.\u001B[39;49m\u001B[43mread_table\u001B[49m\u001B[43m(\u001B[49m\u001B[38;5;124;43m\"\u001B[39;49m\u001B[38;5;124;43mdata/arabmagic/arabmagic_geno.csv\u001B[39;49m\u001B[38;5;124;43m\"\u001B[39;49m\u001B[43m,\u001B[49m\u001B[43m \u001B[49m\u001B[43msep\u001B[49m\u001B[38;5;241;43m=\u001B[39;49m\u001B[38;5;124;43m\"\u001B[39;49m\u001B[38;5;124;43m,\u001B[39;49m\u001B[38;5;124;43m\"\u001B[39;49m\u001B[43m,\u001B[49m\u001B[43mskiprows\u001B[49m\u001B[38;5;241;43m=\u001B[39;49m\u001B[38;5;241;43m3\u001B[39;49m\u001B[43m,\u001B[49m\u001B[43mindex_col\u001B[49m\u001B[38;5;241;43m=\u001B[39;49m\u001B[38;5;241;43m0\u001B[39;49m\u001B[43m)\u001B[49m\n\u001B[1;32m      2\u001B[0m pheno \u001B[38;5;241m=\u001B[39m pd\u001B[38;5;241m.\u001B[39mread_table(\u001B[38;5;124m\"\u001B[39m\u001B[38;5;124mdata/arabmagic/arabmagic_pheno.csv\u001B[39m\u001B[38;5;124m\"\u001B[39m, sep\u001B[38;5;241m=\u001B[39m\u001B[38;5;124m\"\u001B[39m\u001B[38;5;124m,\u001B[39m\u001B[38;5;124m\"\u001B[39m,skiprows\u001B[38;5;241m=\u001B[39m\u001B[38;5;241m3\u001B[39m,index_col\u001B[38;5;241m=\u001B[39m\u001B[38;5;241m0\u001B[39m)\n\u001B[1;32m      4\u001B[0m sns\u001B[38;5;241m.\u001B[39mdisplot(pheno,x\u001B[38;5;241m=\u001B[39m\u001B[38;5;124m'\u001B[39m\u001B[38;5;124mfruit_length\u001B[39m\u001B[38;5;124m'\u001B[39m)\n",
      "File \u001B[0;32m~/opt/anaconda3/lib/python3.9/site-packages/pandas/util/_decorators.py:311\u001B[0m, in \u001B[0;36mdeprecate_nonkeyword_arguments.<locals>.decorate.<locals>.wrapper\u001B[0;34m(*args, **kwargs)\u001B[0m\n\u001B[1;32m    305\u001B[0m \u001B[38;5;28;01mif\u001B[39;00m \u001B[38;5;28mlen\u001B[39m(args) \u001B[38;5;241m>\u001B[39m num_allow_args:\n\u001B[1;32m    306\u001B[0m     warnings\u001B[38;5;241m.\u001B[39mwarn(\n\u001B[1;32m    307\u001B[0m         msg\u001B[38;5;241m.\u001B[39mformat(arguments\u001B[38;5;241m=\u001B[39marguments),\n\u001B[1;32m    308\u001B[0m         \u001B[38;5;167;01mFutureWarning\u001B[39;00m,\n\u001B[1;32m    309\u001B[0m         stacklevel\u001B[38;5;241m=\u001B[39mstacklevel,\n\u001B[1;32m    310\u001B[0m     )\n\u001B[0;32m--> 311\u001B[0m \u001B[38;5;28;01mreturn\u001B[39;00m \u001B[43mfunc\u001B[49m\u001B[43m(\u001B[49m\u001B[38;5;241;43m*\u001B[39;49m\u001B[43margs\u001B[49m\u001B[43m,\u001B[49m\u001B[43m \u001B[49m\u001B[38;5;241;43m*\u001B[39;49m\u001B[38;5;241;43m*\u001B[39;49m\u001B[43mkwargs\u001B[49m\u001B[43m)\u001B[49m\n",
      "File \u001B[0;32m~/opt/anaconda3/lib/python3.9/site-packages/pandas/io/parsers/readers.py:779\u001B[0m, in \u001B[0;36mread_table\u001B[0;34m(filepath_or_buffer, sep, delimiter, header, names, index_col, usecols, squeeze, prefix, mangle_dupe_cols, dtype, engine, converters, true_values, false_values, skipinitialspace, skiprows, skipfooter, nrows, na_values, keep_default_na, na_filter, verbose, skip_blank_lines, parse_dates, infer_datetime_format, keep_date_col, date_parser, dayfirst, cache_dates, iterator, chunksize, compression, thousands, decimal, lineterminator, quotechar, quoting, doublequote, escapechar, comment, encoding, encoding_errors, dialect, error_bad_lines, warn_bad_lines, on_bad_lines, delim_whitespace, low_memory, memory_map, float_precision, storage_options)\u001B[0m\n\u001B[1;32m    764\u001B[0m kwds_defaults \u001B[38;5;241m=\u001B[39m _refine_defaults_read(\n\u001B[1;32m    765\u001B[0m     dialect,\n\u001B[1;32m    766\u001B[0m     delimiter,\n\u001B[0;32m   (...)\u001B[0m\n\u001B[1;32m    775\u001B[0m     defaults\u001B[38;5;241m=\u001B[39m{\u001B[38;5;124m\"\u001B[39m\u001B[38;5;124mdelimiter\u001B[39m\u001B[38;5;124m\"\u001B[39m: \u001B[38;5;124m\"\u001B[39m\u001B[38;5;130;01m\\t\u001B[39;00m\u001B[38;5;124m\"\u001B[39m},\n\u001B[1;32m    776\u001B[0m )\n\u001B[1;32m    777\u001B[0m kwds\u001B[38;5;241m.\u001B[39mupdate(kwds_defaults)\n\u001B[0;32m--> 779\u001B[0m \u001B[38;5;28;01mreturn\u001B[39;00m \u001B[43m_read\u001B[49m\u001B[43m(\u001B[49m\u001B[43mfilepath_or_buffer\u001B[49m\u001B[43m,\u001B[49m\u001B[43m \u001B[49m\u001B[43mkwds\u001B[49m\u001B[43m)\u001B[49m\n",
      "File \u001B[0;32m~/opt/anaconda3/lib/python3.9/site-packages/pandas/io/parsers/readers.py:575\u001B[0m, in \u001B[0;36m_read\u001B[0;34m(filepath_or_buffer, kwds)\u001B[0m\n\u001B[1;32m    572\u001B[0m _validate_names(kwds\u001B[38;5;241m.\u001B[39mget(\u001B[38;5;124m\"\u001B[39m\u001B[38;5;124mnames\u001B[39m\u001B[38;5;124m\"\u001B[39m, \u001B[38;5;28;01mNone\u001B[39;00m))\n\u001B[1;32m    574\u001B[0m \u001B[38;5;66;03m# Create the parser.\u001B[39;00m\n\u001B[0;32m--> 575\u001B[0m parser \u001B[38;5;241m=\u001B[39m \u001B[43mTextFileReader\u001B[49m\u001B[43m(\u001B[49m\u001B[43mfilepath_or_buffer\u001B[49m\u001B[43m,\u001B[49m\u001B[43m \u001B[49m\u001B[38;5;241;43m*\u001B[39;49m\u001B[38;5;241;43m*\u001B[39;49m\u001B[43mkwds\u001B[49m\u001B[43m)\u001B[49m\n\u001B[1;32m    577\u001B[0m \u001B[38;5;28;01mif\u001B[39;00m chunksize \u001B[38;5;129;01mor\u001B[39;00m iterator:\n\u001B[1;32m    578\u001B[0m     \u001B[38;5;28;01mreturn\u001B[39;00m parser\n",
      "File \u001B[0;32m~/opt/anaconda3/lib/python3.9/site-packages/pandas/io/parsers/readers.py:933\u001B[0m, in \u001B[0;36mTextFileReader.__init__\u001B[0;34m(self, f, engine, **kwds)\u001B[0m\n\u001B[1;32m    930\u001B[0m     \u001B[38;5;28mself\u001B[39m\u001B[38;5;241m.\u001B[39moptions[\u001B[38;5;124m\"\u001B[39m\u001B[38;5;124mhas_index_names\u001B[39m\u001B[38;5;124m\"\u001B[39m] \u001B[38;5;241m=\u001B[39m kwds[\u001B[38;5;124m\"\u001B[39m\u001B[38;5;124mhas_index_names\u001B[39m\u001B[38;5;124m\"\u001B[39m]\n\u001B[1;32m    932\u001B[0m \u001B[38;5;28mself\u001B[39m\u001B[38;5;241m.\u001B[39mhandles: IOHandles \u001B[38;5;241m|\u001B[39m \u001B[38;5;28;01mNone\u001B[39;00m \u001B[38;5;241m=\u001B[39m \u001B[38;5;28;01mNone\u001B[39;00m\n\u001B[0;32m--> 933\u001B[0m \u001B[38;5;28mself\u001B[39m\u001B[38;5;241m.\u001B[39m_engine \u001B[38;5;241m=\u001B[39m \u001B[38;5;28;43mself\u001B[39;49m\u001B[38;5;241;43m.\u001B[39;49m\u001B[43m_make_engine\u001B[49m\u001B[43m(\u001B[49m\u001B[43mf\u001B[49m\u001B[43m,\u001B[49m\u001B[43m \u001B[49m\u001B[38;5;28;43mself\u001B[39;49m\u001B[38;5;241;43m.\u001B[39;49m\u001B[43mengine\u001B[49m\u001B[43m)\u001B[49m\n",
      "File \u001B[0;32m~/opt/anaconda3/lib/python3.9/site-packages/pandas/io/parsers/readers.py:1217\u001B[0m, in \u001B[0;36mTextFileReader._make_engine\u001B[0;34m(self, f, engine)\u001B[0m\n\u001B[1;32m   1213\u001B[0m     mode \u001B[38;5;241m=\u001B[39m \u001B[38;5;124m\"\u001B[39m\u001B[38;5;124mrb\u001B[39m\u001B[38;5;124m\"\u001B[39m\n\u001B[1;32m   1214\u001B[0m \u001B[38;5;66;03m# error: No overload variant of \"get_handle\" matches argument types\u001B[39;00m\n\u001B[1;32m   1215\u001B[0m \u001B[38;5;66;03m# \"Union[str, PathLike[str], ReadCsvBuffer[bytes], ReadCsvBuffer[str]]\"\u001B[39;00m\n\u001B[1;32m   1216\u001B[0m \u001B[38;5;66;03m# , \"str\", \"bool\", \"Any\", \"Any\", \"Any\", \"Any\", \"Any\"\u001B[39;00m\n\u001B[0;32m-> 1217\u001B[0m \u001B[38;5;28mself\u001B[39m\u001B[38;5;241m.\u001B[39mhandles \u001B[38;5;241m=\u001B[39m \u001B[43mget_handle\u001B[49m\u001B[43m(\u001B[49m\u001B[43m  \u001B[49m\u001B[38;5;66;43;03m# type: ignore[call-overload]\u001B[39;49;00m\n\u001B[1;32m   1218\u001B[0m \u001B[43m    \u001B[49m\u001B[43mf\u001B[49m\u001B[43m,\u001B[49m\n\u001B[1;32m   1219\u001B[0m \u001B[43m    \u001B[49m\u001B[43mmode\u001B[49m\u001B[43m,\u001B[49m\n\u001B[1;32m   1220\u001B[0m \u001B[43m    \u001B[49m\u001B[43mencoding\u001B[49m\u001B[38;5;241;43m=\u001B[39;49m\u001B[38;5;28;43mself\u001B[39;49m\u001B[38;5;241;43m.\u001B[39;49m\u001B[43moptions\u001B[49m\u001B[38;5;241;43m.\u001B[39;49m\u001B[43mget\u001B[49m\u001B[43m(\u001B[49m\u001B[38;5;124;43m\"\u001B[39;49m\u001B[38;5;124;43mencoding\u001B[39;49m\u001B[38;5;124;43m\"\u001B[39;49m\u001B[43m,\u001B[49m\u001B[43m \u001B[49m\u001B[38;5;28;43;01mNone\u001B[39;49;00m\u001B[43m)\u001B[49m\u001B[43m,\u001B[49m\n\u001B[1;32m   1221\u001B[0m \u001B[43m    \u001B[49m\u001B[43mcompression\u001B[49m\u001B[38;5;241;43m=\u001B[39;49m\u001B[38;5;28;43mself\u001B[39;49m\u001B[38;5;241;43m.\u001B[39;49m\u001B[43moptions\u001B[49m\u001B[38;5;241;43m.\u001B[39;49m\u001B[43mget\u001B[49m\u001B[43m(\u001B[49m\u001B[38;5;124;43m\"\u001B[39;49m\u001B[38;5;124;43mcompression\u001B[39;49m\u001B[38;5;124;43m\"\u001B[39;49m\u001B[43m,\u001B[49m\u001B[43m \u001B[49m\u001B[38;5;28;43;01mNone\u001B[39;49;00m\u001B[43m)\u001B[49m\u001B[43m,\u001B[49m\n\u001B[1;32m   1222\u001B[0m \u001B[43m    \u001B[49m\u001B[43mmemory_map\u001B[49m\u001B[38;5;241;43m=\u001B[39;49m\u001B[38;5;28;43mself\u001B[39;49m\u001B[38;5;241;43m.\u001B[39;49m\u001B[43moptions\u001B[49m\u001B[38;5;241;43m.\u001B[39;49m\u001B[43mget\u001B[49m\u001B[43m(\u001B[49m\u001B[38;5;124;43m\"\u001B[39;49m\u001B[38;5;124;43mmemory_map\u001B[39;49m\u001B[38;5;124;43m\"\u001B[39;49m\u001B[43m,\u001B[49m\u001B[43m \u001B[49m\u001B[38;5;28;43;01mFalse\u001B[39;49;00m\u001B[43m)\u001B[49m\u001B[43m,\u001B[49m\n\u001B[1;32m   1223\u001B[0m \u001B[43m    \u001B[49m\u001B[43mis_text\u001B[49m\u001B[38;5;241;43m=\u001B[39;49m\u001B[43mis_text\u001B[49m\u001B[43m,\u001B[49m\n\u001B[1;32m   1224\u001B[0m \u001B[43m    \u001B[49m\u001B[43merrors\u001B[49m\u001B[38;5;241;43m=\u001B[39;49m\u001B[38;5;28;43mself\u001B[39;49m\u001B[38;5;241;43m.\u001B[39;49m\u001B[43moptions\u001B[49m\u001B[38;5;241;43m.\u001B[39;49m\u001B[43mget\u001B[49m\u001B[43m(\u001B[49m\u001B[38;5;124;43m\"\u001B[39;49m\u001B[38;5;124;43mencoding_errors\u001B[39;49m\u001B[38;5;124;43m\"\u001B[39;49m\u001B[43m,\u001B[49m\u001B[43m \u001B[49m\u001B[38;5;124;43m\"\u001B[39;49m\u001B[38;5;124;43mstrict\u001B[39;49m\u001B[38;5;124;43m\"\u001B[39;49m\u001B[43m)\u001B[49m\u001B[43m,\u001B[49m\n\u001B[1;32m   1225\u001B[0m \u001B[43m    \u001B[49m\u001B[43mstorage_options\u001B[49m\u001B[38;5;241;43m=\u001B[39;49m\u001B[38;5;28;43mself\u001B[39;49m\u001B[38;5;241;43m.\u001B[39;49m\u001B[43moptions\u001B[49m\u001B[38;5;241;43m.\u001B[39;49m\u001B[43mget\u001B[49m\u001B[43m(\u001B[49m\u001B[38;5;124;43m\"\u001B[39;49m\u001B[38;5;124;43mstorage_options\u001B[39;49m\u001B[38;5;124;43m\"\u001B[39;49m\u001B[43m,\u001B[49m\u001B[43m \u001B[49m\u001B[38;5;28;43;01mNone\u001B[39;49;00m\u001B[43m)\u001B[49m\u001B[43m,\u001B[49m\n\u001B[1;32m   1226\u001B[0m \u001B[43m\u001B[49m\u001B[43m)\u001B[49m\n\u001B[1;32m   1227\u001B[0m \u001B[38;5;28;01massert\u001B[39;00m \u001B[38;5;28mself\u001B[39m\u001B[38;5;241m.\u001B[39mhandles \u001B[38;5;129;01mis\u001B[39;00m \u001B[38;5;129;01mnot\u001B[39;00m \u001B[38;5;28;01mNone\u001B[39;00m\n\u001B[1;32m   1228\u001B[0m f \u001B[38;5;241m=\u001B[39m \u001B[38;5;28mself\u001B[39m\u001B[38;5;241m.\u001B[39mhandles\u001B[38;5;241m.\u001B[39mhandle\n",
      "File \u001B[0;32m~/opt/anaconda3/lib/python3.9/site-packages/pandas/io/common.py:789\u001B[0m, in \u001B[0;36mget_handle\u001B[0;34m(path_or_buf, mode, encoding, compression, memory_map, is_text, errors, storage_options)\u001B[0m\n\u001B[1;32m    784\u001B[0m \u001B[38;5;28;01melif\u001B[39;00m \u001B[38;5;28misinstance\u001B[39m(handle, \u001B[38;5;28mstr\u001B[39m):\n\u001B[1;32m    785\u001B[0m     \u001B[38;5;66;03m# Check whether the filename is to be opened in binary mode.\u001B[39;00m\n\u001B[1;32m    786\u001B[0m     \u001B[38;5;66;03m# Binary mode does not support 'encoding' and 'newline'.\u001B[39;00m\n\u001B[1;32m    787\u001B[0m     \u001B[38;5;28;01mif\u001B[39;00m ioargs\u001B[38;5;241m.\u001B[39mencoding \u001B[38;5;129;01mand\u001B[39;00m \u001B[38;5;124m\"\u001B[39m\u001B[38;5;124mb\u001B[39m\u001B[38;5;124m\"\u001B[39m \u001B[38;5;129;01mnot\u001B[39;00m \u001B[38;5;129;01min\u001B[39;00m ioargs\u001B[38;5;241m.\u001B[39mmode:\n\u001B[1;32m    788\u001B[0m         \u001B[38;5;66;03m# Encoding\u001B[39;00m\n\u001B[0;32m--> 789\u001B[0m         handle \u001B[38;5;241m=\u001B[39m \u001B[38;5;28;43mopen\u001B[39;49m\u001B[43m(\u001B[49m\n\u001B[1;32m    790\u001B[0m \u001B[43m            \u001B[49m\u001B[43mhandle\u001B[49m\u001B[43m,\u001B[49m\n\u001B[1;32m    791\u001B[0m \u001B[43m            \u001B[49m\u001B[43mioargs\u001B[49m\u001B[38;5;241;43m.\u001B[39;49m\u001B[43mmode\u001B[49m\u001B[43m,\u001B[49m\n\u001B[1;32m    792\u001B[0m \u001B[43m            \u001B[49m\u001B[43mencoding\u001B[49m\u001B[38;5;241;43m=\u001B[39;49m\u001B[43mioargs\u001B[49m\u001B[38;5;241;43m.\u001B[39;49m\u001B[43mencoding\u001B[49m\u001B[43m,\u001B[49m\n\u001B[1;32m    793\u001B[0m \u001B[43m            \u001B[49m\u001B[43merrors\u001B[49m\u001B[38;5;241;43m=\u001B[39;49m\u001B[43merrors\u001B[49m\u001B[43m,\u001B[49m\n\u001B[1;32m    794\u001B[0m \u001B[43m            \u001B[49m\u001B[43mnewline\u001B[49m\u001B[38;5;241;43m=\u001B[39;49m\u001B[38;5;124;43m\"\u001B[39;49m\u001B[38;5;124;43m\"\u001B[39;49m\u001B[43m,\u001B[49m\n\u001B[1;32m    795\u001B[0m \u001B[43m        \u001B[49m\u001B[43m)\u001B[49m\n\u001B[1;32m    796\u001B[0m     \u001B[38;5;28;01melse\u001B[39;00m:\n\u001B[1;32m    797\u001B[0m         \u001B[38;5;66;03m# Binary mode\u001B[39;00m\n\u001B[1;32m    798\u001B[0m         handle \u001B[38;5;241m=\u001B[39m \u001B[38;5;28mopen\u001B[39m(handle, ioargs\u001B[38;5;241m.\u001B[39mmode)\n",
      "\u001B[0;31mFileNotFoundError\u001B[0m: [Errno 2] No such file or directory: 'data/arabmagic/arabmagic_geno.csv'"
     ]
    }
   ],
   "source": [
    "geno = pd.read_table(\"data/arabmagic/arabmagic_geno.csv\", sep=\",\",skiprows=3,index_col=0)\n",
    "pheno = pd.read_table(\"data/arabmagic/arabmagic_pheno.csv\", sep=\",\",skiprows=3,index_col=0)\n",
    "\n",
    "sns.displot(pheno,x='fruit_length')"
   ]
  },
  {
   "cell_type": "markdown",
   "id": "80b9caab-3fed-4382-a8f5-53c5be90ee96",
   "metadata": {
    "pycharm": {
     "name": "#%% md\n"
    }
   },
   "source": [
    "Like our fruit lengths-- We discussed  that the data has an obvious \"most common\" value (around 15) and very high values (near 20), etc. Some values are more *probable* or *likely* than others."
   ]
  },
  {
   "cell_type": "markdown",
   "id": "25a2117c-5085-4f88-94aa-674275cd735a",
   "metadata": {
    "pycharm": {
     "name": "#%% md\n"
    }
   },
   "source": [
    "Just like the Bernoulli we can import the `norm` (normal) and use it to generate observations. \n",
    "\n",
    "And just like the Bernoulli we can tell it to use  particular **parameters**. The first one we'll learn is called `loc` which specifies the mean. The default is 0:"
   ]
  },
  {
   "cell_type": "code",
   "execution_count": 20,
   "id": "424c6e81-4621-426c-9700-c277f3faf8d3",
   "metadata": {
    "pycharm": {
     "name": "#%%\n"
    }
   },
   "outputs": [
    {
     "data": {
      "text/plain": "-1.560313090054542"
     },
     "execution_count": 20,
     "metadata": {},
     "output_type": "execute_result"
    }
   ],
   "source": [
    "from scipy.stats import norm\n",
    "norm_loc0 = norm(loc = 0) ## make a model with loc=0 (this part is redundant because loc = 0 is the default)\n",
    "norm_loc0.rvs()"
   ]
  },
  {
   "cell_type": "markdown",
   "id": "f8fe9c81-1e96-41b8-b9bc-1e0ab11977aa",
   "metadata": {
    "pycharm": {
     "name": "#%% md\n"
    }
   },
   "source": [
    "As with before, the size argument lets us generate different amounts of observations"
   ]
  },
  {
   "cell_type": "code",
   "execution_count": 21,
   "id": "6c0aa487-9d81-451a-a180-39853fc897f3",
   "metadata": {
    "pycharm": {
     "name": "#%%\n"
    }
   },
   "outputs": [
    {
     "data": {
      "text/plain": "array([ 0.57343783, -1.20711919,  0.00565153, -0.55497814,  0.71167683])"
     },
     "execution_count": 21,
     "metadata": {},
     "output_type": "execute_result"
    }
   ],
   "source": [
    "norm.rvs( size=5 )"
   ]
  },
  {
   "cell_type": "markdown",
   "id": "b07ecec6-d15e-4c05-adea-95ef282b4ddc",
   "metadata": {
    "pycharm": {
     "name": "#%% md\n"
    }
   },
   "source": [
    "I'm going to make another model, with another `loc`."
   ]
  },
  {
   "cell_type": "code",
   "execution_count": 22,
   "id": "807a8251-dbc7-4d91-8c08-b2e9cfa7c621",
   "metadata": {
    "pycharm": {
     "name": "#%%\n"
    }
   },
   "outputs": [
    {
     "data": {
      "text/plain": "9.820483809038022"
     },
     "execution_count": 22,
     "metadata": {},
     "output_type": "execute_result"
    }
   ],
   "source": [
    "norm_loc10 = norm(loc = 10) # make a model\n",
    "norm_loc10.rvs() # use it to generate"
   ]
  },
  {
   "cell_type": "markdown",
   "id": "ab41d631-36c3-4a86-919b-33e0c1121853",
   "metadata": {
    "pycharm": {
     "name": "#%% md\n"
    }
   },
   "source": [
    "What do you notice is different if I generate 5 observations from the `loc=10` model:"
   ]
  },
  {
   "cell_type": "code",
   "execution_count": 23,
   "id": "c2b1d4cd-974f-4aa2-9704-70ee756c5c34",
   "metadata": {
    "pycharm": {
     "name": "#%%\n"
    }
   },
   "outputs": [
    {
     "data": {
      "text/plain": "array([10.27417269, 10.33948968,  8.56326692, 10.22317916, 11.23897172])"
     },
     "execution_count": 23,
     "metadata": {},
     "output_type": "execute_result"
    }
   ],
   "source": [
    "norm_loc10.rvs( size=5 )"
   ]
  },
  {
   "cell_type": "markdown",
   "id": "6ae6f0b0-551d-464d-aad1-12ed1b516912",
   "metadata": {
    "pycharm": {
     "name": "#%% md\n"
    }
   },
   "source": [
    "**Exercise 2.1**: Generate 1000 observations of the distribution under models with different values for `loc` (such as, -5, 1, 100). Plot each in a histogram. What do you notice?"
   ]
  },
  {
   "cell_type": "markdown",
   "id": "e04635c9-6451-4d29-9253-497d605858db",
   "metadata": {
    "pycharm": {
     "name": "#%% md\n"
    }
   },
   "source": [
    "**Exercise 2.2 (think & discuss)**: Look at the histogram of the fruit_length data. What model could you make that could generate observations that look like that:\n",
    "- Would you use Bernoulli or normal? Why?\n",
    "- What do you think would be a good `loc` to make a model of the fruit_length?\n",
    "- Plot a histogram of bolting days. Would a normal model be appropriate for bolting days?"
   ]
  },
  {
   "cell_type": "markdown",
   "id": "c7fb73c1-b8fb-4599-bfd7-f3087036117b",
   "metadata": {
    "pycharm": {
     "name": "#%% md\n"
    }
   },
   "source": [
    "Just like with the Bernoulli, some values are more *probable* than other values for a given model. Values that are more probable are more likely to be generated.\n",
    "\n",
    "Just like we had `pmf` for the Bernoulli, we can calculate the probability of observing any particular value from a Normal model using `pdf`."
   ]
  },
  {
   "cell_type": "code",
   "execution_count": 24,
   "id": "3bdc8b82-792b-4e71-81dd-8a62d7b48f4b",
   "metadata": {
    "pycharm": {
     "name": "#%%\n"
    }
   },
   "outputs": [
    {
     "data": {
      "text/plain": "array([0.05399097, 0.39894228, 0.24197072])"
     },
     "execution_count": 24,
     "metadata": {},
     "output_type": "execute_result"
    }
   ],
   "source": [
    "norm_loc0.pdf([-2, 0, 1] )"
   ]
  },
  {
   "cell_type": "markdown",
   "id": "210d8989-b375-40f4-b535-449ace4f9027",
   "metadata": {
    "pycharm": {
     "name": "#%% md\n"
    }
   },
   "source": [
    "**Exercise 2.3** What would you guess would be an observation with a **high probability** of coming from `loc=10`? And from `loc=0`"
   ]
  },
  {
   "cell_type": "code",
   "execution_count": 25,
   "id": "8e3acb75-44c7-4c74-9c10-896faf3ac810",
   "metadata": {
    "pycharm": {
     "name": "#%%\n"
    }
   },
   "outputs": [
    {
     "ename": "NameError",
     "evalue": "name 'high_loc10' is not defined",
     "output_type": "error",
     "traceback": [
      "\u001B[0;31m---------------------------------------------------------------------------\u001B[0m",
      "\u001B[0;31mNameError\u001B[0m                                 Traceback (most recent call last)",
      "Input \u001B[0;32mIn [25]\u001B[0m, in \u001B[0;36m<cell line: 1>\u001B[0;34m()\u001B[0m\n\u001B[0;32m----> 1\u001B[0m \u001B[43mhigh_loc10\u001B[49m\u001B[38;5;241m.\u001B[39mpdf(\u001B[38;5;241m10\u001B[39m)\n\u001B[1;32m      2\u001B[0m high_loc0\u001B[38;5;241m.\u001B[39mpdf(\u001B[38;5;241m0\u001B[39m)\n",
      "\u001B[0;31mNameError\u001B[0m: name 'high_loc10' is not defined"
     ]
    }
   ],
   "source": [
    "high_loc10.pdf(10)\n",
    "high_loc0.pdf(0)"
   ]
  },
  {
   "cell_type": "markdown",
   "id": "390655ee-bfa1-49b6-b93a-fc859b9b65f2",
   "metadata": {
    "pycharm": {
     "name": "#%% md\n"
    }
   },
   "source": [
    "Try running the following cells and see which has  higher probability for the first:"
   ]
  },
  {
   "cell_type": "code",
   "execution_count": 26,
   "id": "e3533932-ca0e-4ee2-a42a-daef855d81a2",
   "metadata": {
    "pycharm": {
     "name": "#%%\n"
    }
   },
   "outputs": [
    {
     "ename": "NameError",
     "evalue": "name 'high_loc10' is not defined",
     "output_type": "error",
     "traceback": [
      "\u001B[0;31m---------------------------------------------------------------------------\u001B[0m",
      "\u001B[0;31mNameError\u001B[0m                                 Traceback (most recent call last)",
      "Input \u001B[0;32mIn [26]\u001B[0m, in \u001B[0;36m<cell line: 1>\u001B[0;34m()\u001B[0m\n\u001B[0;32m----> 1\u001B[0m norm_loc0\u001B[38;5;241m.\u001B[39mpdf(\u001B[43mhigh_loc10\u001B[49m)\n",
      "\u001B[0;31mNameError\u001B[0m: name 'high_loc10' is not defined"
     ]
    }
   ],
   "source": [
    "norm_loc0.pdf(high_loc10)"
   ]
  },
  {
   "cell_type": "code",
   "execution_count": 27,
   "id": "ed7d8fbd-583c-4b6b-8843-ee9c1e7040d7",
   "metadata": {
    "pycharm": {
     "name": "#%%\n"
    }
   },
   "outputs": [
    {
     "ename": "NameError",
     "evalue": "name 'high_loc10' is not defined",
     "output_type": "error",
     "traceback": [
      "\u001B[0;31m---------------------------------------------------------------------------\u001B[0m",
      "\u001B[0;31mNameError\u001B[0m                                 Traceback (most recent call last)",
      "Input \u001B[0;32mIn [27]\u001B[0m, in \u001B[0;36m<cell line: 1>\u001B[0;34m()\u001B[0m\n\u001B[0;32m----> 1\u001B[0m norm_loc10\u001B[38;5;241m.\u001B[39mpdf(\u001B[43mhigh_loc10\u001B[49m)\n",
      "\u001B[0;31mNameError\u001B[0m: name 'high_loc10' is not defined"
     ]
    }
   ],
   "source": [
    "norm_loc10.pdf(high_loc10)"
   ]
  },
  {
   "cell_type": "markdown",
   "id": "11be90d4-8e51-455d-8ba6-507c2a0edbf9",
   "metadata": {
    "pycharm": {
     "name": "#%% md\n"
    }
   },
   "source": [
    "And for the second: "
   ]
  },
  {
   "cell_type": "code",
   "execution_count": 28,
   "id": "95d1abe5-525d-4bd0-b2ca-9b1f6eeb7e2f",
   "metadata": {
    "pycharm": {
     "name": "#%%\n"
    }
   },
   "outputs": [
    {
     "ename": "NameError",
     "evalue": "name 'high_loc0' is not defined",
     "output_type": "error",
     "traceback": [
      "\u001B[0;31m---------------------------------------------------------------------------\u001B[0m",
      "\u001B[0;31mNameError\u001B[0m                                 Traceback (most recent call last)",
      "Input \u001B[0;32mIn [28]\u001B[0m, in \u001B[0;36m<cell line: 1>\u001B[0;34m()\u001B[0m\n\u001B[0;32m----> 1\u001B[0m norm_loc0\u001B[38;5;241m.\u001B[39mpdf(\u001B[43mhigh_loc0\u001B[49m)\n",
      "\u001B[0;31mNameError\u001B[0m: name 'high_loc0' is not defined"
     ]
    }
   ],
   "source": [
    "norm_loc0.pdf(high_loc0)"
   ]
  },
  {
   "cell_type": "code",
   "execution_count": 29,
   "id": "c5b7ce72-520a-4a9f-98e6-3da7b7dc6397",
   "metadata": {
    "pycharm": {
     "name": "#%%\n"
    }
   },
   "outputs": [
    {
     "ename": "NameError",
     "evalue": "name 'high_loc0' is not defined",
     "output_type": "error",
     "traceback": [
      "\u001B[0;31m---------------------------------------------------------------------------\u001B[0m",
      "\u001B[0;31mNameError\u001B[0m                                 Traceback (most recent call last)",
      "Input \u001B[0;32mIn [29]\u001B[0m, in \u001B[0;36m<cell line: 1>\u001B[0;34m()\u001B[0m\n\u001B[0;32m----> 1\u001B[0m norm_loc10\u001B[38;5;241m.\u001B[39mpdf(\u001B[43mhigh_loc0\u001B[49m)\n",
      "\u001B[0;31mNameError\u001B[0m: name 'high_loc0' is not defined"
     ]
    }
   ],
   "source": [
    "norm_loc10.pdf(high_loc0)"
   ]
  },
  {
   "cell_type": "markdown",
   "id": "f44f8c0f-cbf1-4e4c-82ff-ba03623e9df6",
   "metadata": {
    "pycharm": {
     "name": "#%% md\n"
    }
   },
   "source": [
    "**Exercise 2.4**: *A*. Make a plot for 100 evenly spaced values of an observation for `norm_loc10` spanning \"pretty low\" to \"pretty high\". Calculate the probability of each one (no for loop needed!). Plot the values on x-axis and their probability on the y-axis."
   ]
  },
  {
   "cell_type": "code",
   "execution_count": 30,
   "id": "65a3977a-9878-4bf2-8633-fd2b3481be17",
   "metadata": {
    "pycharm": {
     "name": "#%%\n"
    }
   },
   "outputs": [
    {
     "data": {
      "text/plain": "array([7.69459863e-23, 2.10209192e-22, 5.68442201e-22, 1.52156250e-21,\n       4.03145816e-21, 1.05731256e-20, 2.74481769e-20, 7.05330220e-20,\n       1.79407401e-19, 4.51707285e-19, 1.12575195e-18, 2.77713633e-18,\n       6.78141882e-18, 1.63912778e-17, 3.92169602e-17, 9.28760896e-17,\n       2.17722239e-16, 5.05208371e-16, 1.16039850e-15, 2.63823001e-15,\n       5.93727315e-15, 1.32260536e-14, 2.91636853e-14, 6.36536635e-14,\n       1.37522348e-13, 2.94097974e-13, 6.22557774e-13, 1.30447621e-12,\n       2.70558725e-12, 5.55463849e-12, 1.12880502e-11, 2.27065387e-11,\n       4.52118024e-11, 8.91090019e-11, 1.73844203e-10, 3.35712664e-10,\n       6.41717835e-10, 1.21419760e-09, 2.27406833e-09, 4.21586333e-09,\n       7.73639102e-09, 1.40526807e-08, 2.52667171e-08, 4.49683896e-08,\n       7.92199799e-08, 1.38143672e-07, 2.38449349e-07, 4.07408570e-07,\n       6.89021948e-07, 1.15346608e-06, 1.91137312e-06, 3.13512599e-06,\n       5.09018302e-06, 8.18051551e-06, 1.30135811e-05, 2.04918821e-05,\n       3.19400618e-05, 4.92786192e-05, 7.52575687e-05, 1.13765535e-04,\n       1.70231576e-04, 2.52138056e-04, 3.69662637e-04, 5.36465244e-04,\n       7.70631042e-04, 1.09577221e-03, 1.54227900e-03, 2.14869355e-03,\n       2.96315857e-03, 4.04486639e-03, 5.46540492e-03, 7.30986545e-03,\n       9.67754721e-03, 1.26820683e-02, 1.64506763e-02, 2.11225477e-02,\n       2.68458845e-02, 3.37736510e-02, 4.20578610e-02, 5.18424154e-02,\n       6.32546052e-02, 7.63955298e-02, 9.13298239e-02, 1.08075230e-01,\n       1.26592680e-01, 1.46777638e-01, 1.68453513e-01, 1.91367915e-01,\n       2.15192461e-01, 2.39526659e-01, 2.63906165e-01, 2.87815442e-01,\n       3.10704486e-01, 3.32008980e-01, 3.51172916e-01, 3.67672436e-01,\n       3.81039507e-01, 3.90883931e-01, 3.96912251e-01, 3.98942280e-01])"
     },
     "execution_count": 30,
     "metadata": {},
     "output_type": "execute_result"
    }
   ],
   "source": [
    "norm_loc10.pdf(np.linspace(0,10,100))"
   ]
  },
  {
   "cell_type": "markdown",
   "id": "6e0318fe-0f18-4e00-8eb1-b4184a49262e",
   "metadata": {
    "pycharm": {
     "name": "#%% md\n"
    }
   },
   "source": [
    "*B*. Generate 1000 values from this model and plot a histogram with `stat=\"density\"` to get fractions. Compare this histogram to your probabilities from A. Write one sentence summarizing what you observe."
   ]
  },
  {
   "cell_type": "code",
   "execution_count": 31,
   "id": "27455f41-d00d-4fb1-9022-14c450ba5216",
   "metadata": {
    "pycharm": {
     "name": "#%%\n"
    }
   },
   "outputs": [
    {
     "data": {
      "text/plain": "<seaborn.axisgrid.FacetGrid at 0x7fae99063b80>"
     },
     "execution_count": 31,
     "metadata": {},
     "output_type": "execute_result"
    },
    {
     "data": {
      "text/plain": "<Figure size 360x360 with 1 Axes>",
      "image/png": "[encoded data removed]"
     },
     "metadata": {
      "needs_background": "light"
     },
     "output_type": "display_data"
    },
    {
     "data": {
      "text/plain": "<Figure size 360x360 with 1 Axes>",
      "image/png": "[encoded data removed]"
     },
     "metadata": {
      "needs_background": "light"
     },
     "output_type": "display_data"
    }
   ],
   "source": [
    "sns.displot(norm_loc10.rvs(size=1000), stat='density')\n",
    "sns.displot()"
   ]
  },
  {
   "cell_type": "markdown",
   "id": "5bdaa3b3-9ae4-4d38-a8cf-ed2d2e9b6a74",
   "metadata": {
    "pycharm": {
     "name": "#%% md\n"
    }
   },
   "source": [
    "**Exercise 2.5**: *A*. Generate the data from your chosen model from 2.2 for the same number of plants as there is in the real data. Fill in the line below to make a data frame containing your real and generated data. "
   ]
  },
  {
   "cell_type": "code",
   "execution_count": 35,
   "id": "1db55925-2e87-4fe4-91fb-ce6ecab20d4b",
   "metadata": {
    "pycharm": {
     "name": "#%%\n"
    }
   },
   "outputs": [
    {
     "data": {
      "text/plain": "<seaborn.axisgrid.FacetGrid at 0x7faea8cae790>"
     },
     "execution_count": 35,
     "metadata": {},
     "output_type": "execute_result"
    },
    {
     "data": {
      "text/plain": "<Figure size 449.35x360 with 1 Axes>",
      "image/png": "[encoded data removed]"
     },
     "metadata": {
      "needs_background": "light"
     },
     "output_type": "display_data"
    }
   ],
   "source": [
    "pheno = pd.read_table(\"arabidopsis_birds/arabmagic/arabmagic_pheno.csv\", sep=\",\",skiprows=3,index_col=0)\n",
    "b=norm(loc=15)\n",
    "generated = b.rvs(677)\n",
    "lengths = np.append(pheno['fruit_length'].values, generated)\n",
    "real = ['real']*pheno.shape[0]\n",
    "gen = ['generated']*pheno.shape[0]\n",
    "is_real = real + gen\n",
    "toplot = pd.DataFrame({'fruit_length':lengths,\n",
    "                       'is_real': is_real\n",
    "                       })\n",
    "sns.displot(data=toplot,x='fruit_length',hue='is_real')"
   ]
  },
  {
   "cell_type": "markdown",
   "id": "593a6518-dd32-4e01-a3a9-18265f389a05",
   "metadata": {
    "pycharm": {
     "name": "#%% md\n"
    }
   },
   "source": [
    "*B*. Make a histogram that plots the real data and the generated data. Discuss: are you happy with your model? Does it seem to fit the data?"
   ]
  },
  {
   "cell_type": "code",
   "execution_count": null,
   "id": "7c4220e0-a9ef-4a01-91e3-e9a7edce1960",
   "metadata": {
    "pycharm": {
     "name": "#%%\n"
    }
   },
   "outputs": [],
   "source": []
  },
  {
   "cell_type": "markdown",
   "id": "8c8859f4-3db5-413d-a4b9-d4a49aa49a38",
   "metadata": {
    "pycharm": {
     "name": "#%% md\n"
    }
   },
   "source": [
    "**Exercise 2.6 (discuss as a group)**: The code above uses some Python I have not taught you. What is it doing? Add comments to the code."
   ]
  },
  {
   "cell_type": "markdown",
   "id": "5203d4e2-66fd-442e-aad2-3451088fde79",
   "metadata": {
    "pycharm": {
     "name": "#%% md\n"
    }
   },
   "source": [
    "### 2.1 Scale\n",
    "The reason the generated data doesn't look so good is because it is too wide. There is a second **parameter** called **`scale`** which controls how wide it is. The default scale is 1."
   ]
  },
  {
   "cell_type": "code",
   "execution_count": null,
   "id": "42bc70c2-86d3-4111-b301-391f4206d54a",
   "metadata": {
    "pycharm": {
     "name": "#%%\n"
    }
   },
   "outputs": [],
   "source": [
    "model_loc10_wider = norm(loc=15, scale = 2)"
   ]
  },
  {
   "cell_type": "markdown",
   "id": "19292562-4548-40af-9f3e-3105956c77cc",
   "metadata": {
    "pycharm": {
     "name": "#%% md\n"
    }
   },
   "source": [
    "**Exercise 2.1.1**: Make models with the same loc above but different values for  values for `scale` (it must be greater than zero, you can't have a negative width)-- try 1, 5, 100). For each model, generate 703 observations of the distribution and plot a histogram. What do you notice?\n",
    "\n"
   ]
  },
  {
   "cell_type": "code",
   "execution_count": 33,
   "id": "7b95f3e9-c209-4c4c-b060-18c4a34bbfd6",
   "metadata": {
    "pycharm": {
     "name": "#%%\n"
    }
   },
   "outputs": [
    {
     "data": {
      "text/plain": "<seaborn.axisgrid.FacetGrid at 0x7faea8beae20>"
     },
     "execution_count": 33,
     "metadata": {},
     "output_type": "execute_result"
    },
    {
     "data": {
      "text/plain": "<Figure size 360x360 with 1 Axes>",
      "image/png": "[encoded data removed]"
     },
     "metadata": {
      "needs_background": "light"
     },
     "output_type": "display_data"
    },
    {
     "data": {
      "text/plain": "<Figure size 360x360 with 1 Axes>",
      "image/png": "[encoded data removed]"
     },
     "metadata": {
      "needs_background": "light"
     },
     "output_type": "display_data"
    },
    {
     "data": {
      "text/plain": "<Figure size 360x360 with 1 Axes>",
      "image/png": "[encoded data removed]"
     },
     "metadata": {
      "needs_background": "light"
     },
     "output_type": "display_data"
    }
   ],
   "source": [
    "mod1 = norm(loc=15, scale=1)\n",
    "mod2 = norm(loc=15, scale=5)\n",
    "mod3 = norm(loc=15, scale=100)\n",
    "sns.displot(data=mod1.rvs(703))\n",
    "sns.displot(data=mod2.rvs(703))\n",
    "sns.displot(data=mod3.rvs(703))"
   ]
  },
  {
   "cell_type": "markdown",
   "id": "d4af45f9-e0c3-41cb-8f2b-e38e3dde368b",
   "metadata": {
    "pycharm": {
     "name": "#%% md\n"
    }
   },
   "source": [
    "**Exercise 2.1.2**: Make the same plot as with 2.4 but with your wider model. Compare the plots. Write one sentence describing the difference between them."
   ]
  },
  {
   "cell_type": "code",
   "execution_count": 40,
   "id": "a460ed87-657c-457e-81bb-558fa0e2a831",
   "metadata": {
    "pycharm": {
     "name": "#%%\n"
    }
   },
   "outputs": [
    {
     "data": {
      "text/plain": "<Figure size 449.35x360 with 1 Axes>",
      "image/png": "[encoded data removed]"
     },
     "metadata": {
      "needs_background": "light"
     },
     "output_type": "display_data"
    },
    {
     "data": {
      "text/plain": "<Figure size 449.35x360 with 1 Axes>",
      "image/png": "[encoded data removed]"
     },
     "metadata": {
      "needs_background": "light"
     },
     "output_type": "display_data"
    },
    {
     "data": {
      "text/plain": "<Figure size 449.35x360 with 1 Axes>",
      "image/png": "[encoded data removed]"
     },
     "metadata": {
      "needs_background": "light"
     },
     "output_type": "display_data"
    },
    {
     "data": {
      "text/plain": "<Figure size 449.35x360 with 1 Axes>",
      "image/png": "[encoded data removed]"
     },
     "metadata": {
      "needs_background": "light"
     },
     "output_type": "display_data"
    },
    {
     "data": {
      "text/plain": "<Figure size 449.35x360 with 1 Axes>",
      "image/png": "[encoded data removed]"
     },
     "metadata": {
      "needs_background": "light"
     },
     "output_type": "display_data"
    }
   ],
   "source": [
    "pheno = pd.read_table(\"arabidopsis_birds/arabmagic/arabmagic_pheno.csv\", sep=\",\",skiprows=3,index_col=0)\n",
    "for x in range(5):\n",
    "    b=norm(loc=15, scale=x)\n",
    "    generated = b.rvs(677)\n",
    "    lengths = np.append(pheno['fruit_length'].values, generated)\n",
    "    real = ['real']*pheno.shape[0]\n",
    "    gen = ['generated']*pheno.shape[0]\n",
    "    is_real = real + gen\n",
    "    toplot = pd.DataFrame({'fruit_length':lengths,\n",
    "                           'is_real': is_real\n",
    "                           })\n",
    "    sns.displot(data=toplot,x='fruit_length',hue='is_real')"
   ]
  },
  {
   "cell_type": "markdown",
   "id": "85712197-3cfa-45f5-9383-487ad05636d9",
   "metadata": {
    "tags": [],
    "pycharm": {
     "name": "#%% md\n"
    }
   },
   "source": [
    "### 2.2 Maximum likelihood normal model\n",
    "So now we have 2 parameters we can tweak, scale and loc, to make a good model. LEt's use  these to find a good normal model for fruit_length"
   ]
  },
  {
   "cell_type": "code",
   "execution_count": null,
   "outputs": [],
   "source": [
    "for x in range(5):\n",
    "    for y in range(10,20):\n",
    "        b=norm(loc=y, scale=x)\n",
    "        generated = b.rvs(677)\n",
    "\n",
    "        lengths = np.append(pheno['fruit_length'].values, generated)\n",
    "        real = ['real']*pheno.shape[0]\n",
    "        gen = ['generated']*pheno.shape[0]\n",
    "        is_real = real + gen\n",
    "        toplot = pd.DataFrame({'fruit_length':lengths,\n",
    "                               'is_real': is_real\n",
    "                               })"
   ],
   "metadata": {
    "collapsed": false,
    "pycharm": {
     "name": "#%%\n"
    }
   }
  },
  {
   "cell_type": "markdown",
   "id": "aac336c9-e8cc-4662-af03-60417b73467d",
   "metadata": {
    "pycharm": {
     "name": "#%% md\n"
    }
   },
   "source": [
    "First we need to get rid of the plants where fruit_length is null. Let's use the `pd.isnull` function which checks for each entry, is it missing (called **null** and usually prints out as `NA` (not available))"
   ]
  },
  {
   "cell_type": "code",
   "execution_count": 41,
   "id": "13e62fd8-3afe-4d73-a594-a122348654ec",
   "metadata": {
    "pycharm": {
     "name": "#%%\n"
    }
   },
   "outputs": [],
   "source": [
    "null_lengths = pd.isnull(pheno['fruit_length'])"
   ]
  },
  {
   "cell_type": "code",
   "execution_count": 47,
   "id": "a05ce709-f22e-4d70-9373-17029df7e68c",
   "metadata": {
    "tags": [],
    "pycharm": {
     "name": "#%%\n"
    }
   },
   "outputs": [],
   "source": [
    "null_lengths = pd.isnull(pheno['fruit_length'])\n",
    "true_lengths = (null_lengths == False)\n",
    "pheno2 = pheno[true_lengths]"
   ]
  },
  {
   "cell_type": "code",
   "execution_count": 48,
   "outputs": [
    {
     "data": {
      "text/plain": "id\nMAGIC.1       True\nMAGIC.2       True\nMAGIC.3       True\nMAGIC.4       True\nMAGIC.5       True\n             ...  \nMAGIC.699     True\nMAGIC.700    False\nMAGIC.701     True\nMAGIC.702     True\nMAGIC.703     True\nName: fruit_length, Length: 677, dtype: bool"
     },
     "execution_count": 48,
     "metadata": {},
     "output_type": "execute_result"
    }
   ],
   "source": [
    "true_lengths"
   ],
   "metadata": {
    "collapsed": false,
    "pycharm": {
     "name": "#%%\n"
    }
   }
  },
  {
   "cell_type": "markdown",
   "id": "ca0b1f62-a7a3-4461-8c2f-082f2930c64d",
   "metadata": {
    "pycharm": {
     "name": "#%% md\n"
    }
   },
   "source": [
    "**Exercise 2.1.1**: \n",
    "*A*. count the number of missing fruit lengths"
   ]
  },
  {
   "cell_type": "code",
   "execution_count": 53,
   "id": "33e8082a-786d-4ad5-888d-f264acf1206d",
   "metadata": {
    "pycharm": {
     "name": "#%%\n"
    }
   },
   "outputs": [
    {
     "data": {
      "text/plain": "3"
     },
     "execution_count": 53,
     "metadata": {},
     "output_type": "execute_result"
    }
   ],
   "source": [
    "null_lengths.sum()"
   ]
  },
  {
   "cell_type": "markdown",
   "id": "923e2808-04c7-41ed-9940-51cec3443f03",
   "metadata": {
    "pycharm": {
     "name": "#%% md\n"
    }
   },
   "source": [
    "*B*: obtain the plants where the fruit length is null and look at those rows"
   ]
  },
  {
   "cell_type": "code",
   "execution_count": 74,
   "id": "cff987a1-191a-4d6b-8366-f5446be9df2c",
   "metadata": {
    "pycharm": {
     "name": "#%%\n"
    }
   },
   "outputs": [
    {
     "data": {
      "text/plain": "           bolting_days  seed_weight  seed_area  ttl_seedspfruit  branches  \\\nid                                                                           \nMAGIC.223         21.00        24.16       0.77            61.44      6.83   \nMAGIC.698         40.00        26.09        NaN            47.89      6.67   \nMAGIC.700         27.67        18.46       0.97            48.89      7.00   \n\n           height  pc_seeds_aborted  fruit_length  \nid                                                 \nMAGIC.223   48.60              0.17           NaN  \nMAGIC.698   34.75              0.00           NaN  \nMAGIC.700   47.73              0.49           NaN  ",
      "text/html": "<div>\n<style scoped>\n    .dataframe tbody tr th:only-of-type {\n        vertical-align: middle;\n    }\n\n    .dataframe tbody tr th {\n        vertical-align: top;\n    }\n\n    .dataframe thead th {\n        text-align: right;\n    }\n</style>\n<table border=\"1\" class=\"dataframe\">\n  <thead>\n    <tr style=\"text-align: right;\">\n      <th></th>\n      <th>bolting_days</th>\n      <th>seed_weight</th>\n      <th>seed_area</th>\n      <th>ttl_seedspfruit</th>\n      <th>branches</th>\n      <th>height</th>\n      <th>pc_seeds_aborted</th>\n      <th>fruit_length</th>\n    </tr>\n    <tr>\n      <th>id</th>\n      <th></th>\n      <th></th>\n      <th></th>\n      <th></th>\n      <th></th>\n      <th></th>\n      <th></th>\n      <th></th>\n    </tr>\n  </thead>\n  <tbody>\n    <tr>\n      <th>MAGIC.223</th>\n      <td>21.00</td>\n      <td>24.16</td>\n      <td>0.77</td>\n      <td>61.44</td>\n      <td>6.83</td>\n      <td>48.60</td>\n      <td>0.17</td>\n      <td>NaN</td>\n    </tr>\n    <tr>\n      <th>MAGIC.698</th>\n      <td>40.00</td>\n      <td>26.09</td>\n      <td>NaN</td>\n      <td>47.89</td>\n      <td>6.67</td>\n      <td>34.75</td>\n      <td>0.00</td>\n      <td>NaN</td>\n    </tr>\n    <tr>\n      <th>MAGIC.700</th>\n      <td>27.67</td>\n      <td>18.46</td>\n      <td>0.97</td>\n      <td>48.89</td>\n      <td>7.00</td>\n      <td>47.73</td>\n      <td>0.49</td>\n      <td>NaN</td>\n    </tr>\n  </tbody>\n</table>\n</div>"
     },
     "execution_count": 74,
     "metadata": {},
     "output_type": "execute_result"
    }
   ],
   "source": [
    "pheno[null_lengths]"
   ]
  },
  {
   "cell_type": "markdown",
   "id": "7bc1c643-84db-4485-b0b6-aef41c67f20a",
   "metadata": {
    "pycharm": {
     "name": "#%% md\n"
    }
   },
   "source": [
    "*C*: take only the rows of `pheno` where fruit length is **not** null and save those rows to a data frame called `pheno2` for analysis?"
   ]
  },
  {
   "cell_type": "code",
   "execution_count": 57,
   "id": "6f6c58bc-d373-4abc-8158-d52f17032cb5",
   "metadata": {
    "pycharm": {
     "name": "#%%\n"
    }
   },
   "outputs": [
    {
     "data": {
      "text/plain": "           bolting_days  seed_weight  seed_area  ttl_seedspfruit  branches  \\\nid                                                                           \nMAGIC.1           15.33        17.15       0.64            45.11     10.50   \nMAGIC.2           22.00        22.71       0.75            49.11      4.33   \nMAGIC.3           23.00        21.03       0.68            57.00      4.67   \nMAGIC.4           18.67        22.45       0.74            54.33      6.33   \nMAGIC.5           18.67        25.36       0.82            38.33      5.67   \n...                 ...          ...        ...              ...       ...   \nMAGIC.697         13.33        23.58       0.75            49.56      5.33   \nMAGIC.699         27.67        17.17       0.46            47.22      8.00   \nMAGIC.701         26.50        21.62       0.66            54.20      3.50   \nMAGIC.702         15.33        20.19       0.40           102.00      4.67   \nMAGIC.703         21.33        23.14       0.79            61.22      6.67   \n\n           height  pc_seeds_aborted  fruit_length  \nid                                                 \nMAGIC.1       NaN              0.00         14.95  \nMAGIC.2     42.33              1.09         13.27  \nMAGIC.3     50.00              0.00         13.90  \nMAGIC.4       NaN              0.23         15.93  \nMAGIC.5     42.25              0.00         12.81  \n...           ...               ...           ...  \nMAGIC.697   46.50              0.00         14.47  \nMAGIC.699   43.17              0.21         15.13  \nMAGIC.701   38.57              0.00         15.98  \nMAGIC.702   45.20              0.00         17.19  \nMAGIC.703   40.20              0.00         16.65  \n\n[674 rows x 8 columns]",
      "text/html": "<div>\n<style scoped>\n    .dataframe tbody tr th:only-of-type {\n        vertical-align: middle;\n    }\n\n    .dataframe tbody tr th {\n        vertical-align: top;\n    }\n\n    .dataframe thead th {\n        text-align: right;\n    }\n</style>\n<table border=\"1\" class=\"dataframe\">\n  <thead>\n    <tr style=\"text-align: right;\">\n      <th></th>\n      <th>bolting_days</th>\n      <th>seed_weight</th>\n      <th>seed_area</th>\n      <th>ttl_seedspfruit</th>\n      <th>branches</th>\n      <th>height</th>\n      <th>pc_seeds_aborted</th>\n      <th>fruit_length</th>\n    </tr>\n    <tr>\n      <th>id</th>\n      <th></th>\n      <th></th>\n      <th></th>\n      <th></th>\n      <th></th>\n      <th></th>\n      <th></th>\n      <th></th>\n    </tr>\n  </thead>\n  <tbody>\n    <tr>\n      <th>MAGIC.1</th>\n      <td>15.33</td>\n      <td>17.15</td>\n      <td>0.64</td>\n      <td>45.11</td>\n      <td>10.50</td>\n      <td>NaN</td>\n      <td>0.00</td>\n      <td>14.95</td>\n    </tr>\n    <tr>\n      <th>MAGIC.2</th>\n      <td>22.00</td>\n      <td>22.71</td>\n      <td>0.75</td>\n      <td>49.11</td>\n      <td>4.33</td>\n      <td>42.33</td>\n      <td>1.09</td>\n      <td>13.27</td>\n    </tr>\n    <tr>\n      <th>MAGIC.3</th>\n      <td>23.00</td>\n      <td>21.03</td>\n      <td>0.68</td>\n      <td>57.00</td>\n      <td>4.67</td>\n      <td>50.00</td>\n      <td>0.00</td>\n      <td>13.90</td>\n    </tr>\n    <tr>\n      <th>MAGIC.4</th>\n      <td>18.67</td>\n      <td>22.45</td>\n      <td>0.74</td>\n      <td>54.33</td>\n      <td>6.33</td>\n      <td>NaN</td>\n      <td>0.23</td>\n      <td>15.93</td>\n    </tr>\n    <tr>\n      <th>MAGIC.5</th>\n      <td>18.67</td>\n      <td>25.36</td>\n      <td>0.82</td>\n      <td>38.33</td>\n      <td>5.67</td>\n      <td>42.25</td>\n      <td>0.00</td>\n      <td>12.81</td>\n    </tr>\n    <tr>\n      <th>...</th>\n      <td>...</td>\n      <td>...</td>\n      <td>...</td>\n      <td>...</td>\n      <td>...</td>\n      <td>...</td>\n      <td>...</td>\n      <td>...</td>\n    </tr>\n    <tr>\n      <th>MAGIC.697</th>\n      <td>13.33</td>\n      <td>23.58</td>\n      <td>0.75</td>\n      <td>49.56</td>\n      <td>5.33</td>\n      <td>46.50</td>\n      <td>0.00</td>\n      <td>14.47</td>\n    </tr>\n    <tr>\n      <th>MAGIC.699</th>\n      <td>27.67</td>\n      <td>17.17</td>\n      <td>0.46</td>\n      <td>47.22</td>\n      <td>8.00</td>\n      <td>43.17</td>\n      <td>0.21</td>\n      <td>15.13</td>\n    </tr>\n    <tr>\n      <th>MAGIC.701</th>\n      <td>26.50</td>\n      <td>21.62</td>\n      <td>0.66</td>\n      <td>54.20</td>\n      <td>3.50</td>\n      <td>38.57</td>\n      <td>0.00</td>\n      <td>15.98</td>\n    </tr>\n    <tr>\n      <th>MAGIC.702</th>\n      <td>15.33</td>\n      <td>20.19</td>\n      <td>0.40</td>\n      <td>102.00</td>\n      <td>4.67</td>\n      <td>45.20</td>\n      <td>0.00</td>\n      <td>17.19</td>\n    </tr>\n    <tr>\n      <th>MAGIC.703</th>\n      <td>21.33</td>\n      <td>23.14</td>\n      <td>0.79</td>\n      <td>61.22</td>\n      <td>6.67</td>\n      <td>40.20</td>\n      <td>0.00</td>\n      <td>16.65</td>\n    </tr>\n  </tbody>\n</table>\n<p>674 rows × 8 columns</p>\n</div>"
     },
     "execution_count": 57,
     "metadata": {},
     "output_type": "execute_result"
    }
   ],
   "source": [
    "pheno2 = pheno[true_lengths]\n",
    "pheno2"
   ]
  },
  {
   "cell_type": "markdown",
   "id": "d0f59af5-1d9d-412f-ad61-247556df53a0",
   "metadata": {
    "pycharm": {
     "name": "#%% md\n"
    }
   },
   "source": [
    "Now that we fixed our pheno data, let's fit the model to it.\n",
    "\n",
    "**Exercise 2.1.2**: \n",
    "1. Create 20 evenly spaced values of `loc`  spaced out from 0 to 30. "
   ]
  },
  {
   "cell_type": "code",
   "execution_count": 67,
   "id": "4ffdd71d-51c0-45c4-ba38-458e88b5f316",
   "metadata": {
    "pycharm": {
     "name": "#%%\n"
    }
   },
   "outputs": [],
   "source": []
  },
  {
   "cell_type": "markdown",
   "id": "dfbbb034-d6ca-42f7-865c-67992fcceb5f",
   "metadata": {
    "pycharm": {
     "name": "#%% md\n"
    }
   },
   "source": [
    "2. For each of these values for loc, make a model and store 2 values for comparing your data to the model (to be made intoa data fra: \n",
    "- *A: squared diference in means*. generate 703 plants, and get the squared difference in means and \n",
    "- *B likelihood of observed data*: Get the probability of each of your observed plants and convert it to the total likelihood of the `fruit_length` data."
   ]
  },
  {
   "cell_type": "code",
   "execution_count": 87,
   "id": "cb97ab71-5054-4bde-9996-06e5289f15b7",
   "metadata": {
    "pycharm": {
     "name": "#%%\n"
    }
   },
   "outputs": [
    {
     "data": {
      "text/plain": "               sq_dif           lky\n0.000000   224.844723  76936.802771\n1.578947   179.413830  61876.179503\n3.157895   139.503266  48495.888644\n4.736842   103.963760  36795.930195\n6.315789    74.107529  26776.304156\n7.894737    50.221136  18437.010528\n9.473684    30.190437  11778.049309\n11.052632   14.944474   6799.420500\n12.631579    5.091966   3501.124101\n14.210526    0.535427   1883.160112\n15.789474    0.766553   1945.528533\n17.368421    5.950280   3688.229364\n18.947368   16.081446   7111.262605\n20.526316   31.745665  12214.628256\n22.105263   51.438543  18998.326317\n23.684211   76.811328  27462.356788\n25.263158  107.604455  37606.719669\n26.842105  140.858942  49431.414960\n28.421053  182.703630  62936.442661\n30.000000  225.674761  78121.802771",
      "text/html": "<div>\n<style scoped>\n    .dataframe tbody tr th:only-of-type {\n        vertical-align: middle;\n    }\n\n    .dataframe tbody tr th {\n        vertical-align: top;\n    }\n\n    .dataframe thead th {\n        text-align: right;\n    }\n</style>\n<table border=\"1\" class=\"dataframe\">\n  <thead>\n    <tr style=\"text-align: right;\">\n      <th></th>\n      <th>sq_dif</th>\n      <th>lky</th>\n    </tr>\n  </thead>\n  <tbody>\n    <tr>\n      <th>0.000000</th>\n      <td>224.844723</td>\n      <td>76936.802771</td>\n    </tr>\n    <tr>\n      <th>1.578947</th>\n      <td>179.413830</td>\n      <td>61876.179503</td>\n    </tr>\n    <tr>\n      <th>3.157895</th>\n      <td>139.503266</td>\n      <td>48495.888644</td>\n    </tr>\n    <tr>\n      <th>4.736842</th>\n      <td>103.963760</td>\n      <td>36795.930195</td>\n    </tr>\n    <tr>\n      <th>6.315789</th>\n      <td>74.107529</td>\n      <td>26776.304156</td>\n    </tr>\n    <tr>\n      <th>7.894737</th>\n      <td>50.221136</td>\n      <td>18437.010528</td>\n    </tr>\n    <tr>\n      <th>9.473684</th>\n      <td>30.190437</td>\n      <td>11778.049309</td>\n    </tr>\n    <tr>\n      <th>11.052632</th>\n      <td>14.944474</td>\n      <td>6799.420500</td>\n    </tr>\n    <tr>\n      <th>12.631579</th>\n      <td>5.091966</td>\n      <td>3501.124101</td>\n    </tr>\n    <tr>\n      <th>14.210526</th>\n      <td>0.535427</td>\n      <td>1883.160112</td>\n    </tr>\n    <tr>\n      <th>15.789474</th>\n      <td>0.766553</td>\n      <td>1945.528533</td>\n    </tr>\n    <tr>\n      <th>17.368421</th>\n      <td>5.950280</td>\n      <td>3688.229364</td>\n    </tr>\n    <tr>\n      <th>18.947368</th>\n      <td>16.081446</td>\n      <td>7111.262605</td>\n    </tr>\n    <tr>\n      <th>20.526316</th>\n      <td>31.745665</td>\n      <td>12214.628256</td>\n    </tr>\n    <tr>\n      <th>22.105263</th>\n      <td>51.438543</td>\n      <td>18998.326317</td>\n    </tr>\n    <tr>\n      <th>23.684211</th>\n      <td>76.811328</td>\n      <td>27462.356788</td>\n    </tr>\n    <tr>\n      <th>25.263158</th>\n      <td>107.604455</td>\n      <td>37606.719669</td>\n    </tr>\n    <tr>\n      <th>26.842105</th>\n      <td>140.858942</td>\n      <td>49431.414960</td>\n    </tr>\n    <tr>\n      <th>28.421053</th>\n      <td>182.703630</td>\n      <td>62936.442661</td>\n    </tr>\n    <tr>\n      <th>30.000000</th>\n      <td>225.674761</td>\n      <td>78121.802771</td>\n    </tr>\n  </tbody>\n</table>\n</div>"
     },
     "execution_count": 87,
     "metadata": {},
     "output_type": "execute_result"
    }
   ],
   "source": [
    "loc_val = np.linspace(0,30,20)\n",
    "d = {}\n",
    "for loc in loc_val:\n",
    "    model = norm(loc = loc)\n",
    "    sample = model.rvs(pheno2.shape[0])\n",
    "    dif_mean = (sample.mean() - pheno2['fruit_length'].mean()) ** 2\n",
    "    prob = model.pdf(pheno2['fruit_length'])\n",
    "    ploc = np.log(prob) * -1\n",
    "    lky = ploc.sum()\n",
    "    d[loc] = [dif_mean, lky]\n",
    "loc_search = pd.DataFrame(d).transpose().rename(columns={0:'sq_dif', 1:'lky'})\n",
    "loc_search"
   ]
  },
  {
   "cell_type": "markdown",
   "id": "a1eb2c5a-b070-40b4-a150-5f2a594e6447",
   "metadata": {
    "pycharm": {
     "name": "#%% md\n"
    }
   },
   "source": [
    "3. Make 2 plots:\n",
    "- *A: squared difference in means*: Plot on the x-axis \"loc\" and on the y-axis the squared difference in means."
   ]
  },
  {
   "cell_type": "code",
   "execution_count": 88,
   "id": "9a611b5d-6b07-4f0f-abe1-b95ecfb2b501",
   "metadata": {
    "pycharm": {
     "name": "#%%\n"
    }
   },
   "outputs": [
    {
     "data": {
      "text/plain": "<seaborn.axisgrid.FacetGrid at 0x7fae73224790>"
     },
     "execution_count": 88,
     "metadata": {},
     "output_type": "execute_result"
    },
    {
     "data": {
      "text/plain": "<Figure size 360x360 with 1 Axes>",
      "image/png": "[encoded data removed]"
     },
     "metadata": {
      "needs_background": "light"
     },
     "output_type": "display_data"
    }
   ],
   "source": [
    "sns.relplot(data=loc_search, y='sq_dif', x=loc_search.index)"
   ]
  },
  {
   "cell_type": "markdown",
   "id": "11000581-3963-42fd-b228-a58c9a5cf987",
   "metadata": {
    "pycharm": {
     "name": "#%% md\n"
    }
   },
   "source": [
    "- *B: likelihoods*: Plot on the x-axis \"loc\" and on the y-axis the likelihood"
   ]
  },
  {
   "cell_type": "code",
   "execution_count": 89,
   "id": "884b1e82-749d-4e6e-a8b8-5ea1a99de732",
   "metadata": {
    "pycharm": {
     "name": "#%%\n"
    }
   },
   "outputs": [
    {
     "data": {
      "text/plain": "<seaborn.axisgrid.FacetGrid at 0x7fae5a282c40>"
     },
     "execution_count": 89,
     "metadata": {},
     "output_type": "execute_result"
    },
    {
     "data": {
      "text/plain": "<Figure size 360x360 with 1 Axes>",
      "image/png": "[encoded data removed]"
     },
     "metadata": {
      "needs_background": "light"
     },
     "output_type": "display_data"
    }
   ],
   "source": [
    "sns.relplot(data=loc_search, y='lky', x=loc_search.index)"
   ]
  },
  {
   "cell_type": "markdown",
   "id": "2bae1d39-696c-4164-a7cf-30c6e3c4d01a",
   "metadata": {
    "pycharm": {
     "name": "#%% md\n"
    }
   },
   "source": [
    "4. Get the value where the squred difference is smallest and where the likelihood is best"
   ]
  },
  {
   "cell_type": "code",
   "execution_count": 97,
   "id": "2abc47a5-a620-4ddc-9e1d-2d6055398ae0",
   "metadata": {
    "pycharm": {
     "name": "#%%\n"
    }
   },
   "outputs": [
    {
     "data": {
      "text/plain": "14.210526315789474"
     },
     "execution_count": 97,
     "metadata": {},
     "output_type": "execute_result"
    }
   ],
   "source": [
    "loc_search.sort_values('sq_dif').head(1).index.values[0]"
   ]
  },
  {
   "cell_type": "markdown",
   "id": "5b7a1507-1cf7-412b-949b-d73ef3b3c679",
   "metadata": {
    "pycharm": {
     "name": "#%% md\n"
    }
   },
   "source": [
    "**Exercise 2.1.3**: Repeat 2.1.2 but keeping your loc you picked in 2.1.2 and with 20 evenly spaced values for `scale`. Find the best secale."
   ]
  },
  {
   "cell_type": "code",
   "execution_count": 103,
   "id": "fe0983b0-06ec-46fa-a91e-a69715c89f86",
   "metadata": {
    "pycharm": {
     "name": "#%%\n"
    }
   },
   "outputs": [
    {
     "data": {
      "text/plain": "<seaborn.axisgrid.FacetGrid at 0x7faeb920a970>"
     },
     "execution_count": 103,
     "metadata": {},
     "output_type": "execute_result"
    },
    {
     "data": {
      "text/plain": "<Figure size 428.975x360 with 1 Axes>",
      "image/png": "[encoded data removed]"
     },
     "metadata": {
      "needs_background": "light"
     },
     "output_type": "display_data"
    }
   ],
   "source": [
    "loc = loc_search.sort_values('sq_dif').head(1).index.values[0]\n",
    "scal_val = np.linspace(1,8,20)\n",
    "d = {}\n",
    "for scal in scal_val:\n",
    "    model = norm(loc = loc, scale = scal)\n",
    "    sample = model.rvs(pheno2.shape[0])\n",
    "    dif_mean = (sample.mean() - pheno2['fruit_length'].mean()) ** 2\n",
    "    prob = model.pdf(pheno2['fruit_length'])\n",
    "    ploc = np.log(prob) * -1\n",
    "    lky = ploc.sum()\n",
    "    d[scal] = [dif_mean, lky]\n",
    "scal_search = pd.DataFrame(d).transpose().rename(columns={0:'sq_dif', 1:'lky'})\n",
    "sns.relplot(data= scal_search)"
   ]
  },
  {
   "cell_type": "code",
   "execution_count": 130,
   "outputs": [],
   "source": [
    "loc_val = np.linspace(14,15.5,100)\n",
    "scal_val = np.linspace(1,3,100)\n",
    "d = {\n",
    "    'loc':[],\n",
    "    'scal':[],\n",
    "    'lky':[],\n",
    "    'sq_dif':[]\n",
    "}\n",
    "for loc in loc_val:\n",
    "    for scal in scal_val:\n",
    "        model = norm(loc = loc, scale = scal)\n",
    "        sample = model.rvs(pheno2.shape[0])\n",
    "        dif_mean = (sample.mean() - pheno2['fruit_length'].mean()) ** 2\n",
    "        prob = model.pdf(pheno2['fruit_length'])\n",
    "        ploc = np.log(prob) * -1\n",
    "        lky = ploc.sum()\n",
    "        d['loc'].append(loc)\n",
    "        d['scal'].append(scal)\n",
    "        d['lky'].append(lky)\n",
    "        d['sq_dif'].append(dif_mean)\n",
    "ful_search = pd.DataFrame(d)"
   ],
   "metadata": {
    "collapsed": false,
    "pycharm": {
     "name": "#%%\n"
    }
   }
  },
  {
   "cell_type": "code",
   "execution_count": 127,
   "outputs": [
    {
     "data": {
      "text/plain": "14.941394658753708"
     },
     "execution_count": 127,
     "metadata": {},
     "output_type": "execute_result"
    }
   ],
   "source": [
    "loc = pheno2['fruit_length'].mean()\n",
    "scal_val = np.linspace(1,3,100)\n",
    "d = {\n",
    "    'loc':[],\n",
    "    'scal':[],\n",
    "    'lky':[],\n",
    "    'sq_dif':[]\n",
    "}\n",
    "\n",
    "for scal in scal_val:\n",
    "    model = norm(loc = loc, scale = scal)\n",
    "    sample = model.rvs(pheno2.shape[0])\n",
    "    dif_mean = (sample.mean() - pheno2['fruit_length'].mean()) ** 2\n",
    "    prob = model.pdf(pheno2['fruit_length'])\n",
    "    ploc = np.log(prob) * -1\n",
    "    lky = ploc.sum()\n",
    "    d['loc'].append(loc)\n",
    "    d['scal'].append(scal)\n",
    "    d['lky'].append(lky)\n",
    "    d['sq_dif'].append(dif_mean)\n",
    "ful_search = pd.DataFrame(d)"
   ],
   "metadata": {
    "collapsed": false,
    "pycharm": {
     "name": "#%%\n"
    }
   }
  },
  {
   "cell_type": "code",
   "execution_count": 131,
   "outputs": [
    {
     "data": {
      "text/plain": "            loc      scal          lky    sq_dif\n6239  14.939394  1.787879  1350.030335  0.002025",
      "text/html": "<div>\n<style scoped>\n    .dataframe tbody tr th:only-of-type {\n        vertical-align: middle;\n    }\n\n    .dataframe tbody tr th {\n        vertical-align: top;\n    }\n\n    .dataframe thead th {\n        text-align: right;\n    }\n</style>\n<table border=\"1\" class=\"dataframe\">\n  <thead>\n    <tr style=\"text-align: right;\">\n      <th></th>\n      <th>loc</th>\n      <th>scal</th>\n      <th>lky</th>\n      <th>sq_dif</th>\n    </tr>\n  </thead>\n  <tbody>\n    <tr>\n      <th>6239</th>\n      <td>14.939394</td>\n      <td>1.787879</td>\n      <td>1350.030335</td>\n      <td>0.002025</td>\n    </tr>\n  </tbody>\n</table>\n</div>"
     },
     "execution_count": 131,
     "metadata": {},
     "output_type": "execute_result"
    }
   ],
   "source": [
    "ful_search.sort_values('lky').head(1)"
   ],
   "metadata": {
    "collapsed": false,
    "pycharm": {
     "name": "#%%\n"
    }
   }
  },
  {
   "cell_type": "markdown",
   "id": "f65d92b8-c80e-46fe-82c0-177e937eedc4",
   "metadata": {
    "pycharm": {
     "name": "#%% md\n"
    }
   },
   "source": [
    "## 2.3 Normal models for subsets of your data\n",
    "Now that we have an idea about making a good model for the data, let's make a good model for subsets of the data."
   ]
  },
  {
   "cell_type": "code",
   "execution_count": null,
   "id": "3c619e14-451d-47f1-8746-a4a280d6b6a8",
   "metadata": {
    "pycharm": {
     "name": "#%%\n"
    }
   },
   "outputs": [],
   "source": [
    "fruit_length_geno = pd.read_table(\"data/arabmagic/fruit_length_geno.csv\",sep=\",\",index_col=0)"
   ]
  },
  {
   "cell_type": "markdown",
   "id": "e8bfe815-ba8d-40e6-81cd-e5a5abcdd64a",
   "metadata": {
    "pycharm": {
     "name": "#%% md\n"
    }
   },
   "source": [
    "**Exercise 2.3.1**: Obtain the fruit length data for plants with genotype A, and plot a histogram. Find good values for `scale` and `loc` to make a good model for plant with genotype A."
   ]
  },
  {
   "cell_type": "code",
   "execution_count": null,
   "id": "45d97206-0d7d-4b43-9f9a-a5e2047a8cbd",
   "metadata": {
    "pycharm": {
     "name": "#%%\n"
    }
   },
   "outputs": [],
   "source": [
    "fruit_length_geno.loc[ fruit_length_geno['MASC06116']=='A','fruit_length'].describe()"
   ]
  },
  {
   "cell_type": "code",
   "execution_count": null,
   "id": "65d193e9-db8c-48ff-b857-2d1835242b6d",
   "metadata": {
    "pycharm": {
     "name": "#%%\n"
    }
   },
   "outputs": [],
   "source": [
    "fruit_length_geno.loc[ fruit_length_geno['MASC06116']!='A','fruit_length'].describe()"
   ]
  },
  {
   "cell_type": "code",
   "execution_count": null,
   "id": "375e1af3-7cb5-486c-af31-8c4d5e426886",
   "metadata": {
    "pycharm": {
     "name": "#%%\n"
    }
   },
   "outputs": [],
   "source": [
    "sns.displot( fruit_length_geno.loc[ fruit_length_geno['MASC06116']=='A','fruit_length'])"
   ]
  },
  {
   "cell_type": "code",
   "execution_count": null,
   "id": "c118760e-7d3e-4a66-8148-62f376631c40",
   "metadata": {
    "pycharm": {
     "name": "#%%\n"
    }
   },
   "outputs": [],
   "source": [
    "sns.displot( fruit_length_geno.loc[ fruit_length_geno['MASC06116']!='A','fruit_length'])"
   ]
  },
  {
   "cell_type": "markdown",
   "id": "cbe1341f-20a2-4e7b-a66d-c1debf68b7cc",
   "metadata": {
    "pycharm": {
     "name": "#%% md\n"
    }
   },
   "source": [
    "**Exercise 2.3.2**: Try generating observations from the model you made for genotype A (as many as there are plants with genotype B). Get the data for the real and generated plants and fill in the code below. Run the code cell to make a histogram of each with matplotlib. How does it look?"
   ]
  },
  {
   "cell_type": "code",
   "execution_count": null,
   "id": "7cb50b0a-7b11-4242-8f6b-755a237f69cc",
   "metadata": {
    "pycharm": {
     "name": "#%%\n"
    }
   },
   "outputs": [],
   "source": [
    "realB = ## get real fruit lengths for MASC06116 = B plants\n",
    "genB =  ## generate same number of plants\n",
    "\n",
    "import matplotlib.pyplot as plt\n",
    "f, ax = plt.subplots(1)\n",
    "ax.hist([genB, realB])\n",
    "ax.legend(['generated','real'])"
   ]
  },
  {
   "cell_type": "markdown",
   "id": "46276b40-b484-4b7a-9ab7-82b443e5dc58",
   "metadata": {
    "pycharm": {
     "name": "#%% md\n"
    }
   },
   "source": [
    "**Exercise 2.3.3**: Just eyeballing it, make another model you think would be a better fit for your dta. Then, verify that this model actually has  better likelihood score by comparing the likelihood from the model from 2.3.1 versus the model you made here."
   ]
  },
  {
   "cell_type": "code",
   "execution_count": null,
   "id": "772d5835-51e7-44ad-99dd-1bbb3b628125",
   "metadata": {
    "pycharm": {
     "name": "#%%\n"
    }
   },
   "outputs": [],
   "source": []
  },
  {
   "cell_type": "markdown",
   "id": "d3de84e9-ef3f-41a4-a063-fb6945c3bb38",
   "metadata": {
    "pycharm": {
     "name": "#%% md\n"
    }
   },
   "source": [
    "# 3. Linear models\n",
    "So we made models of fruit length overall and among just plants with MASC06116 = A or not-A, and we see the models have different means.\n",
    "\n",
    "With a linear model we state a hypothesis such as: *fruit length depends on genotype* and we basically are saying:\n",
    "- we know the plants have some kind of normal distribution\n",
    "- but the **mean** of that distribution could be different for plants with different genotype\n",
    "\n",
    "To put our hypothesis in terms the computer can understand:\n",
    "- loc (mean) follows a formula like:\n",
    "\n",
    "   ${mean Fruit Length} = intercept + slope \\times genotypeNumber $\n",
    "   \n",
    "(where genotypeNumber is 1 if MASC06116 = A otherwise 0)"
   ]
  },
  {
   "cell_type": "code",
   "execution_count": null,
   "id": "2933db84-7f5e-45a8-a88c-ef858061e3cd",
   "metadata": {
    "pycharm": {
     "name": "#%%\n"
    }
   },
   "outputs": [],
   "source": [
    "binary_marker = (geno.loc['MASC06116',:]== 'A').astype(int)\n",
    "binary_marker.describe()"
   ]
  },
  {
   "cell_type": "markdown",
   "id": "1e26ab92-14f8-4387-bf72-4726f59819cc",
   "metadata": {
    "pycharm": {
     "name": "#%% md\n"
    }
   },
   "source": [
    "Let's start by picking values for intercept and slope that we think would make a model that best fits our data."
   ]
  },
  {
   "cell_type": "code",
   "execution_count": null,
   "id": "c60c2533-5244-4e39-b6a9-6d95a45b48f1",
   "metadata": {
    "pycharm": {
     "name": "#%%\n"
    }
   },
   "outputs": [],
   "source": [
    "\n",
    "sns.displot(data=fruit_length_geno, x=\"fruit_length\", hue='MASC06116',stat='density',common_norm=False, kde=True)"
   ]
  },
  {
   "cell_type": "markdown",
   "id": "84920b3c-30b8-4c3a-ae4a-0ce00e4eebbd",
   "metadata": {
    "pycharm": {
     "name": "#%% md\n"
    }
   },
   "source": [
    "**Exercise 3.1**: Pick values for intercept and slope that you think would make a model that fits our data, just by eyeballing it. Then, use this to get the predicted mean value for plants in each category. Compare that to the actual means for plants in the 2 categories."
   ]
  },
  {
   "cell_type": "code",
   "execution_count": null,
   "id": "cc15ba3d-9fda-4226-8ffe-7056d8321126",
   "metadata": {
    "pycharm": {
     "name": "#%%\n"
    }
   },
   "outputs": [],
   "source": []
  },
  {
   "cell_type": "markdown",
   "id": "ff9c4868-7fb8-47e2-9018-b3f1422e174e",
   "metadata": {
    "pycharm": {
     "name": "#%% md\n"
    }
   },
   "source": [
    "We can generate random values with different means from Normal by providing list of values for `loc` -- then you get 1 random value for each value of loc:"
   ]
  },
  {
   "cell_type": "code",
   "execution_count": null,
   "id": "6967cf51-f89a-4eee-818a-2031f2e322a8",
   "metadata": {
    "pycharm": {
     "name": "#%%\n"
    }
   },
   "outputs": [],
   "source": [
    "norm.rvs(loc=[1,10,-20])"
   ]
  },
  {
   "cell_type": "markdown",
   "id": "a5bedae8-cb82-470d-8214-b52e16d153b4",
   "metadata": {
    "pycharm": {
     "name": "#%% md\n"
    }
   },
   "source": [
    "**Exercise 3.2**: Compare generated values\n",
    "1. Calculate the value of `loc` for each plant (2 unique values, but calculated for each of the plants) using vectorized math and the slope and intercept you picked. \n",
    "2. Use this value to generate `rvs` from normals with those means.\n",
    "3. Put your generated plants into the fruit_length_geno data frame and make the histogram comparing the generated fruit lengths (you can copy the displot code above."
   ]
  },
  {
   "cell_type": "code",
   "execution_count": null,
   "id": "3f66bd0a-211b-4452-b13c-f47bbc015cb0",
   "metadata": {
    "pycharm": {
     "name": "#%%\n"
    }
   },
   "outputs": [],
   "source": []
  },
  {
   "cell_type": "markdown",
   "id": "2369f4a6-e016-410a-8373-e9360443f789",
   "metadata": {
    "pycharm": {
     "name": "#%% md\n"
    }
   },
   "source": [
    "**Exercise 3.3**: Set the intercept equal to the mean value for genotype B (about 12.3), and the scale value equal to what we picked above. Use the maximum likelihood method to get the slope that best fits the data (try 20 different slopes between 1 and 4. Plot the value of the slope parameter against the likelihood of the data under that slope parameter."
   ]
  },
  {
   "cell_type": "code",
   "execution_count": null,
   "id": "65bb51a2-77f5-41a0-a01f-81478aba77fc",
   "metadata": {
    "pycharm": {
     "name": "#%%\n"
    }
   },
   "outputs": [],
   "source": []
  },
  {
   "cell_type": "code",
   "execution_count": null,
   "id": "9502bbbc-8433-4bd9-ba3d-09c954ee54b3",
   "metadata": {
    "pycharm": {
     "name": "#%%\n"
    }
   },
   "outputs": [],
   "source": []
  },
  {
   "cell_type": "markdown",
   "id": "d4835e19-86d9-492e-bc31-dd9f0e1866cf",
   "metadata": {
    "pycharm": {
     "name": "#%% md\n"
    }
   },
   "source": [
    "# 4. Using `statsmodels` to find the parameters of our model\n",
    "Obviously, this could get more difficult if we wanted to find the best intercept AND slope  or if we wanted to make a more complicated model to predict the mean, such as including the height of the plant in the model, or other genotype markers.\n",
    "\n",
    "Generally we do not find the parameters manually, but through using modeling packages like `statsmodels`. Here is how we import it:"
   ]
  },
  {
   "cell_type": "code",
   "execution_count": null,
   "id": "74e01329-3e0d-47b0-bbb7-7dc57f7fc729",
   "metadata": {
    "pycharm": {
     "name": "#%%\n"
    }
   },
   "outputs": [],
   "source": [
    "import statsmodels.api as sm"
   ]
  },
  {
   "cell_type": "markdown",
   "id": "4322ca6a-99e1-455d-a962-9ca1a353dabe",
   "metadata": {
    "pycharm": {
     "name": "#%% md\n"
    }
   },
   "source": [
    "Then, we make a data frame containing the data we want to model:"
   ]
  },
  {
   "cell_type": "code",
   "execution_count": null,
   "id": "c665a75d-49ea-4d91-823b-d8178589c475",
   "metadata": {
    "pycharm": {
     "name": "#%%\n"
    }
   },
   "outputs": [],
   "source": [
    "fruit_length_geno.head()"
   ]
  },
  {
   "cell_type": "markdown",
   "id": "d5889ab5-c71a-4916-8a15-78689b1f0e5f",
   "metadata": {
    "pycharm": {
     "name": "#%% md\n"
    }
   },
   "source": [
    "### 4.1 Make the data frame to model"
   ]
  },
  {
   "cell_type": "code",
   "execution_count": null,
   "id": "9696ce75-f87a-42d6-9e91-205fb7e86ffe",
   "metadata": {
    "pycharm": {
     "name": "#%%\n"
    }
   },
   "outputs": [],
   "source": [
    "to_model = pd.DataFrame({\"fruit_length\":fruit_length_geno['fruit_length'],\n",
    "                         \"MASC06116\": (fruit_length_geno['MASC06116']== 'A').astype(int)})"
   ]
  },
  {
   "cell_type": "markdown",
   "id": "14f35c74-7b25-4b87-b7a1-eb1646aad20f",
   "metadata": {
    "pycharm": {
     "name": "#%% md\n"
    }
   },
   "source": [
    "Then, in order to model an intercept as well as a slope, we use the `add_constant` function:"
   ]
  },
  {
   "cell_type": "code",
   "execution_count": null,
   "id": "cb55a1a3-0c49-4344-93a2-519a80f0b162",
   "metadata": {
    "pycharm": {
     "name": "#%%\n"
    }
   },
   "outputs": [],
   "source": [
    "to_model = sm.add_constant(to_model)"
   ]
  },
  {
   "cell_type": "markdown",
   "id": "6fc7e501-e32b-4f5f-b1d5-8294d64afd2c",
   "metadata": {
    "tags": [],
    "pycharm": {
     "name": "#%% md\n"
    }
   },
   "source": [
    "This is because the model works multiplying each column by a number and adding up across the columns. So now we are saying fruit length follows a model that looks like:\n",
    "${mean Fruit Length} = intercept \\times 1  + slope \\times genotypeNumber $\n",
    "\n",
    "We didn't change much! Any number times 1 is the same number."
   ]
  },
  {
   "cell_type": "code",
   "execution_count": null,
   "id": "730abb0a-bde1-4f84-8904-f7c66a04d374",
   "metadata": {
    "pycharm": {
     "name": "#%%\n"
    }
   },
   "outputs": [],
   "source": [
    "to_model.head()"
   ]
  },
  {
   "cell_type": "markdown",
   "id": "3167ec2f-b39d-4e46-8e66-3806dcb24ec1",
   "metadata": {
    "pycharm": {
     "name": "#%% md\n"
    }
   },
   "source": [
    "**Exercise 4.1**: Remove the rows of `to_model` where there are any null values, and save this back to the variable `to_model`."
   ]
  },
  {
   "cell_type": "code",
   "execution_count": null,
   "id": "c37f6600-8035-4458-8da2-278f07493674",
   "metadata": {
    "pycharm": {
     "name": "#%%\n"
    }
   },
   "outputs": [],
   "source": []
  },
  {
   "cell_type": "markdown",
   "id": "253d6c0d-9925-410d-a8aa-2a2ee3b9422d",
   "metadata": {
    "pycharm": {
     "name": "#%% md\n"
    }
   },
   "source": [
    "## 4.2 Convert to input for Statsmodels and run the model"
   ]
  },
  {
   "cell_type": "markdown",
   "id": "6ad73748-0c5b-4fcd-8a1c-c0883ebc6cdc",
   "metadata": {
    "pycharm": {
     "name": "#%% md\n"
    }
   },
   "source": [
    "Then we split the data up into the **feature** we want to model (fruit length) and the features we will use to predict that feature"
   ]
  },
  {
   "cell_type": "code",
   "execution_count": null,
   "id": "20911ef2-6f9c-4b27-9730-057a4d94a29a",
   "metadata": {
    "pycharm": {
     "name": "#%%\n"
    }
   },
   "outputs": [],
   "source": [
    "y = to_model['fruit_length'].astype('float')\n",
    "X = to_model.drop(['fruit_length','MASC06116'],axis=1)"
   ]
  },
  {
   "cell_type": "code",
   "execution_count": null,
   "id": "91b4ba6e-16e8-42dd-a98e-3280caaf9a8c",
   "metadata": {
    "pycharm": {
     "name": "#%%\n"
    }
   },
   "outputs": [],
   "source": [
    "y.head()"
   ]
  },
  {
   "cell_type": "code",
   "execution_count": null,
   "id": "d189b673-e20f-4832-94dd-33be19b7a139",
   "metadata": {
    "pycharm": {
     "name": "#%%\n"
    }
   },
   "outputs": [],
   "source": [
    "X.head()"
   ]
  },
  {
   "cell_type": "markdown",
   "id": "fb7e3654-4148-4df1-a4cf-328522cd7d5c",
   "metadata": {
    "pycharm": {
     "name": "#%% md\n"
    }
   },
   "source": [
    "Now, we can use statsmodels to **fit** the best model for fruit length based on the genotype info. Note that statsmodels also uses the maximum likelihood method, but it does it in a different way."
   ]
  },
  {
   "cell_type": "code",
   "execution_count": null,
   "id": "f8260639-d8c9-40b8-bef1-a272dad2aa89",
   "metadata": {
    "pycharm": {
     "name": "#%%\n"
    }
   },
   "outputs": [],
   "source": [
    "model = sm.OLS(y, X).fit()"
   ]
  },
  {
   "cell_type": "markdown",
   "id": "ad42f9d8-7567-47ac-89b2-687e5e0ad10c",
   "metadata": {
    "pycharm": {
     "name": "#%% md\n"
    }
   },
   "source": [
    "The `summary()` function of the model object prints out a nice summary with lots of info... Compare the intercept (const) and slope (MASC06116) to what we got above. Also notice the log-likelihood:"
   ]
  },
  {
   "cell_type": "code",
   "execution_count": null,
   "id": "59689492-9ff2-422f-bb9d-21908c83bc2f",
   "metadata": {
    "tags": [],
    "pycharm": {
     "name": "#%%\n"
    }
   },
   "outputs": [],
   "source": [
    "model.summary()"
   ]
  },
  {
   "cell_type": "markdown",
   "id": "86f58233-4f54-4cc7-b1d3-71bf909fd296",
   "metadata": {
    "pycharm": {
     "name": "#%% md\n"
    }
   },
   "source": [
    "R-squared tells us the percent of variation in the fruit_length that is explained by the model, which we can see is 17% of the variation:"
   ]
  },
  {
   "cell_type": "markdown",
   "id": "edac849c-802d-48b5-b8d0-f973f4ac9b3f",
   "metadata": {
    "pycharm": {
     "name": "#%% md\n"
    }
   },
   "source": [
    "## 4.1 Understanding the model parameters\n",
    "You can get the model parameters using the **attribute** `params`:"
   ]
  },
  {
   "cell_type": "code",
   "execution_count": null,
   "id": "2808dafc-6c65-483e-9142-d6cba8fabd1e",
   "metadata": {
    "pycharm": {
     "name": "#%%\n"
    }
   },
   "outputs": [],
   "source": [
    "model.params"
   ]
  },
  {
   "cell_type": "markdown",
   "id": "b03f33f7-8ec4-41a0-93dc-668cc07feb07",
   "metadata": {
    "pycharm": {
     "name": "#%% md\n"
    }
   },
   "source": [
    "**Exercise 4.1.1**: Use the data frame `X` and model parameters to predict the mean fruit length value for each plant, like we did in Exercise 3.2 (step 1) but now using `X` which has 2 columns, and using `model.params`. "
   ]
  },
  {
   "cell_type": "code",
   "execution_count": null,
   "id": "b45710ab-7e70-490a-9b1b-ed65b320af89",
   "metadata": {
    "pycharm": {
     "name": "#%%\n"
    }
   },
   "outputs": [],
   "source": []
  },
  {
   "cell_type": "markdown",
   "id": "9a29317a-cd27-47a2-b8d1-2a56ba0610e6",
   "metadata": {
    "pycharm": {
     "name": "#%% md\n"
    }
   },
   "source": [
    "**Exercise 4.1.2**: The model object has a function called `predict` that will predict the mean fruit length for each observation (plant) in X. Compare the predicted means against your results from Exercise 4.1.1. "
   ]
  },
  {
   "cell_type": "code",
   "execution_count": null,
   "id": "232eb9f4-3437-49ea-b018-4c0746ce9f10",
   "metadata": {
    "pycharm": {
     "name": "#%%\n"
    }
   },
   "outputs": [],
   "source": [
    "predicted_values = model.predict(X)"
   ]
  },
  {
   "cell_type": "markdown",
   "id": "86eabf35-6979-494d-8130-cf29c7c73663",
   "metadata": {
    "pycharm": {
     "name": "#%% md\n"
    }
   },
   "source": [
    "**Exercise 4.1.2**: describe in everyday words the meaning of the slope parameter."
   ]
  },
  {
   "cell_type": "markdown",
   "id": "5bbe280d-3b25-42d7-96b0-e3b708e51d3d",
   "metadata": {
    "pycharm": {
     "name": "#%% md\n"
    }
   },
   "source": [
    "## 4.2 Uncertainty about parameters"
   ]
  },
  {
   "cell_type": "markdown",
   "id": "52ba16f9-bfbf-442e-88ae-9520f23fa7ae",
   "metadata": {
    "pycharm": {
     "name": "#%% md\n"
    }
   },
   "source": [
    "Is the true effect of that genotype exactly 2.846963? \n",
    "\n",
    "This is just a noisy estimate of what the true value of the parameter is\n",
    "\n",
    "Maybe there's some true effect that that genotype has, by changing the function of some gene/protein. We are using our sample of 677 plants to estimate what that true effect is. If we got a new set of plants, hopefully it would be a similar estimate but probably not the same. "
   ]
  },
  {
   "cell_type": "markdown",
   "id": "9c1d89b3-b40f-4cd9-8f55-ef441123004e",
   "metadata": {
    "pycharm": {
     "name": "#%% md\n"
    }
   },
   "source": [
    "**Exercise 4.2.1**: Generate random fruit lengths based on our predicted means above (like in 4.1.3). Then, we are generating fruit lengths that follow a *known true value for intercept and slope*. Fit the model again using these fruit lengths. What do you get for the parameters? Do you get exactly 2.84963?"
   ]
  },
  {
   "cell_type": "markdown",
   "id": "52565e58-6709-4f0e-91ac-6cddc82ad5f4",
   "metadata": {
    "pycharm": {
     "name": "#%% md\n"
    }
   },
   "source": [
    "So the `std err` or *standard error* describes the spread we'd expect between different estimates if we could redo the data collection.\n",
    "\n",
    "Let's see what kind of spread we actually get:"
   ]
  },
  {
   "cell_type": "markdown",
   "id": "632c639c-5a96-4ba2-a5ff-377f97d16750",
   "metadata": {
    "pycharm": {
     "name": "#%% md\n"
    }
   },
   "source": [
    "**Exercise 4.2.2**: Examine the spread in the estimate of the effect of the genotype by doing the following steps:\n",
    "1. Generate 100 random samples of the 674 plants, using the results from our model to set the `loc` values (similar to 4.2.1, but do this 100 times)"
   ]
  },
  {
   "cell_type": "markdown",
   "id": "c8cc10f2-2f17-4158-9d0f-7449901f886b",
   "metadata": {
    "pycharm": {
     "name": "#%% md\n"
    }
   },
   "source": [
    "2. For each of the 100 random samples, fit your model again and get the parameter for the slope."
   ]
  },
  {
   "cell_type": "markdown",
   "id": "cea36c4a-09a1-40e0-9d04-7af076345a7d",
   "metadata": {
    "pycharm": {
     "name": "#%% md\n"
    }
   },
   "source": [
    "3. Store those in a list (list of length 100 for the 100 random data sets)"
   ]
  },
  {
   "cell_type": "markdown",
   "id": "82ef92af-d522-432a-bf38-cb5dc92bddd2",
   "metadata": {
    "pycharm": {
     "name": "#%% md\n"
    }
   },
   "source": [
    "4. Then, make a histogram of the parameter value across the 100 random sets. "
   ]
  },
  {
   "cell_type": "markdown",
   "id": "2b21dc76-55c1-42f2-b792-d7490d8aa179",
   "metadata": {
    "pycharm": {
     "name": "#%% md\n"
    }
   },
   "source": [
    "5. What is the mean? What is the standard deviation? What is the 2.75% percentile and the 97.25% Compare this to sthe standard error from your model above. "
   ]
  },
  {
   "cell_type": "markdown",
   "id": "7e1b042c-e040-421f-94f5-ea7315d631bc",
   "metadata": {
    "pycharm": {
     "name": "#%% md\n"
    }
   },
   "source": [
    "**Exercise 4.2.1**: Examine the spread in the estimate of the effect of the genotype by doing the following steps:\n",
    "1. Generate 100 random samples of the 674 plants, using the values for `loc` from our model (similar to 4.1.1, but do this 100 times)\n",
    "2. For each of the 100 random plants, fit your model again and get the parameter for the slope.\n",
    "3. Store those in a list (list of length 100 for the 100 random data sets)\n",
    "4. Then, make a histogram of the parameters across the 100 random sets. \n",
    "5. What is the mean? What is the standard deviation? Compare this to sthe standard error from your model above. "
   ]
  },
  {
   "cell_type": "markdown",
   "id": "7f394201-5c48-4fe9-86aa-b877ee04e344",
   "metadata": {
    "pycharm": {
     "name": "#%% md\n"
    }
   },
   "source": [
    "The p-value follows directly from the standard error. We want to know whether the slope we're getting is different from zero, which would be no effect of the genotype on \n",
    "\n",
    "The p-value says: how frequently would we see a parameter value this big, if the true parameter value is zero?"
   ]
  },
  {
   "cell_type": "markdown",
   "id": "d0bb24fb-e523-4e49-9e77-c8c3cf2a4c4b",
   "metadata": {
    "pycharm": {
     "name": "#%% md\n"
    }
   },
   "source": [
    "**Exercise 4.2.2**: Imagine instead of 0.243 the standard error was 2.43.  What would the histogram above look like? Can we say the true value is definitely higher than zero?"
   ]
  },
  {
   "cell_type": "markdown",
   "id": "250cd846-58ff-4c6e-9871-9f8b9632cb26",
   "metadata": {
    "pycharm": {
     "name": "#%% md\n"
    }
   },
   "source": [
    "**Exercise 4.2.3**: Adapt your code from 4.2.1 to generate plants with slope = 0 and fit the model, and make a histogram. How often do you see a slope as big as 2.7? (the value from the real data)"
   ]
  },
  {
   "cell_type": "code",
   "execution_count": null,
   "id": "1dacfa0f-e33a-4f0e-ae0e-9ab69c31e80a",
   "metadata": {
    "pycharm": {
     "name": "#%%\n"
    }
   },
   "outputs": [],
   "source": [
    "fruit_length_geno.corr()"
   ]
  }
 ],
 "metadata": {
  "kernelspec": {
   "display_name": "Python 3 (ipykernel)",
   "language": "python",
   "name": "python3"
  },
  "language_info": {
   "codemirror_mode": {
    "name": "ipython",
    "version": 3
   },
   "file_extension": ".py",
   "mimetype": "text/x-python",
   "name": "python",
   "nbconvert_exporter": "python",
   "pygments_lexer": "ipython3",
   "version": "3.7.13"
  }
 },
 "nbformat": 4,
 "nbformat_minor": 5
}