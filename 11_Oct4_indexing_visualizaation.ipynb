{
 "cells": [
  {
   "cell_type": "markdown",
   "id": "bd352141-f5c2-4e08-8941-132817879eb7",
   "metadata": {
    "pycharm": {
     "name": "#%% md\n"
    }
   },
   "source": [
    "# Learning objectives\n",
    "- Can explore data on your own and load into python\n",
    "- Can summarize single features\n",
    "- Able to use indexing to compare two features"
   ]
  },
  {
   "cell_type": "markdown",
   "id": "3aa6410a-ce58-4cde-ada3-9ae48eeaa705",
   "metadata": {
    "pycharm": {
     "name": "#%% md\n"
    }
   },
   "source": [
    "Loading in the data as previously... remember to check your working directory and if it matches where your `state_health.csv` file is!"
   ]
  },
  {
   "cell_type": "code",
   "execution_count": 2,
   "id": "2e86c8e2-5aaf-4f27-ac27-fbadf257361d",
   "metadata": {
    "pycharm": {
     "name": "#%%\n"
    }
   },
   "outputs": [],
   "source": [
    "import pandas as pd\n",
    "states = pd.read_csv(\"state_health.csv\")\n",
    "states_named = states.set_index(\"State Name\")"
   ]
  },
  {
   "cell_type": "markdown",
   "id": "9db3b96f-b9de-451a-947e-74b220777ded",
   "metadata": {
    "pycharm": {
     "name": "#%% md\n"
    }
   },
   "source": [
    "## Review on indexing\n",
    "Indexing is how we clean and organize and access our data.\n",
    "\n",
    "A **key** skill for the rest of the semester but can be tricky!\n",
    "\n",
    "Suggestions:\n",
    "- make a variable with a name like `rows` or `rows_in_bin` to store the rows you want to get. (Similar with columns)\n",
    "- print out the first few entries in that variable\n",
    "- instead of chaining together multiple data frame operations on one line like `lakes.sort_values('surface').head()...` put each one on a separate line storing them as separate variables after each operation. Then you can look at eacch one to see where you went wrong."
   ]
  },
  {
   "cell_type": "code",
   "execution_count": 3,
   "id": "d6b41bd1-6352-4459-bcf8-8b7fe099c67f",
   "metadata": {
    "pycharm": {
     "name": "#%%\n"
    }
   },
   "outputs": [],
   "source": [
    "lakes = {'name':['Huron','Ontario','Michigan','Erie','Superior'],\n",
    "        'surface':[23000, 7340,22400,9900,31700],\n",
    "        'ave_depth':[195,284,279,70,480],\n",
    "        'max_depth':[750,802,923,210,1333],\n",
    "        'shared_canada':[True,True, False, True, True],\n",
    "         'temperature':[48,51,49,54,43],\n",
    "         'native_name':['Karegnondi','Oniatarí:io','Mich gami','Erielhonan','Gichi-gami']\n",
    "        }\n",
    "lakes = pd.DataFrame(lakes) \n",
    "lakes_named = lakes.set_index('name')"
   ]
  },
  {
   "cell_type": "markdown",
   "id": "aadcaac7-5de6-4a01-844f-d24081bef54b",
   "metadata": {
    "pycharm": {
     "name": "#%% md\n"
    }
   },
   "source": [
    "Write down an example of each of the following types of indexing using the `lakes_named` data frame. For each example 1) pick a specific example for each of the types then 2) write the code to implement it then 3) predict what it will give you before 4) running it ."
   ]
  },
  {
   "cell_type": "markdown",
   "id": "5cb400a3-f198-4285-9779-db9486a3f41f",
   "metadata": {
    "pycharm": {
     "name": "#%% md\n"
    }
   },
   "source": [
    "**1**: Indexing to get the value in a certain cell (a certain row and a column)\n",
    "\n",
    "Specific example of what you are trying to get:"
   ]
  },
  {
   "cell_type": "code",
   "execution_count": null,
   "id": "050f722e-6f0a-475a-8bd8-2811c941b9f5",
   "metadata": {
    "pycharm": {
     "name": "#%%\n"
    }
   },
   "outputs": [],
   "source": []
  },
  {
   "cell_type": "markdown",
   "id": "6ecb930b-1a4b-41b3-8d0c-4cea736c188e",
   "metadata": {
    "pycharm": {
     "name": "#%% md\n"
    }
   },
   "source": [
    "**2**: Indexing to get the whole row or whole column for either a particular observation, or a particular feature\n",
    "\n",
    "Specific example of what you are trying to get:"
   ]
  },
  {
   "cell_type": "code",
   "execution_count": null,
   "id": "f7df62c8-9b09-46cf-9370-0a86f57cea62",
   "metadata": {
    "pycharm": {
     "name": "#%%\n"
    }
   },
   "outputs": [],
   "source": []
  },
  {
   "cell_type": "markdown",
   "id": "bbdecc8c-eb1a-4cfb-8944-0f8dbffa6d5a",
   "metadata": {
    "pycharm": {
     "name": "#%% md\n"
    }
   },
   "source": [
    "**3**: Indexing to get all observations where the feature values falling in a certain range.\n",
    "\n",
    "Specific example of what you are trying to get:"
   ]
  },
  {
   "cell_type": "code",
   "execution_count": null,
   "id": "3ea522de-69a4-478d-9309-e87e3d2aaaa7",
   "metadata": {
    "pycharm": {
     "name": "#%%\n"
    }
   },
   "outputs": [],
   "source": []
  },
  {
   "cell_type": "markdown",
   "id": "6c685fa1-89cd-4031-b1de-d1147e1a5232",
   "metadata": {
    "pycharm": {
     "name": "#%% md\n"
    }
   },
   "source": [
    "**4**: Indexing to get the  just the 2nd and 3rd observations from of one feature\n",
    "\n",
    "Specific example of what you are trying to get:"
   ]
  },
  {
   "cell_type": "code",
   "execution_count": null,
   "id": "3b53f4f0-a89c-4ef4-9eef-847e8c83ae3f",
   "metadata": {
    "pycharm": {
     "name": "#%%\n"
    }
   },
   "outputs": [],
   "source": []
  },
  {
   "cell_type": "markdown",
   "id": "44ec01be-2853-4a27-a714-bc7dd7d53696",
   "metadata": {
    "pycharm": {
     "name": "#%% md\n"
    }
   },
   "source": [
    "## 9. Univariate summaries\n",
    "\n",
    "Review:\n",
    "    \n",
    "- a single feature can also be called a *variable*\n",
    "- we can get the range of observations of the feature using univariate summaries (uni = 1, variate = about a variable): these functions operate on the **series** (in this case the Series is the column of the data frame containing the Poverty feature"
   ]
  },
  {
   "cell_type": "code",
   "execution_count": 4,
   "id": "bf2983b4-b538-4115-9085-324f000b1578",
   "metadata": {
    "pycharm": {
     "name": "#%%\n"
    }
   },
   "outputs": [
    {
     "name": "stdout",
     "output_type": "stream",
     "text": [
      "lowest poverty:  8.1\n",
      "highest poverty:  19.0\n"
     ]
    }
   ],
   "source": [
    "min_poverty = states['Poverty'].min()\n",
    "max_poverty = states['Poverty'].max()\n",
    "\n",
    "print('lowest poverty: ', min_poverty)\n",
    "print('highest poverty: ', max_poverty)"
   ]
  },
  {
   "cell_type": "markdown",
   "id": "41ab70a8-b3b5-44c2-98b9-78cda58e0581",
   "metadata": {
    "pycharm": {
     "name": "#%% md\n"
    }
   },
   "source": [
    "Using these values, we created 9 bins. A bin is nothing special, just a way of cutting up the range of poverty values into categories like \"very low\",\"low\",\"average\",... but instead of these labels we use numbers.\n",
    "\n",
    "We can create these bins using `linspace` from the `numpy` package. We specify we want a total of 10 numbers including the 2 endpoints:"
   ]
  },
  {
   "cell_type": "code",
   "execution_count": 5,
   "id": "aa89d416-9c51-410f-8e2e-ae8df39efea3",
   "metadata": {
    "pycharm": {
     "name": "#%%\n"
    }
   },
   "outputs": [
    {
     "name": "stdout",
     "output_type": "stream",
     "text": [
      "[ 8.1         9.31111111 10.52222222 11.73333333 12.94444444 14.15555556\n",
      " 15.36666667 16.57777778 17.78888889 19.        ]\n"
     ]
    }
   ],
   "source": [
    "import numpy as np\n",
    "## np.linspace(low end, high end, how many bins)\n",
    "\n",
    "poverty_bins = np.linspace(min_poverty, max_poverty, 10)\n",
    "print(poverty_bins)"
   ]
  },
  {
   "cell_type": "markdown",
   "id": "1bd71963-cf78-4a38-b5ae-872bc80ead34",
   "metadata": {
    "pycharm": {
     "name": "#%% md\n"
    }
   },
   "source": [
    "Let's get practice using Boolean indexing and create some summaries of our data.\n",
    "\n",
    "We will count how many states fall in each bin. For example, if we wanted to find which states the per capita income is between $40,000 and $50,000, that range of values would be a bin. (How many states have incomes in that range).\n"
   ]
  },
  {
   "cell_type": "markdown",
   "id": "f0a1802d-9f9d-426d-8671-671f81dc7907",
   "metadata": {
    "pycharm": {
     "name": "#%% md\n"
    }
   },
   "source": [
    "**Exercise 9.0**: Pick one of your selected features from last week, besides poverty, get the minimum, the maximum, and make a range of 10 values going from minimum to maximum using `linspace`"
   ]
  },
  {
   "cell_type": "markdown",
   "id": "15c09b31-7ff4-4034-8026-1a087a8cb964",
   "metadata": {
    "pycharm": {
     "name": "#%% md\n"
    }
   },
   "source": [
    "**Exercise 9.1**: Given a variable `i` that can go between 0 and 8 (for the 9 bins) obtain the lower and upper bound of that bin. Store these into 2 variables `lower` and `upper` by filling in the code below:"
   ]
  },
  {
   "cell_type": "code",
   "execution_count": 6,
   "id": "93a92e32-8c86-49ca-b54b-d59d80307d66",
   "metadata": {
    "pycharm": {
     "name": "#%%\n"
    }
   },
   "outputs": [],
   "source": [
    "lower = states_named['Per Capita Income'].min()\n",
    "upper = states_named['Per Capita Income'].max()"
   ]
  },
  {
   "cell_type": "markdown",
   "id": "f0e7de7a-6c41-4928-a017-f387132793f9",
   "metadata": {
    "pycharm": {
     "name": "#%% md\n"
    }
   },
   "source": [
    "**Exercise 9.2**: Use `lower` and `upper` to obtain how many observations fall into bin `i`"
   ]
  },
  {
   "cell_type": "code",
   "execution_count": null,
   "id": "4a56f9f7-d05e-4f46-827d-63a201d70d87",
   "metadata": {
    "pycharm": {
     "name": "#%%\n"
    }
   },
   "outputs": [],
   "source": [
    "pci_bins = np.linespace(lower, upper, 10)\n",
    "number_obs = ## fill in"
   ]
  },
  {
   "cell_type": "markdown",
   "id": "fbfd81a4-5b1c-42de-aa8e-6f6e46d64e20",
   "metadata": {
    "pycharm": {
     "name": "#%% md\n"
    }
   },
   "source": [
    "**Exercise 9.3**: Copy your code from 9.1 and 9.2 in a `for` loop that will to through values of `i` from 0 to 8 and print out how many states fall in each bin"
   ]
  },
  {
   "cell_type": "code",
   "execution_count": null,
   "id": "a09f7ad2-6269-4eb8-a8ea-b024ae24796a",
   "metadata": {
    "pycharm": {
     "name": "#%%\n"
    }
   },
   "outputs": [],
   "source": [
    "for i in range(9):\n",
    "    lower = capita_bin[i]\n",
    "    upper = capita_bin[i + 1]\n",
    "    obs = (states_named['Per Capita Income'] >= lower) & (states_named['Per Capita Income'] <= upper)\n",
    "    states_in_bin = states_named.loc[obs, 'Per Capita Income']\n",
    "    number_obs = len(states_in_bin)\n",
    "    print(number_obs)"
   ]
  },
  {
   "cell_type": "markdown",
   "id": "461085e3-0572-4721-8ac9-cb27bdf92e7f",
   "metadata": {
    "pycharm": {
     "name": "#%% md\n"
    }
   },
   "source": [
    "**Exercise 9.4**: Now, copy your code from 9.3 and have it just print but *store* the counts for each bin. "
   ]
  },
  {
   "cell_type": "code",
   "execution_count": null,
   "id": "95c22a77-ad88-40a0-bc0e-0061bdfea77d",
   "metadata": {
    "pycharm": {
     "name": "#%%\n"
    }
   },
   "outputs": [],
   "source": [
    "d = {}\n",
    "for i in range(9):\n",
    "    lower = capita_bin[i]\n",
    "    upper = capita_bin[i + 1]\n",
    "    obs = (states_named['Per Capita Income'] >= lower) & (states_named['Per Capita Income'] <= upper)\n",
    "    states_in_bin = states_named.loc[obs, 'Per Capita Income']\n",
    "    number_obs = len(states_in_bin)\n",
    "    print(number_obs)\n",
    "    d[lower] = number_obs\n",
    "d"
   ]
  },
  {
   "cell_type": "markdown",
   "id": "a7966807-619a-412b-a20a-a7bb43eb5586",
   "metadata": {
    "pycharm": {
     "name": "#%% md\n"
    }
   },
   "source": [
    "**Exercise 9.5**: Write down the algorithm to start from the *observations* for a particular *feature*, that will create evenly spaced bins, and store for every bin, the number of states that fall in that bin \n",
    "- what are the main tasks?\n",
    "- what are the steps in each task?\n",
    "- it is OK to write down some code in your algorithm but your algorithm shoud be mostly English."
   ]
  },
  {
   "cell_type": "code",
   "execution_count": 25,
   "id": "7b2039d5-9859-4881-8eac-85953ba50170",
   "metadata": {
    "pycharm": {
     "name": "#%%\n"
    }
   },
   "outputs": [
    {
     "name": "stdout",
     "output_type": "stream",
     "text": [
      "59808\n",
      "25301\n",
      "7\n",
      "17\n",
      "11\n",
      "8\n",
      "5\n",
      "3\n",
      "0\n",
      "0\n",
      "1\n"
     ]
    },
    {
     "data": {
      "text/plain": "{25301.0: 7,\n 29135.11111111111: 17,\n 32969.22222222222: 11,\n 36803.333333333336: 8,\n 40637.444444444445: 5,\n 44471.555555555555: 3,\n 48305.66666666667: 0,\n 52139.77777777778: 0,\n 55973.88888888889: 1}"
     },
     "execution_count": 25,
     "metadata": {},
     "output_type": "execute_result"
    }
   ],
   "source": [
    "min_income = states['Per Capita Income'].min()\n",
    "max_income = states['Per Capita Income'].max()\n",
    "print(max_income)\n",
    "print(min_income)\n",
    "capita_bin = np.linspace(min_income, max_income, 10)\n",
    "\n",
    "d = {}\n",
    "for i in range(9):\n",
    "    lower = capita_bin[i]\n",
    "    upper = capita_bin[i + 1]\n",
    "    obs = (states_named['Per Capita Income'] >= lower) & (states_named['Per Capita Income'] <= upper)\n",
    "    states_in_bin = states_named.loc[obs, 'Per Capita Income']\n",
    "    number_obs = len(states_in_bin)\n",
    "    print(number_obs)\n",
    "    d[lower] = number_obs\n",
    "d"
   ]
  },
  {
   "cell_type": "markdown",
   "id": "ba7d20da-39dd-4c69-a123-e5c68fae829d",
   "metadata": {
    "pycharm": {
     "name": "#%% md\n"
    }
   },
   "source": [
    "# 10. Intro to plotting\n"
   ]
  },
  {
   "cell_type": "markdown",
   "id": "745f8aff-5f40-4fb2-a7e4-5108f8c86f64",
   "metadata": {
    "pycharm": {
     "name": "#%% md\n"
    }
   },
   "source": [
    "Plots have 4 fundamental properties that vary:\n",
    "- x-axis (horizontal space)\n",
    "- y-axis (vertical space)\n",
    "- markers / shapes\n",
    "- colors\n",
    "\n",
    "Each of these mean something for representing our data. Every time you look at a plot you should ask yourself:\n",
    "- what does the x-axis mean\n",
    "- what does the y-axis mean\n",
    "- what do markers or shapes mean\n",
    "- what do colors mean\n",
    "\n"
   ]
  },
  {
   "cell_type": "markdown",
   "id": "fafa8a73-018c-44da-8528-c21d0f7a2db4",
   "metadata": {
    "pycharm": {
     "name": "#%% md\n"
    }
   },
   "source": [
    "We can use the `seaborn` package for making plots. Today we will learn about using this to make plots of single features.\n",
    "\n",
    "First we use `import` to load the package, then we set it up..."
   ]
  },
  {
   "cell_type": "code",
   "execution_count": 1,
   "id": "bb0671ec-216f-43e4-9937-9878cf0f014e",
   "metadata": {
    "pycharm": {
     "name": "#%%\n"
    }
   },
   "outputs": [],
   "source": [
    "import seaborn as sns\n",
    "sns.set_theme()  ## the default theme with a grid"
   ]
  },
  {
   "cell_type": "markdown",
   "id": "1cba15b1-5646-466b-95e8-cc3cac3553b1",
   "metadata": {
    "pycharm": {
     "name": "#%% md\n"
    }
   },
   "source": [
    "Seaborn always operates on a data frame. "
   ]
  },
  {
   "cell_type": "markdown",
   "id": "934b3eb6-b895-4c8c-ac4e-3e37dccea48e",
   "metadata": {
    "pycharm": {
     "name": "#%% md\n"
    }
   },
   "source": [
    "### 10.2 Bar plot\n",
    "A bar plot simply plots for each observation in your data frame, the value of the feature.\n",
    "\n",
    "Seaborn often operates like this:\n",
    "\n",
    "<code>sns.<font color=green>plot type function</font>(\n",
    "    data=<font color=green>your data frame here</font>, \n",
    "    x=<font color=green>what goes on x-axis</font>,\n",
    "    y=<font color=green>what goes on y-axis</font>)</code>"
   ]
  },
  {
   "cell_type": "code",
   "execution_count": 8,
   "id": "fe83f3f1-eb5e-4bef-b034-9f6ce1ec3b5d",
   "metadata": {
    "pycharm": {
     "name": "#%%\n"
    }
   },
   "outputs": [
    {
     "data": {
      "text/plain": "<AxesSubplot:xlabel='name', ylabel='surface'>"
     },
     "execution_count": 8,
     "metadata": {},
     "output_type": "execute_result"
    },
    {
     "data": {
      "text/plain": "<Figure size 432x288 with 1 Axes>",
      "image/png": "[encoded data removed]"
     },
     "metadata": {},
     "output_type": "display_data"
    }
   ],
   "source": [
    "sns.barplot(       ## type = bar plot\n",
    "    data = lakes,  ## lakes data frame\n",
    "    x = 'name',    ## putting lake name on x\n",
    "    y='surface')"
   ]
  },
  {
   "cell_type": "markdown",
   "id": "df1a849f-000b-4b27-80b8-47ab92579743",
   "metadata": {
    "pycharm": {
     "name": "#%% md\n"
    }
   },
   "source": [
    "Note that this is the same deal but reversed axes"
   ]
  },
  {
   "cell_type": "code",
   "execution_count": 34,
   "id": "dc14a61f-4f23-489e-bbca-57db9e20102c",
   "metadata": {
    "pycharm": {
     "name": "#%%\n"
    }
   },
   "outputs": [
    {
     "data": {
      "text/plain": [
       "<AxesSubplot:xlabel='temperature', ylabel='name'>"
      ]
     },
     "execution_count": 34,
     "metadata": {},
     "output_type": "execute_result"
    },
    {
     "data": {
      "image/png": "[encoded data removed]",
      "text/plain": [
       "<Figure size 432x288 with 1 Axes>"
      ]
     },
     "metadata": {},
     "output_type": "display_data"
    }
   ],
   "source": [
    "sns.barplot(data = lakes, y = 'name',x='temperature')"
   ]
  },
  {
   "cell_type": "markdown",
   "id": "06ae4d53-6b9c-4c70-8902-17e320e83c96",
   "metadata": {
    "pycharm": {
     "name": "#%% md\n"
    }
   },
   "source": [
    "**Exercise 10.1.1**: Make a bar plot of the top or bottom 20 states for the observation you picked above. States should be sorted by their value of that feature."
   ]
  },
  {
   "cell_type": "code",
   "execution_count": 2,
   "id": "a00d40c9-1713-4428-a1d1-3a81f6dbabcd",
   "metadata": {
    "pycharm": {
     "name": "#%%\n"
    }
   },
   "outputs": [
    {
     "ename": "NameError",
     "evalue": "name 'capita_bin' is not defined",
     "output_type": "error",
     "traceback": [
      "\u001B[0;31m---------------------------------------------------------------------------\u001B[0m",
      "\u001B[0;31mNameError\u001B[0m                                 Traceback (most recent call last)",
      "Input \u001B[0;32mIn [2]\u001B[0m, in \u001B[0;36m<cell line: 2>\u001B[0;34m()\u001B[0m\n\u001B[1;32m      1\u001B[0m d \u001B[38;5;241m=\u001B[39m {}\n\u001B[1;32m      2\u001B[0m \u001B[38;5;28;01mfor\u001B[39;00m i \u001B[38;5;129;01min\u001B[39;00m \u001B[38;5;28mrange\u001B[39m(\u001B[38;5;241m9\u001B[39m):\n\u001B[0;32m----> 3\u001B[0m     lower \u001B[38;5;241m=\u001B[39m \u001B[43mcapita_bin\u001B[49m[i]\n\u001B[1;32m      4\u001B[0m     upper \u001B[38;5;241m=\u001B[39m capita_bin[i \u001B[38;5;241m+\u001B[39m \u001B[38;5;241m1\u001B[39m]\n\u001B[1;32m      5\u001B[0m     obs \u001B[38;5;241m=\u001B[39m (states_named[\u001B[38;5;124m'\u001B[39m\u001B[38;5;124mPer Capita Income\u001B[39m\u001B[38;5;124m'\u001B[39m] \u001B[38;5;241m>\u001B[39m\u001B[38;5;241m=\u001B[39m lower) \u001B[38;5;241m&\u001B[39m (states_named[\u001B[38;5;124m'\u001B[39m\u001B[38;5;124mPer Capita Income\u001B[39m\u001B[38;5;124m'\u001B[39m] \u001B[38;5;241m<\u001B[39m\u001B[38;5;241m=\u001B[39m upper)\n",
      "\u001B[0;31mNameError\u001B[0m: name 'capita_bin' is not defined"
     ]
    }
   ],
   "source": [
    "d = {}\n",
    "for i in range(9):\n",
    "    lower = capita_bin[i]\n",
    "    upper = capita_bin[i + 1]\n",
    "    obs = (states_named['Per Capita Income'] >= lower) & (states_named['Per Capita Income'] <= upper)\n",
    "    states_in_bin = states_named.loc[obs, 'Per Capita Income']\n",
    "    number_obs = len(states_in_bin)\n",
    "    print(number_obs)\n",
    "    d[i] = number_obs\n",
    "\n",
    "sort = states.sort_values('Per Capita Income')\n",
    "first_twenty = sort.head(20)\n",
    "sns.barplot( data = states.sort_values('Per Capita Income'), y = 'State Name', x = 'Per Capita Income')"
   ]
  },
  {
   "cell_type": "markdown",
   "id": "d5200000-6960-49a0-bcb8-b415860b6962",
   "metadata": {
    "pycharm": {
     "name": "#%% md\n"
    }
   },
   "source": [
    "**Exercise 10.1.2**: What are the observations and features in your plot? What do the axes mean?"
   ]
  },
  {
   "cell_type": "code",
   "execution_count": 3,
   "outputs": [
    {
     "ename": "NameError",
     "evalue": "name 'states' is not defined",
     "output_type": "error",
     "traceback": [
      "\u001B[0;31m---------------------------------------------------------------------------\u001B[0m",
      "\u001B[0;31mNameError\u001B[0m                                 Traceback (most recent call last)",
      "Input \u001B[0;32mIn [3]\u001B[0m, in \u001B[0;36m<cell line: 1>\u001B[0;34m()\u001B[0m\n\u001B[0;32m----> 1\u001B[0m Obs \u001B[38;5;241m=\u001B[39m \u001B[43mstates\u001B[49m[\u001B[38;5;124m'\u001B[39m\u001B[38;5;124mState Name\u001B[39m\u001B[38;5;124m'\u001B[39m]\n\u001B[1;32m      2\u001B[0m Feature \u001B[38;5;241m=\u001B[39m states_named[\u001B[38;5;124m'\u001B[39m\u001B[38;5;124mPer Capita Income\u001B[39m\u001B[38;5;124m'\u001B[39m]\n",
      "\u001B[0;31mNameError\u001B[0m: name 'states' is not defined"
     ]
    }
   ],
   "source": [
    "Obs = states['State Name']\n",
    "Feature = states_named['Per Capita Income']\n",
    "# <AxesSubplot:xlabel='Per Capita Income', ylabel='State Name'>"
   ],
   "metadata": {
    "collapsed": false,
    "pycharm": {
     "name": "#%%\n"
    }
   }
  },
  {
   "cell_type": "markdown",
   "id": "da7c2251-b3be-45f9-8a3c-84c9e653eaa7",
   "metadata": {
    "pycharm": {
     "name": "#%% md\n"
    }
   },
   "source": [
    "**Self-check**: Make a bar plot of the values of the feature you cchose for only states that fall into one of your bins above, with states on the y-axis. What do you expect the x-axis range to be? Is it what you expected? Is the number of states in your plot what you expected?"
   ]
  },
  {
   "cell_type": "code",
   "execution_count": 16,
   "outputs": [
    {
     "data": {
      "text/plain": "<AxesSubplot:xlabel='Per Capita Income', ylabel='State Name'>"
     },
     "execution_count": 16,
     "metadata": {},
     "output_type": "execute_result"
    },
    {
     "data": {
      "text/plain": "<Figure size 432x288 with 1 Axes>",
      "image/png": "[encoded data removed]"
     },
     "metadata": {},
     "output_type": "display_data"
    }
   ],
   "source": [
    "d = {}\n",
    "for i in range(9):\n",
    "    lower = capita_bin[i]\n",
    "    upper = capita_bin[i + 1]\n",
    "    obs = (states_named['Per Capita Income'] >= lower) & (states_named['Per Capita Income'] <= upper)\n",
    "    states_in_bin = states_named.loc[obs, 'Per Capita Income']\n",
    "    d[i] = states_in_bin\n",
    "\n",
    "sort = states.sort_values('Per Capita Income')\n",
    "first_twenty = sort.head(20)\n",
    "sns.barplot( data = first_twenty, y = 'State Name', x = 'Per Capita Income')\n"
   ],
   "metadata": {
    "collapsed": false,
    "pycharm": {
     "name": "#%%\n"
    }
   }
  },
  {
   "cell_type": "markdown",
   "id": "e56e3290-c7ea-4c8d-9a20-2eb7eb1ab57d",
   "metadata": {
    "pycharm": {
     "name": "#%% md\n"
    }
   },
   "source": [
    "\n",
    "### 10.2 Histogram\n",
    "\n",
    "One useful summary is the **histogram** which allows us to visualize the **distribution** of our data. The distribution means *how many times (how frequently)* your *observations* have values falling in certain bins. This can provide some insight! \n",
    "\n",
    "Here's a plot from a [published paper](https://idpjournal.biomedcentral.com/articles/10.1186/s40249-021-00901-9) (note data is a NOT available  ☹️  )\n",
    "![](https://media.springernature.com/full/springer-static/image/art%3A10.1186%2Fs40249-021-00901-9/MediaObjects/40249_2021_901_Fig4_HTML.png \"covid\")\n",
    "\n",
    "**Discuss**: Look at the histogram above. \n",
    "- what are the *axes*?\n",
    "- what do the *bars* mean?\n",
    "- what *observations* and *features* are in this plot?\n",
    "- what are the bins?"
   ]
  },
  {
   "cell_type": "markdown",
   "id": "bd96e490-be01-4ff9-890b-453e31fbbe54",
   "metadata": {
    "pycharm": {
     "name": "#%% md\n"
    }
   },
   "source": [
    "Depending on what seaborn function you use, it will make a different kind of plot. Right now we'll just use `displot` short for **distribution plot** which is the same thing as a histogram."
   ]
  },
  {
   "cell_type": "code",
   "execution_count": 22,
   "id": "679b908d-1bd7-46ae-9145-27c6a41ed1d8",
   "metadata": {
    "pycharm": {
     "name": "#%%\n"
    }
   },
   "outputs": [
    {
     "name": "stdout",
     "output_type": "stream",
     "text": [
      "123123\n"
     ]
    },
    {
     "data": {
      "text/plain": "<seaborn.axisgrid.FacetGrid at 0x7ff710b1dd00>"
     },
     "execution_count": 22,
     "metadata": {},
     "output_type": "execute_result"
    },
    {
     "data": {
      "text/plain": "<Figure size 360x360 with 1 Axes>",
      "image/png": "[encoded data removed]"
     },
     "metadata": {},
     "output_type": "display_data"
    }
   ],
   "source": [
    "print(int(round(123123.12312313, 0)))\n",
    "sns.displot(data=lakes, x=\"surface\")"
   ]
  },
  {
   "cell_type": "code",
   "execution_count": 23,
   "id": "e324a86d-9c77-4e68-922e-cedde688c50e",
   "metadata": {
    "pycharm": {
     "name": "#%%\n"
    }
   },
   "outputs": [
    {
     "data": {
      "text/plain": "<seaborn.axisgrid.FacetGrid at 0x7ff741ac5a00>"
     },
     "execution_count": 23,
     "metadata": {},
     "output_type": "execute_result"
    },
    {
     "data": {
      "text/plain": "<Figure size 360x360 with 1 Axes>",
      "image/png": "[encoded data removed]"
     },
     "metadata": {},
     "output_type": "display_data"
    }
   ],
   "source": [
    "sns.displot(data=lakes, y=\"surface\")"
   ]
  },
  {
   "cell_type": "markdown",
   "id": "43eac704-79d5-413c-9c20-5bdb4bf3f896",
   "metadata": {
    "pycharm": {
     "name": "#%% md\n"
    }
   },
   "source": [
    "**Discuss**: Note that you only specify one of `x` or `y`. Why?"
   ]
  },
  {
   "cell_type": "markdown",
   "id": "2260cd10-0c7f-4db1-b48c-c18c3232a44a",
   "metadata": {
    "pycharm": {
     "name": "#%% md\n"
    }
   },
   "source": [
    "**Exercise 10.2.1**: *A*: Make a histogram (or distribution plot) of your chosen feature from exercise 9.0 to 9.5. "
   ]
  },
  {
   "cell_type": "code",
   "execution_count": 4,
   "id": "36e8a1eb-95a3-44b6-a9f7-bcfc0622e2f0",
   "metadata": {
    "pycharm": {
     "name": "#%%\n"
    }
   },
   "outputs": [
    {
     "ename": "NameError",
     "evalue": "name 'states_named' is not defined",
     "output_type": "error",
     "traceback": [
      "\u001B[0;31m---------------------------------------------------------------------------\u001B[0m",
      "\u001B[0;31mNameError\u001B[0m                                 Traceback (most recent call last)",
      "Input \u001B[0;32mIn [4]\u001B[0m, in \u001B[0;36m<cell line: 1>\u001B[0;34m()\u001B[0m\n\u001B[0;32m----> 1\u001B[0m sns\u001B[38;5;241m.\u001B[39mdisplot(data\u001B[38;5;241m=\u001B[39m \u001B[43mstates_named\u001B[49m, x \u001B[38;5;241m=\u001B[39m \u001B[38;5;124m\"\u001B[39m\u001B[38;5;124mPer Capita Income\u001B[39m\u001B[38;5;124m\"\u001B[39m)\n\u001B[1;32m      2\u001B[0m \u001B[38;5;66;03m#sns.barplot(data= d, x=list(d.keys()), y=list(d.values()))\u001B[39;00m\n\u001B[1;32m      3\u001B[0m \n\u001B[1;32m      4\u001B[0m \u001B[38;5;66;03m#print(list(d.keys()))\u001B[39;00m\n\u001B[1;32m      5\u001B[0m \u001B[38;5;28mprint\u001B[39m(d)\n",
      "\u001B[0;31mNameError\u001B[0m: name 'states_named' is not defined"
     ]
    }
   ],
   "source": [
    "sns.displot(data= states_named, x = \"Per Capita Income\")\n",
    "#sns.barplot(data= d, x=list(d.keys()), y=list(d.values()))\n",
    "\n",
    "#print(list(d.keys()))\n",
    "print(d)"
   ]
  },
  {
   "cell_type": "markdown",
   "id": "4c032291-b1f6-4329-a008-dda3fd90f996",
   "metadata": {
    "pycharm": {
     "name": "#%% md\n"
    }
   },
   "source": [
    "**Exercise 10.2.2**: Look at your histogram and compare the results to 1) The bin counts you got in exercise 9.0-9.5 and 2) the following functions on the series: `min()`, `max()`, `mean()`, and `median()`"
   ]
  },
  {
   "cell_type": "code",
   "execution_count": null,
   "outputs": [],
   "source": [
    "print(states_named['Per Capita Income'].min())\n",
    "print(states_named['Per Capita Income'].max())\n",
    "print(states_named['Per Capita Income'].mean())"
   ],
   "metadata": {
    "collapsed": false,
    "pycharm": {
     "name": "#%%\n"
    }
   }
  },
  {
   "cell_type": "markdown",
   "id": "04553e7c-6f9b-465a-aa7c-fa60c11a1836",
   "metadata": {
    "pycharm": {
     "name": "#%% md\n"
    }
   },
   "source": [
    "**Exercise 10.2.3**: *A*: Use `describe()` for another feature. Then, predict (draw) what you think the histogram will look like using the whiteboard. Predict first:"
   ]
  },
  {
   "cell_type": "code",
   "execution_count": 35,
   "id": "c1ba2c71-bde2-47af-852c-ece19f5abb08",
   "metadata": {
    "pycharm": {
     "name": "#%%\n"
    }
   },
   "outputs": [
    {
     "name": "stdout",
     "output_type": "stream",
     "text": [
      "count    52.000000\n",
      "mean      9.282692\n",
      "std       2.331853\n",
      "min       5.100000\n",
      "25%       7.550000\n",
      "50%       8.850000\n",
      "75%      10.825000\n",
      "max      14.600000\n",
      "Name: Mental illness, dtype: float64\n"
     ]
    },
    {
     "data": {
      "text/plain": "<seaborn.axisgrid.FacetGrid at 0x7ff6f0ccdeb0>"
     },
     "execution_count": 35,
     "metadata": {},
     "output_type": "execute_result"
    },
    {
     "data": {
      "text/plain": "<Figure size 360x360 with 1 Axes>",
      "image/png": "[encoded data removed]"
     },
     "metadata": {},
     "output_type": "display_data"
    }
   ],
   "source": [
    "print(states_named[\"Mental illness\"].describe())\n",
    "sns.displot(data= states_named, x= \"Mental illness\")"
   ]
  },
  {
   "cell_type": "markdown",
   "id": "2bba9efc-e0a4-4636-95cf-24740021a09d",
   "metadata": {
    "pycharm": {
     "name": "#%% md\n"
    }
   },
   "source": [
    "*B*: Then, make the histogram. How does it compare to what you predicted?"
   ]
  },
  {
   "cell_type": "code",
   "execution_count": 36,
   "id": "9a276441-1950-4ebd-9d48-ab134167f8db",
   "metadata": {
    "collapsed": true,
    "jupyter": {
     "outputs_hidden": true
    },
    "tags": [],
    "pycharm": {
     "name": "#%%\n"
    }
   },
   "outputs": [
    {
     "data": {
      "text/plain": "<seaborn.axisgrid.FacetGrid at 0x7ff6f0cd1eb0>"
     },
     "execution_count": 36,
     "metadata": {},
     "output_type": "execute_result"
    },
    {
     "data": {
      "text/plain": "<Figure size 360x360 with 1 Axes>",
      "image/png": "[encoded data removed]"
     },
     "metadata": {},
     "output_type": "display_data"
    }
   ],
   "source": []
  },
  {
   "cell_type": "markdown",
   "id": "3c775934-bb29-4fb4-8a9b-987c00043584",
   "metadata": {
    "pycharm": {
     "name": "#%% md\n"
    }
   },
   "source": [
    "**Exercise 10.2.4**: *A*. Make a histogram of a 3rd of your chosen features. Then use the histogram to predict by looking at it what the values you will get are for `mean()`, `min()`, `max()`. "
   ]
  },
  {
   "cell_type": "code",
   "execution_count": 38,
   "id": "b5b442eb-9228-467e-8a23-76907fb02ae0",
   "metadata": {
    "pycharm": {
     "name": "#%%\n"
    }
   },
   "outputs": [
    {
     "name": "stdout",
     "output_type": "stream",
     "text": [
      "41.5\n",
      "73.4\n",
      "65.79807692307692\n"
     ]
    },
    {
     "data": {
      "text/plain": "<Figure size 360x360 with 1 Axes>",
      "image/png": "[encoded data removed]"
     },
     "metadata": {},
     "output_type": "display_data"
    }
   ],
   "source": [
    "sns.displot(data=states,x='Homeownership')\n",
    "print(states_named['Homeownership'].min())\n",
    "print(states_named['Homeownership'].max())\n",
    "print(states_named['Homeownership'].mean())"
   ]
  },
  {
   "cell_type": "markdown",
   "id": "913e69d1-509f-47ad-a837-395918b402be",
   "metadata": {
    "pycharm": {
     "name": "#%% md\n"
    }
   },
   "source": [
    "*B*. Then calculate the actual values after predicting. Do they match?"
   ]
  },
  {
   "cell_type": "code",
   "execution_count": null,
   "id": "cce9e072-8f32-445c-aa34-71031e32bab0",
   "metadata": {
    "pycharm": {
     "name": "#%%\n"
    }
   },
   "outputs": [],
   "source": []
  },
  {
   "cell_type": "markdown",
   "id": "32db5601-3f3a-4aea-8bc7-58c074a52fa7",
   "metadata": {
    "pycharm": {
     "name": "#%% md\n"
    }
   },
   "source": [
    "**Discuss**: What is the difference between a bar plot and a histogram? What is the same about a bar plot and a histogram?"
   ]
  },
  {
   "cell_type": "markdown",
   "id": "10bfad52-0dfd-4c92-b7ab-58cdaa7566ff",
   "metadata": {
    "pycharm": {
     "name": "#%% md\n"
    }
   },
   "source": [
    "**Self-check**: Look at your last histogram. A histogram creates bins of values for a feature. Eye-ball what you think the edges of one of the bins is, and predict how many states will fall in that bin. Verify this matches the data by getting the number of states that do fall into that bin using pandas. "
   ]
  },
  {
   "cell_type": "code",
   "execution_count": null,
   "id": "2f66973f-259d-403c-8cd8-6ef45d49e70e",
   "metadata": {
    "pycharm": {
     "name": "#%%\n"
    }
   },
   "outputs": [],
   "source": []
  },
  {
   "cell_type": "markdown",
   "id": "677de160-863a-46e2-a134-7fbbefafedcd",
   "metadata": {
    "pycharm": {
     "name": "#%% md\n"
    }
   },
   "source": [
    "### 10.3 Practicing with data\n",
    "Go to the Organization for Economic Cooperation and Development [website](https://data.oecd.org/earnwage/gender-wage-gap.htm) and download their data on the gender wage gap by country. \"Selected data only\".\n",
    "\n",
    "**10.3.1**: Load the data into this jupyter notebook."
   ]
  },
  {
   "cell_type": "code",
   "execution_count": 39,
   "id": "588b477d-6180-4b3f-a2d0-8e68b5f2755b",
   "metadata": {
    "pycharm": {
     "name": "#%%\n"
    }
   },
   "outputs": [
    {
     "name": "stdout",
     "output_type": "stream",
     "text": [
      "    LOCATION INDICATOR   SUBJECT MEASURE FREQUENCY  TIME      Value  \\\n",
      "0        AUS   WAGEGAP  EMPLOYEE      PC         A  2017  13.000948   \n",
      "1        AUS   WAGEGAP  EMPLOYEE      PC         A  2018  13.448567   \n",
      "2        AUS   WAGEGAP  EMPLOYEE      PC         A  2019  15.311653   \n",
      "3        AUT   WAGEGAP  EMPLOYEE      PC         A  2017  15.382154   \n",
      "4        AUT   WAGEGAP  EMPLOYEE      PC         A  2018  14.876691   \n",
      "..       ...       ...       ...     ...       ...   ...        ...   \n",
      "140      BRA   WAGEGAP  EMPLOYEE      PC         A  2017  13.333333   \n",
      "141      BRA   WAGEGAP  EMPLOYEE      PC         A  2018  10.666667   \n",
      "142      BRA   WAGEGAP  EMPLOYEE      PC         A  2019   6.666667   \n",
      "143      BRA   WAGEGAP  EMPLOYEE      PC         A  2020   6.250000   \n",
      "144      BRA   WAGEGAP  EMPLOYEE      PC         A  2021   9.090909   \n",
      "\n",
      "     Flag Codes  \n",
      "0           NaN  \n",
      "1           NaN  \n",
      "2           NaN  \n",
      "3           NaN  \n",
      "4           NaN  \n",
      "..          ...  \n",
      "140         NaN  \n",
      "141         NaN  \n",
      "142         NaN  \n",
      "143         NaN  \n",
      "144         NaN  \n",
      "\n",
      "[145 rows x 8 columns]\n"
     ]
    }
   ],
   "source": [
    "import pandas as pd\n",
    "wage_gap = pd.read_csv('DP_LIVE_05102022201149114.csv')\n",
    "#wage_gap = set_index"
   ]
  },
  {
   "cell_type": "markdown",
   "id": "32963b8a-bf02-4f1b-9115-de55dde4ab62",
   "metadata": {
    "pycharm": {
     "name": "#%% md\n"
    }
   },
   "source": [
    "**10.3.2**: Then get the subset corresponding to year 2021."
   ]
  },
  {
   "cell_type": "code",
   "execution_count": 42,
   "id": "1d33dd24-6ee6-4e06-916e-35b7565990a0",
   "metadata": {
    "pycharm": {
     "name": "#%%\n"
    }
   },
   "outputs": [
    {
     "data": {
      "text/plain": "    LOCATION INDICATOR   SUBJECT MEASURE FREQUENCY  TIME      Value  \\\n14       CAN   WAGEGAP  EMPLOYEE      PC         A  2021  16.666667   \n19       CZE   WAGEGAP  EMPLOYEE      PC         A  2021  11.518748   \n47       JPN   WAGEGAP  EMPLOYEE      PC         A  2021  22.113766   \n52       KOR   WAGEGAP  EMPLOYEE      PC         A  2021  31.064839   \n55       MEX   WAGEGAP  EMPLOYEE      PC         A  2021  12.500000   \n63       NZL   WAGEGAP  EMPLOYEE      PC         A  2021   6.666667   \n68       NOR   WAGEGAP  EMPLOYEE      PC         A  2021   4.601479   \n78       SVK   WAGEGAP  EMPLOYEE      PC         A  2021  11.700371   \n92       GBR   WAGEGAP  EMPLOYEE      PC         A  2021  14.349294   \n97       USA   WAGEGAP  EMPLOYEE      PC         A  2021  16.864175   \n139      ARG   WAGEGAP  EMPLOYEE      PC         A  2021   6.250000   \n144      BRA   WAGEGAP  EMPLOYEE      PC         A  2021   9.090909   \n\n     Flag Codes  \n14          NaN  \n19          NaN  \n47          NaN  \n52          NaN  \n55          NaN  \n63          NaN  \n68          NaN  \n78          NaN  \n92          NaN  \n97          NaN  \n139         NaN  \n144         NaN  ",
      "text/html": "<div>\n<style scoped>\n    .dataframe tbody tr th:only-of-type {\n        vertical-align: middle;\n    }\n\n    .dataframe tbody tr th {\n        vertical-align: top;\n    }\n\n    .dataframe thead th {\n        text-align: right;\n    }\n</style>\n<table border=\"1\" class=\"dataframe\">\n  <thead>\n    <tr style=\"text-align: right;\">\n      <th></th>\n      <th>LOCATION</th>\n      <th>INDICATOR</th>\n      <th>SUBJECT</th>\n      <th>MEASURE</th>\n      <th>FREQUENCY</th>\n      <th>TIME</th>\n      <th>Value</th>\n      <th>Flag Codes</th>\n    </tr>\n  </thead>\n  <tbody>\n    <tr>\n      <th>14</th>\n      <td>CAN</td>\n      <td>WAGEGAP</td>\n      <td>EMPLOYEE</td>\n      <td>PC</td>\n      <td>A</td>\n      <td>2021</td>\n      <td>16.666667</td>\n      <td>NaN</td>\n    </tr>\n    <tr>\n      <th>19</th>\n      <td>CZE</td>\n      <td>WAGEGAP</td>\n      <td>EMPLOYEE</td>\n      <td>PC</td>\n      <td>A</td>\n      <td>2021</td>\n      <td>11.518748</td>\n      <td>NaN</td>\n    </tr>\n    <tr>\n      <th>47</th>\n      <td>JPN</td>\n      <td>WAGEGAP</td>\n      <td>EMPLOYEE</td>\n      <td>PC</td>\n      <td>A</td>\n      <td>2021</td>\n      <td>22.113766</td>\n      <td>NaN</td>\n    </tr>\n    <tr>\n      <th>52</th>\n      <td>KOR</td>\n      <td>WAGEGAP</td>\n      <td>EMPLOYEE</td>\n      <td>PC</td>\n      <td>A</td>\n      <td>2021</td>\n      <td>31.064839</td>\n      <td>NaN</td>\n    </tr>\n    <tr>\n      <th>55</th>\n      <td>MEX</td>\n      <td>WAGEGAP</td>\n      <td>EMPLOYEE</td>\n      <td>PC</td>\n      <td>A</td>\n      <td>2021</td>\n      <td>12.500000</td>\n      <td>NaN</td>\n    </tr>\n    <tr>\n      <th>63</th>\n      <td>NZL</td>\n      <td>WAGEGAP</td>\n      <td>EMPLOYEE</td>\n      <td>PC</td>\n      <td>A</td>\n      <td>2021</td>\n      <td>6.666667</td>\n      <td>NaN</td>\n    </tr>\n    <tr>\n      <th>68</th>\n      <td>NOR</td>\n      <td>WAGEGAP</td>\n      <td>EMPLOYEE</td>\n      <td>PC</td>\n      <td>A</td>\n      <td>2021</td>\n      <td>4.601479</td>\n      <td>NaN</td>\n    </tr>\n    <tr>\n      <th>78</th>\n      <td>SVK</td>\n      <td>WAGEGAP</td>\n      <td>EMPLOYEE</td>\n      <td>PC</td>\n      <td>A</td>\n      <td>2021</td>\n      <td>11.700371</td>\n      <td>NaN</td>\n    </tr>\n    <tr>\n      <th>92</th>\n      <td>GBR</td>\n      <td>WAGEGAP</td>\n      <td>EMPLOYEE</td>\n      <td>PC</td>\n      <td>A</td>\n      <td>2021</td>\n      <td>14.349294</td>\n      <td>NaN</td>\n    </tr>\n    <tr>\n      <th>97</th>\n      <td>USA</td>\n      <td>WAGEGAP</td>\n      <td>EMPLOYEE</td>\n      <td>PC</td>\n      <td>A</td>\n      <td>2021</td>\n      <td>16.864175</td>\n      <td>NaN</td>\n    </tr>\n    <tr>\n      <th>139</th>\n      <td>ARG</td>\n      <td>WAGEGAP</td>\n      <td>EMPLOYEE</td>\n      <td>PC</td>\n      <td>A</td>\n      <td>2021</td>\n      <td>6.250000</td>\n      <td>NaN</td>\n    </tr>\n    <tr>\n      <th>144</th>\n      <td>BRA</td>\n      <td>WAGEGAP</td>\n      <td>EMPLOYEE</td>\n      <td>PC</td>\n      <td>A</td>\n      <td>2021</td>\n      <td>9.090909</td>\n      <td>NaN</td>\n    </tr>\n  </tbody>\n</table>\n</div>"
     },
     "execution_count": 42,
     "metadata": {},
     "output_type": "execute_result"
    }
   ],
   "source": [
    "wage21 = wage_gap.loc[wage_gap['TIME'] == 2021]\n",
    "wage21"
   ]
  },
  {
   "cell_type": "markdown",
   "id": "372e16a5-845f-4172-81b9-4b4d5d0739be",
   "metadata": {
    "pycharm": {
     "name": "#%% md\n"
    }
   },
   "source": [
    "**10.3.2**: Make a bar plot of the wage gap for countries sorted by gap amount"
   ]
  },
  {
   "cell_type": "code",
   "execution_count": 44,
   "outputs": [
    {
     "data": {
      "text/plain": "<AxesSubplot:xlabel='LOCATION', ylabel='Value'>"
     },
     "execution_count": 44,
     "metadata": {},
     "output_type": "execute_result"
    },
    {
     "data": {
      "text/plain": "<Figure size 432x288 with 1 Axes>",
      "image/png": "[encoded data removed]"
     },
     "metadata": {},
     "output_type": "display_data"
    }
   ],
   "source": [
    "sns.barplot(data= wage21.sort_values('Value'), x= \"LOCATION\", y= \"Value\")\n"
   ],
   "metadata": {
    "collapsed": false,
    "pycharm": {
     "name": "#%%\n"
    }
   }
  },
  {
   "cell_type": "markdown",
   "id": "5627c2fa-ccab-4b8b-ad99-d233b2677c4e",
   "metadata": {
    "pycharm": {
     "name": "#%% md\n"
    }
   },
   "source": [
    "**10.3.3**: Using the bar plot, what do you think the mean, min, and max gaps are?"
   ]
  },
  {
   "cell_type": "code",
   "execution_count": 45,
   "id": "8cee99cf-1c92-43e7-95b8-530f933c236f",
   "metadata": {
    "pycharm": {
     "name": "#%%\n"
    }
   },
   "outputs": [
    {
     "name": "stdout",
     "output_type": "stream",
     "text": [
      "count    12.000000\n",
      "mean     13.615576\n",
      "std       7.450880\n",
      "min       4.601479\n",
      "25%       8.484848\n",
      "50%      12.100186\n",
      "75%      16.716044\n",
      "max      31.064839\n",
      "Name: Value, dtype: float64\n"
     ]
    }
   ],
   "source": [
    "# min = 5\n",
    "# max = 32\n",
    "# Mean = 13.5\n",
    "\n",
    "print(wage21[\"Value\"].describe())"
   ]
  },
  {
   "cell_type": "markdown",
   "id": "d1048e6b-d620-4882-a05c-d660ba64a845",
   "metadata": {
    "pycharm": {
     "name": "#%% md\n"
    }
   },
   "source": [
    "**10.3.4**: Predict what the histogram will look like. Then make a histogram of the wage gaps. "
   ]
  },
  {
   "cell_type": "code",
   "execution_count": 46,
   "id": "ebab2b32-addf-443f-8f9e-872999706838",
   "metadata": {
    "pycharm": {
     "name": "#%%\n"
    }
   },
   "outputs": [
    {
     "data": {
      "text/plain": "<seaborn.axisgrid.FacetGrid at 0x7ff732508940>"
     },
     "execution_count": 46,
     "metadata": {},
     "output_type": "execute_result"
    },
    {
     "data": {
      "text/plain": "<Figure size 360x360 with 1 Axes>",
      "image/png": "[encoded data removed]"
     },
     "metadata": {},
     "output_type": "display_data"
    }
   ],
   "source": [
    "sns.displot(data= wage21, x=\"Value\")"
   ]
  },
  {
   "cell_type": "markdown",
   "id": "4f02a09f-a948-49e6-b358-7df0c7f22f85",
   "metadata": {
    "pycharm": {
     "name": "#%% md\n"
    }
   },
   "source": [
    "## 11. Reading in data sets that combine multiple data frames & cleaning your data\n",
    "I uploaded some data to the \"in_class\" OneDrive folder. You can also get it at this [link](https://studentuml-my.sharepoint.com/:u:/g/personal/rachel_melamed_uml_edu/EUobuX9xTDxPsd0xKwHy0mkBOaImNzDBe64fHvAMrGBL2A?e=86aKPI)\n",
    "\n",
    "The data is downloaded from [White, 2019, *Regional influences on community structure across the tropical-temperate divide*](https://www.nature.com/articles/s41467-019-10253-6) as detailed [here](https://github.com/kkdey/ecostructure/tree/master/data)\n",
    "\n",
    "**Exercise 11.1**: It is in text files. Take a look in command line:\n",
    "- how many lines are they?\n",
    "- what's in the first few lines?\n",
    "- How do you think the files relate to each other (feel free to check the links)\n",
    "\n",
    "**Exercise 11.2**: *A*. Load them into 2 data frames, `sites` (eco_sites.txt) and `counts` (species_counts.txt)"
   ]
  },
  {
   "cell_type": "code",
   "execution_count": 6,
   "id": "55985ae8-7c3d-4717-b8a3-c9ed1174b5b5",
   "metadata": {
    "pycharm": {
     "name": "#%%\n"
    }
   },
   "outputs": [
    {
     "name": "stdout",
     "output_type": "stream",
     "text": [
      "    Elevation      North       East WorE\n",
      "A2     198.25  26.978983  92.921975    E\n",
      "A3     734.25  27.006267  92.404575    E\n",
      "A4    1243.25  27.027496  92.410408    E     Macropygia_unchall  Streptopelia_chinensis  Streptopelia_senegalensis  \\\n",
      "A2                   0                       0                          0   \n",
      "A3                   0                       0                          0   \n",
      "A4                   0                       0                          0   \n",
      "\n",
      "    Columba_pulchricollis  Streptopelia_orientalis  Chalcophaps_indica  \\\n",
      "A2                      0                        0                   0   \n",
      "A3                      0                        0                   0   \n",
      "A4                      0                        0                   0   \n",
      "\n",
      "    Treron_curvirostra  Treron_apicauda  Treron_sphenurus  \\\n",
      "A2                   2                0                 0   \n",
      "A3                   0                2                 0   \n",
      "A4                   0                2                 0   \n",
      "\n",
      "    Treron_phoenicopterus  ...  Psarisomus_dalhousiae  Pitta_brachyura  \\\n",
      "A2                      0  ...                      0                0   \n",
      "A3                      0  ...                      0                0   \n",
      "A4                      0  ...                      2                0   \n",
      "\n",
      "    Megalaima_australis  Caprimulgus_macrurus  Picus_xanthopygaeus  \\\n",
      "A2                    0                     0                    0   \n",
      "A3                    0                     0                    0   \n",
      "A4                    0                     0                    0   \n",
      "\n",
      "    Cettia_pallidipes  Nyctyornis_athertoni  Pericrocotus_roseus  \\\n",
      "A2                  0                     0                    0   \n",
      "A3                  0                     0                    0   \n",
      "A4                  0                     0                    0   \n",
      "\n",
      "    Psittacula_cyanocephala  Abroscopus_albogularis  \n",
      "A2                        0                       0  \n",
      "A3                        0                       0  \n",
      "A4                        0                       0  \n",
      "\n",
      "[3 rows x 304 columns]\n"
     ]
    }
   ],
   "source": [
    "import pandas as pd\n",
    "sites = pd.read_table(\"arabidopsis_birds/eco_data/eco_sites.txt\")\n",
    "counts = pd.read_table(\"arabidopsis_birds/eco_data/species_counts.txt\")\n",
    "#print(sites.head(3), counts.head(3))"
   ]
  },
  {
   "cell_type": "markdown",
   "id": "1405c6b7-690f-40fe-b07f-797026e9fb70",
   "metadata": {
    "pycharm": {
     "name": "#%% md\n"
    }
   },
   "source": [
    "**Exercise 11.3**: Check the sizes of each data frame and look at the first few rows"
   ]
  },
  {
   "cell_type": "code",
   "execution_count": 7,
   "id": "54275fb9-e7d3-40c9-a72d-7adda6a24509",
   "metadata": {
    "pycharm": {
     "name": "#%%\n"
    }
   },
   "outputs": [
    {
     "name": "stdout",
     "output_type": "stream",
     "text": [
      "(38, 4)\n",
      "(38, 304)\n"
     ]
    }
   ],
   "source": [
    "print(sites.shape)\n",
    "print(counts.shape)"
   ]
  },
  {
   "cell_type": "markdown",
   "id": "12168a08-365a-42ae-ac85-8405300c1512",
   "metadata": {
    "pycharm": {
     "name": "#%% md\n"
    }
   },
   "source": [
    "### 11.1 Reading the documentation\n",
    "The info on python and pandas doesn't have man pages like command line but there's lots of info online- here is the [documentation](https://pandas.pydata.org/docs/reference/api/pandas.read_table.html) for `pd.read_table()` -- please always look at the version number to make sure it's not way off! unfortunately Python and its packages change a bit between versions.\n",
    "\n",
    "You can see there are MANY ways to change how you are reading the DataFrame, because there are so many, we use **named arguments**.\n"
   ]
  },
  {
   "cell_type": "code",
   "execution_count": 50,
   "id": "5f2effb4-2e51-471a-9040-55d028b212d5",
   "metadata": {
    "pycharm": {
     "name": "#%%\n"
    }
   },
   "outputs": [
    {
     "data": {
      "text/plain": "'1.4.2'"
     },
     "execution_count": 50,
     "metadata": {},
     "output_type": "execute_result"
    }
   ],
   "source": [
    "pd.__version__"
   ]
  },
  {
   "cell_type": "markdown",
   "id": "205e1a48-c719-4c6b-b51f-13b53dadedda",
   "metadata": {
    "pycharm": {
     "name": "#%% md\n"
    }
   },
   "source": [
    "**Exercise 11.1.1**: Change how you read in the eco_sites so you read only the first 5 rows, save that into a variable `five_sites`."
   ]
  },
  {
   "cell_type": "code",
   "execution_count": 8,
   "id": "49226eec-c450-4c87-90cc-a737c3dc68e8",
   "metadata": {
    "pycharm": {
     "name": "#%%\n"
    }
   },
   "outputs": [
    {
     "name": "stdout",
     "output_type": "stream",
     "text": [
      "    Elevation      North       East WorE\n",
      "A2     198.25  26.978983  92.921975    E\n",
      "A3     734.25  27.006267  92.404575    E\n",
      "A4    1243.25  27.027496  92.410408    E\n",
      "A6    2629.00  27.147733  92.459379    E\n",
      "A7    2340.25  27.091979  92.408567    E\n"
     ]
    }
   ],
   "source": [
    "five_sites = pd.read_table(\"arabidopsis_birds/eco_data/eco_sites.txt\", nrows=5)\n",
    "print(five_sites)"
   ]
  },
  {
   "cell_type": "markdown",
   "id": "85eb4d2d-966f-49b0-bfab-053451302524",
   "metadata": {
    "pycharm": {
     "name": "#%% md\n"
    }
   },
   "source": [
    "**Exercise 11.1.2**: Make a histogram of the elevations of the sites in the East and the sites in the West ('WorE' column)"
   ]
  },
  {
   "cell_type": "code",
   "execution_count": 9,
   "outputs": [
    {
     "data": {
      "text/plain": "<seaborn.axisgrid.FacetGrid at 0x7fdda1a49b80>"
     },
     "execution_count": 9,
     "metadata": {},
     "output_type": "execute_result"
    },
    {
     "data": {
      "text/plain": "<Figure size 360x360 with 1 Axes>",
      "image/png": "[encoded data removed]"
     },
     "metadata": {},
     "output_type": "display_data"
    },
    {
     "data": {
      "text/plain": "<Figure size 360x360 with 1 Axes>",
      "image/png": "[encoded data removed]"
     },
     "metadata": {},
     "output_type": "display_data"
    }
   ],
   "source": [
    "sns.displot(data= sites[sites['WorE'] == \"E\"], x = \"Elevation\" )\n",
    "sns.displot(data= sites[sites['WorE'] == \"W\"], x = \"Elevation\" )"
   ],
   "metadata": {
    "collapsed": false,
    "pycharm": {
     "name": "#%%\n"
    }
   }
  },
  {
   "cell_type": "markdown",
   "id": "03d997d7-e0a5-42ec-8b2c-16e14498f2dc",
   "metadata": {
    "pycharm": {
     "name": "#%% md\n"
    }
   },
   "source": [
    "Let's look at some Arabidopsis data from the MAGIC study ([downloaded from here](https://github.com/rqtl/qtl2data/tree/main/ArabMAGIC)), data published [here](https://academic.oup.com/genetics/article/198/4/1751/5935984) \n",
    "\n",
    "Here's an Arabidopsis:\n",
    "\n",
    "![arab](https://www.arabidopsis.org/images/arabi_bw1tr.gif \"arabidopsis\")\n",
    "\n",
    "**Exercise 11.2** Use command line first to explore the data in the arabmagic directory. What kind of command line summaries of the data can we do?"
   ]
  },
  {
   "cell_type": "markdown",
   "source": [],
   "metadata": {
    "collapsed": false,
    "pycharm": {
     "name": "#%% md\n"
    }
   }
  },
  {
   "cell_type": "code",
   "execution_count": 12,
   "outputs": [
    {
     "data": {
      "text/plain": "'/Users/gcrowell/Library/CloudStorage/OneDrive-Personal/Desktop/School Shit/Fall 2022/ds4bio/Jupyter_Notebook'"
     },
     "execution_count": 12,
     "metadata": {},
     "output_type": "execute_result"
    }
   ],
   "source": [
    "pwd"
   ],
   "metadata": {
    "collapsed": false,
    "pycharm": {
     "name": "#%%\n"
    }
   }
  },
  {
   "cell_type": "markdown",
   "source": [],
   "metadata": {
    "collapsed": false,
    "pycharm": {
     "name": "#%% md\n"
    }
   }
  },
  {
   "cell_type": "code",
   "execution_count": null,
   "outputs": [],
   "source": [
    "arabmagic_pheno"
   ],
   "metadata": {
    "collapsed": false,
    "pycharm": {
     "name": "#%%\n"
    }
   }
  },
  {
   "cell_type": "code",
   "execution_count": 16,
   "outputs": [],
   "source": [
    "geno = pd.read_csv(\"arabidopsis_birds/arabmagic/arabmagic_geno.csv\", skiprows= 3)\n",
    "pheno = pd.read_csv(\"arabidopsis_birds/arabmagic/arabmagic_pheno.csv\", skiprows= 3)\n",
    "pmap = pd.read_csv(\"arabidopsis_birds/arabmagic/arabmagic_pmap_tair9.csv\", skiprows= 3)\n",
    "geno.set_index('marker', inplace = True)\n",
    "pheno.set_index('id', inplace = True)\n",
    "pmap.set_index('marker', inplace = True)\n"
   ],
   "metadata": {
    "collapsed": false,
    "pycharm": {
     "name": "#%%\n"
    }
   }
  },
  {
   "cell_type": "markdown",
   "id": "bfa45726-c5be-4476-b011-42225f3083d4",
   "metadata": {
    "pycharm": {
     "name": "#%% md\n"
    }
   },
   "source": [
    "**Exercise 11.3** Then look through the documentation to figure out how to load in `arabmagic_geno.csv` using named arguments so your resulting data frame called `geno` has index with names like `MN1_29291` and columns with names like `MAGIC.1`"
   ]
  },
  {
   "cell_type": "code",
   "execution_count": null,
   "id": "a8cc2c2a-2020-4803-b03d-f55bfb694895",
   "metadata": {
    "pycharm": {
     "name": "#%%\n"
    }
   },
   "outputs": [],
   "source": []
  },
  {
   "cell_type": "markdown",
   "id": "1b00a10f-a51e-4c94-82fe-b1cbfb9376b0",
   "metadata": {
    "pycharm": {
     "name": "#%% md\n"
    }
   },
   "source": [
    "**Exercise 11.4** Load in `arabmagic_pheno.csv` to a data frame called `pheno` so that the rows are named `MAGIC.1` etc. Load  `arabmagic_pmap_tair9.csv` to a data frame called `pmap`, with row names  `MN1_29291` etc."
   ]
  },
  {
   "cell_type": "code",
   "execution_count": null,
   "id": "5a0a3816-f4ce-410a-aad1-9d4c195e4287",
   "metadata": {
    "pycharm": {
     "name": "#%%\n"
    }
   },
   "outputs": [],
   "source": []
  },
  {
   "cell_type": "markdown",
   "id": "2287d906-a094-4cb1-8dd9-2592aa4c7963",
   "metadata": {
    "pycharm": {
     "name": "#%% md\n"
    }
   },
   "source": [
    "Note that pandas `read_csv` is `read_table(delimiter=\",\")`. We'll just stick to `read_table` in case people find it confusing but feel free to use either."
   ]
  },
  {
   "cell_type": "markdown",
   "id": "12b7a527-411a-4955-bc26-ed59a25c31f0",
   "metadata": {
    "pycharm": {
     "name": "#%% md\n"
    }
   },
   "source": [
    "**Exercise 11.3** Look through the 3 resulting data frames and the links above about the data. It's pretty common for your data to come not fully explained. What do you think this data is?  What are the observations and features? Is there any metadata?"
   ]
  },
  {
   "cell_type": "code",
   "execution_count": null,
   "id": "66c94b8e-b6b7-4801-96bb-83f00fe5215a",
   "metadata": {
    "pycharm": {
     "name": "#%%\n"
    }
   },
   "outputs": [],
   "source": []
  },
  {
   "cell_type": "markdown",
   "id": "49e7c9dc-9059-43b2-b9ad-1e39227b9a86",
   "metadata": {
    "pycharm": {
     "name": "#%% md\n"
    }
   },
   "source": [
    "**Exercise 11.4**: Find out what the unique chromosomes are in Arabidopsis."
   ]
  },
  {
   "cell_type": "code",
   "execution_count": null,
   "id": "93c6dd66-adf4-4093-9caa-751ddf4763e2",
   "metadata": {
    "pycharm": {
     "name": "#%%\n"
    }
   },
   "outputs": [],
   "source": []
  },
  {
   "cell_type": "markdown",
   "id": "6e72662e-8268-4e72-82a9-716ce210354a",
   "metadata": {
    "pycharm": {
     "name": "#%% md\n"
    }
   },
   "source": [
    "## 12. Visualizing and summarizing *categorical* and *binary* variables\n",
    "\n",
    "Unlike most of our data, 'WorE' is two categories. \n",
    "\n",
    "We can summarize data that falls into categories easily by doing operations on Boolean Series.\n",
    " "
   ]
  },
  {
   "cell_type": "code",
   "execution_count": 107,
   "id": "c6228b0a-7eb6-4b71-a311-a0efbc9543d3",
   "metadata": {
    "pycharm": {
     "name": "#%%\n"
    }
   },
   "outputs": [
    {
     "data": {
      "text/plain": [
       "0    23000\n",
       "1     7340\n",
       "2    22400\n",
       "3     9900\n",
       "4    31700\n",
       "Name: surface, dtype: int64"
      ]
     },
     "execution_count": 107,
     "metadata": {},
     "output_type": "execute_result"
    }
   ],
   "source": [
    "lakes['surface']"
   ]
  },
  {
   "cell_type": "code",
   "execution_count": 109,
   "id": "ff9eedf8-845c-4f77-baed-56716a376d7f",
   "metadata": {
    "pycharm": {
     "name": "#%%\n"
    }
   },
   "outputs": [
    {
     "data": {
      "text/plain": [
       "0    False\n",
       "1     True\n",
       "2    False\n",
       "3     True\n",
       "4    False\n",
       "Name: surface, dtype: bool"
      ]
     },
     "execution_count": 109,
     "metadata": {},
     "output_type": "execute_result"
    }
   ],
   "source": [
    "smaller_lakes = lakes['surface'] < 20000\n",
    "smaller_lakes"
   ]
  },
  {
   "cell_type": "code",
   "execution_count": 110,
   "id": "41b4bbf7-20a4-4b01-9e03-c8ae1f785914",
   "metadata": {
    "pycharm": {
     "name": "#%%\n"
    }
   },
   "outputs": [
    {
     "data": {
      "text/plain": [
       "2"
      ]
     },
     "execution_count": 110,
     "metadata": {},
     "output_type": "execute_result"
    }
   ],
   "source": [
    "smaller_lakes.sum()"
   ]
  },
  {
   "cell_type": "code",
   "execution_count": 111,
   "id": "26ca6d13-b216-4de5-a695-89334365315f",
   "metadata": {
    "pycharm": {
     "name": "#%%\n"
    }
   },
   "outputs": [
    {
     "data": {
      "text/plain": [
       "0.4"
      ]
     },
     "execution_count": 111,
     "metadata": {},
     "output_type": "execute_result"
    }
   ],
   "source": [
    "smaller_lakes.mean()"
   ]
  },
  {
   "cell_type": "markdown",
   "id": "999a9516-2499-4b97-b269-16adf5abe672",
   "metadata": {
    "pycharm": {
     "name": "#%% md\n"
    }
   },
   "source": [
    "**Exercise 12.1**: Find out how many sites are in the E region and in the W region."
   ]
  },
  {
   "cell_type": "code",
   "execution_count": 17,
   "outputs": [
    {
     "data": {
      "text/plain": "19"
     },
     "execution_count": 17,
     "metadata": {},
     "output_type": "execute_result"
    }
   ],
   "source": [
    "(sites['WorE'] == 'E').sum()"
   ],
   "metadata": {
    "collapsed": false,
    "pycharm": {
     "name": "#%%\n"
    }
   }
  },
  {
   "cell_type": "code",
   "execution_count": 19,
   "outputs": [
    {
     "data": {
      "text/plain": "19"
     },
     "execution_count": 19,
     "metadata": {},
     "output_type": "execute_result"
    }
   ],
   "source": [
    "(sites['WorE'] == 'W').sum()"
   ],
   "metadata": {
    "collapsed": false,
    "pycharm": {
     "name": "#%%\n"
    }
   }
  },
  {
   "cell_type": "markdown",
   "id": "d0ff1735-003c-4d32-840b-1237f6d8b6f9",
   "metadata": {
    "pycharm": {
     "name": "#%% md\n"
    }
   },
   "source": [
    "The `displot` works also for non-number data. \n",
    "\n",
    "**Exercise 12.2**: Predict what your histogram of the the number of sites in each region should look like. Then make a histogram of the number of sites in each region."
   ]
  },
  {
   "cell_type": "code",
   "execution_count": 20,
   "id": "e00efb0a-3b14-4ffb-af5b-071b564a9712",
   "metadata": {
    "pycharm": {
     "name": "#%%\n"
    }
   },
   "outputs": [
    {
     "data": {
      "text/plain": "<seaborn.axisgrid.FacetGrid at 0x7fdde8b1fee0>"
     },
     "execution_count": 20,
     "metadata": {},
     "output_type": "execute_result"
    },
    {
     "data": {
      "text/plain": "<Figure size 360x360 with 1 Axes>",
      "image/png": "[encoded data removed]"
     },
     "metadata": {},
     "output_type": "display_data"
    }
   ],
   "source": [
    "sns.displot(data= sites, x = \"WorE\" )\n",
    "# two blocks of 19"
   ]
  },
  {
   "cell_type": "markdown",
   "id": "fc7c40b3-ba2f-4232-9223-2f836582a4de",
   "metadata": {
    "pycharm": {
     "name": "#%% md\n"
    }
   },
   "source": [
    "**Exercise 12.3**: Find out the *number of markers* on chromosome 2 and the *fraction of markers* on chromsome 2."
   ]
  },
  {
   "cell_type": "code",
   "execution_count": null,
   "id": "0c49ee69-2da8-46b2-b8dc-ef25f28cf5e8",
   "metadata": {
    "pycharm": {
     "name": "#%%\n"
    }
   },
   "outputs": [],
   "source": []
  },
  {
   "cell_type": "markdown",
   "id": "5f92b907-0583-4741-9630-bdf173001b57",
   "metadata": {
    "pycharm": {
     "name": "#%% md\n"
    }
   },
   "source": [
    "**Exercise 12.4**: Make a histogram of the number of markers on each chromosome.  Compare this to the numbers you just got. "
   ]
  },
  {
   "cell_type": "code",
   "execution_count": null,
   "id": "44103cf3-345a-4008-837a-9e3f3c1ae0ed",
   "metadata": {
    "pycharm": {
     "name": "#%%\n"
    }
   },
   "outputs": [],
   "source": []
  }
 ],
 "metadata": {
  "kernelspec": {
   "display_name": "Python 3",
   "language": "python",
   "name": "python3"
  },
  "language_info": {
   "codemirror_mode": {
    "name": "ipython",
    "version": 3
   },
   "file_extension": ".py",
   "mimetype": "text/x-python",
   "name": "python",
   "nbconvert_exporter": "python",
   "pygments_lexer": "ipython3",
   "version": "3.6.10"
  }
 },
 "nbformat": 4,
 "nbformat_minor": 5
}