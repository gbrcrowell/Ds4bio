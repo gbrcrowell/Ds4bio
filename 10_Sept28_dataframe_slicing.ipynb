{
 "cells": [
  {
   "cell_type": "markdown",
   "id": "6c93cbca-6334-4228-831d-21004946b4e0",
   "metadata": {
    "pycharm": {
     "name": "#%% md\n"
    }
   },
   "source": [
    "# Learning objectives for today\n",
    "- Able to access subsets of data frame to answer questions about the data\n",
    "- Can perform operations on all observations of a single feature without for loops\n",
    "- Can put together multiple data frame operations to form a simple analysis\n"
   ]
  },
  {
   "cell_type": "code",
   "execution_count": 82,
   "id": "fa1220d1-14fc-456d-a149-8b12db602305",
   "metadata": {
    "pycharm": {
     "name": "#%%\n"
    }
   },
   "outputs": [],
   "source": [
    "import pandas as pd\n",
    "lakes = {'name':['Huron','Ontario','Michigan','Erie','Superior'],\n",
    "        'surface':[23000, 7340,22400,9900,31700],\n",
    "        'ave_depth':[195,284,279,70,480],\n",
    "        'max_depth':[750,802,923,210,1333],\n",
    "        'shared_canada':[True,True, False, True, True],\n",
    "         'temperature':[48,51,49,54,43],\n",
    "         'native_name':['Karegnondi','Oniatarí:io','Mich gami','Erielhonan','Gichi-gami']\n",
    "        }"
   ]
  },
  {
   "cell_type": "markdown",
   "id": "d416b225-c2d6-4217-b0de-ed5178026a48",
   "metadata": {
    "pycharm": {
     "name": "#%% md\n"
    }
   },
   "source": [
    "## Daily homework\n",
    "write code that will add a new feature (key ) to the lakes dictionary called depth_meters storing for every lake what its average depth in meters is (one foot is 0.3 meters).\n",
    " \n",
    "It probably does not need to be said, but this should be code, not manually entering the numbers."
   ]
  },
  {
   "cell_type": "code",
   "execution_count": 4,
   "outputs": [
    {
     "name": "stdout",
     "output_type": "stream",
     "text": [
      "{'name': ['Huron', 'Ontario', 'Michigan', 'Erie', 'Superior'], 'surface': [23000, 7340, 22400, 9900, 31700], 'ave_depth': [195, 284, 279, 70, 480], 'max_depth': [750, 802, 923, 210, 1333], 'shared_canada': [True, True, False, True, True], 'temperature': [48, 51, 49, 54, 43], 'native_name': ['Karegnondi', 'Oniatarí:io', 'Mich gami', 'Erielhonan', 'Gichi-gami'], 'depth_meters': [58.5, 85.2, 83.7, 21.0, 144.0]}\n"
     ]
    }
   ],
   "source": [
    "depth_meters = []\n",
    "# empty list\n",
    "\n",
    "for i in lakes['ave_depth']:\n",
    "    # we iterate though the different depth in dictionary lake assigning i to each depth\n",
    "\n",
    "    depth_meters.append(i * 0.3)\n",
    "    # we add the depth (i) from our initial dictionary to the list after converting it to meters\n",
    "\n",
    "lakes['depth_meters'] = depth_meters\n",
    "# we add our list to the dictionary with key 'depth_meters'\n",
    "\n",
    "print(lakes)\n",
    "# print out final results\n"
   ],
   "metadata": {
    "collapsed": false,
    "pycharm": {
     "name": "#%%\n"
    }
   }
  },
  {
   "cell_type": "markdown",
   "id": "59579f34-b1e5-43b2-88c0-d5d378402dd9",
   "metadata": {
    "pycharm": {
     "name": "#%% md\n"
    }
   },
   "source": [
    "\n",
    "# 2. (continued)"
   ]
  },
  {
   "cell_type": "markdown",
   "id": "c37082a6-eed1-4954-8442-976c4e3ab82e",
   "metadata": {
    "pycharm": {
     "name": "#%% md\n"
    }
   },
   "source": [
    "Making a data frame"
   ]
  },
  {
   "cell_type": "code",
   "execution_count": 29,
   "id": "bc257ca9-af91-4c45-9870-d4104db203c8",
   "metadata": {
    "pycharm": {
     "name": "#%%\n"
    }
   },
   "outputs": [
    {
     "data": {
      "text/plain": "       name  surface  ave_depth  max_depth  shared_canada  temperature  \\\n0     Huron    23000        195        750           True           48   \n1   Ontario     7340        284        802           True           51   \n2  Michigan    22400        279        923          False           49   \n3      Erie     9900         70        210           True           54   \n4  Superior    31700        480       1333           True           43   \n\n   native_name  \n0   Karegnondi  \n1  Oniatarí:io  \n2    Mich gami  \n3   Erielhonan  \n4   Gichi-gami  ",
      "text/html": "<div>\n<style scoped>\n    .dataframe tbody tr th:only-of-type {\n        vertical-align: middle;\n    }\n\n    .dataframe tbody tr th {\n        vertical-align: top;\n    }\n\n    .dataframe thead th {\n        text-align: right;\n    }\n</style>\n<table border=\"1\" class=\"dataframe\">\n  <thead>\n    <tr style=\"text-align: right;\">\n      <th></th>\n      <th>name</th>\n      <th>surface</th>\n      <th>ave_depth</th>\n      <th>max_depth</th>\n      <th>shared_canada</th>\n      <th>temperature</th>\n      <th>native_name</th>\n    </tr>\n  </thead>\n  <tbody>\n    <tr>\n      <th>0</th>\n      <td>Huron</td>\n      <td>23000</td>\n      <td>195</td>\n      <td>750</td>\n      <td>True</td>\n      <td>48</td>\n      <td>Karegnondi</td>\n    </tr>\n    <tr>\n      <th>1</th>\n      <td>Ontario</td>\n      <td>7340</td>\n      <td>284</td>\n      <td>802</td>\n      <td>True</td>\n      <td>51</td>\n      <td>Oniatarí:io</td>\n    </tr>\n    <tr>\n      <th>2</th>\n      <td>Michigan</td>\n      <td>22400</td>\n      <td>279</td>\n      <td>923</td>\n      <td>False</td>\n      <td>49</td>\n      <td>Mich gami</td>\n    </tr>\n    <tr>\n      <th>3</th>\n      <td>Erie</td>\n      <td>9900</td>\n      <td>70</td>\n      <td>210</td>\n      <td>True</td>\n      <td>54</td>\n      <td>Erielhonan</td>\n    </tr>\n    <tr>\n      <th>4</th>\n      <td>Superior</td>\n      <td>31700</td>\n      <td>480</td>\n      <td>1333</td>\n      <td>True</td>\n      <td>43</td>\n      <td>Gichi-gami</td>\n    </tr>\n  </tbody>\n</table>\n</div>"
     },
     "execution_count": 29,
     "metadata": {},
     "output_type": "execute_result"
    }
   ],
   "source": [
    "df = pd.DataFrame(lakes)\n",
    "df"
   ]
  },
  {
   "cell_type": "markdown",
   "id": "488bd417-95b9-46ba-b420-4fab087c772a",
   "metadata": {
    "pycharm": {
     "name": "#%% md\n"
    }
   },
   "source": [
    "Two ways to set index: returning a new DF or `in place`"
   ]
  },
  {
   "cell_type": "markdown",
   "source": [],
   "metadata": {
    "collapsed": false,
    "pycharm": {
     "name": "#%% md\n"
    }
   }
  },
  {
   "cell_type": "code",
   "execution_count": 21,
   "id": "66bf030d-8bcf-4464-a4fc-d68b540edb23",
   "metadata": {
    "pycharm": {
     "name": "#%%\n"
    }
   },
   "outputs": [],
   "source": [
    "df_named = df.set_index(\"name\")"
   ]
  },
  {
   "cell_type": "code",
   "execution_count": 50,
   "id": "6e4a1b4c-3f35-4fb3-bbc3-d84031cf7538",
   "metadata": {
    "pycharm": {
     "name": "#%%\n"
    }
   },
   "outputs": [],
   "source": [
    "df.set_index(\"name\",inplace=True)"
   ]
  },
  {
   "cell_type": "markdown",
   "id": "627db87a-f9ca-466e-a19f-71e1fee786a8",
   "metadata": {
    "pycharm": {
     "name": "#%% md\n"
    }
   },
   "source": [
    "Review on `index` and `columns`:"
   ]
  },
  {
   "cell_type": "code",
   "execution_count": 27,
   "id": "8a8193e7-1a56-4834-a2eb-c38ae6b2e458",
   "metadata": {
    "pycharm": {
     "name": "#%%\n"
    }
   },
   "outputs": [
    {
     "data": {
      "text/plain": "Index(['Huron', 'Ontario', 'Michigan', 'Erie', 'Superior'], dtype='object', name='name')"
     },
     "execution_count": 27,
     "metadata": {},
     "output_type": "execute_result"
    }
   ],
   "source": [
    "df_named.index"
   ]
  },
  {
   "cell_type": "code",
   "execution_count": 26,
   "id": "fbf96f7f-659c-4351-a84a-d2229861ea3e",
   "metadata": {
    "pycharm": {
     "name": "#%%\n"
    }
   },
   "outputs": [
    {
     "data": {
      "text/plain": "Index(['surface', 'ave_depth', 'max_depth', 'shared_canada', 'temperature',\n       'native_name'],\n      dtype='object')"
     },
     "execution_count": 26,
     "metadata": {},
     "output_type": "execute_result"
    }
   ],
   "source": [
    "df.columns"
   ]
  },
  {
   "cell_type": "markdown",
   "id": "0f43d972-e4e0-4ff3-b128-b893425f947b",
   "metadata": {
    "pycharm": {
     "name": "#%% md\n"
    }
   },
   "source": [
    "### 2.3 `.loc[]` to access items by index and columns"
   ]
  },
  {
   "cell_type": "markdown",
   "id": "b257ac53-028d-4b1b-80c2-9c8f0dbabd29",
   "metadata": {
    "pycharm": {
     "name": "#%% md\n"
    }
   },
   "source": [
    "In Excel we can access them using \"B3\", etc. \n",
    "\n",
    "We can access the rows and the columns of the DataFrame using the special `.loc[]` operator.\n",
    "\n",
    "Inside, you can specify the ROW then the COLUMN.  You can remember this because **DataFrames <font color=red>R</font>o<font color=red>C</font>k!!**"
   ]
  },
  {
   "cell_type": "code",
   "execution_count": 25,
   "id": "35dadac0-103b-4c95-adaa-95a9e923112f",
   "metadata": {
    "pycharm": {
     "name": "#%%\n"
    }
   },
   "outputs": [
    {
     "data": {
      "text/plain": "9900"
     },
     "execution_count": 25,
     "metadata": {},
     "output_type": "execute_result"
    }
   ],
   "source": [
    "df_named.loc['Erie', 'surface']"
   ]
  },
  {
   "cell_type": "markdown",
   "id": "057f8fa5-3fcc-4ec7-bbef-2b9cc133fd74",
   "metadata": {
    "pycharm": {
     "name": "#%% md\n"
    }
   },
   "source": [
    "**Exercise 2.3.1**: use `.loc` to get the maximum depth of Lake Superior."
   ]
  },
  {
   "cell_type": "code",
   "execution_count": 30,
   "outputs": [
    {
     "data": {
      "text/plain": "1333"
     },
     "execution_count": 30,
     "metadata": {},
     "output_type": "execute_result"
    }
   ],
   "source": [
    "df_named.loc['Superior','max_depth']"
   ],
   "metadata": {
    "collapsed": false,
    "pycharm": {
     "name": "#%%\n"
    }
   }
  },
  {
   "cell_type": "markdown",
   "id": "8a23249a-ce11-4fe8-8e16-99661dfa2b79",
   "metadata": {
    "pycharm": {
     "name": "#%% md\n"
    }
   },
   "source": [
    "**Self check**: use `.loc` to get the Native name of Lake Michigan"
   ]
  },
  {
   "cell_type": "markdown",
   "id": "ffd47f05-e819-4cd6-8243-a5f256d64185",
   "metadata": {
    "pycharm": {
     "name": "#%% md\n"
    }
   },
   "source": [
    "### 2.4 Accessing a whole row or column\n",
    "You can leave off the rows or the columns in your `.loc[]` but keep the comma and it will give you back *the whole row (or column)*\n",
    "\n",
    "This single row or column is called a `series` which are basically the one-dimensional version of a DataFrame. Any time you take a slice across one row (getting multiple columns for one lake) or a slice across a column (getting multiple rows for one feature), you get a series:"
   ]
  },
  {
   "cell_type": "code",
   "execution_count": 35,
   "id": "3b1625a1-7e10-428a-ad4b-d1c3c009ebb8",
   "metadata": {
    "pycharm": {
     "name": "#%%\n"
    }
   },
   "outputs": [
    {
     "data": {
      "text/plain": "name\nHuron       23000\nOntario      7340\nMichigan    22400\nErie         9900\nSuperior    31700\nName: surface, dtype: int64"
     },
     "execution_count": 35,
     "metadata": {},
     "output_type": "execute_result"
    }
   ],
   "source": [
    "df_named.loc[:,'surface']"
   ]
  },
  {
   "cell_type": "code",
   "execution_count": 32,
   "id": "b1440f4c-9e1b-4870-bc0c-43ec8dad692e",
   "metadata": {
    "pycharm": {
     "name": "#%%\n"
    }
   },
   "outputs": [
    {
     "data": {
      "text/plain": "surface                9900\nave_depth                70\nmax_depth               210\nshared_canada          True\ntemperature              54\nnative_name      Erielhonan\nName: Erie, dtype: object"
     },
     "execution_count": 32,
     "metadata": {},
     "output_type": "execute_result"
    }
   ],
   "source": [
    "df_named.loc['Erie',]"
   ]
  },
  {
   "cell_type": "markdown",
   "id": "acb7584f-7b8d-499c-ad68-5e864d3e5101",
   "metadata": {
    "pycharm": {
     "name": "#%% md\n"
    }
   },
   "source": [
    "**Discuss**: What will happen if I try to run the cell below and why?"
   ]
  },
  {
   "cell_type": "code",
   "execution_count": 37,
   "id": "7e038583-fe42-4ae4-80cf-8984ff8b65da",
   "metadata": {
    "pycharm": {
     "name": "#%%\n"
    }
   },
   "outputs": [
    {
     "ename": "KeyError",
     "evalue": "'Erie'",
     "output_type": "error",
     "traceback": [
      "\u001B[0;31m---------------------------------------------------------------------------\u001B[0m",
      "\u001B[0;31mKeyError\u001B[0m                                  Traceback (most recent call last)",
      "File \u001B[0;32m~/opt/anaconda3/lib/python3.9/site-packages/pandas/core/indexes/base.py:3621\u001B[0m, in \u001B[0;36mIndex.get_loc\u001B[0;34m(self, key, method, tolerance)\u001B[0m\n\u001B[1;32m   3620\u001B[0m \u001B[38;5;28;01mtry\u001B[39;00m:\n\u001B[0;32m-> 3621\u001B[0m     \u001B[38;5;28;01mreturn\u001B[39;00m \u001B[38;5;28;43mself\u001B[39;49m\u001B[38;5;241;43m.\u001B[39;49m\u001B[43m_engine\u001B[49m\u001B[38;5;241;43m.\u001B[39;49m\u001B[43mget_loc\u001B[49m\u001B[43m(\u001B[49m\u001B[43mcasted_key\u001B[49m\u001B[43m)\u001B[49m\n\u001B[1;32m   3622\u001B[0m \u001B[38;5;28;01mexcept\u001B[39;00m \u001B[38;5;167;01mKeyError\u001B[39;00m \u001B[38;5;28;01mas\u001B[39;00m err:\n",
      "File \u001B[0;32m~/opt/anaconda3/lib/python3.9/site-packages/pandas/_libs/index.pyx:136\u001B[0m, in \u001B[0;36mpandas._libs.index.IndexEngine.get_loc\u001B[0;34m()\u001B[0m\n",
      "File \u001B[0;32m~/opt/anaconda3/lib/python3.9/site-packages/pandas/_libs/index.pyx:163\u001B[0m, in \u001B[0;36mpandas._libs.index.IndexEngine.get_loc\u001B[0;34m()\u001B[0m\n",
      "File \u001B[0;32mpandas/_libs/hashtable_class_helper.pxi:5198\u001B[0m, in \u001B[0;36mpandas._libs.hashtable.PyObjectHashTable.get_item\u001B[0;34m()\u001B[0m\n",
      "File \u001B[0;32mpandas/_libs/hashtable_class_helper.pxi:5206\u001B[0m, in \u001B[0;36mpandas._libs.hashtable.PyObjectHashTable.get_item\u001B[0;34m()\u001B[0m\n",
      "\u001B[0;31mKeyError\u001B[0m: 'Erie'",
      "\nThe above exception was the direct cause of the following exception:\n",
      "\u001B[0;31mKeyError\u001B[0m                                  Traceback (most recent call last)",
      "Input \u001B[0;32mIn [37]\u001B[0m, in \u001B[0;36m<cell line: 1>\u001B[0;34m()\u001B[0m\n\u001B[0;32m----> 1\u001B[0m \u001B[43mdf_named\u001B[49m\u001B[38;5;241;43m.\u001B[39;49m\u001B[43mloc\u001B[49m\u001B[43m[\u001B[49m\u001B[43m:\u001B[49m\u001B[43m,\u001B[49m\u001B[38;5;124;43m'\u001B[39;49m\u001B[38;5;124;43mErie\u001B[39;49m\u001B[38;5;124;43m'\u001B[39;49m\u001B[43m]\u001B[49m\n",
      "File \u001B[0;32m~/opt/anaconda3/lib/python3.9/site-packages/pandas/core/indexing.py:961\u001B[0m, in \u001B[0;36m_LocationIndexer.__getitem__\u001B[0;34m(self, key)\u001B[0m\n\u001B[1;32m    959\u001B[0m     \u001B[38;5;28;01mif\u001B[39;00m \u001B[38;5;28mself\u001B[39m\u001B[38;5;241m.\u001B[39m_is_scalar_access(key):\n\u001B[1;32m    960\u001B[0m         \u001B[38;5;28;01mreturn\u001B[39;00m \u001B[38;5;28mself\u001B[39m\u001B[38;5;241m.\u001B[39mobj\u001B[38;5;241m.\u001B[39m_get_value(\u001B[38;5;241m*\u001B[39mkey, takeable\u001B[38;5;241m=\u001B[39m\u001B[38;5;28mself\u001B[39m\u001B[38;5;241m.\u001B[39m_takeable)\n\u001B[0;32m--> 961\u001B[0m     \u001B[38;5;28;01mreturn\u001B[39;00m \u001B[38;5;28;43mself\u001B[39;49m\u001B[38;5;241;43m.\u001B[39;49m\u001B[43m_getitem_tuple\u001B[49m\u001B[43m(\u001B[49m\u001B[43mkey\u001B[49m\u001B[43m)\u001B[49m\n\u001B[1;32m    962\u001B[0m \u001B[38;5;28;01melse\u001B[39;00m:\n\u001B[1;32m    963\u001B[0m     \u001B[38;5;66;03m# we by definition only have the 0th axis\u001B[39;00m\n\u001B[1;32m    964\u001B[0m     axis \u001B[38;5;241m=\u001B[39m \u001B[38;5;28mself\u001B[39m\u001B[38;5;241m.\u001B[39maxis \u001B[38;5;129;01mor\u001B[39;00m \u001B[38;5;241m0\u001B[39m\n",
      "File \u001B[0;32m~/opt/anaconda3/lib/python3.9/site-packages/pandas/core/indexing.py:1140\u001B[0m, in \u001B[0;36m_LocIndexer._getitem_tuple\u001B[0;34m(self, tup)\u001B[0m\n\u001B[1;32m   1138\u001B[0m \u001B[38;5;28;01mwith\u001B[39;00m suppress(IndexingError):\n\u001B[1;32m   1139\u001B[0m     tup \u001B[38;5;241m=\u001B[39m \u001B[38;5;28mself\u001B[39m\u001B[38;5;241m.\u001B[39m_expand_ellipsis(tup)\n\u001B[0;32m-> 1140\u001B[0m     \u001B[38;5;28;01mreturn\u001B[39;00m \u001B[38;5;28;43mself\u001B[39;49m\u001B[38;5;241;43m.\u001B[39;49m\u001B[43m_getitem_lowerdim\u001B[49m\u001B[43m(\u001B[49m\u001B[43mtup\u001B[49m\u001B[43m)\u001B[49m\n\u001B[1;32m   1142\u001B[0m \u001B[38;5;66;03m# no multi-index, so validate all of the indexers\u001B[39;00m\n\u001B[1;32m   1143\u001B[0m tup \u001B[38;5;241m=\u001B[39m \u001B[38;5;28mself\u001B[39m\u001B[38;5;241m.\u001B[39m_validate_tuple_indexer(tup)\n",
      "File \u001B[0;32m~/opt/anaconda3/lib/python3.9/site-packages/pandas/core/indexing.py:867\u001B[0m, in \u001B[0;36m_LocationIndexer._getitem_lowerdim\u001B[0;34m(self, tup)\u001B[0m\n\u001B[1;32m    863\u001B[0m \u001B[38;5;28;01mfor\u001B[39;00m i, key \u001B[38;5;129;01min\u001B[39;00m \u001B[38;5;28menumerate\u001B[39m(tup):\n\u001B[1;32m    864\u001B[0m     \u001B[38;5;28;01mif\u001B[39;00m is_label_like(key):\n\u001B[1;32m    865\u001B[0m         \u001B[38;5;66;03m# We don't need to check for tuples here because those are\u001B[39;00m\n\u001B[1;32m    866\u001B[0m         \u001B[38;5;66;03m#  caught by the _is_nested_tuple_indexer check above.\u001B[39;00m\n\u001B[0;32m--> 867\u001B[0m         section \u001B[38;5;241m=\u001B[39m \u001B[38;5;28;43mself\u001B[39;49m\u001B[38;5;241;43m.\u001B[39;49m\u001B[43m_getitem_axis\u001B[49m\u001B[43m(\u001B[49m\u001B[43mkey\u001B[49m\u001B[43m,\u001B[49m\u001B[43m \u001B[49m\u001B[43maxis\u001B[49m\u001B[38;5;241;43m=\u001B[39;49m\u001B[43mi\u001B[49m\u001B[43m)\u001B[49m\n\u001B[1;32m    869\u001B[0m         \u001B[38;5;66;03m# We should never have a scalar section here, because\u001B[39;00m\n\u001B[1;32m    870\u001B[0m         \u001B[38;5;66;03m#  _getitem_lowerdim is only called after a check for\u001B[39;00m\n\u001B[1;32m    871\u001B[0m         \u001B[38;5;66;03m#  is_scalar_access, which that would be.\u001B[39;00m\n\u001B[1;32m    872\u001B[0m         \u001B[38;5;28;01mif\u001B[39;00m section\u001B[38;5;241m.\u001B[39mndim \u001B[38;5;241m==\u001B[39m \u001B[38;5;28mself\u001B[39m\u001B[38;5;241m.\u001B[39mndim:\n\u001B[1;32m    873\u001B[0m             \u001B[38;5;66;03m# we're in the middle of slicing through a MultiIndex\u001B[39;00m\n\u001B[1;32m    874\u001B[0m             \u001B[38;5;66;03m# revise the key wrt to `section` by inserting an _NS\u001B[39;00m\n",
      "File \u001B[0;32m~/opt/anaconda3/lib/python3.9/site-packages/pandas/core/indexing.py:1202\u001B[0m, in \u001B[0;36m_LocIndexer._getitem_axis\u001B[0;34m(self, key, axis)\u001B[0m\n\u001B[1;32m   1200\u001B[0m \u001B[38;5;66;03m# fall thru to straight lookup\u001B[39;00m\n\u001B[1;32m   1201\u001B[0m \u001B[38;5;28mself\u001B[39m\u001B[38;5;241m.\u001B[39m_validate_key(key, axis)\n\u001B[0;32m-> 1202\u001B[0m \u001B[38;5;28;01mreturn\u001B[39;00m \u001B[38;5;28;43mself\u001B[39;49m\u001B[38;5;241;43m.\u001B[39;49m\u001B[43m_get_label\u001B[49m\u001B[43m(\u001B[49m\u001B[43mkey\u001B[49m\u001B[43m,\u001B[49m\u001B[43m \u001B[49m\u001B[43maxis\u001B[49m\u001B[38;5;241;43m=\u001B[39;49m\u001B[43maxis\u001B[49m\u001B[43m)\u001B[49m\n",
      "File \u001B[0;32m~/opt/anaconda3/lib/python3.9/site-packages/pandas/core/indexing.py:1153\u001B[0m, in \u001B[0;36m_LocIndexer._get_label\u001B[0;34m(self, label, axis)\u001B[0m\n\u001B[1;32m   1151\u001B[0m \u001B[38;5;28;01mdef\u001B[39;00m \u001B[38;5;21m_get_label\u001B[39m(\u001B[38;5;28mself\u001B[39m, label, axis: \u001B[38;5;28mint\u001B[39m):\n\u001B[1;32m   1152\u001B[0m     \u001B[38;5;66;03m# GH#5667 this will fail if the label is not present in the axis.\u001B[39;00m\n\u001B[0;32m-> 1153\u001B[0m     \u001B[38;5;28;01mreturn\u001B[39;00m \u001B[38;5;28;43mself\u001B[39;49m\u001B[38;5;241;43m.\u001B[39;49m\u001B[43mobj\u001B[49m\u001B[38;5;241;43m.\u001B[39;49m\u001B[43mxs\u001B[49m\u001B[43m(\u001B[49m\u001B[43mlabel\u001B[49m\u001B[43m,\u001B[49m\u001B[43m \u001B[49m\u001B[43maxis\u001B[49m\u001B[38;5;241;43m=\u001B[39;49m\u001B[43maxis\u001B[49m\u001B[43m)\u001B[49m\n",
      "File \u001B[0;32m~/opt/anaconda3/lib/python3.9/site-packages/pandas/core/generic.py:3849\u001B[0m, in \u001B[0;36mNDFrame.xs\u001B[0;34m(self, key, axis, level, drop_level)\u001B[0m\n\u001B[1;32m   3847\u001B[0m \u001B[38;5;28;01mif\u001B[39;00m axis \u001B[38;5;241m==\u001B[39m \u001B[38;5;241m1\u001B[39m:\n\u001B[1;32m   3848\u001B[0m     \u001B[38;5;28;01mif\u001B[39;00m drop_level:\n\u001B[0;32m-> 3849\u001B[0m         \u001B[38;5;28;01mreturn\u001B[39;00m \u001B[38;5;28;43mself\u001B[39;49m\u001B[43m[\u001B[49m\u001B[43mkey\u001B[49m\u001B[43m]\u001B[49m\n\u001B[1;32m   3850\u001B[0m     index \u001B[38;5;241m=\u001B[39m \u001B[38;5;28mself\u001B[39m\u001B[38;5;241m.\u001B[39mcolumns\n\u001B[1;32m   3851\u001B[0m \u001B[38;5;28;01melse\u001B[39;00m:\n",
      "File \u001B[0;32m~/opt/anaconda3/lib/python3.9/site-packages/pandas/core/frame.py:3505\u001B[0m, in \u001B[0;36mDataFrame.__getitem__\u001B[0;34m(self, key)\u001B[0m\n\u001B[1;32m   3503\u001B[0m \u001B[38;5;28;01mif\u001B[39;00m \u001B[38;5;28mself\u001B[39m\u001B[38;5;241m.\u001B[39mcolumns\u001B[38;5;241m.\u001B[39mnlevels \u001B[38;5;241m>\u001B[39m \u001B[38;5;241m1\u001B[39m:\n\u001B[1;32m   3504\u001B[0m     \u001B[38;5;28;01mreturn\u001B[39;00m \u001B[38;5;28mself\u001B[39m\u001B[38;5;241m.\u001B[39m_getitem_multilevel(key)\n\u001B[0;32m-> 3505\u001B[0m indexer \u001B[38;5;241m=\u001B[39m \u001B[38;5;28;43mself\u001B[39;49m\u001B[38;5;241;43m.\u001B[39;49m\u001B[43mcolumns\u001B[49m\u001B[38;5;241;43m.\u001B[39;49m\u001B[43mget_loc\u001B[49m\u001B[43m(\u001B[49m\u001B[43mkey\u001B[49m\u001B[43m)\u001B[49m\n\u001B[1;32m   3506\u001B[0m \u001B[38;5;28;01mif\u001B[39;00m is_integer(indexer):\n\u001B[1;32m   3507\u001B[0m     indexer \u001B[38;5;241m=\u001B[39m [indexer]\n",
      "File \u001B[0;32m~/opt/anaconda3/lib/python3.9/site-packages/pandas/core/indexes/base.py:3623\u001B[0m, in \u001B[0;36mIndex.get_loc\u001B[0;34m(self, key, method, tolerance)\u001B[0m\n\u001B[1;32m   3621\u001B[0m     \u001B[38;5;28;01mreturn\u001B[39;00m \u001B[38;5;28mself\u001B[39m\u001B[38;5;241m.\u001B[39m_engine\u001B[38;5;241m.\u001B[39mget_loc(casted_key)\n\u001B[1;32m   3622\u001B[0m \u001B[38;5;28;01mexcept\u001B[39;00m \u001B[38;5;167;01mKeyError\u001B[39;00m \u001B[38;5;28;01mas\u001B[39;00m err:\n\u001B[0;32m-> 3623\u001B[0m     \u001B[38;5;28;01mraise\u001B[39;00m \u001B[38;5;167;01mKeyError\u001B[39;00m(key) \u001B[38;5;28;01mfrom\u001B[39;00m \u001B[38;5;21;01merr\u001B[39;00m\n\u001B[1;32m   3624\u001B[0m \u001B[38;5;28;01mexcept\u001B[39;00m \u001B[38;5;167;01mTypeError\u001B[39;00m:\n\u001B[1;32m   3625\u001B[0m     \u001B[38;5;66;03m# If we have a listlike key, _check_indexing_error will raise\u001B[39;00m\n\u001B[1;32m   3626\u001B[0m     \u001B[38;5;66;03m#  InvalidIndexError. Otherwise we fall through and re-raise\u001B[39;00m\n\u001B[1;32m   3627\u001B[0m     \u001B[38;5;66;03m#  the TypeError.\u001B[39;00m\n\u001B[1;32m   3628\u001B[0m     \u001B[38;5;28mself\u001B[39m\u001B[38;5;241m.\u001B[39m_check_indexing_error(key)\n",
      "\u001B[0;31mKeyError\u001B[0m: 'Erie'"
     ]
    }
   ],
   "source": [
    "df_named.loc[:,'Erie']"
   ]
  },
  {
   "cell_type": "markdown",
   "id": "2c32d201-c83c-4015-8d48-0ecce3d3c529",
   "metadata": {
    "pycharm": {
     "name": "#%% md\n"
    }
   },
   "source": [
    "You can also leave off the comma and it can work, but this can be a bit confusing"
   ]
  },
  {
   "cell_type": "markdown",
   "id": "55fb6027-bb8e-43cf-932d-b69b68f4a552",
   "metadata": {
    "pycharm": {
     "name": "#%% md\n"
    }
   },
   "source": [
    "A particular specification for code is called *syntax*. The *syntax* for accessing items from a dictionary is `plant2place['Tea']`\n",
    "\n",
    "**You can access data for one *feature* (a whole column) from a data frame using dictionary syntax**\n",
    "\n",
    "**Discuss**: Compare the results of the commands below. How is the  code different? and how are the results different:"
   ]
  },
  {
   "cell_type": "code",
   "execution_count": 38,
   "id": "3eef49a4-aa54-4d37-8214-2bbb97a9f304",
   "metadata": {
    "pycharm": {
     "name": "#%%\n"
    }
   },
   "outputs": [
    {
     "data": {
      "text/plain": "[23000, 7340, 22400, 9900, 31700]"
     },
     "execution_count": 38,
     "metadata": {},
     "output_type": "execute_result"
    }
   ],
   "source": [
    "lakes['surface']"
   ]
  },
  {
   "cell_type": "code",
   "execution_count": 39,
   "id": "70769fc9-ff3c-4264-9457-79b5e5eeddb2",
   "metadata": {
    "pycharm": {
     "name": "#%%\n"
    }
   },
   "outputs": [
    {
     "data": {
      "text/plain": "name\nHuron       23000\nOntario      7340\nMichigan    22400\nErie         9900\nSuperior    31700\nName: surface, dtype: int64"
     },
     "execution_count": 39,
     "metadata": {},
     "output_type": "execute_result"
    }
   ],
   "source": [
    "df_named['surface']"
   ]
  },
  {
   "cell_type": "markdown",
   "id": "8c2252a7-5faf-4fe4-bc53-b4d3aefd513e",
   "metadata": {
    "pycharm": {
     "name": "#%% md\n"
    }
   },
   "source": [
    "### 2.5 Indexing using a list\n",
    "We don't need to specify just the name of one row/column but we have many ways.  Say we are only interested in the depths info for Ontario and Michigan. We can create a list of all the rows and all the columns we are interested in:"
   ]
  },
  {
   "cell_type": "code",
   "execution_count": 41,
   "id": "9a6c7b77-2350-4f15-a471-0632b5715ca2",
   "metadata": {
    "pycharm": {
     "name": "#%%\n"
    }
   },
   "outputs": [],
   "source": [
    "rows = ['Michigan', 'Ontario']\n",
    "cols = ['ave_depth', 'max_depth']"
   ]
  },
  {
   "cell_type": "markdown",
   "id": "9a022e97-6720-44de-97ae-6567e595bc80",
   "metadata": {
    "pycharm": {
     "name": "#%% md\n"
    }
   },
   "source": [
    "Now I will use the variables to just get these rows and columns from the DataFrame:"
   ]
  },
  {
   "cell_type": "code",
   "execution_count": 44,
   "id": "3c9cc87b-cb66-45fe-8d34-8febf7a8a9f8",
   "metadata": {
    "pycharm": {
     "name": "#%%\n"
    }
   },
   "outputs": [
    {
     "ename": "KeyError",
     "evalue": "\"None of [Index(['Michigan', 'Ontario'], dtype='object')] are in the [index]\"",
     "output_type": "error",
     "traceback": [
      "\u001B[0;31m---------------------------------------------------------------------------\u001B[0m",
      "\u001B[0;31mKeyError\u001B[0m                                  Traceback (most recent call last)",
      "Input \u001B[0;32mIn [44]\u001B[0m, in \u001B[0;36m<cell line: 1>\u001B[0;34m()\u001B[0m\n\u001B[0;32m----> 1\u001B[0m \u001B[43mdf\u001B[49m\u001B[38;5;241;43m.\u001B[39;49m\u001B[43mloc\u001B[49m\u001B[43m[\u001B[49m\u001B[43mrows\u001B[49m\u001B[43m,\u001B[49m\u001B[43m \u001B[49m\u001B[43mcols\u001B[49m\u001B[43m]\u001B[49m\n",
      "File \u001B[0;32m~/opt/anaconda3/lib/python3.9/site-packages/pandas/core/indexing.py:961\u001B[0m, in \u001B[0;36m_LocationIndexer.__getitem__\u001B[0;34m(self, key)\u001B[0m\n\u001B[1;32m    959\u001B[0m     \u001B[38;5;28;01mif\u001B[39;00m \u001B[38;5;28mself\u001B[39m\u001B[38;5;241m.\u001B[39m_is_scalar_access(key):\n\u001B[1;32m    960\u001B[0m         \u001B[38;5;28;01mreturn\u001B[39;00m \u001B[38;5;28mself\u001B[39m\u001B[38;5;241m.\u001B[39mobj\u001B[38;5;241m.\u001B[39m_get_value(\u001B[38;5;241m*\u001B[39mkey, takeable\u001B[38;5;241m=\u001B[39m\u001B[38;5;28mself\u001B[39m\u001B[38;5;241m.\u001B[39m_takeable)\n\u001B[0;32m--> 961\u001B[0m     \u001B[38;5;28;01mreturn\u001B[39;00m \u001B[38;5;28;43mself\u001B[39;49m\u001B[38;5;241;43m.\u001B[39;49m\u001B[43m_getitem_tuple\u001B[49m\u001B[43m(\u001B[49m\u001B[43mkey\u001B[49m\u001B[43m)\u001B[49m\n\u001B[1;32m    962\u001B[0m \u001B[38;5;28;01melse\u001B[39;00m:\n\u001B[1;32m    963\u001B[0m     \u001B[38;5;66;03m# we by definition only have the 0th axis\u001B[39;00m\n\u001B[1;32m    964\u001B[0m     axis \u001B[38;5;241m=\u001B[39m \u001B[38;5;28mself\u001B[39m\u001B[38;5;241m.\u001B[39maxis \u001B[38;5;129;01mor\u001B[39;00m \u001B[38;5;241m0\u001B[39m\n",
      "File \u001B[0;32m~/opt/anaconda3/lib/python3.9/site-packages/pandas/core/indexing.py:1147\u001B[0m, in \u001B[0;36m_LocIndexer._getitem_tuple\u001B[0;34m(self, tup)\u001B[0m\n\u001B[1;32m   1145\u001B[0m \u001B[38;5;66;03m# ugly hack for GH #836\u001B[39;00m\n\u001B[1;32m   1146\u001B[0m \u001B[38;5;28;01mif\u001B[39;00m \u001B[38;5;28mself\u001B[39m\u001B[38;5;241m.\u001B[39m_multi_take_opportunity(tup):\n\u001B[0;32m-> 1147\u001B[0m     \u001B[38;5;28;01mreturn\u001B[39;00m \u001B[38;5;28;43mself\u001B[39;49m\u001B[38;5;241;43m.\u001B[39;49m\u001B[43m_multi_take\u001B[49m\u001B[43m(\u001B[49m\u001B[43mtup\u001B[49m\u001B[43m)\u001B[49m\n\u001B[1;32m   1149\u001B[0m \u001B[38;5;28;01mreturn\u001B[39;00m \u001B[38;5;28mself\u001B[39m\u001B[38;5;241m.\u001B[39m_getitem_tuple_same_dim(tup)\n",
      "File \u001B[0;32m~/opt/anaconda3/lib/python3.9/site-packages/pandas/core/indexing.py:1098\u001B[0m, in \u001B[0;36m_LocIndexer._multi_take\u001B[0;34m(self, tup)\u001B[0m\n\u001B[1;32m   1082\u001B[0m \u001B[38;5;124;03m\"\"\"\u001B[39;00m\n\u001B[1;32m   1083\u001B[0m \u001B[38;5;124;03mCreate the indexers for the passed tuple of keys, and\u001B[39;00m\n\u001B[1;32m   1084\u001B[0m \u001B[38;5;124;03mexecutes the take operation. This allows the take operation to be\u001B[39;00m\n\u001B[0;32m   (...)\u001B[0m\n\u001B[1;32m   1095\u001B[0m \u001B[38;5;124;03mvalues: same type as the object being indexed\u001B[39;00m\n\u001B[1;32m   1096\u001B[0m \u001B[38;5;124;03m\"\"\"\u001B[39;00m\n\u001B[1;32m   1097\u001B[0m \u001B[38;5;66;03m# GH 836\u001B[39;00m\n\u001B[0;32m-> 1098\u001B[0m d \u001B[38;5;241m=\u001B[39m {\n\u001B[1;32m   1099\u001B[0m     axis: \u001B[38;5;28mself\u001B[39m\u001B[38;5;241m.\u001B[39m_get_listlike_indexer(key, axis)\n\u001B[1;32m   1100\u001B[0m     \u001B[38;5;28;01mfor\u001B[39;00m (key, axis) \u001B[38;5;129;01min\u001B[39;00m \u001B[38;5;28mzip\u001B[39m(tup, \u001B[38;5;28mself\u001B[39m\u001B[38;5;241m.\u001B[39mobj\u001B[38;5;241m.\u001B[39m_AXIS_ORDERS)\n\u001B[1;32m   1101\u001B[0m }\n\u001B[1;32m   1102\u001B[0m \u001B[38;5;28;01mreturn\u001B[39;00m \u001B[38;5;28mself\u001B[39m\u001B[38;5;241m.\u001B[39mobj\u001B[38;5;241m.\u001B[39m_reindex_with_indexers(d, copy\u001B[38;5;241m=\u001B[39m\u001B[38;5;28;01mTrue\u001B[39;00m, allow_dups\u001B[38;5;241m=\u001B[39m\u001B[38;5;28;01mTrue\u001B[39;00m)\n",
      "File \u001B[0;32m~/opt/anaconda3/lib/python3.9/site-packages/pandas/core/indexing.py:1099\u001B[0m, in \u001B[0;36m<dictcomp>\u001B[0;34m(.0)\u001B[0m\n\u001B[1;32m   1082\u001B[0m \u001B[38;5;124;03m\"\"\"\u001B[39;00m\n\u001B[1;32m   1083\u001B[0m \u001B[38;5;124;03mCreate the indexers for the passed tuple of keys, and\u001B[39;00m\n\u001B[1;32m   1084\u001B[0m \u001B[38;5;124;03mexecutes the take operation. This allows the take operation to be\u001B[39;00m\n\u001B[0;32m   (...)\u001B[0m\n\u001B[1;32m   1095\u001B[0m \u001B[38;5;124;03mvalues: same type as the object being indexed\u001B[39;00m\n\u001B[1;32m   1096\u001B[0m \u001B[38;5;124;03m\"\"\"\u001B[39;00m\n\u001B[1;32m   1097\u001B[0m \u001B[38;5;66;03m# GH 836\u001B[39;00m\n\u001B[1;32m   1098\u001B[0m d \u001B[38;5;241m=\u001B[39m {\n\u001B[0;32m-> 1099\u001B[0m     axis: \u001B[38;5;28;43mself\u001B[39;49m\u001B[38;5;241;43m.\u001B[39;49m\u001B[43m_get_listlike_indexer\u001B[49m\u001B[43m(\u001B[49m\u001B[43mkey\u001B[49m\u001B[43m,\u001B[49m\u001B[43m \u001B[49m\u001B[43maxis\u001B[49m\u001B[43m)\u001B[49m\n\u001B[1;32m   1100\u001B[0m     \u001B[38;5;28;01mfor\u001B[39;00m (key, axis) \u001B[38;5;129;01min\u001B[39;00m \u001B[38;5;28mzip\u001B[39m(tup, \u001B[38;5;28mself\u001B[39m\u001B[38;5;241m.\u001B[39mobj\u001B[38;5;241m.\u001B[39m_AXIS_ORDERS)\n\u001B[1;32m   1101\u001B[0m }\n\u001B[1;32m   1102\u001B[0m \u001B[38;5;28;01mreturn\u001B[39;00m \u001B[38;5;28mself\u001B[39m\u001B[38;5;241m.\u001B[39mobj\u001B[38;5;241m.\u001B[39m_reindex_with_indexers(d, copy\u001B[38;5;241m=\u001B[39m\u001B[38;5;28;01mTrue\u001B[39;00m, allow_dups\u001B[38;5;241m=\u001B[39m\u001B[38;5;28;01mTrue\u001B[39;00m)\n",
      "File \u001B[0;32m~/opt/anaconda3/lib/python3.9/site-packages/pandas/core/indexing.py:1327\u001B[0m, in \u001B[0;36m_LocIndexer._get_listlike_indexer\u001B[0;34m(self, key, axis)\u001B[0m\n\u001B[1;32m   1324\u001B[0m ax \u001B[38;5;241m=\u001B[39m \u001B[38;5;28mself\u001B[39m\u001B[38;5;241m.\u001B[39mobj\u001B[38;5;241m.\u001B[39m_get_axis(axis)\n\u001B[1;32m   1325\u001B[0m axis_name \u001B[38;5;241m=\u001B[39m \u001B[38;5;28mself\u001B[39m\u001B[38;5;241m.\u001B[39mobj\u001B[38;5;241m.\u001B[39m_get_axis_name(axis)\n\u001B[0;32m-> 1327\u001B[0m keyarr, indexer \u001B[38;5;241m=\u001B[39m \u001B[43max\u001B[49m\u001B[38;5;241;43m.\u001B[39;49m\u001B[43m_get_indexer_strict\u001B[49m\u001B[43m(\u001B[49m\u001B[43mkey\u001B[49m\u001B[43m,\u001B[49m\u001B[43m \u001B[49m\u001B[43maxis_name\u001B[49m\u001B[43m)\u001B[49m\n\u001B[1;32m   1329\u001B[0m \u001B[38;5;28;01mreturn\u001B[39;00m keyarr, indexer\n",
      "File \u001B[0;32m~/opt/anaconda3/lib/python3.9/site-packages/pandas/core/indexes/base.py:5782\u001B[0m, in \u001B[0;36mIndex._get_indexer_strict\u001B[0;34m(self, key, axis_name)\u001B[0m\n\u001B[1;32m   5779\u001B[0m \u001B[38;5;28;01melse\u001B[39;00m:\n\u001B[1;32m   5780\u001B[0m     keyarr, indexer, new_indexer \u001B[38;5;241m=\u001B[39m \u001B[38;5;28mself\u001B[39m\u001B[38;5;241m.\u001B[39m_reindex_non_unique(keyarr)\n\u001B[0;32m-> 5782\u001B[0m \u001B[38;5;28;43mself\u001B[39;49m\u001B[38;5;241;43m.\u001B[39;49m\u001B[43m_raise_if_missing\u001B[49m\u001B[43m(\u001B[49m\u001B[43mkeyarr\u001B[49m\u001B[43m,\u001B[49m\u001B[43m \u001B[49m\u001B[43mindexer\u001B[49m\u001B[43m,\u001B[49m\u001B[43m \u001B[49m\u001B[43maxis_name\u001B[49m\u001B[43m)\u001B[49m\n\u001B[1;32m   5784\u001B[0m keyarr \u001B[38;5;241m=\u001B[39m \u001B[38;5;28mself\u001B[39m\u001B[38;5;241m.\u001B[39mtake(indexer)\n\u001B[1;32m   5785\u001B[0m \u001B[38;5;28;01mif\u001B[39;00m \u001B[38;5;28misinstance\u001B[39m(key, Index):\n\u001B[1;32m   5786\u001B[0m     \u001B[38;5;66;03m# GH 42790 - Preserve name from an Index\u001B[39;00m\n",
      "File \u001B[0;32m~/opt/anaconda3/lib/python3.9/site-packages/pandas/core/indexes/base.py:5842\u001B[0m, in \u001B[0;36mIndex._raise_if_missing\u001B[0;34m(self, key, indexer, axis_name)\u001B[0m\n\u001B[1;32m   5840\u001B[0m     \u001B[38;5;28;01mif\u001B[39;00m use_interval_msg:\n\u001B[1;32m   5841\u001B[0m         key \u001B[38;5;241m=\u001B[39m \u001B[38;5;28mlist\u001B[39m(key)\n\u001B[0;32m-> 5842\u001B[0m     \u001B[38;5;28;01mraise\u001B[39;00m \u001B[38;5;167;01mKeyError\u001B[39;00m(\u001B[38;5;124mf\u001B[39m\u001B[38;5;124m\"\u001B[39m\u001B[38;5;124mNone of [\u001B[39m\u001B[38;5;132;01m{\u001B[39;00mkey\u001B[38;5;132;01m}\u001B[39;00m\u001B[38;5;124m] are in the [\u001B[39m\u001B[38;5;132;01m{\u001B[39;00maxis_name\u001B[38;5;132;01m}\u001B[39;00m\u001B[38;5;124m]\u001B[39m\u001B[38;5;124m\"\u001B[39m)\n\u001B[1;32m   5844\u001B[0m not_found \u001B[38;5;241m=\u001B[39m \u001B[38;5;28mlist\u001B[39m(ensure_index(key)[missing_mask\u001B[38;5;241m.\u001B[39mnonzero()[\u001B[38;5;241m0\u001B[39m]]\u001B[38;5;241m.\u001B[39munique())\n\u001B[1;32m   5845\u001B[0m \u001B[38;5;28;01mraise\u001B[39;00m \u001B[38;5;167;01mKeyError\u001B[39;00m(\u001B[38;5;124mf\u001B[39m\u001B[38;5;124m\"\u001B[39m\u001B[38;5;132;01m{\u001B[39;00mnot_found\u001B[38;5;132;01m}\u001B[39;00m\u001B[38;5;124m not in index\u001B[39m\u001B[38;5;124m\"\u001B[39m)\n",
      "\u001B[0;31mKeyError\u001B[0m: \"None of [Index(['Michigan', 'Ontario'], dtype='object')] are in the [index]\""
     ]
    }
   ],
   "source": [
    "df_named.loc[rows, cols]"
   ]
  },
  {
   "cell_type": "markdown",
   "id": "47add56c-8f89-4fcd-a093-471e0b5e1168",
   "metadata": {
    "pycharm": {
     "name": "#%% md\n"
    }
   },
   "source": [
    "**Exercise 2.5.1**: use list indexing to manually put the data frame in alphabetical order by lake name, and select only the native_name and shared_canada columns."
   ]
  },
  {
   "cell_type": "code",
   "execution_count": 47,
   "id": "8c15412c-042f-4ce5-8f96-d5a323860a92",
   "metadata": {
    "pycharm": {
     "name": "#%%\n"
    }
   },
   "outputs": [
    {
     "data": {
      "text/plain": "          native_name  shared_canada\nname                                \nErie       Erielhonan           True\nHuron      Karegnondi           True\nMichigan    Mich gami          False\nOntario   Oniatarí:io           True\nSuperior   Gichi-gami           True",
      "text/html": "<div>\n<style scoped>\n    .dataframe tbody tr th:only-of-type {\n        vertical-align: middle;\n    }\n\n    .dataframe tbody tr th {\n        vertical-align: top;\n    }\n\n    .dataframe thead th {\n        text-align: right;\n    }\n</style>\n<table border=\"1\" class=\"dataframe\">\n  <thead>\n    <tr style=\"text-align: right;\">\n      <th></th>\n      <th>native_name</th>\n      <th>shared_canada</th>\n    </tr>\n    <tr>\n      <th>name</th>\n      <th></th>\n      <th></th>\n    </tr>\n  </thead>\n  <tbody>\n    <tr>\n      <th>Erie</th>\n      <td>Erielhonan</td>\n      <td>True</td>\n    </tr>\n    <tr>\n      <th>Huron</th>\n      <td>Karegnondi</td>\n      <td>True</td>\n    </tr>\n    <tr>\n      <th>Michigan</th>\n      <td>Mich gami</td>\n      <td>False</td>\n    </tr>\n    <tr>\n      <th>Ontario</th>\n      <td>Oniatarí:io</td>\n      <td>True</td>\n    </tr>\n    <tr>\n      <th>Superior</th>\n      <td>Gichi-gami</td>\n      <td>True</td>\n    </tr>\n  </tbody>\n</table>\n</div>"
     },
     "execution_count": 47,
     "metadata": {},
     "output_type": "execute_result"
    }
   ],
   "source": [
    "# sort the data in the data frame using lake name\n",
    "# specify that u need the native name and shared canada columns\n",
    "# get \"what we need\" from data frame\n",
    "\n",
    "rows = ['Erie',\n",
    "        'Huron',\n",
    "        'Michigan',\n",
    "        'Ontario',\n",
    "        'Superior']\n",
    "\n",
    "cols = ['native_name', 'shared_canada']\n",
    "\n",
    "df_named.loc[rows, cols]"
   ]
  },
  {
   "cell_type": "markdown",
   "id": "22557790-db42-4612-bf24-10fefcbb34e6",
   "metadata": {
    "pycharm": {
     "name": "#%% md\n"
    }
   },
   "source": [
    "### 2.6 `.iloc[]` locates by row/column number\n",
    "Sometimes you might want to choose your own rows and columns by number, rather than just head and tail. With `iloc` you specify row number and column numbers (zero based) \n",
    "\n",
    "This follows the same rules as list position indexing, but gives you 2 dimensions to pick from."
   ]
  },
  {
   "cell_type": "code",
   "execution_count": 48,
   "id": "bca86a19-9f2f-4152-b062-2eeda919000f",
   "metadata": {
    "pycharm": {
     "name": "#%%\n"
    }
   },
   "outputs": [
    {
     "data": {
      "text/plain": "         shared_canada  temperature\nname                               \nHuron             True           48\nOntario           True           51",
      "text/html": "<div>\n<style scoped>\n    .dataframe tbody tr th:only-of-type {\n        vertical-align: middle;\n    }\n\n    .dataframe tbody tr th {\n        vertical-align: top;\n    }\n\n    .dataframe thead th {\n        text-align: right;\n    }\n</style>\n<table border=\"1\" class=\"dataframe\">\n  <thead>\n    <tr style=\"text-align: right;\">\n      <th></th>\n      <th>shared_canada</th>\n      <th>temperature</th>\n    </tr>\n    <tr>\n      <th>name</th>\n      <th></th>\n      <th></th>\n    </tr>\n  </thead>\n  <tbody>\n    <tr>\n      <th>Huron</th>\n      <td>True</td>\n      <td>48</td>\n    </tr>\n    <tr>\n      <th>Ontario</th>\n      <td>True</td>\n      <td>51</td>\n    </tr>\n  </tbody>\n</table>\n</div>"
     },
     "execution_count": 48,
     "metadata": {},
     "output_type": "execute_result"
    }
   ],
   "source": [
    "df_named.iloc[:2,3:5]"
   ]
  },
  {
   "cell_type": "markdown",
   "id": "601e2155-d7ad-4c60-81b1-7eb898f576bf",
   "metadata": {
    "pycharm": {
     "name": "#%% md\n"
    }
   },
   "source": [
    "**Exercise 2.6.1**: Look at the `df_named` and verify which rows and columns you would expect this to have given you."
   ]
  },
  {
   "cell_type": "code",
   "execution_count": null,
   "id": "2d39404c-50e8-4ec1-8954-32eb4ef25d3f",
   "metadata": {
    "pycharm": {
     "name": "#%%\n"
    }
   },
   "outputs": [],
   "source": []
  },
  {
   "cell_type": "markdown",
   "id": "1970d222-658d-45f2-8c15-e2cd140e6307",
   "metadata": {
    "pycharm": {
     "name": "#%% md\n"
    }
   },
   "source": [
    "## 3. Vectorized operations\n",
    "Where pandas gets really powerful is the ability to manipulate a bunch of numbers at once. \n",
    "\n"
   ]
  },
  {
   "cell_type": "code",
   "execution_count": 51,
   "id": "93341b12-33e7-4d53-a4d6-d060e53a9f1e",
   "metadata": {
    "pycharm": {
     "name": "#%%\n"
    }
   },
   "outputs": [
    {
     "data": {
      "text/plain": "name\nHuron       0.48\nOntario     0.51\nMichigan    0.49\nErie        0.54\nSuperior    0.43\nName: temperature, dtype: float64"
     },
     "execution_count": 51,
     "metadata": {},
     "output_type": "execute_result"
    }
   ],
   "source": [
    "df['temperature'] / 100"
   ]
  },
  {
   "cell_type": "code",
   "execution_count": 52,
   "id": "ce27d9a0-5fee-434f-a61d-d358339c8481",
   "metadata": {
    "pycharm": {
     "name": "#%%\n"
    }
   },
   "outputs": [
    {
     "data": {
      "text/plain": "name\nHuron       1195\nOntario     1284\nMichigan    1279\nErie        1070\nSuperior    1480\nName: ave_depth, dtype: int64"
     },
     "execution_count": 52,
     "metadata": {},
     "output_type": "execute_result"
    }
   ],
   "source": [
    "df_named['ave_depth'] + 1000"
   ]
  },
  {
   "cell_type": "markdown",
   "id": "7a38773f-a059-4270-aa4d-7e11bee0206d",
   "metadata": {
    "pycharm": {
     "name": "#%% md\n"
    }
   },
   "source": [
    "What is an alternative way to accomplish the same task?\n",
    "\n",
    "Two reasons why this is better:\n",
    "- less code\n",
    "- much much faster with large data\n",
    "\n",
    "**3.1 Exercise**: convert the Fahrenheit temperatures to Celsius using vector operations (celsius = 5/9 * (fahrenheight - 32))"
   ]
  },
  {
   "cell_type": "code",
   "execution_count": 58,
   "id": "64584fc4-c157-411f-b871-f85554145fba",
   "metadata": {
    "pycharm": {
     "name": "#%%\n"
    }
   },
   "outputs": [
    {
     "data": {
      "text/plain": "name\nHuron        8.888889\nOntario     10.555556\nMichigan     9.444444\nErie        12.222222\nSuperior     6.111111\nName: temperature, dtype: float64"
     },
     "execution_count": 58,
     "metadata": {},
     "output_type": "execute_result"
    }
   ],
   "source": [
    "5/9 * (df['temperature'] - 32)"
   ]
  },
  {
   "cell_type": "markdown",
   "id": "cc404dde-fc44-4fc9-b958-62ea8bd94c45",
   "metadata": {
    "pycharm": {
     "name": "#%% md\n"
    }
   },
   "source": [
    "### 3.1 Vectorized math between two series\n",
    "You aren't limited to a Series and a number, with 2 Series of the same size, pandas will perform the operations like you were in a for loop. So we can get for each lake, how much deeper the deepest point is than the average depth."
   ]
  },
  {
   "cell_type": "code",
   "execution_count": 56,
   "id": "e54fbf51-0b92-4b7f-85ea-7b6f39ebb070",
   "metadata": {
    "pycharm": {
     "name": "#%%\n"
    }
   },
   "outputs": [],
   "source": [
    "diff_depth =  df_named['max_depth'] - df_named['ave_depth']"
   ]
  },
  {
   "cell_type": "code",
   "execution_count": 57,
   "id": "af551b52-0aad-4d85-b725-085fae6a4765",
   "metadata": {
    "pycharm": {
     "name": "#%%\n"
    }
   },
   "outputs": [
    {
     "data": {
      "text/plain": "name\nHuron       555\nOntario     518\nMichigan    644\nErie        140\nSuperior    853\ndtype: int64"
     },
     "execution_count": 57,
     "metadata": {},
     "output_type": "execute_result"
    }
   ],
   "source": [
    "diff_depth"
   ]
  },
  {
   "cell_type": "markdown",
   "id": "234b49c8-8603-49dc-9ee7-cce69c0533be",
   "metadata": {
    "pycharm": {
     "name": "#%% md\n"
    }
   },
   "source": [
    "**3.1.1 Exercise**: use vectorized math to create a Series containing a very approximate volume for each lake"
   ]
  },
  {
   "cell_type": "code",
   "execution_count": 63,
   "outputs": [
    {
     "data": {
      "text/plain": "name\nHuron       1.250418e+14\nOntario     5.811753e+13\nMichigan    1.742388e+14\nErie        1.932084e+13\nSuperior    4.242221e+14\ndtype: float64"
     },
     "execution_count": 63,
     "metadata": {},
     "output_type": "execute_result"
    }
   ],
   "source": [
    "very_approximate_volume = df['ave_depth'] * df['surface'] * 2.788e+7\n",
    "very_approximate_volume"
   ],
   "metadata": {
    "collapsed": false,
    "pycharm": {
     "name": "#%%\n"
    }
   }
  },
  {
   "cell_type": "markdown",
   "id": "09e964a9-edfb-4c7d-b87a-9310dd8ac76b",
   "metadata": {
    "pycharm": {
     "name": "#%% md\n"
    }
   },
   "source": [
    "### 3.2 Vectorized string operations\n",
    "The main ones are vectorized string concatenation\n",
    "\n",
    "Just like doing `\"Lake\" + \"Karegnondi\"` would give you a string concatenating the two, this does the same thing in a vectorized fashion-- notice that what you get is of course another Series."
   ]
  },
  {
   "cell_type": "code",
   "execution_count": 67,
   "id": "4aec40b9-a617-4336-b36c-ad249803fe72",
   "metadata": {
    "pycharm": {
     "name": "#%%\n"
    }
   },
   "outputs": [
    {
     "data": {
      "text/plain": "name\nHuron        Lake Karegnondi is a lake\nOntario     Lake Oniatarí:io is a lake\nMichigan      Lake Mich gami is a lake\nErie         Lake Erielhonan is a lake\nSuperior     Lake Gichi-gami is a lake\nName: native_name, dtype: object"
     },
     "execution_count": 67,
     "metadata": {},
     "output_type": "execute_result"
    }
   ],
   "source": [
    "\"Lake \" + df['native_name'] + \" is a lake\""
   ]
  },
  {
   "cell_type": "markdown",
   "id": "3cf1da31-edb0-47f1-b831-578b26691865",
   "metadata": {
    "pycharm": {
     "name": "#%% md\n"
    }
   },
   "source": [
    "**Self check**: Write code to make a series that say \"The native name for Erie is Erielhonan\" etc for all lakes using vector operations."
   ]
  },
  {
   "cell_type": "markdown",
   "id": "76c46448-97ac-4e6f-b829-3e0545bf376d",
   "metadata": {
    "pycharm": {
     "name": "#%% md\n"
    }
   },
   "source": [
    "### 3.4 Vectorized inequalities\n",
    "Just like the other vectorized operations, we can do tests that give Boolean results for vectorized operations"
   ]
  },
  {
   "cell_type": "code",
   "execution_count": 64,
   "id": "a732cda7-64e4-400f-8c84-3f8433eebdc4",
   "metadata": {
    "pycharm": {
     "name": "#%%\n"
    }
   },
   "outputs": [
    {
     "data": {
      "text/plain": "name\nHuron       False\nOntario      True\nMichigan    False\nErie         True\nSuperior    False\nName: temperature, dtype: bool"
     },
     "execution_count": 64,
     "metadata": {},
     "output_type": "execute_result"
    }
   ],
   "source": [
    "df['temperature'] > 50"
   ]
  },
  {
   "cell_type": "code",
   "execution_count": 65,
   "id": "0930a69d-7f04-4e45-be95-0709a49198b1",
   "metadata": {
    "pycharm": {
     "name": "#%%\n"
    }
   },
   "outputs": [
    {
     "data": {
      "text/plain": "          surface  ave_depth  max_depth  shared_canada  temperature  \\\nname                                                                  \nHuron       23000        195        750           True           48   \nOntario      7340        284        802           True           51   \nMichigan    22400        279        923          False           49   \nErie         9900         70        210           True           54   \nSuperior    31700        480       1333           True           43   \n\n          native_name  \nname                   \nHuron      Karegnondi  \nOntario   Oniatarí:io  \nMichigan    Mich gami  \nErie       Erielhonan  \nSuperior   Gichi-gami  ",
      "text/html": "<div>\n<style scoped>\n    .dataframe tbody tr th:only-of-type {\n        vertical-align: middle;\n    }\n\n    .dataframe tbody tr th {\n        vertical-align: top;\n    }\n\n    .dataframe thead th {\n        text-align: right;\n    }\n</style>\n<table border=\"1\" class=\"dataframe\">\n  <thead>\n    <tr style=\"text-align: right;\">\n      <th></th>\n      <th>surface</th>\n      <th>ave_depth</th>\n      <th>max_depth</th>\n      <th>shared_canada</th>\n      <th>temperature</th>\n      <th>native_name</th>\n    </tr>\n    <tr>\n      <th>name</th>\n      <th></th>\n      <th></th>\n      <th></th>\n      <th></th>\n      <th></th>\n      <th></th>\n    </tr>\n  </thead>\n  <tbody>\n    <tr>\n      <th>Huron</th>\n      <td>23000</td>\n      <td>195</td>\n      <td>750</td>\n      <td>True</td>\n      <td>48</td>\n      <td>Karegnondi</td>\n    </tr>\n    <tr>\n      <th>Ontario</th>\n      <td>7340</td>\n      <td>284</td>\n      <td>802</td>\n      <td>True</td>\n      <td>51</td>\n      <td>Oniatarí:io</td>\n    </tr>\n    <tr>\n      <th>Michigan</th>\n      <td>22400</td>\n      <td>279</td>\n      <td>923</td>\n      <td>False</td>\n      <td>49</td>\n      <td>Mich gami</td>\n    </tr>\n    <tr>\n      <th>Erie</th>\n      <td>9900</td>\n      <td>70</td>\n      <td>210</td>\n      <td>True</td>\n      <td>54</td>\n      <td>Erielhonan</td>\n    </tr>\n    <tr>\n      <th>Superior</th>\n      <td>31700</td>\n      <td>480</td>\n      <td>1333</td>\n      <td>True</td>\n      <td>43</td>\n      <td>Gichi-gami</td>\n    </tr>\n  </tbody>\n</table>\n</div>"
     },
     "execution_count": 65,
     "metadata": {},
     "output_type": "execute_result"
    }
   ],
   "source": [
    "df"
   ]
  },
  {
   "cell_type": "code",
   "execution_count": 66,
   "id": "534713f2-d3c6-46a6-806d-e4b03642ccfb",
   "metadata": {
    "pycharm": {
     "name": "#%%\n"
    }
   },
   "outputs": [
    {
     "data": {
      "text/plain": "name\nHuron       False\nOntario     False\nMichigan    False\nErie         True\nSuperior    False\nName: native_name, dtype: bool"
     },
     "execution_count": 66,
     "metadata": {},
     "output_type": "execute_result"
    }
   ],
   "source": [
    "df['native_name'] == \"Erielhonan\""
   ]
  },
  {
   "cell_type": "markdown",
   "id": "8da61432-a92e-4aa8-aa24-08644dae840c",
   "metadata": {
    "pycharm": {
     "name": "#%% md\n"
    }
   },
   "source": [
    "Just like in 3.2, this can be between 2 Series rather than comparing each item to the same thing"
   ]
  },
  {
   "cell_type": "code",
   "execution_count": 68,
   "id": "bae9acef-7230-4ce3-95c8-288d0d5a76fc",
   "metadata": {
    "pycharm": {
     "name": "#%%\n"
    }
   },
   "outputs": [
    {
     "data": {
      "text/plain": "name\nHuron       True\nOntario     True\nMichigan    True\nErie        True\nSuperior    True\ndtype: bool"
     },
     "execution_count": 68,
     "metadata": {},
     "output_type": "execute_result"
    }
   ],
   "source": [
    "df['ave_depth'] < df['max_depth']"
   ]
  },
  {
   "cell_type": "markdown",
   "id": "917d68db-2d75-4eca-aaa5-8cd0d12a35f6",
   "metadata": {
    "pycharm": {
     "name": "#%% md\n"
    }
   },
   "source": [
    "**Exercise 3.4.1**: Write one line of code  that finds out if each lake's volume is more than 1 million cubic feet"
   ]
  },
  {
   "cell_type": "code",
   "execution_count": 70,
   "outputs": [
    {
     "data": {
      "text/plain": "name\nHuron       True\nOntario     True\nMichigan    True\nErie        True\nSuperior    True\ndtype: bool"
     },
     "execution_count": 70,
     "metadata": {},
     "output_type": "execute_result"
    }
   ],
   "source": [
    "very_approximate_volume = df['ave_depth'] * df['surface'] * 2.788e+7\n",
    "very_approximate_volume > 1.0e+6"
   ],
   "metadata": {
    "collapsed": false,
    "pycharm": {
     "name": "#%%\n"
    }
   }
  },
  {
   "cell_type": "markdown",
   "id": "fffe4919-1271-4f09-940e-c2498c739d1b",
   "metadata": {
    "pycharm": {
     "name": "#%% md\n"
    }
   },
   "source": [
    "### 3.5 Vectorized Boolean operations.\n",
    "\n",
    "There are different operators for Series and DataFrame Booleans versus regular ones. These will operate on the whole Series at once:\n",
    "- `and` --> `&`\n",
    "- `or` --> `|`\n",
    "- `not` --> `~`\n"
   ]
  },
  {
   "cell_type": "markdown",
   "id": "fb1775fc-cebe-4bfa-85b4-db02eb48aefb",
   "metadata": {
    "pycharm": {
     "name": "#%% md\n"
    }
   },
   "source": [
    "To flip True and False (the `not` operation) you must use the `~`:"
   ]
  },
  {
   "cell_type": "code",
   "execution_count": 69,
   "id": "96dd23be-e951-4b81-842a-5618c5d49428",
   "metadata": {
    "pycharm": {
     "name": "#%%\n"
    }
   },
   "outputs": [
    {
     "data": {
      "text/plain": "name\nHuron       False\nOntario     False\nMichigan     True\nErie        False\nSuperior    False\nName: shared_canada, dtype: bool"
     },
     "execution_count": 69,
     "metadata": {},
     "output_type": "execute_result"
    }
   ],
   "source": [
    "~df['shared_canada']"
   ]
  },
  {
   "cell_type": "markdown",
   "id": "9b42321b-b285-411e-a37a-14ca54259962",
   "metadata": {
    "pycharm": {
     "name": "#%% md\n"
    }
   },
   "source": [
    "To combine two inequalities you must put the inequality in parentheses like below! Common source of errors!"
   ]
  },
  {
   "cell_type": "code",
   "execution_count": 71,
   "id": "7b4d562f-b160-4bc5-b904-0d520536cb2b",
   "metadata": {
    "pycharm": {
     "name": "#%%\n"
    }
   },
   "outputs": [
    {
     "data": {
      "text/plain": "name\nHuron        True\nOntario     False\nMichigan    False\nErie        False\nSuperior     True\ndtype: bool"
     },
     "execution_count": 71,
     "metadata": {},
     "output_type": "execute_result"
    }
   ],
   "source": [
    "df['shared_canada'] & (df['temperature'] < 50)"
   ]
  },
  {
   "cell_type": "code",
   "execution_count": 72,
   "id": "d35bc67c-2d14-47df-897d-23f2ac08e2bb",
   "metadata": {
    "pycharm": {
     "name": "#%%\n"
    }
   },
   "outputs": [
    {
     "data": {
      "text/plain": "name\nHuron       True\nOntario     True\nMichigan    True\nErie        True\nSuperior    True\ndtype: bool"
     },
     "execution_count": 72,
     "metadata": {},
     "output_type": "execute_result"
    }
   ],
   "source": [
    "df['shared_canada'] | (df['temperature'] < 50)"
   ]
  },
  {
   "cell_type": "markdown",
   "id": "e4a9560a-56b8-4cf6-a7dd-6339f5508967",
   "metadata": {
    "pycharm": {
     "name": "#%% md\n"
    }
   },
   "source": [
    "**Self check**: Use Boolean operations to get for all lakes a Boolean Series indicating lakes that are shared with Canada and have average depth more than 200 feet."
   ]
  },
  {
   "cell_type": "markdown",
   "id": "65f88732-3a21-4e08-b511-f79ff2542b37",
   "metadata": {
    "pycharm": {
     "name": "#%% md\n"
    }
   },
   "source": [
    "## 4. Dimension/shape\n",
    "You can get the number of rows and columns by getting the `.shape` attribute. \n",
    "\n",
    "Remember it's always Row then Column because **DataFrames <font color=red>R</font>o<font color=red>C</font>k!!**"
   ]
  },
  {
   "cell_type": "code",
   "execution_count": 73,
   "id": "1216228c-b161-4c41-b83e-2517633dbc5c",
   "metadata": {
    "pycharm": {
     "name": "#%%\n"
    }
   },
   "outputs": [
    {
     "data": {
      "text/plain": "(5, 6)"
     },
     "execution_count": 73,
     "metadata": {},
     "output_type": "execute_result"
    }
   ],
   "source": [
    "df.shape"
   ]
  },
  {
   "cell_type": "markdown",
   "id": "3ec134c1-e4ef-471d-844a-ec72e09b5396",
   "metadata": {
    "pycharm": {
     "name": "#%% md\n"
    }
   },
   "source": [
    "What do you expect the shape of a series to be? How many rows and columns do you expect in the variable `aseries` below?"
   ]
  },
  {
   "cell_type": "code",
   "execution_count": 74,
   "id": "78b38e75-d72e-41bc-b5ba-faaf5b8b976f",
   "metadata": {
    "pycharm": {
     "name": "#%%\n"
    }
   },
   "outputs": [
    {
     "data": {
      "text/plain": "(5,)"
     },
     "execution_count": 74,
     "metadata": {},
     "output_type": "execute_result"
    }
   ],
   "source": [
    "aseries = df['shared_canada']\n",
    "aseries.shape"
   ]
  },
  {
   "cell_type": "markdown",
   "id": "ca6939c2-f576-4e71-b67e-e40859165830",
   "metadata": {
    "pycharm": {
     "name": "#%% md\n"
    }
   },
   "source": [
    "## 5. Assigning into your data frame"
   ]
  },
  {
   "cell_type": "markdown",
   "id": "0cbf4a51-4765-4a8a-8533-db2570828136",
   "metadata": {
    "pycharm": {
     "name": "#%% md\n"
    }
   },
   "source": [
    "We can also assign a whole Series **into** a column, just like getting the series out of the column"
   ]
  },
  {
   "cell_type": "code",
   "execution_count": 76,
   "id": "21f8c119-28e3-4364-a033-67d8cb9a1319",
   "metadata": {
    "pycharm": {
     "name": "#%%\n"
    }
   },
   "outputs": [
    {
     "data": {
      "text/plain": "          surface  ave_depth  max_depth  shared_canada  temperature  \\\nname                                                                  \nHuron       23000        195        750           True           48   \nOntario      7340        284        802           True           51   \nMichigan    22400        279        923          False           49   \nErie         9900         70        210           True           54   \nSuperior    31700        480       1333           True           43   \n\n          native_name  diff_depth  \nname                               \nHuron      Karegnondi         555  \nOntario   Oniatarí:io         518  \nMichigan    Mich gami         644  \nErie       Erielhonan         140  \nSuperior   Gichi-gami         853  ",
      "text/html": "<div>\n<style scoped>\n    .dataframe tbody tr th:only-of-type {\n        vertical-align: middle;\n    }\n\n    .dataframe tbody tr th {\n        vertical-align: top;\n    }\n\n    .dataframe thead th {\n        text-align: right;\n    }\n</style>\n<table border=\"1\" class=\"dataframe\">\n  <thead>\n    <tr style=\"text-align: right;\">\n      <th></th>\n      <th>surface</th>\n      <th>ave_depth</th>\n      <th>max_depth</th>\n      <th>shared_canada</th>\n      <th>temperature</th>\n      <th>native_name</th>\n      <th>diff_depth</th>\n    </tr>\n    <tr>\n      <th>name</th>\n      <th></th>\n      <th></th>\n      <th></th>\n      <th></th>\n      <th></th>\n      <th></th>\n      <th></th>\n    </tr>\n  </thead>\n  <tbody>\n    <tr>\n      <th>Huron</th>\n      <td>23000</td>\n      <td>195</td>\n      <td>750</td>\n      <td>True</td>\n      <td>48</td>\n      <td>Karegnondi</td>\n      <td>555</td>\n    </tr>\n    <tr>\n      <th>Ontario</th>\n      <td>7340</td>\n      <td>284</td>\n      <td>802</td>\n      <td>True</td>\n      <td>51</td>\n      <td>Oniatarí:io</td>\n      <td>518</td>\n    </tr>\n    <tr>\n      <th>Michigan</th>\n      <td>22400</td>\n      <td>279</td>\n      <td>923</td>\n      <td>False</td>\n      <td>49</td>\n      <td>Mich gami</td>\n      <td>644</td>\n    </tr>\n    <tr>\n      <th>Erie</th>\n      <td>9900</td>\n      <td>70</td>\n      <td>210</td>\n      <td>True</td>\n      <td>54</td>\n      <td>Erielhonan</td>\n      <td>140</td>\n    </tr>\n    <tr>\n      <th>Superior</th>\n      <td>31700</td>\n      <td>480</td>\n      <td>1333</td>\n      <td>True</td>\n      <td>43</td>\n      <td>Gichi-gami</td>\n      <td>853</td>\n    </tr>\n  </tbody>\n</table>\n</div>"
     },
     "execution_count": 76,
     "metadata": {},
     "output_type": "execute_result"
    }
   ],
   "source": [
    "df['diff_depth'] = df['max_depth'] - df['ave_depth']\n",
    "df"
   ]
  },
  {
   "cell_type": "markdown",
   "id": "957eb724-a52e-42b6-a256-0f78d6dc6e7f",
   "metadata": {
    "pycharm": {
     "name": "#%% md\n"
    }
   },
   "source": [
    "**Exercise 5.1**: Assign a new `volume` column into the data frame."
   ]
  },
  {
   "cell_type": "code",
   "execution_count": 83,
   "outputs": [
    {
     "data": {
      "text/plain": "          surface  ave_depth  max_depth  shared_canada  temperature  \\\nname                                                                  \nHuron       23000        195        750           True           48   \nOntario      7340        284        802           True           51   \nMichigan    22400        279        923          False           49   \nErie         9900         70        210           True           54   \nSuperior    31700        480       1333           True           43   \n\n          native_name  diff_depth        volume  \nname                                             \nHuron      Karegnondi         555  1.250418e+14  \nOntario   Oniatarí:io         518  5.811753e+13  \nMichigan    Mich gami         644  1.742388e+14  \nErie       Erielhonan         140  1.932084e+13  \nSuperior   Gichi-gami         853  4.242221e+14  ",
      "text/html": "<div>\n<style scoped>\n    .dataframe tbody tr th:only-of-type {\n        vertical-align: middle;\n    }\n\n    .dataframe tbody tr th {\n        vertical-align: top;\n    }\n\n    .dataframe thead th {\n        text-align: right;\n    }\n</style>\n<table border=\"1\" class=\"dataframe\">\n  <thead>\n    <tr style=\"text-align: right;\">\n      <th></th>\n      <th>surface</th>\n      <th>ave_depth</th>\n      <th>max_depth</th>\n      <th>shared_canada</th>\n      <th>temperature</th>\n      <th>native_name</th>\n      <th>diff_depth</th>\n      <th>volume</th>\n    </tr>\n    <tr>\n      <th>name</th>\n      <th></th>\n      <th></th>\n      <th></th>\n      <th></th>\n      <th></th>\n      <th></th>\n      <th></th>\n      <th></th>\n    </tr>\n  </thead>\n  <tbody>\n    <tr>\n      <th>Huron</th>\n      <td>23000</td>\n      <td>195</td>\n      <td>750</td>\n      <td>True</td>\n      <td>48</td>\n      <td>Karegnondi</td>\n      <td>555</td>\n      <td>1.250418e+14</td>\n    </tr>\n    <tr>\n      <th>Ontario</th>\n      <td>7340</td>\n      <td>284</td>\n      <td>802</td>\n      <td>True</td>\n      <td>51</td>\n      <td>Oniatarí:io</td>\n      <td>518</td>\n      <td>5.811753e+13</td>\n    </tr>\n    <tr>\n      <th>Michigan</th>\n      <td>22400</td>\n      <td>279</td>\n      <td>923</td>\n      <td>False</td>\n      <td>49</td>\n      <td>Mich gami</td>\n      <td>644</td>\n      <td>1.742388e+14</td>\n    </tr>\n    <tr>\n      <th>Erie</th>\n      <td>9900</td>\n      <td>70</td>\n      <td>210</td>\n      <td>True</td>\n      <td>54</td>\n      <td>Erielhonan</td>\n      <td>140</td>\n      <td>1.932084e+13</td>\n    </tr>\n    <tr>\n      <th>Superior</th>\n      <td>31700</td>\n      <td>480</td>\n      <td>1333</td>\n      <td>True</td>\n      <td>43</td>\n      <td>Gichi-gami</td>\n      <td>853</td>\n      <td>4.242221e+14</td>\n    </tr>\n  </tbody>\n</table>\n</div>"
     },
     "execution_count": 83,
     "metadata": {},
     "output_type": "execute_result"
    }
   ],
   "source": [
    "df['volume'] = df['ave_depth'] * df['surface'] * 2.788e+7\n",
    "df\n"
   ],
   "metadata": {
    "collapsed": false,
    "pycharm": {
     "name": "#%%\n"
    }
   }
  },
  {
   "cell_type": "markdown",
   "id": "16ce4be0-edd2-4753-b7bb-fd3da94df725",
   "metadata": {
    "pycharm": {
     "name": "#%% md\n"
    }
   },
   "source": [
    "## 6. Boolean indexing\n",
    "How can we easily extract just the lakes that are shared with Canada?\n",
    "\n",
    "This is the trickiest kind of indexing! \n",
    "\n",
    "Using Boolean indexing to get the rows we want involves 2 steps:\n",
    "\n",
    "1. Get/make a Boolean series that is the same dimension as your data frame (so in our cases, same number of lakes), that has True for every row you want to extract.\n",
    "\n",
    "2. Use this boolean series as the `rows`"
   ]
  },
  {
   "cell_type": "code",
   "execution_count": 78,
   "id": "eed3a542-91a5-4f0e-9a8a-7ac95797e952",
   "metadata": {
    "pycharm": {
     "name": "#%%\n"
    }
   },
   "outputs": [
    {
     "name": "stdout",
     "output_type": "stream",
     "text": [
      "name\n",
      "Huron        True\n",
      "Ontario      True\n",
      "Michigan    False\n",
      "Erie         True\n",
      "Superior     True\n",
      "Name: shared_canada, dtype: bool\n"
     ]
    }
   ],
   "source": [
    "row_selector = df['shared_canada']\n",
    "print(row_selector)"
   ]
  },
  {
   "cell_type": "code",
   "execution_count": 79,
   "id": "4d061d1d-2b82-45e4-90d8-e4ca7809f18d",
   "metadata": {
    "pycharm": {
     "name": "#%%\n"
    }
   },
   "outputs": [
    {
     "data": {
      "text/plain": "          surface  ave_depth  max_depth  shared_canada  temperature  \\\nname                                                                  \nHuron       23000        195        750           True           48   \nOntario      7340        284        802           True           51   \nErie         9900         70        210           True           54   \nSuperior    31700        480       1333           True           43   \n\n          native_name  diff_depth        volume  \nname                                             \nHuron      Karegnondi         555  1.250418e+14  \nOntario   Oniatarí:io         518  5.811753e+13  \nErie       Erielhonan         140  1.932084e+13  \nSuperior   Gichi-gami         853  4.242221e+14  ",
      "text/html": "<div>\n<style scoped>\n    .dataframe tbody tr th:only-of-type {\n        vertical-align: middle;\n    }\n\n    .dataframe tbody tr th {\n        vertical-align: top;\n    }\n\n    .dataframe thead th {\n        text-align: right;\n    }\n</style>\n<table border=\"1\" class=\"dataframe\">\n  <thead>\n    <tr style=\"text-align: right;\">\n      <th></th>\n      <th>surface</th>\n      <th>ave_depth</th>\n      <th>max_depth</th>\n      <th>shared_canada</th>\n      <th>temperature</th>\n      <th>native_name</th>\n      <th>diff_depth</th>\n      <th>volume</th>\n    </tr>\n    <tr>\n      <th>name</th>\n      <th></th>\n      <th></th>\n      <th></th>\n      <th></th>\n      <th></th>\n      <th></th>\n      <th></th>\n      <th></th>\n    </tr>\n  </thead>\n  <tbody>\n    <tr>\n      <th>Huron</th>\n      <td>23000</td>\n      <td>195</td>\n      <td>750</td>\n      <td>True</td>\n      <td>48</td>\n      <td>Karegnondi</td>\n      <td>555</td>\n      <td>1.250418e+14</td>\n    </tr>\n    <tr>\n      <th>Ontario</th>\n      <td>7340</td>\n      <td>284</td>\n      <td>802</td>\n      <td>True</td>\n      <td>51</td>\n      <td>Oniatarí:io</td>\n      <td>518</td>\n      <td>5.811753e+13</td>\n    </tr>\n    <tr>\n      <th>Erie</th>\n      <td>9900</td>\n      <td>70</td>\n      <td>210</td>\n      <td>True</td>\n      <td>54</td>\n      <td>Erielhonan</td>\n      <td>140</td>\n      <td>1.932084e+13</td>\n    </tr>\n    <tr>\n      <th>Superior</th>\n      <td>31700</td>\n      <td>480</td>\n      <td>1333</td>\n      <td>True</td>\n      <td>43</td>\n      <td>Gichi-gami</td>\n      <td>853</td>\n      <td>4.242221e+14</td>\n    </tr>\n  </tbody>\n</table>\n</div>"
     },
     "execution_count": 79,
     "metadata": {},
     "output_type": "execute_result"
    }
   ],
   "source": [
    "df.loc[row_selector,:]"
   ]
  },
  {
   "cell_type": "code",
   "execution_count": 81,
   "id": "59977a4e-e7a9-4612-a580-f1bfb5e91cf6",
   "metadata": {
    "pycharm": {
     "name": "#%%\n"
    }
   },
   "outputs": [
    {
     "data": {
      "text/plain": "(5, 8)"
     },
     "execution_count": 81,
     "metadata": {},
     "output_type": "execute_result"
    }
   ],
   "source": [
    "df.shape"
   ]
  },
  {
   "cell_type": "markdown",
   "id": "b1fb4976-b81e-4668-b445-1ce81a67d34b",
   "metadata": {
    "pycharm": {
     "name": "#%% md\n"
    }
   },
   "source": [
    "**Exercise 6.1**: Get the volume of the lakes where temperature is greater than 50, and the volume of lakes where temperature is less than 50."
   ]
  },
  {
   "cell_type": "code",
   "execution_count": 130,
   "outputs": [
    {
     "data": {
      "text/plain": "name\nHuron       1.250418e+14\nOntario     5.811753e+13\nMichigan    1.742388e+14\nErie        1.932084e+13\nSuperior    4.242221e+14\nName: volume, dtype: float64"
     },
     "execution_count": 130,
     "metadata": {},
     "output_type": "execute_result"
    }
   ],
   "source": [
    "row_selector = df['volume'] > 50\n",
    "name = df.loc[row_selector,'volume']\n",
    "name"
   ],
   "metadata": {
    "collapsed": false,
    "pycharm": {
     "name": "#%%\n"
    }
   }
  },
  {
   "cell_type": "markdown",
   "id": "cf6eb05a-297d-4f74-b0ab-6ada1e659c64",
   "metadata": {
    "pycharm": {
     "name": "#%% md\n"
    }
   },
   "source": [
    "**Self check**: Get the depth for lakes *not* shared with canada"
   ]
  },
  {
   "cell_type": "markdown",
   "id": "bdb26907-36cd-4039-ba5b-d102474003b0",
   "metadata": {
    "pycharm": {
     "name": "#%% md\n"
    }
   },
   "source": [
    "## 7. Sorting\n",
    "We can sort by a value which returns another DataFrame, but sorted. I used the named argument `ascending` to go from highest to lowest-- the default is `ascending=True`:"
   ]
  },
  {
   "cell_type": "code",
   "execution_count": null,
   "id": "9f82c6fb-3627-4187-8093-8d10685f01a7",
   "metadata": {
    "pycharm": {
     "name": "#%%\n"
    }
   },
   "outputs": [],
   "source": [
    "df.sort_values(\"surface\", ascending=False)"
   ]
  },
  {
   "cell_type": "code",
   "execution_count": null,
   "id": "36242147-4a57-4a75-a394-806e13cb5cb4",
   "metadata": {
    "pycharm": {
     "name": "#%%\n"
    }
   },
   "outputs": [],
   "source": [
    "df.sort_values(\"max_depth\", ascending=True)"
   ]
  },
  {
   "cell_type": "markdown",
   "id": "1437069b-e3d1-4dea-942c-5e6bca1c1d0c",
   "metadata": {
    "pycharm": {
     "name": "#%% md\n"
    }
   },
   "source": [
    "## 8. Reading in data\n",
    "\n",
    "Obviously we mostly don't type in our data by hand but get it in text files.  We can use another pandas function to load directly from the file **if** the file is formatted correctly.\n",
    "Note that in my case, I have the data in a subdirectory called data that is inside my *current working directory*"
   ]
  },
  {
   "cell_type": "code",
   "execution_count": 107,
   "id": "7ed97373-336f-4cbb-adc2-bec3f9c10141",
   "metadata": {
    "pycharm": {
     "name": "#%%\n"
    }
   },
   "outputs": [
    {
     "data": {
      "text/plain": "              State Name  Adverse Childhood Experiences  Air Pollution  \\\n0                  Maine                           18.2            5.0   \n1          Massachusetts                           10.8            7.0   \n2           Rhode Island                           13.6            7.0   \n3   District of Columbia                           17.5            8.7   \n4               Michigan                           15.5            7.9   \n5          New Hampshire                           14.5            4.3   \n6                Vermont                           18.8            4.9   \n7           Pennsylvania                           14.6            8.5   \n8            Connecticut                           12.1            7.3   \n9               Delaware                           15.5            8.2   \n10                Hawaii                           12.1            4.3   \n11             Minnesota                           12.3            6.8   \n12               Alabama                           16.3            7.8   \n13              New York                           11.1            6.3   \n14              Maryland                           12.9            6.7   \n15        South Carolina                           16.8            7.1   \n16          South Dakota                           17.9            5.1   \n17              Virginia                           13.9            6.5   \n18               Florida                           15.5            7.2   \n19        North Carolina                           13.4            6.6   \n20              Kentucky                           16.9            7.8   \n21             Tennessee                           17.8            7.2   \n22                Oregon                           16.0            9.2   \n23                  Utah                           13.7            7.9   \n24                  Iowa                           16.1            7.5   \n25            Washington                           13.8            8.5   \n26         United States                           14.8            8.3   \n27                  Ohio                           17.5            8.5   \n28              Colorado                           16.7            6.9   \n29             Louisiana                           19.5            7.7   \n30              Nebraska                           13.4            6.2   \n31          North Dakota                           15.2            4.8   \n32              Missouri                           14.5            7.5   \n33            New Jersey                           10.2            7.7   \n34                Nevada                           13.4            9.3   \n35               Georgia                           17.0            7.8   \n36              Arkansas                           22.5            7.2   \n37               Indiana                           17.4            8.7   \n38           Mississippi                           18.3            8.1   \n39         West Virginia                           20.6            7.1   \n40                Alaska                           18.9            6.8   \n41                Kansas                           16.0            7.6   \n42               Montana                           23.0            5.5   \n43               Arizona                           17.3            9.1   \n44              Illinois                           11.3            9.6   \n45            New Mexico                           22.3            6.1   \n46                 Idaho                           15.5            6.1   \n47             Wisconsin                           15.1            7.2   \n48                 Texas                           15.2            8.5   \n49              Oklahoma                           17.5            8.4   \n50               Wyoming                           23.4            4.2   \n51            California                           13.1           13.3   \n\n    Arthritis  Asthma  Avoided Care Due to Cost  Behaviors  Binge Drinking  \\\n0        29.0    10.6                       9.4      0.587            14.4   \n1        23.8    10.7                       8.3      0.680            15.8   \n2        24.2    12.1                       8.3      0.271            15.1   \n3        16.3    10.4                       7.0        NaN            22.7   \n4        30.1    11.0                       7.9     -0.094            17.4   \n5        25.0    11.5                       9.0      0.919            16.0   \n6        25.9    10.8                       7.7      1.179            17.6   \n7        28.6    10.2                       7.8     -0.149            16.8   \n8        22.4    10.6                       7.6      0.733            14.3   \n9        26.7    10.8                       9.3     -0.177            14.3   \n10       20.7     8.8                       6.0      0.302            15.7   \n11       22.0     8.5                       8.0      0.928            18.4   \n12       33.3     9.0                      13.1     -1.194            13.2   \n13       20.9     9.5                       8.8      0.228            14.7   \n14       23.1     8.9                       8.7      0.434            12.3   \n15       30.7     9.4                      12.6     -0.752            15.7   \n16       24.7     8.1                       8.3     -0.065            17.9   \n17       24.5     8.6                      10.4      0.334            14.8   \n18       24.0     7.3                      14.0      0.008            13.5   \n19       25.4     7.8                      11.5     -0.453            14.1   \n20       32.2    11.5                       9.7     -1.339            14.4   \n21       29.6    10.3                      11.8     -0.554            14.1   \n22       23.3    10.6                       9.8      0.715            16.2   \n23       21.0    10.8                      10.4      1.049            11.3   \n24       24.4     9.1                       7.3     -0.050            21.5   \n25       23.5     9.6                       8.9      0.624            15.4   \n26       24.5     9.6                       9.8        NaN            15.7   \n27       28.2     9.9                       9.0     -0.615            16.3   \n28       21.0     9.6                      10.6      0.820            17.9   \n29       27.3     7.8                      11.6     -1.374            18.6   \n30       22.8     7.8                       9.3      0.399            20.4   \n31       22.6     8.6                       7.4     -0.238            20.8   \n32       28.3     9.3                      12.2     -0.599            16.8   \n33       20.9     8.7                      10.5      0.606            15.2   \n34       24.9     9.5                      11.1     -0.532            17.2   \n35       24.3     9.0                      15.1     -0.435            13.9   \n36       29.5     9.1                      12.9     -1.097            14.4   \n37       26.9     9.6                      10.4     -0.400            15.7   \n38       30.4     8.9                      13.9     -1.358            13.4   \n39       38.0    12.4                      11.1     -0.889            11.2   \n40       21.6     8.9                      10.5     -0.009            17.8   \n41       24.5     9.8                      10.4     -0.148            17.0   \n42       26.2    10.6                       9.0      0.398            19.7   \n43       22.8     9.6                      11.7      0.189            14.3   \n44       24.4     8.5                      10.3     -0.068            13.0   \n45       25.4    10.1                       9.6     -0.204            14.2   \n46       22.9     9.4                      10.6      0.501            14.4   \n47       24.8    10.2                       8.3      0.468            22.8   \n48       20.9     7.4                      15.2      0.132            16.4   \n49       26.2    10.8                      14.6     -0.930            11.6   \n50       23.1    10.0                      11.1      0.044            16.4   \n51       19.7     9.3                       8.6      0.420            16.0   \n\n    Cancer  Cannabis Use  ...  Total Population  Transportation Energy Use  \\\n0      8.1          30.0  ...           1350141                        7.9   \n1      7.0          22.9  ...           6893574                        7.0   \n2      6.8          25.4  ...           1057125                        5.6   \n3      5.0          28.2  ...            712816                        3.1   \n4      7.6          27.8  ...           9966555                        7.8   \n5      7.6          20.8  ...           1366275                        7.6   \n6      7.0          12.6  ...            623347                        7.4   \n7      7.9          22.1  ...          12783254                        7.2   \n8      7.4          19.2  ...           3557006                        6.6   \n9      7.4          21.6  ...            986809                        8.7   \n10     5.8          23.3  ...           1407006                       12.3   \n11     6.6          15.1  ...           5657342                        8.9   \n12     7.3          18.7  ...           4921532                       10.1   \n13     6.2          20.2  ...          19336776                        6.2   \n14     6.8          18.9  ...           6055802                        7.7   \n15     7.5          17.4  ...           5218040                        9.2   \n16     8.4          13.0  ...            892717                       11.1   \n17     7.2          18.0  ...           8590563                        9.1   \n18     6.8          22.9  ...          21733312                        8.1   \n19     6.5          20.3  ...          10600823                        7.9   \n20     7.0          20.9  ...           4477251                       11.2   \n21     7.5          18.1  ...           6886834                        9.8   \n22     7.1          36.6  ...           4241507                        7.4   \n23     5.5          20.4  ...           3249879                        8.5   \n24     6.5          23.0  ...           3163561                        9.7   \n25     7.0          30.8  ...           7693612                        8.9   \n26     6.8          22.3  ...         329484123                        8.7   \n27     7.2          22.5  ...          11693217                        7.6   \n28     6.5          31.9  ...           5807719                        8.0   \n29     6.5          15.8  ...           4645318                       13.3   \n30     6.6          16.0  ...           1937552                       10.7   \n31     6.6          10.7  ...            765309                       17.2   \n32     7.2          23.2  ...           6151548                        9.2   \n33     6.0          17.7  ...           8882371                        8.1   \n34     6.1          44.1  ...           3138259                        8.9   \n35     6.1          23.2  ...          10710017                        8.9   \n36     7.6          18.8  ...           3030522                        9.5   \n37     7.1          19.1  ...           6754953                        8.5   \n38     6.7          15.6  ...           2966786                       11.5   \n39     7.8          26.2  ...           1784787                       10.3   \n40     5.9          26.8  ...            731158                       22.3   \n41     6.4          18.9  ...           2913805                        9.8   \n42     7.2          24.7  ...           1080577                       10.9   \n43     6.4          31.0  ...           7421401                        7.7   \n44     6.0          23.9  ...          12587530                        8.0   \n45     5.4          24.3  ...           2106319                       11.0   \n46     6.0          19.5  ...           1826913                        9.3   \n47     6.8          16.2  ...           5832655                        7.8   \n48     4.8          17.2  ...          29360759                       11.5   \n49     6.8          29.1  ...           3980783                       11.7   \n50     7.3          16.9  ...            582328                       20.0   \n51     5.7          25.0  ...          39368078                        7.8   \n\n    Unemployment  Uninsured  Violent Crime  Volunteerism  \\\n0            3.5        8.0            115          38.5   \n1            4.0        3.0            328          33.6   \n2            4.4        4.1            221          28.3   \n3            6.4        3.5           1049          40.7   \n4            5.1        5.8            437          34.5   \n5            3.0        6.3            153          36.7   \n6            3.5        4.5            202          39.2   \n7            4.6        5.8            306          36.8   \n8            5.4        5.9            184          35.3   \n9            4.7        6.6            423          34.2   \n10           4.0        4.2            286          32.5   \n11           3.2        4.9            236          42.7   \n12           5.1        9.7            511          28.7   \n13           4.5        5.2            359          25.0   \n14           4.6        6.0            454          37.0   \n15           4.8       10.8            511          33.1   \n16           3.2       10.2            399          50.7   \n17           4.1        7.9            208          37.2   \n18           4.6       13.2            378          26.3   \n19           4.7       11.3            372          33.3   \n20           4.9        6.4            217          27.4   \n21           4.7       10.1            595          33.0   \n22           5.1        7.2            284          39.5   \n23           3.2        9.7            236          51.2   \n24           3.9        5.0            267          35.0   \n25           4.7        6.6            294          34.6   \n26           4.6        9.2            379          33.4   \n27           4.7        6.6            293          39.0   \n28           3.7        8.0            381          44.6   \n29           5.6        8.9            549          28.2   \n30           3.4        8.3            301          45.9   \n31           2.8        6.9            285          35.4   \n32           3.9       10.0            495          37.3   \n33           4.8        7.9            207          28.5   \n34           5.1       11.4            494          25.8   \n35           4.9       13.4            341          29.2   \n36           5.0        9.1            585          34.4   \n37           4.3        8.7            371          36.7   \n38           6.8       13.0            278          26.6   \n39           6.2        6.7            317          32.1   \n40           5.8       12.2            867          38.2   \n41           3.9        9.2            411          35.9   \n42           4.2        8.3            405          39.5   \n43           5.1       11.3            455          28.6   \n44           5.0        7.4            407          36.8   \n45           5.6       10.0            832          30.4   \n46           3.4       10.8            224          36.8   \n47           3.3        5.7            293          38.7   \n48           4.4       18.4            419          29.0   \n49           4.5       14.3            432          28.4   \n50           3.7       12.3            217          32.6   \n51           5.2        7.7            441          27.5   \n\n    Voter Participation (Average)  Voter Participation (Midterm)  \\\n0                            68.5                           65.6   \n1                            60.9                           55.5   \n2                            59.0                           51.6   \n3                            72.6                           61.1   \n4                            63.2                           59.5   \n5                            65.1                           56.2   \n6                            61.7                           54.9   \n7                            62.4                           54.6   \n8                            60.3                           54.0   \n9                            59.8                           51.8   \n10                           54.2                           44.0   \n11                           70.5                           63.0   \n12                           55.6                           50.7   \n13                           57.1                           49.5   \n14                           63.9                           54.2   \n15                           56.1                           48.7   \n16                           55.2                           51.9   \n17                           64.5                           57.5   \n18                           57.4                           52.6   \n19                           58.6                           52.4   \n20                           61.2                           53.8   \n21                           58.0                           49.6   \n22                           67.6                           61.1   \n23                           60.6                           57.6   \n24                           65.1                           59.6   \n25                           66.7                           61.9   \n26                           60.1                           53.4   \n27                           61.3                           52.5   \n28                           62.9                           58.1   \n29                           55.9                           49.8   \n30                           58.0                           50.8   \n31                           64.5                           61.9   \n32                           60.9                           55.0   \n33                           66.2                           54.0   \n34                           55.1                           48.7   \n35                           61.0                           55.9   \n36                           48.3                           42.6   \n37                           55.2                           49.3   \n38                           62.3                           54.2   \n39                           50.1                           44.1   \n40                           58.3                           52.8   \n41                           61.3                           56.9   \n42                           68.7                           63.8   \n43                           65.4                           58.9   \n44                           60.7                           53.0   \n45                           55.4                           48.1   \n46                           56.4                           47.9   \n47                           69.1                           64.6   \n48                           56.2                           48.4   \n49                           53.9                           49.4   \n50                           58.8                           52.1   \n51                           58.5                           51.9   \n\n    Voter Participation (Presidential)  Water Fluoridation  \n0                                 71.3                79.3  \n1                                 66.3                57.3  \n2                                 66.3                83.2  \n3                                 84.0               100.0  \n4                                 66.9                89.5  \n5                                 74.0                46.7  \n6                                 68.4                56.2  \n7                                 70.2                55.7  \n8                                 66.6                89.5  \n9                                 67.7                85.9  \n10                                64.3                 8.8  \n11                                77.9                98.8  \n12                                60.5                78.0  \n13                                64.7                71.5  \n14                                73.6                93.7  \n15                                63.4                91.9  \n16                                58.5                93.7  \n17                                71.5                96.3  \n18                                62.1                77.8  \n19                                64.7                87.6  \n20                                68.5                99.8  \n21                                66.4                88.8  \n22                                74.1                26.3  \n23                                63.6                52.2  \n24                                70.5                90.3  \n25                                71.5                63.9  \n26                                66.8                73.0  \n27                                70.1                92.5  \n28                                67.6                74.9  \n29                                61.9                39.0  \n30                                65.2                71.6  \n31                                67.1                96.5  \n32                                66.8                75.6  \n33                                78.3                16.2  \n34                                61.5                75.0  \n35                                66.1                95.2  \n36                                54.0                85.4  \n37                                61.0                92.4  \n38                                70.3                60.7  \n39                                56.1                90.7  \n40                                63.8                49.6  \n41                                65.7                65.1  \n42                                73.5                30.7  \n43                                71.9                58.0  \n44                                68.4                98.2  \n45                                62.6                76.7  \n46                                64.9                31.7  \n47                                73.6                87.3  \n48                                63.9                72.7  \n49                                58.3                67.5  \n50                                65.5                57.1  \n51                                65.1                59.3  \n\n[52 rows x 100 columns]",
      "text/html": "<div>\n<style scoped>\n    .dataframe tbody tr th:only-of-type {\n        vertical-align: middle;\n    }\n\n    .dataframe tbody tr th {\n        vertical-align: top;\n    }\n\n    .dataframe thead th {\n        text-align: right;\n    }\n</style>\n<table border=\"1\" class=\"dataframe\">\n  <thead>\n    <tr style=\"text-align: right;\">\n      <th></th>\n      <th>State Name</th>\n      <th>Adverse Childhood Experiences</th>\n      <th>Air Pollution</th>\n      <th>Arthritis</th>\n      <th>Asthma</th>\n      <th>Avoided Care Due to Cost</th>\n      <th>Behaviors</th>\n      <th>Binge Drinking</th>\n      <th>Cancer</th>\n      <th>Cannabis Use</th>\n      <th>...</th>\n      <th>Total Population</th>\n      <th>Transportation Energy Use</th>\n      <th>Unemployment</th>\n      <th>Uninsured</th>\n      <th>Violent Crime</th>\n      <th>Volunteerism</th>\n      <th>Voter Participation (Average)</th>\n      <th>Voter Participation (Midterm)</th>\n      <th>Voter Participation (Presidential)</th>\n      <th>Water Fluoridation</th>\n    </tr>\n  </thead>\n  <tbody>\n    <tr>\n      <th>0</th>\n      <td>Maine</td>\n      <td>18.2</td>\n      <td>5.0</td>\n      <td>29.0</td>\n      <td>10.6</td>\n      <td>9.4</td>\n      <td>0.587</td>\n      <td>14.4</td>\n      <td>8.1</td>\n      <td>30.0</td>\n      <td>...</td>\n      <td>1350141</td>\n      <td>7.9</td>\n      <td>3.5</td>\n      <td>8.0</td>\n      <td>115</td>\n      <td>38.5</td>\n      <td>68.5</td>\n      <td>65.6</td>\n      <td>71.3</td>\n      <td>79.3</td>\n    </tr>\n    <tr>\n      <th>1</th>\n      <td>Massachusetts</td>\n      <td>10.8</td>\n      <td>7.0</td>\n      <td>23.8</td>\n      <td>10.7</td>\n      <td>8.3</td>\n      <td>0.680</td>\n      <td>15.8</td>\n      <td>7.0</td>\n      <td>22.9</td>\n      <td>...</td>\n      <td>6893574</td>\n      <td>7.0</td>\n      <td>4.0</td>\n      <td>3.0</td>\n      <td>328</td>\n      <td>33.6</td>\n      <td>60.9</td>\n      <td>55.5</td>\n      <td>66.3</td>\n      <td>57.3</td>\n    </tr>\n    <tr>\n      <th>2</th>\n      <td>Rhode Island</td>\n      <td>13.6</td>\n      <td>7.0</td>\n      <td>24.2</td>\n      <td>12.1</td>\n      <td>8.3</td>\n      <td>0.271</td>\n      <td>15.1</td>\n      <td>6.8</td>\n      <td>25.4</td>\n      <td>...</td>\n      <td>1057125</td>\n      <td>5.6</td>\n      <td>4.4</td>\n      <td>4.1</td>\n      <td>221</td>\n      <td>28.3</td>\n      <td>59.0</td>\n      <td>51.6</td>\n      <td>66.3</td>\n      <td>83.2</td>\n    </tr>\n    <tr>\n      <th>3</th>\n      <td>District of Columbia</td>\n      <td>17.5</td>\n      <td>8.7</td>\n      <td>16.3</td>\n      <td>10.4</td>\n      <td>7.0</td>\n      <td>NaN</td>\n      <td>22.7</td>\n      <td>5.0</td>\n      <td>28.2</td>\n      <td>...</td>\n      <td>712816</td>\n      <td>3.1</td>\n      <td>6.4</td>\n      <td>3.5</td>\n      <td>1049</td>\n      <td>40.7</td>\n      <td>72.6</td>\n      <td>61.1</td>\n      <td>84.0</td>\n      <td>100.0</td>\n    </tr>\n    <tr>\n      <th>4</th>\n      <td>Michigan</td>\n      <td>15.5</td>\n      <td>7.9</td>\n      <td>30.1</td>\n      <td>11.0</td>\n      <td>7.9</td>\n      <td>-0.094</td>\n      <td>17.4</td>\n      <td>7.6</td>\n      <td>27.8</td>\n      <td>...</td>\n      <td>9966555</td>\n      <td>7.8</td>\n      <td>5.1</td>\n      <td>5.8</td>\n      <td>437</td>\n      <td>34.5</td>\n      <td>63.2</td>\n      <td>59.5</td>\n      <td>66.9</td>\n      <td>89.5</td>\n    </tr>\n    <tr>\n      <th>5</th>\n      <td>New Hampshire</td>\n      <td>14.5</td>\n      <td>4.3</td>\n      <td>25.0</td>\n      <td>11.5</td>\n      <td>9.0</td>\n      <td>0.919</td>\n      <td>16.0</td>\n      <td>7.6</td>\n      <td>20.8</td>\n      <td>...</td>\n      <td>1366275</td>\n      <td>7.6</td>\n      <td>3.0</td>\n      <td>6.3</td>\n      <td>153</td>\n      <td>36.7</td>\n      <td>65.1</td>\n      <td>56.2</td>\n      <td>74.0</td>\n      <td>46.7</td>\n    </tr>\n    <tr>\n      <th>6</th>\n      <td>Vermont</td>\n      <td>18.8</td>\n      <td>4.9</td>\n      <td>25.9</td>\n      <td>10.8</td>\n      <td>7.7</td>\n      <td>1.179</td>\n      <td>17.6</td>\n      <td>7.0</td>\n      <td>12.6</td>\n      <td>...</td>\n      <td>623347</td>\n      <td>7.4</td>\n      <td>3.5</td>\n      <td>4.5</td>\n      <td>202</td>\n      <td>39.2</td>\n      <td>61.7</td>\n      <td>54.9</td>\n      <td>68.4</td>\n      <td>56.2</td>\n    </tr>\n    <tr>\n      <th>7</th>\n      <td>Pennsylvania</td>\n      <td>14.6</td>\n      <td>8.5</td>\n      <td>28.6</td>\n      <td>10.2</td>\n      <td>7.8</td>\n      <td>-0.149</td>\n      <td>16.8</td>\n      <td>7.9</td>\n      <td>22.1</td>\n      <td>...</td>\n      <td>12783254</td>\n      <td>7.2</td>\n      <td>4.6</td>\n      <td>5.8</td>\n      <td>306</td>\n      <td>36.8</td>\n      <td>62.4</td>\n      <td>54.6</td>\n      <td>70.2</td>\n      <td>55.7</td>\n    </tr>\n    <tr>\n      <th>8</th>\n      <td>Connecticut</td>\n      <td>12.1</td>\n      <td>7.3</td>\n      <td>22.4</td>\n      <td>10.6</td>\n      <td>7.6</td>\n      <td>0.733</td>\n      <td>14.3</td>\n      <td>7.4</td>\n      <td>19.2</td>\n      <td>...</td>\n      <td>3557006</td>\n      <td>6.6</td>\n      <td>5.4</td>\n      <td>5.9</td>\n      <td>184</td>\n      <td>35.3</td>\n      <td>60.3</td>\n      <td>54.0</td>\n      <td>66.6</td>\n      <td>89.5</td>\n    </tr>\n    <tr>\n      <th>9</th>\n      <td>Delaware</td>\n      <td>15.5</td>\n      <td>8.2</td>\n      <td>26.7</td>\n      <td>10.8</td>\n      <td>9.3</td>\n      <td>-0.177</td>\n      <td>14.3</td>\n      <td>7.4</td>\n      <td>21.6</td>\n      <td>...</td>\n      <td>986809</td>\n      <td>8.7</td>\n      <td>4.7</td>\n      <td>6.6</td>\n      <td>423</td>\n      <td>34.2</td>\n      <td>59.8</td>\n      <td>51.8</td>\n      <td>67.7</td>\n      <td>85.9</td>\n    </tr>\n    <tr>\n      <th>10</th>\n      <td>Hawaii</td>\n      <td>12.1</td>\n      <td>4.3</td>\n      <td>20.7</td>\n      <td>8.8</td>\n      <td>6.0</td>\n      <td>0.302</td>\n      <td>15.7</td>\n      <td>5.8</td>\n      <td>23.3</td>\n      <td>...</td>\n      <td>1407006</td>\n      <td>12.3</td>\n      <td>4.0</td>\n      <td>4.2</td>\n      <td>286</td>\n      <td>32.5</td>\n      <td>54.2</td>\n      <td>44.0</td>\n      <td>64.3</td>\n      <td>8.8</td>\n    </tr>\n    <tr>\n      <th>11</th>\n      <td>Minnesota</td>\n      <td>12.3</td>\n      <td>6.8</td>\n      <td>22.0</td>\n      <td>8.5</td>\n      <td>8.0</td>\n      <td>0.928</td>\n      <td>18.4</td>\n      <td>6.6</td>\n      <td>15.1</td>\n      <td>...</td>\n      <td>5657342</td>\n      <td>8.9</td>\n      <td>3.2</td>\n      <td>4.9</td>\n      <td>236</td>\n      <td>42.7</td>\n      <td>70.5</td>\n      <td>63.0</td>\n      <td>77.9</td>\n      <td>98.8</td>\n    </tr>\n    <tr>\n      <th>12</th>\n      <td>Alabama</td>\n      <td>16.3</td>\n      <td>7.8</td>\n      <td>33.3</td>\n      <td>9.0</td>\n      <td>13.1</td>\n      <td>-1.194</td>\n      <td>13.2</td>\n      <td>7.3</td>\n      <td>18.7</td>\n      <td>...</td>\n      <td>4921532</td>\n      <td>10.1</td>\n      <td>5.1</td>\n      <td>9.7</td>\n      <td>511</td>\n      <td>28.7</td>\n      <td>55.6</td>\n      <td>50.7</td>\n      <td>60.5</td>\n      <td>78.0</td>\n    </tr>\n    <tr>\n      <th>13</th>\n      <td>New York</td>\n      <td>11.1</td>\n      <td>6.3</td>\n      <td>20.9</td>\n      <td>9.5</td>\n      <td>8.8</td>\n      <td>0.228</td>\n      <td>14.7</td>\n      <td>6.2</td>\n      <td>20.2</td>\n      <td>...</td>\n      <td>19336776</td>\n      <td>6.2</td>\n      <td>4.5</td>\n      <td>5.2</td>\n      <td>359</td>\n      <td>25.0</td>\n      <td>57.1</td>\n      <td>49.5</td>\n      <td>64.7</td>\n      <td>71.5</td>\n    </tr>\n    <tr>\n      <th>14</th>\n      <td>Maryland</td>\n      <td>12.9</td>\n      <td>6.7</td>\n      <td>23.1</td>\n      <td>8.9</td>\n      <td>8.7</td>\n      <td>0.434</td>\n      <td>12.3</td>\n      <td>6.8</td>\n      <td>18.9</td>\n      <td>...</td>\n      <td>6055802</td>\n      <td>7.7</td>\n      <td>4.6</td>\n      <td>6.0</td>\n      <td>454</td>\n      <td>37.0</td>\n      <td>63.9</td>\n      <td>54.2</td>\n      <td>73.6</td>\n      <td>93.7</td>\n    </tr>\n    <tr>\n      <th>15</th>\n      <td>South Carolina</td>\n      <td>16.8</td>\n      <td>7.1</td>\n      <td>30.7</td>\n      <td>9.4</td>\n      <td>12.6</td>\n      <td>-0.752</td>\n      <td>15.7</td>\n      <td>7.5</td>\n      <td>17.4</td>\n      <td>...</td>\n      <td>5218040</td>\n      <td>9.2</td>\n      <td>4.8</td>\n      <td>10.8</td>\n      <td>511</td>\n      <td>33.1</td>\n      <td>56.1</td>\n      <td>48.7</td>\n      <td>63.4</td>\n      <td>91.9</td>\n    </tr>\n    <tr>\n      <th>16</th>\n      <td>South Dakota</td>\n      <td>17.9</td>\n      <td>5.1</td>\n      <td>24.7</td>\n      <td>8.1</td>\n      <td>8.3</td>\n      <td>-0.065</td>\n      <td>17.9</td>\n      <td>8.4</td>\n      <td>13.0</td>\n      <td>...</td>\n      <td>892717</td>\n      <td>11.1</td>\n      <td>3.2</td>\n      <td>10.2</td>\n      <td>399</td>\n      <td>50.7</td>\n      <td>55.2</td>\n      <td>51.9</td>\n      <td>58.5</td>\n      <td>93.7</td>\n    </tr>\n    <tr>\n      <th>17</th>\n      <td>Virginia</td>\n      <td>13.9</td>\n      <td>6.5</td>\n      <td>24.5</td>\n      <td>8.6</td>\n      <td>10.4</td>\n      <td>0.334</td>\n      <td>14.8</td>\n      <td>7.2</td>\n      <td>18.0</td>\n      <td>...</td>\n      <td>8590563</td>\n      <td>9.1</td>\n      <td>4.1</td>\n      <td>7.9</td>\n      <td>208</td>\n      <td>37.2</td>\n      <td>64.5</td>\n      <td>57.5</td>\n      <td>71.5</td>\n      <td>96.3</td>\n    </tr>\n    <tr>\n      <th>18</th>\n      <td>Florida</td>\n      <td>15.5</td>\n      <td>7.2</td>\n      <td>24.0</td>\n      <td>7.3</td>\n      <td>14.0</td>\n      <td>0.008</td>\n      <td>13.5</td>\n      <td>6.8</td>\n      <td>22.9</td>\n      <td>...</td>\n      <td>21733312</td>\n      <td>8.1</td>\n      <td>4.6</td>\n      <td>13.2</td>\n      <td>378</td>\n      <td>26.3</td>\n      <td>57.4</td>\n      <td>52.6</td>\n      <td>62.1</td>\n      <td>77.8</td>\n    </tr>\n    <tr>\n      <th>19</th>\n      <td>North Carolina</td>\n      <td>13.4</td>\n      <td>6.6</td>\n      <td>25.4</td>\n      <td>7.8</td>\n      <td>11.5</td>\n      <td>-0.453</td>\n      <td>14.1</td>\n      <td>6.5</td>\n      <td>20.3</td>\n      <td>...</td>\n      <td>10600823</td>\n      <td>7.9</td>\n      <td>4.7</td>\n      <td>11.3</td>\n      <td>372</td>\n      <td>33.3</td>\n      <td>58.6</td>\n      <td>52.4</td>\n      <td>64.7</td>\n      <td>87.6</td>\n    </tr>\n    <tr>\n      <th>20</th>\n      <td>Kentucky</td>\n      <td>16.9</td>\n      <td>7.8</td>\n      <td>32.2</td>\n      <td>11.5</td>\n      <td>9.7</td>\n      <td>-1.339</td>\n      <td>14.4</td>\n      <td>7.0</td>\n      <td>20.9</td>\n      <td>...</td>\n      <td>4477251</td>\n      <td>11.2</td>\n      <td>4.9</td>\n      <td>6.4</td>\n      <td>217</td>\n      <td>27.4</td>\n      <td>61.2</td>\n      <td>53.8</td>\n      <td>68.5</td>\n      <td>99.8</td>\n    </tr>\n    <tr>\n      <th>21</th>\n      <td>Tennessee</td>\n      <td>17.8</td>\n      <td>7.2</td>\n      <td>29.6</td>\n      <td>10.3</td>\n      <td>11.8</td>\n      <td>-0.554</td>\n      <td>14.1</td>\n      <td>7.5</td>\n      <td>18.1</td>\n      <td>...</td>\n      <td>6886834</td>\n      <td>9.8</td>\n      <td>4.7</td>\n      <td>10.1</td>\n      <td>595</td>\n      <td>33.0</td>\n      <td>58.0</td>\n      <td>49.6</td>\n      <td>66.4</td>\n      <td>88.8</td>\n    </tr>\n    <tr>\n      <th>22</th>\n      <td>Oregon</td>\n      <td>16.0</td>\n      <td>9.2</td>\n      <td>23.3</td>\n      <td>10.6</td>\n      <td>9.8</td>\n      <td>0.715</td>\n      <td>16.2</td>\n      <td>7.1</td>\n      <td>36.6</td>\n      <td>...</td>\n      <td>4241507</td>\n      <td>7.4</td>\n      <td>5.1</td>\n      <td>7.2</td>\n      <td>284</td>\n      <td>39.5</td>\n      <td>67.6</td>\n      <td>61.1</td>\n      <td>74.1</td>\n      <td>26.3</td>\n    </tr>\n    <tr>\n      <th>23</th>\n      <td>Utah</td>\n      <td>13.7</td>\n      <td>7.9</td>\n      <td>21.0</td>\n      <td>10.8</td>\n      <td>10.4</td>\n      <td>1.049</td>\n      <td>11.3</td>\n      <td>5.5</td>\n      <td>20.4</td>\n      <td>...</td>\n      <td>3249879</td>\n      <td>8.5</td>\n      <td>3.2</td>\n      <td>9.7</td>\n      <td>236</td>\n      <td>51.2</td>\n      <td>60.6</td>\n      <td>57.6</td>\n      <td>63.6</td>\n      <td>52.2</td>\n    </tr>\n    <tr>\n      <th>24</th>\n      <td>Iowa</td>\n      <td>16.1</td>\n      <td>7.5</td>\n      <td>24.4</td>\n      <td>9.1</td>\n      <td>7.3</td>\n      <td>-0.050</td>\n      <td>21.5</td>\n      <td>6.5</td>\n      <td>23.0</td>\n      <td>...</td>\n      <td>3163561</td>\n      <td>9.7</td>\n      <td>3.9</td>\n      <td>5.0</td>\n      <td>267</td>\n      <td>35.0</td>\n      <td>65.1</td>\n      <td>59.6</td>\n      <td>70.5</td>\n      <td>90.3</td>\n    </tr>\n    <tr>\n      <th>25</th>\n      <td>Washington</td>\n      <td>13.8</td>\n      <td>8.5</td>\n      <td>23.5</td>\n      <td>9.6</td>\n      <td>8.9</td>\n      <td>0.624</td>\n      <td>15.4</td>\n      <td>7.0</td>\n      <td>30.8</td>\n      <td>...</td>\n      <td>7693612</td>\n      <td>8.9</td>\n      <td>4.7</td>\n      <td>6.6</td>\n      <td>294</td>\n      <td>34.6</td>\n      <td>66.7</td>\n      <td>61.9</td>\n      <td>71.5</td>\n      <td>63.9</td>\n    </tr>\n    <tr>\n      <th>26</th>\n      <td>United States</td>\n      <td>14.8</td>\n      <td>8.3</td>\n      <td>24.5</td>\n      <td>9.6</td>\n      <td>9.8</td>\n      <td>NaN</td>\n      <td>15.7</td>\n      <td>6.8</td>\n      <td>22.3</td>\n      <td>...</td>\n      <td>329484123</td>\n      <td>8.7</td>\n      <td>4.6</td>\n      <td>9.2</td>\n      <td>379</td>\n      <td>33.4</td>\n      <td>60.1</td>\n      <td>53.4</td>\n      <td>66.8</td>\n      <td>73.0</td>\n    </tr>\n    <tr>\n      <th>27</th>\n      <td>Ohio</td>\n      <td>17.5</td>\n      <td>8.5</td>\n      <td>28.2</td>\n      <td>9.9</td>\n      <td>9.0</td>\n      <td>-0.615</td>\n      <td>16.3</td>\n      <td>7.2</td>\n      <td>22.5</td>\n      <td>...</td>\n      <td>11693217</td>\n      <td>7.6</td>\n      <td>4.7</td>\n      <td>6.6</td>\n      <td>293</td>\n      <td>39.0</td>\n      <td>61.3</td>\n      <td>52.5</td>\n      <td>70.1</td>\n      <td>92.5</td>\n    </tr>\n    <tr>\n      <th>28</th>\n      <td>Colorado</td>\n      <td>16.7</td>\n      <td>6.9</td>\n      <td>21.0</td>\n      <td>9.6</td>\n      <td>10.6</td>\n      <td>0.820</td>\n      <td>17.9</td>\n      <td>6.5</td>\n      <td>31.9</td>\n      <td>...</td>\n      <td>5807719</td>\n      <td>8.0</td>\n      <td>3.7</td>\n      <td>8.0</td>\n      <td>381</td>\n      <td>44.6</td>\n      <td>62.9</td>\n      <td>58.1</td>\n      <td>67.6</td>\n      <td>74.9</td>\n    </tr>\n    <tr>\n      <th>29</th>\n      <td>Louisiana</td>\n      <td>19.5</td>\n      <td>7.7</td>\n      <td>27.3</td>\n      <td>7.8</td>\n      <td>11.6</td>\n      <td>-1.374</td>\n      <td>18.6</td>\n      <td>6.5</td>\n      <td>15.8</td>\n      <td>...</td>\n      <td>4645318</td>\n      <td>13.3</td>\n      <td>5.6</td>\n      <td>8.9</td>\n      <td>549</td>\n      <td>28.2</td>\n      <td>55.9</td>\n      <td>49.8</td>\n      <td>61.9</td>\n      <td>39.0</td>\n    </tr>\n    <tr>\n      <th>30</th>\n      <td>Nebraska</td>\n      <td>13.4</td>\n      <td>6.2</td>\n      <td>22.8</td>\n      <td>7.8</td>\n      <td>9.3</td>\n      <td>0.399</td>\n      <td>20.4</td>\n      <td>6.6</td>\n      <td>16.0</td>\n      <td>...</td>\n      <td>1937552</td>\n      <td>10.7</td>\n      <td>3.4</td>\n      <td>8.3</td>\n      <td>301</td>\n      <td>45.9</td>\n      <td>58.0</td>\n      <td>50.8</td>\n      <td>65.2</td>\n      <td>71.6</td>\n    </tr>\n    <tr>\n      <th>31</th>\n      <td>North Dakota</td>\n      <td>15.2</td>\n      <td>4.8</td>\n      <td>22.6</td>\n      <td>8.6</td>\n      <td>7.4</td>\n      <td>-0.238</td>\n      <td>20.8</td>\n      <td>6.6</td>\n      <td>10.7</td>\n      <td>...</td>\n      <td>765309</td>\n      <td>17.2</td>\n      <td>2.8</td>\n      <td>6.9</td>\n      <td>285</td>\n      <td>35.4</td>\n      <td>64.5</td>\n      <td>61.9</td>\n      <td>67.1</td>\n      <td>96.5</td>\n    </tr>\n    <tr>\n      <th>32</th>\n      <td>Missouri</td>\n      <td>14.5</td>\n      <td>7.5</td>\n      <td>28.3</td>\n      <td>9.3</td>\n      <td>12.2</td>\n      <td>-0.599</td>\n      <td>16.8</td>\n      <td>7.2</td>\n      <td>23.2</td>\n      <td>...</td>\n      <td>6151548</td>\n      <td>9.2</td>\n      <td>3.9</td>\n      <td>10.0</td>\n      <td>495</td>\n      <td>37.3</td>\n      <td>60.9</td>\n      <td>55.0</td>\n      <td>66.8</td>\n      <td>75.6</td>\n    </tr>\n    <tr>\n      <th>33</th>\n      <td>New Jersey</td>\n      <td>10.2</td>\n      <td>7.7</td>\n      <td>20.9</td>\n      <td>8.7</td>\n      <td>10.5</td>\n      <td>0.606</td>\n      <td>15.2</td>\n      <td>6.0</td>\n      <td>17.7</td>\n      <td>...</td>\n      <td>8882371</td>\n      <td>8.1</td>\n      <td>4.8</td>\n      <td>7.9</td>\n      <td>207</td>\n      <td>28.5</td>\n      <td>66.2</td>\n      <td>54.0</td>\n      <td>78.3</td>\n      <td>16.2</td>\n    </tr>\n    <tr>\n      <th>34</th>\n      <td>Nevada</td>\n      <td>13.4</td>\n      <td>9.3</td>\n      <td>24.9</td>\n      <td>9.5</td>\n      <td>11.1</td>\n      <td>-0.532</td>\n      <td>17.2</td>\n      <td>6.1</td>\n      <td>44.1</td>\n      <td>...</td>\n      <td>3138259</td>\n      <td>8.9</td>\n      <td>5.1</td>\n      <td>11.4</td>\n      <td>494</td>\n      <td>25.8</td>\n      <td>55.1</td>\n      <td>48.7</td>\n      <td>61.5</td>\n      <td>75.0</td>\n    </tr>\n    <tr>\n      <th>35</th>\n      <td>Georgia</td>\n      <td>17.0</td>\n      <td>7.8</td>\n      <td>24.3</td>\n      <td>9.0</td>\n      <td>15.1</td>\n      <td>-0.435</td>\n      <td>13.9</td>\n      <td>6.1</td>\n      <td>23.2</td>\n      <td>...</td>\n      <td>10710017</td>\n      <td>8.9</td>\n      <td>4.9</td>\n      <td>13.4</td>\n      <td>341</td>\n      <td>29.2</td>\n      <td>61.0</td>\n      <td>55.9</td>\n      <td>66.1</td>\n      <td>95.2</td>\n    </tr>\n    <tr>\n      <th>36</th>\n      <td>Arkansas</td>\n      <td>22.5</td>\n      <td>7.2</td>\n      <td>29.5</td>\n      <td>9.1</td>\n      <td>12.9</td>\n      <td>-1.097</td>\n      <td>14.4</td>\n      <td>7.6</td>\n      <td>18.8</td>\n      <td>...</td>\n      <td>3030522</td>\n      <td>9.5</td>\n      <td>5.0</td>\n      <td>9.1</td>\n      <td>585</td>\n      <td>34.4</td>\n      <td>48.3</td>\n      <td>42.6</td>\n      <td>54.0</td>\n      <td>85.4</td>\n    </tr>\n    <tr>\n      <th>37</th>\n      <td>Indiana</td>\n      <td>17.4</td>\n      <td>8.7</td>\n      <td>26.9</td>\n      <td>9.6</td>\n      <td>10.4</td>\n      <td>-0.400</td>\n      <td>15.7</td>\n      <td>7.1</td>\n      <td>19.1</td>\n      <td>...</td>\n      <td>6754953</td>\n      <td>8.5</td>\n      <td>4.3</td>\n      <td>8.7</td>\n      <td>371</td>\n      <td>36.7</td>\n      <td>55.2</td>\n      <td>49.3</td>\n      <td>61.0</td>\n      <td>92.4</td>\n    </tr>\n    <tr>\n      <th>38</th>\n      <td>Mississippi</td>\n      <td>18.3</td>\n      <td>8.1</td>\n      <td>30.4</td>\n      <td>8.9</td>\n      <td>13.9</td>\n      <td>-1.358</td>\n      <td>13.4</td>\n      <td>6.7</td>\n      <td>15.6</td>\n      <td>...</td>\n      <td>2966786</td>\n      <td>11.5</td>\n      <td>6.8</td>\n      <td>13.0</td>\n      <td>278</td>\n      <td>26.6</td>\n      <td>62.3</td>\n      <td>54.2</td>\n      <td>70.3</td>\n      <td>60.7</td>\n    </tr>\n    <tr>\n      <th>39</th>\n      <td>West Virginia</td>\n      <td>20.6</td>\n      <td>7.1</td>\n      <td>38.0</td>\n      <td>12.4</td>\n      <td>11.1</td>\n      <td>-0.889</td>\n      <td>11.2</td>\n      <td>7.8</td>\n      <td>26.2</td>\n      <td>...</td>\n      <td>1784787</td>\n      <td>10.3</td>\n      <td>6.2</td>\n      <td>6.7</td>\n      <td>317</td>\n      <td>32.1</td>\n      <td>50.1</td>\n      <td>44.1</td>\n      <td>56.1</td>\n      <td>90.7</td>\n    </tr>\n    <tr>\n      <th>40</th>\n      <td>Alaska</td>\n      <td>18.9</td>\n      <td>6.8</td>\n      <td>21.6</td>\n      <td>8.9</td>\n      <td>10.5</td>\n      <td>-0.009</td>\n      <td>17.8</td>\n      <td>5.9</td>\n      <td>26.8</td>\n      <td>...</td>\n      <td>731158</td>\n      <td>22.3</td>\n      <td>5.8</td>\n      <td>12.2</td>\n      <td>867</td>\n      <td>38.2</td>\n      <td>58.3</td>\n      <td>52.8</td>\n      <td>63.8</td>\n      <td>49.6</td>\n    </tr>\n    <tr>\n      <th>41</th>\n      <td>Kansas</td>\n      <td>16.0</td>\n      <td>7.6</td>\n      <td>24.5</td>\n      <td>9.8</td>\n      <td>10.4</td>\n      <td>-0.148</td>\n      <td>17.0</td>\n      <td>6.4</td>\n      <td>18.9</td>\n      <td>...</td>\n      <td>2913805</td>\n      <td>9.8</td>\n      <td>3.9</td>\n      <td>9.2</td>\n      <td>411</td>\n      <td>35.9</td>\n      <td>61.3</td>\n      <td>56.9</td>\n      <td>65.7</td>\n      <td>65.1</td>\n    </tr>\n    <tr>\n      <th>42</th>\n      <td>Montana</td>\n      <td>23.0</td>\n      <td>5.5</td>\n      <td>26.2</td>\n      <td>10.6</td>\n      <td>9.0</td>\n      <td>0.398</td>\n      <td>19.7</td>\n      <td>7.2</td>\n      <td>24.7</td>\n      <td>...</td>\n      <td>1080577</td>\n      <td>10.9</td>\n      <td>4.2</td>\n      <td>8.3</td>\n      <td>405</td>\n      <td>39.5</td>\n      <td>68.7</td>\n      <td>63.8</td>\n      <td>73.5</td>\n      <td>30.7</td>\n    </tr>\n    <tr>\n      <th>43</th>\n      <td>Arizona</td>\n      <td>17.3</td>\n      <td>9.1</td>\n      <td>22.8</td>\n      <td>9.6</td>\n      <td>11.7</td>\n      <td>0.189</td>\n      <td>14.3</td>\n      <td>6.4</td>\n      <td>31.0</td>\n      <td>...</td>\n      <td>7421401</td>\n      <td>7.7</td>\n      <td>5.1</td>\n      <td>11.3</td>\n      <td>455</td>\n      <td>28.6</td>\n      <td>65.4</td>\n      <td>58.9</td>\n      <td>71.9</td>\n      <td>58.0</td>\n    </tr>\n    <tr>\n      <th>44</th>\n      <td>Illinois</td>\n      <td>11.3</td>\n      <td>9.6</td>\n      <td>24.4</td>\n      <td>8.5</td>\n      <td>10.3</td>\n      <td>-0.068</td>\n      <td>13.0</td>\n      <td>6.0</td>\n      <td>23.9</td>\n      <td>...</td>\n      <td>12587530</td>\n      <td>8.0</td>\n      <td>5.0</td>\n      <td>7.4</td>\n      <td>407</td>\n      <td>36.8</td>\n      <td>60.7</td>\n      <td>53.0</td>\n      <td>68.4</td>\n      <td>98.2</td>\n    </tr>\n    <tr>\n      <th>45</th>\n      <td>New Mexico</td>\n      <td>22.3</td>\n      <td>6.1</td>\n      <td>25.4</td>\n      <td>10.1</td>\n      <td>9.6</td>\n      <td>-0.204</td>\n      <td>14.2</td>\n      <td>5.4</td>\n      <td>24.3</td>\n      <td>...</td>\n      <td>2106319</td>\n      <td>11.0</td>\n      <td>5.6</td>\n      <td>10.0</td>\n      <td>832</td>\n      <td>30.4</td>\n      <td>55.4</td>\n      <td>48.1</td>\n      <td>62.6</td>\n      <td>76.7</td>\n    </tr>\n    <tr>\n      <th>46</th>\n      <td>Idaho</td>\n      <td>15.5</td>\n      <td>6.1</td>\n      <td>22.9</td>\n      <td>9.4</td>\n      <td>10.6</td>\n      <td>0.501</td>\n      <td>14.4</td>\n      <td>6.0</td>\n      <td>19.5</td>\n      <td>...</td>\n      <td>1826913</td>\n      <td>9.3</td>\n      <td>3.4</td>\n      <td>10.8</td>\n      <td>224</td>\n      <td>36.8</td>\n      <td>56.4</td>\n      <td>47.9</td>\n      <td>64.9</td>\n      <td>31.7</td>\n    </tr>\n    <tr>\n      <th>47</th>\n      <td>Wisconsin</td>\n      <td>15.1</td>\n      <td>7.2</td>\n      <td>24.8</td>\n      <td>10.2</td>\n      <td>8.3</td>\n      <td>0.468</td>\n      <td>22.8</td>\n      <td>6.8</td>\n      <td>16.2</td>\n      <td>...</td>\n      <td>5832655</td>\n      <td>7.8</td>\n      <td>3.3</td>\n      <td>5.7</td>\n      <td>293</td>\n      <td>38.7</td>\n      <td>69.1</td>\n      <td>64.6</td>\n      <td>73.6</td>\n      <td>87.3</td>\n    </tr>\n    <tr>\n      <th>48</th>\n      <td>Texas</td>\n      <td>15.2</td>\n      <td>8.5</td>\n      <td>20.9</td>\n      <td>7.4</td>\n      <td>15.2</td>\n      <td>0.132</td>\n      <td>16.4</td>\n      <td>4.8</td>\n      <td>17.2</td>\n      <td>...</td>\n      <td>29360759</td>\n      <td>11.5</td>\n      <td>4.4</td>\n      <td>18.4</td>\n      <td>419</td>\n      <td>29.0</td>\n      <td>56.2</td>\n      <td>48.4</td>\n      <td>63.9</td>\n      <td>72.7</td>\n    </tr>\n    <tr>\n      <th>49</th>\n      <td>Oklahoma</td>\n      <td>17.5</td>\n      <td>8.4</td>\n      <td>26.2</td>\n      <td>10.8</td>\n      <td>14.6</td>\n      <td>-0.930</td>\n      <td>11.6</td>\n      <td>6.8</td>\n      <td>29.1</td>\n      <td>...</td>\n      <td>3980783</td>\n      <td>11.7</td>\n      <td>4.5</td>\n      <td>14.3</td>\n      <td>432</td>\n      <td>28.4</td>\n      <td>53.9</td>\n      <td>49.4</td>\n      <td>58.3</td>\n      <td>67.5</td>\n    </tr>\n    <tr>\n      <th>50</th>\n      <td>Wyoming</td>\n      <td>23.4</td>\n      <td>4.2</td>\n      <td>23.1</td>\n      <td>10.0</td>\n      <td>11.1</td>\n      <td>0.044</td>\n      <td>16.4</td>\n      <td>7.3</td>\n      <td>16.9</td>\n      <td>...</td>\n      <td>582328</td>\n      <td>20.0</td>\n      <td>3.7</td>\n      <td>12.3</td>\n      <td>217</td>\n      <td>32.6</td>\n      <td>58.8</td>\n      <td>52.1</td>\n      <td>65.5</td>\n      <td>57.1</td>\n    </tr>\n    <tr>\n      <th>51</th>\n      <td>California</td>\n      <td>13.1</td>\n      <td>13.3</td>\n      <td>19.7</td>\n      <td>9.3</td>\n      <td>8.6</td>\n      <td>0.420</td>\n      <td>16.0</td>\n      <td>5.7</td>\n      <td>25.0</td>\n      <td>...</td>\n      <td>39368078</td>\n      <td>7.8</td>\n      <td>5.2</td>\n      <td>7.7</td>\n      <td>441</td>\n      <td>27.5</td>\n      <td>58.5</td>\n      <td>51.9</td>\n      <td>65.1</td>\n      <td>59.3</td>\n    </tr>\n  </tbody>\n</table>\n<p>52 rows × 100 columns</p>\n</div>"
     },
     "execution_count": 107,
     "metadata": {},
     "output_type": "execute_result"
    }
   ],
   "source": [
    "states = pd.read_csv(\"state_health.csv\")\n",
    "states"
   ]
  },
  {
   "cell_type": "markdown",
   "id": "43d9f38d-bcf2-43cf-a592-d961fa17160f",
   "metadata": {
    "pycharm": {
     "name": "#%% md\n"
    }
   },
   "source": [
    "### 8.1 Exploring the data\n",
    "\n",
    "How do I get the number of rows and columns in the  data? type below:"
   ]
  },
  {
   "cell_type": "code",
   "execution_count": 141,
   "outputs": [
    {
     "name": "stdout",
     "output_type": "stream",
     "text": [
      "State Name\n",
      "Massachusetts    11.1\n",
      "Maryland         10.9\n",
      "Utah              8.2\n",
      "New Jersey       10.8\n",
      "California        8.9\n",
      "Name: Smoking, dtype: float64\n"
     ]
    }
   ],
   "source": [
    "import pandas as pd\n",
    "states = pd.read_csv(\"state_health.csv\")\n",
    "states.set_index('State Name', inplace=True)\n",
    "# I reset my jupiter notebook this return me to the defult state (pun intended)\n",
    "# I challenged myself to do it in one line\n",
    "\n",
    "print(states.loc[(states['Smoking'] <= states.loc['Massachusetts', 'Smoking']), 'Smoking'])\n",
    "# this function set large, so I'll break it down step by step\n",
    "    # print(...) the print function\n",
    "    # states.loc[..., 'smoking'] this calls the rows and columns (in this case its only 'smoking') we will take from the DataFrame 'states'\n",
    "    # states['Smoking'] <= states.loc['Massachusetts', 'Smoking'] this grabs the rows that have less or equal smoking to Massachusetts\n",
    "        # states['Smoking'] grabs the column smoking.\n",
    "        # <= less than or equal to comparison.\n",
    "        # states.loc['Massachusetts', 'Smoking'] grabs only the value of Smoking from Massachusetts."
   ],
   "metadata": {
    "collapsed": false,
    "pycharm": {
     "name": "#%%\n"
    }
   }
  },
  {
   "cell_type": "code",
   "execution_count": null,
   "outputs": [],
   "source": [],
   "metadata": {
    "collapsed": false,
    "pycharm": {
     "name": "#%%\n"
    }
   }
  },
  {
   "cell_type": "code",
   "execution_count": null,
   "outputs": [],
   "source": [],
   "metadata": {
    "collapsed": false,
    "pycharm": {
     "name": "#%%\n"
    }
   }
  },
  {
   "cell_type": "code",
   "execution_count": null,
   "outputs": [],
   "source": [],
   "metadata": {
    "collapsed": false,
    "pycharm": {
     "name": "#%%\n"
    }
   }
  },
  {
   "cell_type": "code",
   "execution_count": null,
   "outputs": [],
   "source": [],
   "metadata": {
    "collapsed": false,
    "pycharm": {
     "name": "#%%\n"
    }
   }
  },
  {
   "cell_type": "code",
   "execution_count": null,
   "outputs": [],
   "source": [],
   "metadata": {
    "collapsed": false,
    "pycharm": {
     "name": "#%%\n"
    }
   }
  },
  {
   "cell_type": "code",
   "execution_count": 117,
   "id": "7f031f60-3456-4a6e-98c3-84ec0ddb426a",
   "metadata": {
    "pycharm": {
     "name": "#%%\n"
    }
   },
   "outputs": [
    {
     "name": "stdout",
     "output_type": "stream",
     "text": [
      "(52, 99)\n"
     ]
    },
    {
     "ename": "KeyError",
     "evalue": "\"None of ['State Name'] are in the columns\"",
     "output_type": "error",
     "traceback": [
      "\u001B[0;31m---------------------------------------------------------------------------\u001B[0m",
      "\u001B[0;31mKeyError\u001B[0m                                  Traceback (most recent call last)",
      "Input \u001B[0;32mIn [117]\u001B[0m, in \u001B[0;36m<cell line: 3>\u001B[0;34m()\u001B[0m\n\u001B[1;32m      1\u001B[0m \u001B[38;5;28mprint\u001B[39m(states\u001B[38;5;241m.\u001B[39mshape)\n\u001B[0;32m----> 3\u001B[0m \u001B[43mstates\u001B[49m\u001B[38;5;241;43m.\u001B[39;49m\u001B[43mset_index\u001B[49m\u001B[43m(\u001B[49m\u001B[38;5;124;43m'\u001B[39;49m\u001B[38;5;124;43mState Name\u001B[39;49m\u001B[38;5;124;43m'\u001B[39;49m\u001B[43m,\u001B[49m\u001B[43m \u001B[49m\u001B[43minplace\u001B[49m\u001B[38;5;241;43m=\u001B[39;49m\u001B[38;5;28;43;01mTrue\u001B[39;49;00m\u001B[43m)\u001B[49m\n\u001B[1;32m      4\u001B[0m states\n",
      "File \u001B[0;32m~/opt/anaconda3/lib/python3.9/site-packages/pandas/util/_decorators.py:311\u001B[0m, in \u001B[0;36mdeprecate_nonkeyword_arguments.<locals>.decorate.<locals>.wrapper\u001B[0;34m(*args, **kwargs)\u001B[0m\n\u001B[1;32m    305\u001B[0m \u001B[38;5;28;01mif\u001B[39;00m \u001B[38;5;28mlen\u001B[39m(args) \u001B[38;5;241m>\u001B[39m num_allow_args:\n\u001B[1;32m    306\u001B[0m     warnings\u001B[38;5;241m.\u001B[39mwarn(\n\u001B[1;32m    307\u001B[0m         msg\u001B[38;5;241m.\u001B[39mformat(arguments\u001B[38;5;241m=\u001B[39marguments),\n\u001B[1;32m    308\u001B[0m         \u001B[38;5;167;01mFutureWarning\u001B[39;00m,\n\u001B[1;32m    309\u001B[0m         stacklevel\u001B[38;5;241m=\u001B[39mstacklevel,\n\u001B[1;32m    310\u001B[0m     )\n\u001B[0;32m--> 311\u001B[0m \u001B[38;5;28;01mreturn\u001B[39;00m \u001B[43mfunc\u001B[49m\u001B[43m(\u001B[49m\u001B[38;5;241;43m*\u001B[39;49m\u001B[43margs\u001B[49m\u001B[43m,\u001B[49m\u001B[43m \u001B[49m\u001B[38;5;241;43m*\u001B[39;49m\u001B[38;5;241;43m*\u001B[39;49m\u001B[43mkwargs\u001B[49m\u001B[43m)\u001B[49m\n",
      "File \u001B[0;32m~/opt/anaconda3/lib/python3.9/site-packages/pandas/core/frame.py:5494\u001B[0m, in \u001B[0;36mDataFrame.set_index\u001B[0;34m(self, keys, drop, append, inplace, verify_integrity)\u001B[0m\n\u001B[1;32m   5491\u001B[0m                 missing\u001B[38;5;241m.\u001B[39mappend(col)\n\u001B[1;32m   5493\u001B[0m \u001B[38;5;28;01mif\u001B[39;00m missing:\n\u001B[0;32m-> 5494\u001B[0m     \u001B[38;5;28;01mraise\u001B[39;00m \u001B[38;5;167;01mKeyError\u001B[39;00m(\u001B[38;5;124mf\u001B[39m\u001B[38;5;124m\"\u001B[39m\u001B[38;5;124mNone of \u001B[39m\u001B[38;5;132;01m{\u001B[39;00mmissing\u001B[38;5;132;01m}\u001B[39;00m\u001B[38;5;124m are in the columns\u001B[39m\u001B[38;5;124m\"\u001B[39m)\n\u001B[1;32m   5496\u001B[0m \u001B[38;5;28;01mif\u001B[39;00m inplace:\n\u001B[1;32m   5497\u001B[0m     frame \u001B[38;5;241m=\u001B[39m \u001B[38;5;28mself\u001B[39m\n",
      "\u001B[0;31mKeyError\u001B[0m: \"None of ['State Name'] are in the columns\""
     ]
    }
   ],
   "source": [
    "print(states.shape)\n",
    "\n",
    "states.set_index('State Name', inplace=True)\n",
    "states"
   ]
  },
  {
   "cell_type": "code",
   "execution_count": null,
   "outputs": [],
   "source": [],
   "metadata": {
    "collapsed": false,
    "pycharm": {
     "name": "#%%\n"
    }
   }
  },
  {
   "cell_type": "code",
   "execution_count": null,
   "outputs": [],
   "source": [],
   "metadata": {
    "collapsed": false,
    "pycharm": {
     "name": "#%%\n"
    }
   }
  },
  {
   "cell_type": "markdown",
   "id": "45214087-9357-4c78-b382-2fbab531ad71",
   "metadata": {
    "pycharm": {
     "name": "#%% md\n"
    }
   },
   "source": [
    "The next step after we load in some data into our notebook is to start looking at it to understand what we have. Just like with command line we have head and tail to look at our data, but now they are *functions*. It's prettier in Jupyter. "
   ]
  },
  {
   "cell_type": "code",
   "execution_count": 112,
   "id": "19018a0d-bcd6-4723-9c27-8ee5a386c4e4",
   "metadata": {
    "pycharm": {
     "name": "#%%\n"
    }
   },
   "outputs": [
    {
     "data": {
      "text/plain": "             State Name  Adverse Childhood Experiences  Air Pollution  \\\n0                 Maine                           18.2            5.0   \n1         Massachusetts                           10.8            7.0   \n2          Rhode Island                           13.6            7.0   \n3  District of Columbia                           17.5            8.7   \n4              Michigan                           15.5            7.9   \n\n   Arthritis  Asthma  Avoided Care Due to Cost  Behaviors  Binge Drinking  \\\n0       29.0    10.6                       9.4      0.587            14.4   \n1       23.8    10.7                       8.3      0.680            15.8   \n2       24.2    12.1                       8.3      0.271            15.1   \n3       16.3    10.4                       7.0        NaN            22.7   \n4       30.1    11.0                       7.9     -0.094            17.4   \n\n   Cancer  Cannabis Use  ...  Total Population  Transportation Energy Use  \\\n0     8.1          30.0  ...           1350141                        7.9   \n1     7.0          22.9  ...           6893574                        7.0   \n2     6.8          25.4  ...           1057125                        5.6   \n3     5.0          28.2  ...            712816                        3.1   \n4     7.6          27.8  ...           9966555                        7.8   \n\n   Unemployment  Uninsured  Violent Crime  Volunteerism  \\\n0           3.5        8.0            115          38.5   \n1           4.0        3.0            328          33.6   \n2           4.4        4.1            221          28.3   \n3           6.4        3.5           1049          40.7   \n4           5.1        5.8            437          34.5   \n\n   Voter Participation (Average)  Voter Participation (Midterm)  \\\n0                           68.5                           65.6   \n1                           60.9                           55.5   \n2                           59.0                           51.6   \n3                           72.6                           61.1   \n4                           63.2                           59.5   \n\n   Voter Participation (Presidential)  Water Fluoridation  \n0                                71.3                79.3  \n1                                66.3                57.3  \n2                                66.3                83.2  \n3                                84.0               100.0  \n4                                66.9                89.5  \n\n[5 rows x 100 columns]",
      "text/html": "<div>\n<style scoped>\n    .dataframe tbody tr th:only-of-type {\n        vertical-align: middle;\n    }\n\n    .dataframe tbody tr th {\n        vertical-align: top;\n    }\n\n    .dataframe thead th {\n        text-align: right;\n    }\n</style>\n<table border=\"1\" class=\"dataframe\">\n  <thead>\n    <tr style=\"text-align: right;\">\n      <th></th>\n      <th>State Name</th>\n      <th>Adverse Childhood Experiences</th>\n      <th>Air Pollution</th>\n      <th>Arthritis</th>\n      <th>Asthma</th>\n      <th>Avoided Care Due to Cost</th>\n      <th>Behaviors</th>\n      <th>Binge Drinking</th>\n      <th>Cancer</th>\n      <th>Cannabis Use</th>\n      <th>...</th>\n      <th>Total Population</th>\n      <th>Transportation Energy Use</th>\n      <th>Unemployment</th>\n      <th>Uninsured</th>\n      <th>Violent Crime</th>\n      <th>Volunteerism</th>\n      <th>Voter Participation (Average)</th>\n      <th>Voter Participation (Midterm)</th>\n      <th>Voter Participation (Presidential)</th>\n      <th>Water Fluoridation</th>\n    </tr>\n  </thead>\n  <tbody>\n    <tr>\n      <th>0</th>\n      <td>Maine</td>\n      <td>18.2</td>\n      <td>5.0</td>\n      <td>29.0</td>\n      <td>10.6</td>\n      <td>9.4</td>\n      <td>0.587</td>\n      <td>14.4</td>\n      <td>8.1</td>\n      <td>30.0</td>\n      <td>...</td>\n      <td>1350141</td>\n      <td>7.9</td>\n      <td>3.5</td>\n      <td>8.0</td>\n      <td>115</td>\n      <td>38.5</td>\n      <td>68.5</td>\n      <td>65.6</td>\n      <td>71.3</td>\n      <td>79.3</td>\n    </tr>\n    <tr>\n      <th>1</th>\n      <td>Massachusetts</td>\n      <td>10.8</td>\n      <td>7.0</td>\n      <td>23.8</td>\n      <td>10.7</td>\n      <td>8.3</td>\n      <td>0.680</td>\n      <td>15.8</td>\n      <td>7.0</td>\n      <td>22.9</td>\n      <td>...</td>\n      <td>6893574</td>\n      <td>7.0</td>\n      <td>4.0</td>\n      <td>3.0</td>\n      <td>328</td>\n      <td>33.6</td>\n      <td>60.9</td>\n      <td>55.5</td>\n      <td>66.3</td>\n      <td>57.3</td>\n    </tr>\n    <tr>\n      <th>2</th>\n      <td>Rhode Island</td>\n      <td>13.6</td>\n      <td>7.0</td>\n      <td>24.2</td>\n      <td>12.1</td>\n      <td>8.3</td>\n      <td>0.271</td>\n      <td>15.1</td>\n      <td>6.8</td>\n      <td>25.4</td>\n      <td>...</td>\n      <td>1057125</td>\n      <td>5.6</td>\n      <td>4.4</td>\n      <td>4.1</td>\n      <td>221</td>\n      <td>28.3</td>\n      <td>59.0</td>\n      <td>51.6</td>\n      <td>66.3</td>\n      <td>83.2</td>\n    </tr>\n    <tr>\n      <th>3</th>\n      <td>District of Columbia</td>\n      <td>17.5</td>\n      <td>8.7</td>\n      <td>16.3</td>\n      <td>10.4</td>\n      <td>7.0</td>\n      <td>NaN</td>\n      <td>22.7</td>\n      <td>5.0</td>\n      <td>28.2</td>\n      <td>...</td>\n      <td>712816</td>\n      <td>3.1</td>\n      <td>6.4</td>\n      <td>3.5</td>\n      <td>1049</td>\n      <td>40.7</td>\n      <td>72.6</td>\n      <td>61.1</td>\n      <td>84.0</td>\n      <td>100.0</td>\n    </tr>\n    <tr>\n      <th>4</th>\n      <td>Michigan</td>\n      <td>15.5</td>\n      <td>7.9</td>\n      <td>30.1</td>\n      <td>11.0</td>\n      <td>7.9</td>\n      <td>-0.094</td>\n      <td>17.4</td>\n      <td>7.6</td>\n      <td>27.8</td>\n      <td>...</td>\n      <td>9966555</td>\n      <td>7.8</td>\n      <td>5.1</td>\n      <td>5.8</td>\n      <td>437</td>\n      <td>34.5</td>\n      <td>63.2</td>\n      <td>59.5</td>\n      <td>66.9</td>\n      <td>89.5</td>\n    </tr>\n  </tbody>\n</table>\n<p>5 rows × 100 columns</p>\n</div>"
     },
     "execution_count": 112,
     "metadata": {},
     "output_type": "execute_result"
    }
   ],
   "source": [
    "states.head()"
   ]
  },
  {
   "cell_type": "markdown",
   "id": "24d5cc5c-29d6-45aa-82ed-951519b3a16e",
   "metadata": {
    "pycharm": {
     "name": "#%% md\n"
    }
   },
   "source": [
    "**Discuss**: what is this data? what are the observations and features?"
   ]
  },
  {
   "cell_type": "markdown",
   "id": "2b213dc8-f894-4181-ac99-f0cfac13320b",
   "metadata": {
    "pycharm": {
     "name": "#%% md\n"
    }
   },
   "source": [
    "**Discuss**: How can I set the row names (index) to be the state name instead of the numbers"
   ]
  },
  {
   "cell_type": "markdown",
   "id": "a65d7349-e195-4590-bca7-5e45ccee393f",
   "metadata": {
    "pycharm": {
     "name": "#%% md\n"
    }
   },
   "source": [
    "### 8.2 Get a subset of the data for your research question\n",
    "\n",
    "Pick a set of 5 or so columns your group is interested in. "
   ]
  },
  {
   "cell_type": "markdown",
   "id": "8e3a7357-28f9-4a68-aed6-5ff34c686d19",
   "metadata": {
    "pycharm": {
     "name": "#%% md\n"
    }
   },
   "source": [
    "**Exercise 8.2.1**: \n",
    "A. Get a list of all of the characteristics we have for each state."
   ]
  },
  {
   "cell_type": "code",
   "execution_count": 115,
   "outputs": [
    {
     "data": {
      "text/plain": "Index(['Adverse Childhood Experiences', 'Air Pollution', 'Arthritis', 'Asthma',\n       'Avoided Care Due to Cost', 'Behaviors', 'Binge Drinking', 'Cancer',\n       'Cannabis Use', 'Cardiovascular Diseases', 'Childhood Immunizations',\n       'Chlamydia', 'Chronic Kidney Disease',\n       'Chronic Obstructive Pulmonary Disease', 'Climate Change Policies',\n       'Clinical Care', 'Colorectal Cancer Screening', 'Crowded Housing',\n       'Dedicated Health Care Provider', 'Dental Care Providers',\n       'Dental Visit', 'Dependency', 'Depression', 'Diabetes',\n       'Discrimination', 'Domestic violence', 'Drinking Water Violations',\n       'Drive Alone to Work', 'Drug Deaths', 'E-cigarette Use',\n       'Economic Hardship Index', 'Excessive Drinking', 'Exercise',\n       'Flu Vaccination', 'Food Insecurity',\n       'Fourth Grade Reading Proficiency', 'Frequent Mental Distress',\n       'Frequent Physical Distress', 'Fruit and Vegetable Consumption',\n       'HPV Vaccination', 'Health Outcomes', 'Heavy Drinking',\n       'High Blood Pressure', 'High Cholesterol', 'High Health Status',\n       'High School Graduation', 'High School Graduation Racial Disparity',\n       'High-risk HIV Behaviors', 'High-speed Internet', 'Homeownership',\n       'Homeownership Racial Disparity', 'Housing With Lead Risk',\n       'Illicit Drug Use (excluding opioids and cannabis)',\n       'Illicit Opioid Use', 'Income Inequality', 'Insufficient Sleep',\n       'Low Birthweight', 'Low Birthweight Racial Disparity',\n       'Mental Health Providers', 'Mental illness',\n       'Multiple Chronic Conditions', 'Neighborhood violence',\n       'Non-medical Use of Prescription Drugs (excluding opioids and cannabis)',\n       'Non-medical Use of Prescription Opioids', 'Non-smoking Regulation',\n       'Obesity', 'Occupational Fatalities', 'Parent or guardian death',\n       'Parent or guardian divorce or separation',\n       'Parent or guardian time in jail', 'Per Capita Income',\n       'Physical Environment', 'Physical Inactivity',\n       'Population-Children (Under age 18)', 'Poverty', 'Premature Death',\n       'Premature Death (three-year estimate)',\n       'Premature Death Racial Disparity', 'Preventable Hospitalizations',\n       'Primary Care Providers', 'Public Health Funding',\n       'Risk-screening Environmental Indicator Score', 'Rural Population',\n       'Severe Housing Problems', 'Smoking', 'Social and Economic Factors',\n       'Substance misuse', 'Suicide', 'Teen Births', 'Total Population',\n       'Transportation Energy Use', 'Unemployment', 'Uninsured',\n       'Violent Crime', 'Volunteerism', 'Voter Participation (Average)',\n       'Voter Participation (Midterm)', 'Voter Participation (Presidential)',\n       'Water Fluoridation'],\n      dtype='object')"
     },
     "execution_count": 115,
     "metadata": {},
     "output_type": "execute_result"
    }
   ],
   "source": [
    "states.columns"
   ],
   "metadata": {
    "collapsed": false,
    "pycharm": {
     "name": "#%%\n"
    }
   }
  },
  {
   "cell_type": "markdown",
   "id": "0c195a0c-50fa-4f36-9e3c-be32bfb896bb",
   "metadata": {
    "pycharm": {
     "name": "#%% md\n"
    }
   },
   "source": [
    "B. Select out only those columns and store the smaller data frame into a new variable"
   ]
  },
  {
   "cell_type": "code",
   "execution_count": 119,
   "outputs": [
    {
     "data": {
      "text/plain": "                      Mental illness  Per Capita Income  Insufficient Sleep  \\\nState Name                                                                    \nMaine                           14.4              34078                30.5   \nMassachusetts                    8.5              46241                31.1   \nRhode Island                     7.9              37525                32.5   \nDistrict of Columbia             5.3              59808                30.1   \nMichigan                         9.3              32892                34.2   \nNew Hampshire                   10.5              41241                30.1   \nVermont                         11.4              35702                28.2   \nPennsylvania                     9.1              35804                35.5   \nConnecticut                      6.9              45359                32.1   \nDelaware                         7.7              36858                33.2   \nHawaii                           6.4              36989                39.4   \nMinnesota                        8.5              39025                27.0   \nAlabama                          7.6              28650                38.3   \nNew York                         6.8              41857                32.9   \nMaryland                         7.3              43325                33.6   \nSouth Carolina                   6.5              31295                33.7   \nSouth Dakota                     9.7              31550                28.1   \nVirginia                         7.7              40635                33.6   \nFlorida                          7.1              32887                32.9   \nNorth Carolina                   8.4              32021                31.6   \nKentucky                         9.2              29029                38.6   \nTennessee                        7.2              31224                33.7   \nOregon                          11.7              35531                28.3   \nUtah                            14.3              31771                30.9   \nIowa                            11.6              33107                30.6   \nWashington                      11.2              41521                29.7   \nUnited States                    8.5              35672                32.3   \nOhio                            10.2              32780                35.5   \nColorado                        11.6              41053                26.8   \nLouisiana                        8.6              28662                36.0   \nNebraska                         8.5              33272                28.2   \nNorth Dakota                    11.2              36611                30.1   \nMissouri                         8.5              31756                33.0   \nNew Jersey                       5.1              44888                32.3   \nNevada                           6.6              33575                35.1   \nGeorgia                          6.7              32657                35.8   \nArkansas                         9.4              27274                35.0   \nIndiana                          9.9              30988                34.9   \nMississippi                      8.3              25301                35.0   \nWest Virginia                   10.4              27446                39.2   \nAlaska                          11.7              36978                31.8   \nKansas                          11.5              32885                32.0   \nMontana                         14.1              32625                28.9   \nArizona                         10.7              32173                32.7   \nIllinois                         6.3              37728                31.1   \nNew Mexico                      10.4              28423                30.5   \nIdaho                           12.7              29606                29.3   \nWisconsin                        9.5              34568                30.0   \nTexas                            9.5              32267                33.2   \nOklahoma                         8.6              29666                33.2   \nWyoming                         14.6              34104                31.7   \nCalifornia                       7.4              39393                31.2   \n\n                      Exercise  Health Outcomes  \nState Name                                       \nMaine                     20.2            0.294  \nMassachusetts             22.2            0.819  \nRhode Island              24.1            0.394  \nDistrict of Columbia      27.2              NaN  \nMichigan                  23.3           -0.470  \nNew Hampshire             26.4            0.523  \nVermont                   28.5            0.600  \nPennsylvania              21.8           -0.185  \nConnecticut               26.1            0.663  \nDelaware                  23.8           -0.069  \nHawaii                    24.8            0.801  \nMinnesota                 25.5            0.345  \nAlabama                   17.6           -0.857  \nNew York                  24.1            0.479  \nMaryland                  24.0            0.477  \nSouth Carolina            23.0           -0.673  \nSouth Dakota              21.8            0.266  \nVirginia                  22.7            0.322  \nFlorida                   27.0            0.170  \nNorth Carolina            21.6           -0.116  \nKentucky                  15.3           -0.813  \nTennessee                 21.8           -0.577  \nOregon                    24.9            0.264  \nUtah                      24.9            0.486  \nIowa                      20.0           -0.006  \nWashington                25.9            0.391  \nUnited States             23.0              NaN  \nOhio                      20.9           -0.351  \nColorado                  27.4            0.337  \nLouisiana                 19.7           -1.063  \nNebraska                  20.9            0.098  \nNorth Dakota              20.1            0.108  \nMissouri                  17.1           -0.581  \nNew Jersey                21.9            0.538  \nNevada                    20.0           -0.411  \nGeorgia                   24.1           -0.266  \nArkansas                  19.3           -0.798  \nIndiana                   21.1           -0.261  \nMississippi               15.7           -0.622  \nWest Virginia             17.1           -0.834  \nAlaska                    25.6            0.059  \nKansas                    20.8           -0.142  \nMontana                   28.3            0.020  \nArizona                   25.5            0.062  \nIllinois                  23.4            0.303  \nNew Mexico                25.7           -0.318  \nIdaho                     21.7            0.639  \nWisconsin                 24.7           -0.098  \nTexas                     24.3            0.119  \nOklahoma                  15.6           -0.639  \nWyoming                   24.5            0.094  \nCalifornia                22.6            0.365  ",
      "text/html": "<div>\n<style scoped>\n    .dataframe tbody tr th:only-of-type {\n        vertical-align: middle;\n    }\n\n    .dataframe tbody tr th {\n        vertical-align: top;\n    }\n\n    .dataframe thead th {\n        text-align: right;\n    }\n</style>\n<table border=\"1\" class=\"dataframe\">\n  <thead>\n    <tr style=\"text-align: right;\">\n      <th></th>\n      <th>Mental illness</th>\n      <th>Per Capita Income</th>\n      <th>Insufficient Sleep</th>\n      <th>Exercise</th>\n      <th>Health Outcomes</th>\n    </tr>\n    <tr>\n      <th>State Name</th>\n      <th></th>\n      <th></th>\n      <th></th>\n      <th></th>\n      <th></th>\n    </tr>\n  </thead>\n  <tbody>\n    <tr>\n      <th>Maine</th>\n      <td>14.4</td>\n      <td>34078</td>\n      <td>30.5</td>\n      <td>20.2</td>\n      <td>0.294</td>\n    </tr>\n    <tr>\n      <th>Massachusetts</th>\n      <td>8.5</td>\n      <td>46241</td>\n      <td>31.1</td>\n      <td>22.2</td>\n      <td>0.819</td>\n    </tr>\n    <tr>\n      <th>Rhode Island</th>\n      <td>7.9</td>\n      <td>37525</td>\n      <td>32.5</td>\n      <td>24.1</td>\n      <td>0.394</td>\n    </tr>\n    <tr>\n      <th>District of Columbia</th>\n      <td>5.3</td>\n      <td>59808</td>\n      <td>30.1</td>\n      <td>27.2</td>\n      <td>NaN</td>\n    </tr>\n    <tr>\n      <th>Michigan</th>\n      <td>9.3</td>\n      <td>32892</td>\n      <td>34.2</td>\n      <td>23.3</td>\n      <td>-0.470</td>\n    </tr>\n    <tr>\n      <th>New Hampshire</th>\n      <td>10.5</td>\n      <td>41241</td>\n      <td>30.1</td>\n      <td>26.4</td>\n      <td>0.523</td>\n    </tr>\n    <tr>\n      <th>Vermont</th>\n      <td>11.4</td>\n      <td>35702</td>\n      <td>28.2</td>\n      <td>28.5</td>\n      <td>0.600</td>\n    </tr>\n    <tr>\n      <th>Pennsylvania</th>\n      <td>9.1</td>\n      <td>35804</td>\n      <td>35.5</td>\n      <td>21.8</td>\n      <td>-0.185</td>\n    </tr>\n    <tr>\n      <th>Connecticut</th>\n      <td>6.9</td>\n      <td>45359</td>\n      <td>32.1</td>\n      <td>26.1</td>\n      <td>0.663</td>\n    </tr>\n    <tr>\n      <th>Delaware</th>\n      <td>7.7</td>\n      <td>36858</td>\n      <td>33.2</td>\n      <td>23.8</td>\n      <td>-0.069</td>\n    </tr>\n    <tr>\n      <th>Hawaii</th>\n      <td>6.4</td>\n      <td>36989</td>\n      <td>39.4</td>\n      <td>24.8</td>\n      <td>0.801</td>\n    </tr>\n    <tr>\n      <th>Minnesota</th>\n      <td>8.5</td>\n      <td>39025</td>\n      <td>27.0</td>\n      <td>25.5</td>\n      <td>0.345</td>\n    </tr>\n    <tr>\n      <th>Alabama</th>\n      <td>7.6</td>\n      <td>28650</td>\n      <td>38.3</td>\n      <td>17.6</td>\n      <td>-0.857</td>\n    </tr>\n    <tr>\n      <th>New York</th>\n      <td>6.8</td>\n      <td>41857</td>\n      <td>32.9</td>\n      <td>24.1</td>\n      <td>0.479</td>\n    </tr>\n    <tr>\n      <th>Maryland</th>\n      <td>7.3</td>\n      <td>43325</td>\n      <td>33.6</td>\n      <td>24.0</td>\n      <td>0.477</td>\n    </tr>\n    <tr>\n      <th>South Carolina</th>\n      <td>6.5</td>\n      <td>31295</td>\n      <td>33.7</td>\n      <td>23.0</td>\n      <td>-0.673</td>\n    </tr>\n    <tr>\n      <th>South Dakota</th>\n      <td>9.7</td>\n      <td>31550</td>\n      <td>28.1</td>\n      <td>21.8</td>\n      <td>0.266</td>\n    </tr>\n    <tr>\n      <th>Virginia</th>\n      <td>7.7</td>\n      <td>40635</td>\n      <td>33.6</td>\n      <td>22.7</td>\n      <td>0.322</td>\n    </tr>\n    <tr>\n      <th>Florida</th>\n      <td>7.1</td>\n      <td>32887</td>\n      <td>32.9</td>\n      <td>27.0</td>\n      <td>0.170</td>\n    </tr>\n    <tr>\n      <th>North Carolina</th>\n      <td>8.4</td>\n      <td>32021</td>\n      <td>31.6</td>\n      <td>21.6</td>\n      <td>-0.116</td>\n    </tr>\n    <tr>\n      <th>Kentucky</th>\n      <td>9.2</td>\n      <td>29029</td>\n      <td>38.6</td>\n      <td>15.3</td>\n      <td>-0.813</td>\n    </tr>\n    <tr>\n      <th>Tennessee</th>\n      <td>7.2</td>\n      <td>31224</td>\n      <td>33.7</td>\n      <td>21.8</td>\n      <td>-0.577</td>\n    </tr>\n    <tr>\n      <th>Oregon</th>\n      <td>11.7</td>\n      <td>35531</td>\n      <td>28.3</td>\n      <td>24.9</td>\n      <td>0.264</td>\n    </tr>\n    <tr>\n      <th>Utah</th>\n      <td>14.3</td>\n      <td>31771</td>\n      <td>30.9</td>\n      <td>24.9</td>\n      <td>0.486</td>\n    </tr>\n    <tr>\n      <th>Iowa</th>\n      <td>11.6</td>\n      <td>33107</td>\n      <td>30.6</td>\n      <td>20.0</td>\n      <td>-0.006</td>\n    </tr>\n    <tr>\n      <th>Washington</th>\n      <td>11.2</td>\n      <td>41521</td>\n      <td>29.7</td>\n      <td>25.9</td>\n      <td>0.391</td>\n    </tr>\n    <tr>\n      <th>United States</th>\n      <td>8.5</td>\n      <td>35672</td>\n      <td>32.3</td>\n      <td>23.0</td>\n      <td>NaN</td>\n    </tr>\n    <tr>\n      <th>Ohio</th>\n      <td>10.2</td>\n      <td>32780</td>\n      <td>35.5</td>\n      <td>20.9</td>\n      <td>-0.351</td>\n    </tr>\n    <tr>\n      <th>Colorado</th>\n      <td>11.6</td>\n      <td>41053</td>\n      <td>26.8</td>\n      <td>27.4</td>\n      <td>0.337</td>\n    </tr>\n    <tr>\n      <th>Louisiana</th>\n      <td>8.6</td>\n      <td>28662</td>\n      <td>36.0</td>\n      <td>19.7</td>\n      <td>-1.063</td>\n    </tr>\n    <tr>\n      <th>Nebraska</th>\n      <td>8.5</td>\n      <td>33272</td>\n      <td>28.2</td>\n      <td>20.9</td>\n      <td>0.098</td>\n    </tr>\n    <tr>\n      <th>North Dakota</th>\n      <td>11.2</td>\n      <td>36611</td>\n      <td>30.1</td>\n      <td>20.1</td>\n      <td>0.108</td>\n    </tr>\n    <tr>\n      <th>Missouri</th>\n      <td>8.5</td>\n      <td>31756</td>\n      <td>33.0</td>\n      <td>17.1</td>\n      <td>-0.581</td>\n    </tr>\n    <tr>\n      <th>New Jersey</th>\n      <td>5.1</td>\n      <td>44888</td>\n      <td>32.3</td>\n      <td>21.9</td>\n      <td>0.538</td>\n    </tr>\n    <tr>\n      <th>Nevada</th>\n      <td>6.6</td>\n      <td>33575</td>\n      <td>35.1</td>\n      <td>20.0</td>\n      <td>-0.411</td>\n    </tr>\n    <tr>\n      <th>Georgia</th>\n      <td>6.7</td>\n      <td>32657</td>\n      <td>35.8</td>\n      <td>24.1</td>\n      <td>-0.266</td>\n    </tr>\n    <tr>\n      <th>Arkansas</th>\n      <td>9.4</td>\n      <td>27274</td>\n      <td>35.0</td>\n      <td>19.3</td>\n      <td>-0.798</td>\n    </tr>\n    <tr>\n      <th>Indiana</th>\n      <td>9.9</td>\n      <td>30988</td>\n      <td>34.9</td>\n      <td>21.1</td>\n      <td>-0.261</td>\n    </tr>\n    <tr>\n      <th>Mississippi</th>\n      <td>8.3</td>\n      <td>25301</td>\n      <td>35.0</td>\n      <td>15.7</td>\n      <td>-0.622</td>\n    </tr>\n    <tr>\n      <th>West Virginia</th>\n      <td>10.4</td>\n      <td>27446</td>\n      <td>39.2</td>\n      <td>17.1</td>\n      <td>-0.834</td>\n    </tr>\n    <tr>\n      <th>Alaska</th>\n      <td>11.7</td>\n      <td>36978</td>\n      <td>31.8</td>\n      <td>25.6</td>\n      <td>0.059</td>\n    </tr>\n    <tr>\n      <th>Kansas</th>\n      <td>11.5</td>\n      <td>32885</td>\n      <td>32.0</td>\n      <td>20.8</td>\n      <td>-0.142</td>\n    </tr>\n    <tr>\n      <th>Montana</th>\n      <td>14.1</td>\n      <td>32625</td>\n      <td>28.9</td>\n      <td>28.3</td>\n      <td>0.020</td>\n    </tr>\n    <tr>\n      <th>Arizona</th>\n      <td>10.7</td>\n      <td>32173</td>\n      <td>32.7</td>\n      <td>25.5</td>\n      <td>0.062</td>\n    </tr>\n    <tr>\n      <th>Illinois</th>\n      <td>6.3</td>\n      <td>37728</td>\n      <td>31.1</td>\n      <td>23.4</td>\n      <td>0.303</td>\n    </tr>\n    <tr>\n      <th>New Mexico</th>\n      <td>10.4</td>\n      <td>28423</td>\n      <td>30.5</td>\n      <td>25.7</td>\n      <td>-0.318</td>\n    </tr>\n    <tr>\n      <th>Idaho</th>\n      <td>12.7</td>\n      <td>29606</td>\n      <td>29.3</td>\n      <td>21.7</td>\n      <td>0.639</td>\n    </tr>\n    <tr>\n      <th>Wisconsin</th>\n      <td>9.5</td>\n      <td>34568</td>\n      <td>30.0</td>\n      <td>24.7</td>\n      <td>-0.098</td>\n    </tr>\n    <tr>\n      <th>Texas</th>\n      <td>9.5</td>\n      <td>32267</td>\n      <td>33.2</td>\n      <td>24.3</td>\n      <td>0.119</td>\n    </tr>\n    <tr>\n      <th>Oklahoma</th>\n      <td>8.6</td>\n      <td>29666</td>\n      <td>33.2</td>\n      <td>15.6</td>\n      <td>-0.639</td>\n    </tr>\n    <tr>\n      <th>Wyoming</th>\n      <td>14.6</td>\n      <td>34104</td>\n      <td>31.7</td>\n      <td>24.5</td>\n      <td>0.094</td>\n    </tr>\n    <tr>\n      <th>California</th>\n      <td>7.4</td>\n      <td>39393</td>\n      <td>31.2</td>\n      <td>22.6</td>\n      <td>0.365</td>\n    </tr>\n  </tbody>\n</table>\n</div>"
     },
     "execution_count": 119,
     "metadata": {},
     "output_type": "execute_result"
    }
   ],
   "source": [
    "cols = ['Mental illness', 'Per Capita Income', \"Insufficient Sleep\", \"Exercise\", \"Health Outcomes\"]\n",
    "intrest = states.loc[:,cols]\n",
    "intrest"
   ],
   "metadata": {
    "collapsed": false,
    "pycharm": {
     "name": "#%%\n"
    }
   }
  },
  {
   "cell_type": "markdown",
   "id": "ff5d65a4-61a7-4ce9-9151-5c8d8ac0fb5a",
   "metadata": {
    "pycharm": {
     "name": "#%% md\n"
    }
   },
   "source": [
    "C. What do you expect the `shape` to be? Predict then write the code to get the shape"
   ]
  },
  {
   "cell_type": "code",
   "execution_count": 122,
   "outputs": [
    {
     "data": {
      "text/plain": "(52, 5)"
     },
     "execution_count": 122,
     "metadata": {},
     "output_type": "execute_result"
    }
   ],
   "source": [
    "intrest.shape"
   ],
   "metadata": {
    "collapsed": false,
    "pycharm": {
     "name": "#%%\n"
    }
   }
  },
  {
   "cell_type": "markdown",
   "id": "3d858f46-597e-494b-a4d5-87f7fd918fed",
   "metadata": {
    "pycharm": {
     "name": "#%% md\n"
    }
   },
   "source": [
    "D. Get a preview of what the first and last rows of your subsetted data looks like"
   ]
  },
  {
   "cell_type": "code",
   "execution_count": 121,
   "outputs": [
    {
     "name": "stdout",
     "output_type": "stream",
     "text": [
      "                      Mental illness  Per Capita Income  Insufficient Sleep  \\\n",
      "State Name                                                                    \n",
      "Maine                           14.4              34078                30.5   \n",
      "Massachusetts                    8.5              46241                31.1   \n",
      "Rhode Island                     7.9              37525                32.5   \n",
      "District of Columbia             5.3              59808                30.1   \n",
      "Michigan                         9.3              32892                34.2   \n",
      "\n",
      "                      Exercise  Health Outcomes  \n",
      "State Name                                       \n",
      "Maine                     20.2            0.294  \n",
      "Massachusetts             22.2            0.819  \n",
      "Rhode Island              24.1            0.394  \n",
      "District of Columbia      27.2              NaN  \n",
      "Michigan                  23.3           -0.470  \n",
      "            Mental illness  Per Capita Income  Insufficient Sleep  Exercise  \\\n",
      "State Name                                                                    \n",
      "Wisconsin              9.5              34568                30.0      24.7   \n",
      "Texas                  9.5              32267                33.2      24.3   \n",
      "Oklahoma               8.6              29666                33.2      15.6   \n",
      "Wyoming               14.6              34104                31.7      24.5   \n",
      "California             7.4              39393                31.2      22.6   \n",
      "\n",
      "            Health Outcomes  \n",
      "State Name                   \n",
      "Wisconsin            -0.098  \n",
      "Texas                 0.119  \n",
      "Oklahoma             -0.639  \n",
      "Wyoming               0.094  \n",
      "California            0.365  \n"
     ]
    }
   ],
   "source": [
    "print(intrest.head())\n",
    "print(intrest.tail())"
   ],
   "metadata": {
    "collapsed": false,
    "pycharm": {
     "name": "#%%\n"
    }
   }
  },
  {
   "cell_type": "markdown",
   "id": "b5a11534-e875-4b3f-a1e2-f0ee3cc8e941",
   "metadata": {
    "pycharm": {
     "name": "#%% md\n"
    }
   },
   "source": [
    "**Exercise 8.2.2**: Which 10 states are doing the best or and which are worst on the characteristics you chose?"
   ]
  },
  {
   "cell_type": "code",
   "execution_count": 126,
   "outputs": [
    {
     "data": {
      "text/plain": "                      Mental illness  Per Capita Income  Insufficient Sleep  \\\nState Name                                                                    \nNew Jersey                       5.1              44888                32.3   \nDistrict of Columbia             5.3              59808                30.1   \nIllinois                         6.3              37728                31.1   \nHawaii                           6.4              36989                39.4   \nSouth Carolina                   6.5              31295                33.7   \nNevada                           6.6              33575                35.1   \nGeorgia                          6.7              32657                35.8   \nNew York                         6.8              41857                32.9   \nConnecticut                      6.9              45359                32.1   \nFlorida                          7.1              32887                32.9   \n\n                      Exercise  Health Outcomes  \nState Name                                       \nNew Jersey                21.9            0.538  \nDistrict of Columbia      27.2              NaN  \nIllinois                  23.4            0.303  \nHawaii                    24.8            0.801  \nSouth Carolina            23.0           -0.673  \nNevada                    20.0           -0.411  \nGeorgia                   24.1           -0.266  \nNew York                  24.1            0.479  \nConnecticut               26.1            0.663  \nFlorida                   27.0            0.170  ",
      "text/html": "<div>\n<style scoped>\n    .dataframe tbody tr th:only-of-type {\n        vertical-align: middle;\n    }\n\n    .dataframe tbody tr th {\n        vertical-align: top;\n    }\n\n    .dataframe thead th {\n        text-align: right;\n    }\n</style>\n<table border=\"1\" class=\"dataframe\">\n  <thead>\n    <tr style=\"text-align: right;\">\n      <th></th>\n      <th>Mental illness</th>\n      <th>Per Capita Income</th>\n      <th>Insufficient Sleep</th>\n      <th>Exercise</th>\n      <th>Health Outcomes</th>\n    </tr>\n    <tr>\n      <th>State Name</th>\n      <th></th>\n      <th></th>\n      <th></th>\n      <th></th>\n      <th></th>\n    </tr>\n  </thead>\n  <tbody>\n    <tr>\n      <th>New Jersey</th>\n      <td>5.1</td>\n      <td>44888</td>\n      <td>32.3</td>\n      <td>21.9</td>\n      <td>0.538</td>\n    </tr>\n    <tr>\n      <th>District of Columbia</th>\n      <td>5.3</td>\n      <td>59808</td>\n      <td>30.1</td>\n      <td>27.2</td>\n      <td>NaN</td>\n    </tr>\n    <tr>\n      <th>Illinois</th>\n      <td>6.3</td>\n      <td>37728</td>\n      <td>31.1</td>\n      <td>23.4</td>\n      <td>0.303</td>\n    </tr>\n    <tr>\n      <th>Hawaii</th>\n      <td>6.4</td>\n      <td>36989</td>\n      <td>39.4</td>\n      <td>24.8</td>\n      <td>0.801</td>\n    </tr>\n    <tr>\n      <th>South Carolina</th>\n      <td>6.5</td>\n      <td>31295</td>\n      <td>33.7</td>\n      <td>23.0</td>\n      <td>-0.673</td>\n    </tr>\n    <tr>\n      <th>Nevada</th>\n      <td>6.6</td>\n      <td>33575</td>\n      <td>35.1</td>\n      <td>20.0</td>\n      <td>-0.411</td>\n    </tr>\n    <tr>\n      <th>Georgia</th>\n      <td>6.7</td>\n      <td>32657</td>\n      <td>35.8</td>\n      <td>24.1</td>\n      <td>-0.266</td>\n    </tr>\n    <tr>\n      <th>New York</th>\n      <td>6.8</td>\n      <td>41857</td>\n      <td>32.9</td>\n      <td>24.1</td>\n      <td>0.479</td>\n    </tr>\n    <tr>\n      <th>Connecticut</th>\n      <td>6.9</td>\n      <td>45359</td>\n      <td>32.1</td>\n      <td>26.1</td>\n      <td>0.663</td>\n    </tr>\n    <tr>\n      <th>Florida</th>\n      <td>7.1</td>\n      <td>32887</td>\n      <td>32.9</td>\n      <td>27.0</td>\n      <td>0.170</td>\n    </tr>\n  </tbody>\n</table>\n</div>"
     },
     "metadata": {},
     "output_type": "display_data"
    },
    {
     "data": {
      "text/plain": "               Mental illness  Per Capita Income  Insufficient Sleep  \\\nState Name                                                             \nMississippi               8.3              25301                35.0   \nArkansas                  9.4              27274                35.0   \nWest Virginia            10.4              27446                39.2   \nNew Mexico               10.4              28423                30.5   \nAlabama                   7.6              28650                38.3   \nLouisiana                 8.6              28662                36.0   \nKentucky                  9.2              29029                38.6   \nIdaho                    12.7              29606                29.3   \nOklahoma                  8.6              29666                33.2   \nIndiana                   9.9              30988                34.9   \n\n               Exercise  Health Outcomes  \nState Name                                \nMississippi        15.7           -0.622  \nArkansas           19.3           -0.798  \nWest Virginia      17.1           -0.834  \nNew Mexico         25.7           -0.318  \nAlabama            17.6           -0.857  \nLouisiana          19.7           -1.063  \nKentucky           15.3           -0.813  \nIdaho              21.7            0.639  \nOklahoma           15.6           -0.639  \nIndiana            21.1           -0.261  ",
      "text/html": "<div>\n<style scoped>\n    .dataframe tbody tr th:only-of-type {\n        vertical-align: middle;\n    }\n\n    .dataframe tbody tr th {\n        vertical-align: top;\n    }\n\n    .dataframe thead th {\n        text-align: right;\n    }\n</style>\n<table border=\"1\" class=\"dataframe\">\n  <thead>\n    <tr style=\"text-align: right;\">\n      <th></th>\n      <th>Mental illness</th>\n      <th>Per Capita Income</th>\n      <th>Insufficient Sleep</th>\n      <th>Exercise</th>\n      <th>Health Outcomes</th>\n    </tr>\n    <tr>\n      <th>State Name</th>\n      <th></th>\n      <th></th>\n      <th></th>\n      <th></th>\n      <th></th>\n    </tr>\n  </thead>\n  <tbody>\n    <tr>\n      <th>Mississippi</th>\n      <td>8.3</td>\n      <td>25301</td>\n      <td>35.0</td>\n      <td>15.7</td>\n      <td>-0.622</td>\n    </tr>\n    <tr>\n      <th>Arkansas</th>\n      <td>9.4</td>\n      <td>27274</td>\n      <td>35.0</td>\n      <td>19.3</td>\n      <td>-0.798</td>\n    </tr>\n    <tr>\n      <th>West Virginia</th>\n      <td>10.4</td>\n      <td>27446</td>\n      <td>39.2</td>\n      <td>17.1</td>\n      <td>-0.834</td>\n    </tr>\n    <tr>\n      <th>New Mexico</th>\n      <td>10.4</td>\n      <td>28423</td>\n      <td>30.5</td>\n      <td>25.7</td>\n      <td>-0.318</td>\n    </tr>\n    <tr>\n      <th>Alabama</th>\n      <td>7.6</td>\n      <td>28650</td>\n      <td>38.3</td>\n      <td>17.6</td>\n      <td>-0.857</td>\n    </tr>\n    <tr>\n      <th>Louisiana</th>\n      <td>8.6</td>\n      <td>28662</td>\n      <td>36.0</td>\n      <td>19.7</td>\n      <td>-1.063</td>\n    </tr>\n    <tr>\n      <th>Kentucky</th>\n      <td>9.2</td>\n      <td>29029</td>\n      <td>38.6</td>\n      <td>15.3</td>\n      <td>-0.813</td>\n    </tr>\n    <tr>\n      <th>Idaho</th>\n      <td>12.7</td>\n      <td>29606</td>\n      <td>29.3</td>\n      <td>21.7</td>\n      <td>0.639</td>\n    </tr>\n    <tr>\n      <th>Oklahoma</th>\n      <td>8.6</td>\n      <td>29666</td>\n      <td>33.2</td>\n      <td>15.6</td>\n      <td>-0.639</td>\n    </tr>\n    <tr>\n      <th>Indiana</th>\n      <td>9.9</td>\n      <td>30988</td>\n      <td>34.9</td>\n      <td>21.1</td>\n      <td>-0.261</td>\n    </tr>\n  </tbody>\n</table>\n</div>"
     },
     "metadata": {},
     "output_type": "display_data"
    },
    {
     "data": {
      "text/plain": "              Mental illness  Per Capita Income  Insufficient Sleep  Exercise  \\\nState Name                                                                      \nColorado                11.6              41053                26.8      27.4   \nMinnesota                8.5              39025                27.0      25.5   \nSouth Dakota             9.7              31550                28.1      21.8   \nVermont                 11.4              35702                28.2      28.5   \nNebraska                 8.5              33272                28.2      20.9   \nOregon                  11.7              35531                28.3      24.9   \nMontana                 14.1              32625                28.9      28.3   \nIdaho                   12.7              29606                29.3      21.7   \nWashington              11.2              41521                29.7      25.9   \nWisconsin                9.5              34568                30.0      24.7   \n\n              Health Outcomes  \nState Name                     \nColorado                0.337  \nMinnesota               0.345  \nSouth Dakota            0.266  \nVermont                 0.600  \nNebraska                0.098  \nOregon                  0.264  \nMontana                 0.020  \nIdaho                   0.639  \nWashington              0.391  \nWisconsin              -0.098  ",
      "text/html": "<div>\n<style scoped>\n    .dataframe tbody tr th:only-of-type {\n        vertical-align: middle;\n    }\n\n    .dataframe tbody tr th {\n        vertical-align: top;\n    }\n\n    .dataframe thead th {\n        text-align: right;\n    }\n</style>\n<table border=\"1\" class=\"dataframe\">\n  <thead>\n    <tr style=\"text-align: right;\">\n      <th></th>\n      <th>Mental illness</th>\n      <th>Per Capita Income</th>\n      <th>Insufficient Sleep</th>\n      <th>Exercise</th>\n      <th>Health Outcomes</th>\n    </tr>\n    <tr>\n      <th>State Name</th>\n      <th></th>\n      <th></th>\n      <th></th>\n      <th></th>\n      <th></th>\n    </tr>\n  </thead>\n  <tbody>\n    <tr>\n      <th>Colorado</th>\n      <td>11.6</td>\n      <td>41053</td>\n      <td>26.8</td>\n      <td>27.4</td>\n      <td>0.337</td>\n    </tr>\n    <tr>\n      <th>Minnesota</th>\n      <td>8.5</td>\n      <td>39025</td>\n      <td>27.0</td>\n      <td>25.5</td>\n      <td>0.345</td>\n    </tr>\n    <tr>\n      <th>South Dakota</th>\n      <td>9.7</td>\n      <td>31550</td>\n      <td>28.1</td>\n      <td>21.8</td>\n      <td>0.266</td>\n    </tr>\n    <tr>\n      <th>Vermont</th>\n      <td>11.4</td>\n      <td>35702</td>\n      <td>28.2</td>\n      <td>28.5</td>\n      <td>0.600</td>\n    </tr>\n    <tr>\n      <th>Nebraska</th>\n      <td>8.5</td>\n      <td>33272</td>\n      <td>28.2</td>\n      <td>20.9</td>\n      <td>0.098</td>\n    </tr>\n    <tr>\n      <th>Oregon</th>\n      <td>11.7</td>\n      <td>35531</td>\n      <td>28.3</td>\n      <td>24.9</td>\n      <td>0.264</td>\n    </tr>\n    <tr>\n      <th>Montana</th>\n      <td>14.1</td>\n      <td>32625</td>\n      <td>28.9</td>\n      <td>28.3</td>\n      <td>0.020</td>\n    </tr>\n    <tr>\n      <th>Idaho</th>\n      <td>12.7</td>\n      <td>29606</td>\n      <td>29.3</td>\n      <td>21.7</td>\n      <td>0.639</td>\n    </tr>\n    <tr>\n      <th>Washington</th>\n      <td>11.2</td>\n      <td>41521</td>\n      <td>29.7</td>\n      <td>25.9</td>\n      <td>0.391</td>\n    </tr>\n    <tr>\n      <th>Wisconsin</th>\n      <td>9.5</td>\n      <td>34568</td>\n      <td>30.0</td>\n      <td>24.7</td>\n      <td>-0.098</td>\n    </tr>\n  </tbody>\n</table>\n</div>"
     },
     "metadata": {},
     "output_type": "display_data"
    },
    {
     "data": {
      "text/plain": "               Mental illness  Per Capita Income  Insufficient Sleep  \\\nState Name                                                             \nKentucky                  9.2              29029                38.6   \nOklahoma                  8.6              29666                33.2   \nMississippi               8.3              25301                35.0   \nWest Virginia            10.4              27446                39.2   \nMissouri                  8.5              31756                33.0   \nAlabama                   7.6              28650                38.3   \nArkansas                  9.4              27274                35.0   \nLouisiana                 8.6              28662                36.0   \nIowa                     11.6              33107                30.6   \nNevada                    6.6              33575                35.1   \n\n               Exercise  Health Outcomes  \nState Name                                \nKentucky           15.3           -0.813  \nOklahoma           15.6           -0.639  \nMississippi        15.7           -0.622  \nWest Virginia      17.1           -0.834  \nMissouri           17.1           -0.581  \nAlabama            17.6           -0.857  \nArkansas           19.3           -0.798  \nLouisiana          19.7           -1.063  \nIowa               20.0           -0.006  \nNevada             20.0           -0.411  ",
      "text/html": "<div>\n<style scoped>\n    .dataframe tbody tr th:only-of-type {\n        vertical-align: middle;\n    }\n\n    .dataframe tbody tr th {\n        vertical-align: top;\n    }\n\n    .dataframe thead th {\n        text-align: right;\n    }\n</style>\n<table border=\"1\" class=\"dataframe\">\n  <thead>\n    <tr style=\"text-align: right;\">\n      <th></th>\n      <th>Mental illness</th>\n      <th>Per Capita Income</th>\n      <th>Insufficient Sleep</th>\n      <th>Exercise</th>\n      <th>Health Outcomes</th>\n    </tr>\n    <tr>\n      <th>State Name</th>\n      <th></th>\n      <th></th>\n      <th></th>\n      <th></th>\n      <th></th>\n    </tr>\n  </thead>\n  <tbody>\n    <tr>\n      <th>Kentucky</th>\n      <td>9.2</td>\n      <td>29029</td>\n      <td>38.6</td>\n      <td>15.3</td>\n      <td>-0.813</td>\n    </tr>\n    <tr>\n      <th>Oklahoma</th>\n      <td>8.6</td>\n      <td>29666</td>\n      <td>33.2</td>\n      <td>15.6</td>\n      <td>-0.639</td>\n    </tr>\n    <tr>\n      <th>Mississippi</th>\n      <td>8.3</td>\n      <td>25301</td>\n      <td>35.0</td>\n      <td>15.7</td>\n      <td>-0.622</td>\n    </tr>\n    <tr>\n      <th>West Virginia</th>\n      <td>10.4</td>\n      <td>27446</td>\n      <td>39.2</td>\n      <td>17.1</td>\n      <td>-0.834</td>\n    </tr>\n    <tr>\n      <th>Missouri</th>\n      <td>8.5</td>\n      <td>31756</td>\n      <td>33.0</td>\n      <td>17.1</td>\n      <td>-0.581</td>\n    </tr>\n    <tr>\n      <th>Alabama</th>\n      <td>7.6</td>\n      <td>28650</td>\n      <td>38.3</td>\n      <td>17.6</td>\n      <td>-0.857</td>\n    </tr>\n    <tr>\n      <th>Arkansas</th>\n      <td>9.4</td>\n      <td>27274</td>\n      <td>35.0</td>\n      <td>19.3</td>\n      <td>-0.798</td>\n    </tr>\n    <tr>\n      <th>Louisiana</th>\n      <td>8.6</td>\n      <td>28662</td>\n      <td>36.0</td>\n      <td>19.7</td>\n      <td>-1.063</td>\n    </tr>\n    <tr>\n      <th>Iowa</th>\n      <td>11.6</td>\n      <td>33107</td>\n      <td>30.6</td>\n      <td>20.0</td>\n      <td>-0.006</td>\n    </tr>\n    <tr>\n      <th>Nevada</th>\n      <td>6.6</td>\n      <td>33575</td>\n      <td>35.1</td>\n      <td>20.0</td>\n      <td>-0.411</td>\n    </tr>\n  </tbody>\n</table>\n</div>"
     },
     "metadata": {},
     "output_type": "display_data"
    },
    {
     "data": {
      "text/plain": "                Mental illness  Per Capita Income  Insufficient Sleep  \\\nState Name                                                              \nLouisiana                  8.6              28662                36.0   \nAlabama                    7.6              28650                38.3   \nWest Virginia             10.4              27446                39.2   \nKentucky                   9.2              29029                38.6   \nArkansas                   9.4              27274                35.0   \nSouth Carolina             6.5              31295                33.7   \nOklahoma                   8.6              29666                33.2   \nMississippi                8.3              25301                35.0   \nMissouri                   8.5              31756                33.0   \nTennessee                  7.2              31224                33.7   \n\n                Exercise  Health Outcomes  \nState Name                                 \nLouisiana           19.7           -1.063  \nAlabama             17.6           -0.857  \nWest Virginia       17.1           -0.834  \nKentucky            15.3           -0.813  \nArkansas            19.3           -0.798  \nSouth Carolina      23.0           -0.673  \nOklahoma            15.6           -0.639  \nMississippi         15.7           -0.622  \nMissouri            17.1           -0.581  \nTennessee           21.8           -0.577  ",
      "text/html": "<div>\n<style scoped>\n    .dataframe tbody tr th:only-of-type {\n        vertical-align: middle;\n    }\n\n    .dataframe tbody tr th {\n        vertical-align: top;\n    }\n\n    .dataframe thead th {\n        text-align: right;\n    }\n</style>\n<table border=\"1\" class=\"dataframe\">\n  <thead>\n    <tr style=\"text-align: right;\">\n      <th></th>\n      <th>Mental illness</th>\n      <th>Per Capita Income</th>\n      <th>Insufficient Sleep</th>\n      <th>Exercise</th>\n      <th>Health Outcomes</th>\n    </tr>\n    <tr>\n      <th>State Name</th>\n      <th></th>\n      <th></th>\n      <th></th>\n      <th></th>\n      <th></th>\n    </tr>\n  </thead>\n  <tbody>\n    <tr>\n      <th>Louisiana</th>\n      <td>8.6</td>\n      <td>28662</td>\n      <td>36.0</td>\n      <td>19.7</td>\n      <td>-1.063</td>\n    </tr>\n    <tr>\n      <th>Alabama</th>\n      <td>7.6</td>\n      <td>28650</td>\n      <td>38.3</td>\n      <td>17.6</td>\n      <td>-0.857</td>\n    </tr>\n    <tr>\n      <th>West Virginia</th>\n      <td>10.4</td>\n      <td>27446</td>\n      <td>39.2</td>\n      <td>17.1</td>\n      <td>-0.834</td>\n    </tr>\n    <tr>\n      <th>Kentucky</th>\n      <td>9.2</td>\n      <td>29029</td>\n      <td>38.6</td>\n      <td>15.3</td>\n      <td>-0.813</td>\n    </tr>\n    <tr>\n      <th>Arkansas</th>\n      <td>9.4</td>\n      <td>27274</td>\n      <td>35.0</td>\n      <td>19.3</td>\n      <td>-0.798</td>\n    </tr>\n    <tr>\n      <th>South Carolina</th>\n      <td>6.5</td>\n      <td>31295</td>\n      <td>33.7</td>\n      <td>23.0</td>\n      <td>-0.673</td>\n    </tr>\n    <tr>\n      <th>Oklahoma</th>\n      <td>8.6</td>\n      <td>29666</td>\n      <td>33.2</td>\n      <td>15.6</td>\n      <td>-0.639</td>\n    </tr>\n    <tr>\n      <th>Mississippi</th>\n      <td>8.3</td>\n      <td>25301</td>\n      <td>35.0</td>\n      <td>15.7</td>\n      <td>-0.622</td>\n    </tr>\n    <tr>\n      <th>Missouri</th>\n      <td>8.5</td>\n      <td>31756</td>\n      <td>33.0</td>\n      <td>17.1</td>\n      <td>-0.581</td>\n    </tr>\n    <tr>\n      <th>Tennessee</th>\n      <td>7.2</td>\n      <td>31224</td>\n      <td>33.7</td>\n      <td>21.8</td>\n      <td>-0.577</td>\n    </tr>\n  </tbody>\n</table>\n</div>"
     },
     "metadata": {},
     "output_type": "display_data"
    }
   ],
   "source": [
    "import pandas as pd\n",
    "states = pd.read_csv(\"state_health.csv\")\n",
    "states.set_index('State Name', inplace=True)\n",
    "cols = ['Mental illness', 'Per Capita Income', \"Insufficient Sleep\", \"Exercise\", \"Health Outcomes\"]\n",
    "intrest = states.loc[:,cols]\n",
    "for i in cols:\n",
    "    display(intrest.sort_values(i, ascending=True).head(10))\n"
   ],
   "metadata": {
    "collapsed": false,
    "pycharm": {
     "name": "#%%\n"
    }
   }
  },
  {
   "cell_type": "markdown",
   "id": "c4c74598-7dd0-4479-b25f-dc691f21871b",
   "metadata": {
    "pycharm": {
     "name": "#%% md\n"
    }
   },
   "source": [
    "**Exercise 8.2.3**: How is Massachusetts doing on the characteristics you chose?  (write code)"
   ]
  },
  {
   "cell_type": "markdown",
   "id": "fc5ec017-5c8f-48b3-8550-8fb4966fe903",
   "metadata": {
    "pycharm": {
     "name": "#%% md\n"
    }
   },
   "source": [
    "**Exercise 8.2.4**: Get the data for states that are doing better than Massachusetts on one characteristic."
   ]
  },
  {
   "cell_type": "code",
   "execution_count": null,
   "id": "c0f11232-caa0-48b5-b124-bbbd92bd8f4c",
   "metadata": {
    "pycharm": {
     "name": "#%%\n"
    }
   },
   "outputs": [],
   "source": []
  },
  {
   "cell_type": "code",
   "execution_count": null,
   "id": "86fae908-6a14-4b62-9f02-a5be0eb229ba",
   "metadata": {
    "pycharm": {
     "name": "#%%\n"
    }
   },
   "outputs": [],
   "source": [
    "states.columns"
   ]
  },
  {
   "cell_type": "markdown",
   "id": "47dab2e5-5024-4e16-bc46-a469a7539e2b",
   "metadata": {
    "pycharm": {
     "name": "#%% md\n"
    }
   },
   "source": [
    "**Self check**: Get the states with per-capita income greater than \\$40,000. Then, write code to get which two states have the *lowest* income that is greater than $40,000"
   ]
  },
  {
   "cell_type": "markdown",
   "id": "1e8c6c3d-ea53-45b4-a0d9-9e5bc4e74d0a",
   "metadata": {
    "pycharm": {
     "name": "#%% md\n"
    }
   },
   "source": [
    "# 9. Univariate summaries\n",
    "A feature can also be called a *variable*. We can summarize a single variable with *univariate summaries*\n",
    "\n",
    "The `describe` function is useful for getting a quick overview of your data:"
   ]
  },
  {
   "cell_type": "code",
   "execution_count": 142,
   "id": "153b3683-851b-4ec5-bd71-a0a3e9a95821",
   "metadata": {
    "pycharm": {
     "name": "#%%\n"
    }
   },
   "outputs": [
    {
     "data": {
      "text/plain": "count      5.000000\nmean     261.600000\nstd      149.707381\nmin       70.000000\n25%      195.000000\n50%      279.000000\n75%      284.000000\nmax      480.000000\nName: ave_depth, dtype: float64"
     },
     "execution_count": 142,
     "metadata": {},
     "output_type": "execute_result"
    }
   ],
   "source": [
    "df['ave_depth'].describe()"
   ]
  },
  {
   "cell_type": "markdown",
   "id": "ca514efc-d549-4197-9edd-63908666c9a1",
   "metadata": {
    "pycharm": {
     "name": "#%% md\n"
    }
   },
   "source": [
    "Similarly, we can get the `max`, `mean`, and `min` on their own"
   ]
  },
  {
   "cell_type": "code",
   "execution_count": 143,
   "id": "d59b8248-272f-4908-8707-d04195fc9e3e",
   "metadata": {
    "pycharm": {
     "name": "#%%\n"
    }
   },
   "outputs": [
    {
     "data": {
      "text/plain": "480"
     },
     "execution_count": 143,
     "metadata": {},
     "output_type": "execute_result"
    }
   ],
   "source": [
    "df['ave_depth'].max()"
   ]
  },
  {
   "cell_type": "code",
   "execution_count": 144,
   "id": "e2073169-9d66-4a57-ab8f-5fb091614f80",
   "metadata": {
    "pycharm": {
     "name": "#%%\n"
    }
   },
   "outputs": [
    {
     "data": {
      "text/plain": "70"
     },
     "execution_count": 144,
     "metadata": {},
     "output_type": "execute_result"
    }
   ],
   "source": [
    "df['ave_depth'].min()"
   ]
  },
  {
   "cell_type": "markdown",
   "id": "4e647d96-bac6-463e-8224-f54690335440",
   "metadata": {
    "pycharm": {
     "name": "#%% md\n"
    }
   },
   "source": [
    "Let's get practice using Boolean indexing and create some summaries of our data.\n",
    "\n",
    "We will try to cut up the range of values of one of our features into 10 bins, and count how many states fall in each bin. For example, if we wanted to find which states the per capita income is between $40,000 and $50,000, that range of values would be a bin.\n",
    "\n",
    "We can easily create evenly spaced bins using a function from the `numpy` package"
   ]
  },
  {
   "cell_type": "code",
   "execution_count": 145,
   "id": "fc556184-ec68-4ff3-a480-227ca8c9972a",
   "metadata": {
    "pycharm": {
     "name": "#%%\n"
    }
   },
   "outputs": [
    {
     "ename": "KeyError",
     "evalue": "\"None of ['State Name'] are in the columns\"",
     "output_type": "error",
     "traceback": [
      "\u001B[0;31m---------------------------------------------------------------------------\u001B[0m",
      "\u001B[0;31mKeyError\u001B[0m                                  Traceback (most recent call last)",
      "Input \u001B[0;32mIn [145]\u001B[0m, in \u001B[0;36m<cell line: 1>\u001B[0;34m()\u001B[0m\n\u001B[0;32m----> 1\u001B[0m \u001B[43mstates\u001B[49m\u001B[38;5;241;43m.\u001B[39;49m\u001B[43mset_index\u001B[49m\u001B[43m(\u001B[49m\u001B[38;5;124;43m'\u001B[39;49m\u001B[38;5;124;43mState Name\u001B[39;49m\u001B[38;5;124;43m'\u001B[39;49m\u001B[43m)\u001B[49m[\u001B[38;5;124m'\u001B[39m\u001B[38;5;124mPer Capita Income\u001B[39m\u001B[38;5;124m'\u001B[39m]\u001B[38;5;241m.\u001B[39msort_values()[:\u001B[38;5;241m10\u001B[39m]\n",
      "File \u001B[0;32m~/opt/anaconda3/lib/python3.9/site-packages/pandas/util/_decorators.py:311\u001B[0m, in \u001B[0;36mdeprecate_nonkeyword_arguments.<locals>.decorate.<locals>.wrapper\u001B[0;34m(*args, **kwargs)\u001B[0m\n\u001B[1;32m    305\u001B[0m \u001B[38;5;28;01mif\u001B[39;00m \u001B[38;5;28mlen\u001B[39m(args) \u001B[38;5;241m>\u001B[39m num_allow_args:\n\u001B[1;32m    306\u001B[0m     warnings\u001B[38;5;241m.\u001B[39mwarn(\n\u001B[1;32m    307\u001B[0m         msg\u001B[38;5;241m.\u001B[39mformat(arguments\u001B[38;5;241m=\u001B[39marguments),\n\u001B[1;32m    308\u001B[0m         \u001B[38;5;167;01mFutureWarning\u001B[39;00m,\n\u001B[1;32m    309\u001B[0m         stacklevel\u001B[38;5;241m=\u001B[39mstacklevel,\n\u001B[1;32m    310\u001B[0m     )\n\u001B[0;32m--> 311\u001B[0m \u001B[38;5;28;01mreturn\u001B[39;00m \u001B[43mfunc\u001B[49m\u001B[43m(\u001B[49m\u001B[38;5;241;43m*\u001B[39;49m\u001B[43margs\u001B[49m\u001B[43m,\u001B[49m\u001B[43m \u001B[49m\u001B[38;5;241;43m*\u001B[39;49m\u001B[38;5;241;43m*\u001B[39;49m\u001B[43mkwargs\u001B[49m\u001B[43m)\u001B[49m\n",
      "File \u001B[0;32m~/opt/anaconda3/lib/python3.9/site-packages/pandas/core/frame.py:5494\u001B[0m, in \u001B[0;36mDataFrame.set_index\u001B[0;34m(self, keys, drop, append, inplace, verify_integrity)\u001B[0m\n\u001B[1;32m   5491\u001B[0m                 missing\u001B[38;5;241m.\u001B[39mappend(col)\n\u001B[1;32m   5493\u001B[0m \u001B[38;5;28;01mif\u001B[39;00m missing:\n\u001B[0;32m-> 5494\u001B[0m     \u001B[38;5;28;01mraise\u001B[39;00m \u001B[38;5;167;01mKeyError\u001B[39;00m(\u001B[38;5;124mf\u001B[39m\u001B[38;5;124m\"\u001B[39m\u001B[38;5;124mNone of \u001B[39m\u001B[38;5;132;01m{\u001B[39;00mmissing\u001B[38;5;132;01m}\u001B[39;00m\u001B[38;5;124m are in the columns\u001B[39m\u001B[38;5;124m\"\u001B[39m)\n\u001B[1;32m   5496\u001B[0m \u001B[38;5;28;01mif\u001B[39;00m inplace:\n\u001B[1;32m   5497\u001B[0m     frame \u001B[38;5;241m=\u001B[39m \u001B[38;5;28mself\u001B[39m\n",
      "\u001B[0;31mKeyError\u001B[0m: \"None of ['State Name'] are in the columns\""
     ]
    }
   ],
   "source": [
    "states.set_index('State Name')['Per Capita Income'].sort_values()[:10]"
   ]
  },
  {
   "cell_type": "code",
   "execution_count": 146,
   "id": "f6d9860b-34ba-4159-8234-cadf66bd63d2",
   "metadata": {
    "pycharm": {
     "name": "#%%\n"
    }
   },
   "outputs": [
    {
     "data": {
      "text/plain": "array([ 2.,  4.,  6.,  8., 10., 12., 14., 16., 18., 20.])"
     },
     "execution_count": 146,
     "metadata": {},
     "output_type": "execute_result"
    }
   ],
   "source": [
    "import numpy as np\n",
    "## np.linspace(low end, high end, how many bins)\n",
    "np.linspace(2, 20, 10)"
   ]
  },
  {
   "cell_type": "markdown",
   "id": "bc627836-194b-4f38-8435-d5d848d1591c",
   "metadata": {
    "pycharm": {
     "name": "#%% md\n"
    }
   },
   "source": [
    "**Exercise 9.1**: Pick a feature you are interested in. Create 10 evenly spaced bins going from the lowest to the highest value of that feature."
   ]
  },
  {
   "cell_type": "code",
   "execution_count": 151,
   "outputs": [],
   "source": [
    "feat_stat = states[\"Insufficient Sleep\"]\n",
    "bins = np.linspace(feat_stat.min(), feat_stat.max(), 10)"
   ],
   "metadata": {
    "collapsed": false,
    "pycharm": {
     "name": "#%%\n"
    }
   }
  },
  {
   "cell_type": "markdown",
   "id": "c28da649-e9d1-45aa-b484-156293905935",
   "metadata": {
    "pycharm": {
     "name": "#%% md\n"
    }
   },
   "source": [
    "**Exercise 9.2**: Write *algorithm* and then *code* that will store for every bin, the number of states that fall in that bin. **Write your algorithm first**.  Pieces to think about: how will we store the counts? For every bin, how do we get the number of states in that particular bin? How do we repeat this for all bins? **Algorithm first!!**"
   ]
  },
  {
   "cell_type": "code",
   "execution_count": 154,
   "outputs": [
    {
     "name": "stdout",
     "output_type": "stream",
     "text": [
      "0 26.8\n",
      "1 28.2\n",
      "2 29.6\n",
      "3 31.0\n",
      "4 32.4\n",
      "5 33.8\n",
      "6 35.2\n",
      "7 36.599999999999994\n",
      "8 38.0\n",
      "9 39.4\n"
     ]
    }
   ],
   "source": [
    "import numpy as np\n",
    "feat_stat = states[\"Insufficient Sleep\"]\n",
    "bins = np.linspace(feat_stat.min(), feat_stat.max(), 10)\n",
    "d = {}\n",
    "for i,b in enumerate(bins):\n",
    "    print(i,b)\n",
    "    if i < len(bins-1):\n",
    "\n",
    "\n"
   ],
   "metadata": {
    "collapsed": false,
    "pycharm": {
     "name": "#%%\n"
    }
   }
  },
  {
   "cell_type": "markdown",
   "id": "3eecddba-a9c1-4ff4-aa7f-cb20619dc35c",
   "metadata": {
    "pycharm": {
     "name": "#%% md\n"
    }
   },
   "source": [
    "# 10. Intro to plotting\n"
   ]
  },
  {
   "cell_type": "markdown",
   "id": "0fe79c5b-47d5-4d4e-b2dd-b66ae48b7c93",
   "metadata": {
    "pycharm": {
     "name": "#%% md\n"
    }
   },
   "source": [
    "One useful summary is the **histogram** which allows us to visualize the **distribution** of our data. The distribution is which means how many times (how frequently) your *observations* have certain values. This can provide some insight! \n",
    "\n",
    "![img](https://preview.redd.it/oruqlgczepp91.png?width=960&crop=smart&auto=webp&s=e583fbd71ccc3e9028a3a21fe20daeabfaf85129 \"heights\")\n",
    "\n",
    "\n"
   ]
  },
  {
   "cell_type": "markdown",
   "id": "977d7a57-1b7e-4d25-83a9-69859635290b",
   "metadata": {
    "pycharm": {
     "name": "#%% md\n"
    }
   },
   "source": [
    "Plots have 4 fundamental properties that vary:\n",
    "- x-axis (horizontal space)\n",
    "- y-axis (vertical space)\n",
    "- markers / shapes\n",
    "- colors\n",
    "\n",
    "Each of these mean something for representing our data. Every time you look at a plot you should ask yourself:\n",
    "- what does the x-axis mean\n",
    "- what does the y-axis mean\n",
    "- what do markers or shapes mean\n",
    "- what do colors mean\n",
    "\n",
    "**Discuss**: Look at the histogram above. Note 1) what the *axes* are, 2) what the *bars* mean, and 3) what *observations* and *features* are in this plot."
   ]
  },
  {
   "cell_type": "markdown",
   "id": "ca7493a7-6f5c-4192-a2b8-368ce6ea05ed",
   "metadata": {
    "pycharm": {
     "name": "#%% md\n"
    }
   },
   "source": [
    "We can use the `seaborn` package for making plots. Today we will learn about using this to make plots of single features.\n",
    "\n",
    "First we use `import` to load the package, then we set it up..."
   ]
  },
  {
   "cell_type": "code",
   "execution_count": null,
   "id": "d6071e0c-01a9-407b-96d2-ec556aee37f0",
   "metadata": {
    "pycharm": {
     "name": "#%%\n"
    }
   },
   "outputs": [],
   "source": [
    "\n",
    "import seaborn as sns\n",
    "sns.set_theme()  ## the default theme with a grid"
   ]
  },
  {
   "cell_type": "markdown",
   "id": "c265926d-57fe-4b01-a609-0e939eaa47ea",
   "metadata": {
    "pycharm": {
     "name": "#%% md\n"
    }
   },
   "source": [
    "Seaborn always operates on a data frame. \n",
    "\n",
    "Depending on what seaborn function you use, it will make a different kind of plot. Right now we'll just use `displot` short for **distribution plot** which is the same thing as a histogram:"
   ]
  },
  {
   "cell_type": "code",
   "execution_count": null,
   "id": "85ae9ecc-ea0b-4930-b937-70941ff44e87",
   "metadata": {
    "pycharm": {
     "name": "#%%\n"
    }
   },
   "outputs": [],
   "source": [
    "sns.displot(data=df, x=\"surface\")"
   ]
  },
  {
   "cell_type": "markdown",
   "id": "a7d896f7-adbd-4bb7-a244-f372b5867989",
   "metadata": {
    "pycharm": {
     "name": "#%% md\n"
    }
   },
   "source": [
    "**Exercise 10.1**: Make a histogram (or distribution plot) of your chosen feature from exercise 9.2. Compare the values to what you got in exercise 9.2"
   ]
  },
  {
   "cell_type": "code",
   "execution_count": null,
   "id": "ad9b362e-9923-4c6e-91e0-6b961a6778c8",
   "metadata": {
    "pycharm": {
     "name": "#%%\n"
    }
   },
   "outputs": [],
   "source": []
  }
 ],
 "metadata": {
  "kernelspec": {
   "display_name": "Python 3",
   "language": "python",
   "name": "python3"
  },
  "language_info": {
   "codemirror_mode": {
    "name": "ipython",
    "version": 3
   },
   "file_extension": ".py",
   "mimetype": "text/x-python",
   "name": "python",
   "nbconvert_exporter": "python",
   "pygments_lexer": "ipython3",
   "version": "3.6.10"
  }
 },
 "nbformat": 4,
 "nbformat_minor": 5
}