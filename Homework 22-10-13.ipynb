{
 "cells": [
  {
   "cell_type": "code",
   "execution_count": 19,
   "outputs": [],
   "source": [
    "import pandas as pd\n",
    "geno = pd.read_table(\"arabidopsis_birds/arabmagic/arabmagic_geno.csv\", sep=\",\",skiprows=3,index_col=0)\n",
    "pmap = pd.read_table(\"arabidopsis_birds/arabmagic/arabmagic_pmap_tair9.csv\", sep=\",\",skiprows=3,index_col=0)\n",
    "pheno = pd.read_table(\"arabidopsis_birds/arabmagic/arabmagic_pheno.csv\", sep=\",\",skiprows=3,index_col=0)\n",
    "# Importing and setting up our initial dataframes"
   ],
   "metadata": {
    "collapsed": false,
    "pycharm": {
     "name": "#%%\n"
    }
   }
  },
  {
   "cell_type": "markdown",
   "source": [
    "### Part A\n",
    "Make a data frame where the rows are the markers and you have 4 columns: chromosome (`chr`), position (`pos`), and the genotype data for plants `MAGIC.2` and `MAGIC.20`"
   ],
   "metadata": {
    "collapsed": false,
    "pycharm": {
     "name": "#%% md\n"
    }
   }
  },
  {
   "cell_type": "code",
   "execution_count": 22,
   "outputs": [
    {
     "data": {
      "text/plain": "             MAGIC.2 MAGIC.20  chr        pos\nmarker                                       \nMN1_29291          A        A    1   0.029291\nMN1_29716          A        A    1   0.029757\nMN1_112907         B        B    1   0.112907\nMASC03771          B        A    1   0.174605\nMN1_197787         A        B    1   0.197787\n...              ...      ...  ...        ...\nMN5_26437895       A        A    5  26.420670\nMN5_26438023       A        A    5  26.420798\nMN5_26708459       B        A    5  26.691233\nMN5_26877341       A        B    5  26.860115\nMN5_26877463       A        B    5  26.860237\n\n[1251 rows x 4 columns]",
      "text/html": "<div>\n<style scoped>\n    .dataframe tbody tr th:only-of-type {\n        vertical-align: middle;\n    }\n\n    .dataframe tbody tr th {\n        vertical-align: top;\n    }\n\n    .dataframe thead th {\n        text-align: right;\n    }\n</style>\n<table border=\"1\" class=\"dataframe\">\n  <thead>\n    <tr style=\"text-align: right;\">\n      <th></th>\n      <th>MAGIC.2</th>\n      <th>MAGIC.20</th>\n      <th>chr</th>\n      <th>pos</th>\n    </tr>\n    <tr>\n      <th>marker</th>\n      <th></th>\n      <th></th>\n      <th></th>\n      <th></th>\n    </tr>\n  </thead>\n  <tbody>\n    <tr>\n      <th>MN1_29291</th>\n      <td>A</td>\n      <td>A</td>\n      <td>1</td>\n      <td>0.029291</td>\n    </tr>\n    <tr>\n      <th>MN1_29716</th>\n      <td>A</td>\n      <td>A</td>\n      <td>1</td>\n      <td>0.029757</td>\n    </tr>\n    <tr>\n      <th>MN1_112907</th>\n      <td>B</td>\n      <td>B</td>\n      <td>1</td>\n      <td>0.112907</td>\n    </tr>\n    <tr>\n      <th>MASC03771</th>\n      <td>B</td>\n      <td>A</td>\n      <td>1</td>\n      <td>0.174605</td>\n    </tr>\n    <tr>\n      <th>MN1_197787</th>\n      <td>A</td>\n      <td>B</td>\n      <td>1</td>\n      <td>0.197787</td>\n    </tr>\n    <tr>\n      <th>...</th>\n      <td>...</td>\n      <td>...</td>\n      <td>...</td>\n      <td>...</td>\n    </tr>\n    <tr>\n      <th>MN5_26437895</th>\n      <td>A</td>\n      <td>A</td>\n      <td>5</td>\n      <td>26.420670</td>\n    </tr>\n    <tr>\n      <th>MN5_26438023</th>\n      <td>A</td>\n      <td>A</td>\n      <td>5</td>\n      <td>26.420798</td>\n    </tr>\n    <tr>\n      <th>MN5_26708459</th>\n      <td>B</td>\n      <td>A</td>\n      <td>5</td>\n      <td>26.691233</td>\n    </tr>\n    <tr>\n      <th>MN5_26877341</th>\n      <td>A</td>\n      <td>B</td>\n      <td>5</td>\n      <td>26.860115</td>\n    </tr>\n    <tr>\n      <th>MN5_26877463</th>\n      <td>A</td>\n      <td>B</td>\n      <td>5</td>\n      <td>26.860237</td>\n    </tr>\n  </tbody>\n</table>\n<p>1251 rows × 4 columns</p>\n</div>"
     },
     "execution_count": 22,
     "metadata": {},
     "output_type": "execute_result"
    }
   ],
   "source": [
    "geno_map = pd.concat((geno.loc[:,('MAGIC.2', 'MAGIC.20')], pmap), axis=1)\n",
    "# building a dataframe from two others via concat\n",
    "    # the first dataframe we are using is geno and from that we are taking all the columns pertaining to  `MAGIC.2` and `MAGIC.20`\n",
    "    # the second dataframe is pmap which we are taking all the data from\n",
    "    # we use `axis=1` because we are joining these two along the columns\n",
    "    # this should spit out 1251 rows (Markers) and 4 columns (chr, pos, MAGIC.2, and MAGIC.20)\n",
    "geno_map\n",
    "# printing the dataframe"
   ],
   "metadata": {
    "collapsed": false,
    "pycharm": {
     "name": "#%%\n"
    }
   }
  },
  {
   "cell_type": "markdown",
   "source": [
    "### Part B\n",
    "Make a data frame containing all the geno* data and Marker info for markers `MASC06116` and `MN1_29291`."
   ],
   "metadata": {
    "collapsed": false,
    "pycharm": {
     "name": "#%% md\n"
    }
   }
  },
  {
   "cell_type": "code",
   "execution_count": 23,
   "outputs": [
    {
     "data": {
      "text/plain": "          MAGIC.1 MAGIC.10 MAGIC.100 MAGIC.101 MAGIC.102 MAGIC.103 MAGIC.104  \\\nmarker                                                                         \nMASC06116       A        A         A         A         A         A         A   \nMN1_29291       A        A         A         B         B         A         A   \n\n          MAGIC.105 MAGIC.106 MAGIC.107  ... MAGIC.696 MAGIC.697 MAGIC.698  \\\nmarker                                   ...                                 \nMASC06116         B         A         A  ...         A         A         A   \nMN1_29291         B         A         A  ...         B         A         B   \n\n          MAGIC.699 MAGIC.700 MAGIC.701 MAGIC.702 MAGIC.703 chr        pos  \nmarker                                                                      \nMASC06116         A         A         A         A         A   2  11.324386  \nMN1_29291         B         B         B         A         A   1   0.029291  \n\n[2 rows x 705 columns]",
      "text/html": "<div>\n<style scoped>\n    .dataframe tbody tr th:only-of-type {\n        vertical-align: middle;\n    }\n\n    .dataframe tbody tr th {\n        vertical-align: top;\n    }\n\n    .dataframe thead th {\n        text-align: right;\n    }\n</style>\n<table border=\"1\" class=\"dataframe\">\n  <thead>\n    <tr style=\"text-align: right;\">\n      <th></th>\n      <th>MAGIC.1</th>\n      <th>MAGIC.10</th>\n      <th>MAGIC.100</th>\n      <th>MAGIC.101</th>\n      <th>MAGIC.102</th>\n      <th>MAGIC.103</th>\n      <th>MAGIC.104</th>\n      <th>MAGIC.105</th>\n      <th>MAGIC.106</th>\n      <th>MAGIC.107</th>\n      <th>...</th>\n      <th>MAGIC.696</th>\n      <th>MAGIC.697</th>\n      <th>MAGIC.698</th>\n      <th>MAGIC.699</th>\n      <th>MAGIC.700</th>\n      <th>MAGIC.701</th>\n      <th>MAGIC.702</th>\n      <th>MAGIC.703</th>\n      <th>chr</th>\n      <th>pos</th>\n    </tr>\n    <tr>\n      <th>marker</th>\n      <th></th>\n      <th></th>\n      <th></th>\n      <th></th>\n      <th></th>\n      <th></th>\n      <th></th>\n      <th></th>\n      <th></th>\n      <th></th>\n      <th></th>\n      <th></th>\n      <th></th>\n      <th></th>\n      <th></th>\n      <th></th>\n      <th></th>\n      <th></th>\n      <th></th>\n      <th></th>\n      <th></th>\n    </tr>\n  </thead>\n  <tbody>\n    <tr>\n      <th>MASC06116</th>\n      <td>A</td>\n      <td>A</td>\n      <td>A</td>\n      <td>A</td>\n      <td>A</td>\n      <td>A</td>\n      <td>A</td>\n      <td>B</td>\n      <td>A</td>\n      <td>A</td>\n      <td>...</td>\n      <td>A</td>\n      <td>A</td>\n      <td>A</td>\n      <td>A</td>\n      <td>A</td>\n      <td>A</td>\n      <td>A</td>\n      <td>A</td>\n      <td>2</td>\n      <td>11.324386</td>\n    </tr>\n    <tr>\n      <th>MN1_29291</th>\n      <td>A</td>\n      <td>A</td>\n      <td>A</td>\n      <td>B</td>\n      <td>B</td>\n      <td>A</td>\n      <td>A</td>\n      <td>B</td>\n      <td>A</td>\n      <td>A</td>\n      <td>...</td>\n      <td>B</td>\n      <td>A</td>\n      <td>B</td>\n      <td>B</td>\n      <td>B</td>\n      <td>B</td>\n      <td>A</td>\n      <td>A</td>\n      <td>1</td>\n      <td>0.029291</td>\n    </tr>\n  </tbody>\n</table>\n<p>2 rows × 705 columns</p>\n</div>"
     },
     "execution_count": 23,
     "metadata": {},
     "output_type": "execute_result"
    }
   ],
   "source": [
    "geno_map2 = pd.concat((geno.loc[('MASC06116', 'MN1_29291'), :], pmap.loc[('MASC06116', 'MN1_29291'), :]), axis=1)\n",
    "# building a dataframe from two others via concat\n",
    "    # the first data frame we are using is geno from that we are using only the rows pertaining to `MASC06116` and `MN1_29291`\n",
    "    # the second dataframe we are using is pmap and we are also just using the `MASC06116` and `MN1_29291` rows\n",
    "    # similarly to the above DF we are using `axis=1` so we join our two initial DF by their columns\n",
    "    # this should spit out only 2 rows (`MASC06116` and `MN1_29291`) and 705 columns (MAGIC.*, chr, and pos)\n",
    "geno_map2\n",
    "# printing the dataframe"
   ],
   "metadata": {
    "collapsed": false,
    "pycharm": {
     "name": "#%%\n"
    }
   }
  },
  {
   "cell_type": "code",
   "execution_count": 29,
   "outputs": [
    {
     "data": {
      "text/plain": "           bolting_days  seed_weight  seed_area  ttl_seedspfruit  branches  \\\nMAGIC.1           15.33        17.15       0.64            45.11     10.50   \nMAGIC.2           22.00        22.71       0.75            49.11      4.33   \nMAGIC.3           23.00        21.03       0.68            57.00      4.67   \nMAGIC.4           18.67        22.45       0.74            54.33      6.33   \nMAGIC.5           18.67        25.36       0.82            38.33      5.67   \n...                 ...          ...        ...              ...       ...   \nMAGIC.650           NaN          NaN        NaN              NaN       NaN   \nMAGIC.663           NaN          NaN        NaN              NaN       NaN   \nMAGIC.665           NaN          NaN        NaN              NaN       NaN   \nMAGIC.667           NaN          NaN        NaN              NaN       NaN   \nMAGIC.678           NaN          NaN        NaN              NaN       NaN   \n\n           height  pc_seeds_aborted  fruit_length MASC06116 MN1_29291  \nMAGIC.1       NaN              0.00         14.95         A         A  \nMAGIC.2     42.33              1.09         13.27         A         A  \nMAGIC.3     50.00              0.00         13.90         A         A  \nMAGIC.4       NaN              0.23         15.93         A         A  \nMAGIC.5     42.25              0.00         12.81         A         B  \n...           ...               ...           ...       ...       ...  \nMAGIC.650     NaN               NaN           NaN         A         A  \nMAGIC.663     NaN               NaN           NaN         A         B  \nMAGIC.665     NaN               NaN           NaN         A         B  \nMAGIC.667     NaN               NaN           NaN         A         A  \nMAGIC.678     NaN               NaN           NaN         B         A  \n\n[703 rows x 10 columns]",
      "text/html": "<div>\n<style scoped>\n    .dataframe tbody tr th:only-of-type {\n        vertical-align: middle;\n    }\n\n    .dataframe tbody tr th {\n        vertical-align: top;\n    }\n\n    .dataframe thead th {\n        text-align: right;\n    }\n</style>\n<table border=\"1\" class=\"dataframe\">\n  <thead>\n    <tr style=\"text-align: right;\">\n      <th></th>\n      <th>bolting_days</th>\n      <th>seed_weight</th>\n      <th>seed_area</th>\n      <th>ttl_seedspfruit</th>\n      <th>branches</th>\n      <th>height</th>\n      <th>pc_seeds_aborted</th>\n      <th>fruit_length</th>\n      <th>MASC06116</th>\n      <th>MN1_29291</th>\n    </tr>\n  </thead>\n  <tbody>\n    <tr>\n      <th>MAGIC.1</th>\n      <td>15.33</td>\n      <td>17.15</td>\n      <td>0.64</td>\n      <td>45.11</td>\n      <td>10.50</td>\n      <td>NaN</td>\n      <td>0.00</td>\n      <td>14.95</td>\n      <td>A</td>\n      <td>A</td>\n    </tr>\n    <tr>\n      <th>MAGIC.2</th>\n      <td>22.00</td>\n      <td>22.71</td>\n      <td>0.75</td>\n      <td>49.11</td>\n      <td>4.33</td>\n      <td>42.33</td>\n      <td>1.09</td>\n      <td>13.27</td>\n      <td>A</td>\n      <td>A</td>\n    </tr>\n    <tr>\n      <th>MAGIC.3</th>\n      <td>23.00</td>\n      <td>21.03</td>\n      <td>0.68</td>\n      <td>57.00</td>\n      <td>4.67</td>\n      <td>50.00</td>\n      <td>0.00</td>\n      <td>13.90</td>\n      <td>A</td>\n      <td>A</td>\n    </tr>\n    <tr>\n      <th>MAGIC.4</th>\n      <td>18.67</td>\n      <td>22.45</td>\n      <td>0.74</td>\n      <td>54.33</td>\n      <td>6.33</td>\n      <td>NaN</td>\n      <td>0.23</td>\n      <td>15.93</td>\n      <td>A</td>\n      <td>A</td>\n    </tr>\n    <tr>\n      <th>MAGIC.5</th>\n      <td>18.67</td>\n      <td>25.36</td>\n      <td>0.82</td>\n      <td>38.33</td>\n      <td>5.67</td>\n      <td>42.25</td>\n      <td>0.00</td>\n      <td>12.81</td>\n      <td>A</td>\n      <td>B</td>\n    </tr>\n    <tr>\n      <th>...</th>\n      <td>...</td>\n      <td>...</td>\n      <td>...</td>\n      <td>...</td>\n      <td>...</td>\n      <td>...</td>\n      <td>...</td>\n      <td>...</td>\n      <td>...</td>\n      <td>...</td>\n    </tr>\n    <tr>\n      <th>MAGIC.650</th>\n      <td>NaN</td>\n      <td>NaN</td>\n      <td>NaN</td>\n      <td>NaN</td>\n      <td>NaN</td>\n      <td>NaN</td>\n      <td>NaN</td>\n      <td>NaN</td>\n      <td>A</td>\n      <td>A</td>\n    </tr>\n    <tr>\n      <th>MAGIC.663</th>\n      <td>NaN</td>\n      <td>NaN</td>\n      <td>NaN</td>\n      <td>NaN</td>\n      <td>NaN</td>\n      <td>NaN</td>\n      <td>NaN</td>\n      <td>NaN</td>\n      <td>A</td>\n      <td>B</td>\n    </tr>\n    <tr>\n      <th>MAGIC.665</th>\n      <td>NaN</td>\n      <td>NaN</td>\n      <td>NaN</td>\n      <td>NaN</td>\n      <td>NaN</td>\n      <td>NaN</td>\n      <td>NaN</td>\n      <td>NaN</td>\n      <td>A</td>\n      <td>B</td>\n    </tr>\n    <tr>\n      <th>MAGIC.667</th>\n      <td>NaN</td>\n      <td>NaN</td>\n      <td>NaN</td>\n      <td>NaN</td>\n      <td>NaN</td>\n      <td>NaN</td>\n      <td>NaN</td>\n      <td>NaN</td>\n      <td>A</td>\n      <td>A</td>\n    </tr>\n    <tr>\n      <th>MAGIC.678</th>\n      <td>NaN</td>\n      <td>NaN</td>\n      <td>NaN</td>\n      <td>NaN</td>\n      <td>NaN</td>\n      <td>NaN</td>\n      <td>NaN</td>\n      <td>NaN</td>\n      <td>B</td>\n      <td>A</td>\n    </tr>\n  </tbody>\n</table>\n<p>703 rows × 10 columns</p>\n</div>"
     },
     "execution_count": 29,
     "metadata": {},
     "output_type": "execute_result"
    }
   ],
   "source": [
    "pheno_map = pd.concat((pheno, geno.transpose().loc[:,('MASC06116', 'MN1_29291')]),  axis=1)\n",
    "# building a dataframe from two others via concat\n",
    "    # the first dataframe we are using is pheno, which we wil take everything from\n",
    "    # the second DF we are using is geno which we will need to transpose so both are delineated by plants\n",
    "pheno_map"
   ],
   "metadata": {
    "collapsed": false,
    "pycharm": {
     "name": "#%%\n"
    }
   }
  }
 ],
 "metadata": {
  "kernelspec": {
   "display_name": "Python 3",
   "language": "python",
   "name": "python3"
  },
  "language_info": {
   "codemirror_mode": {
    "name": "ipython",
    "version": 2
   },
   "file_extension": ".py",
   "mimetype": "text/x-python",
   "name": "python",
   "nbconvert_exporter": "python",
   "pygments_lexer": "ipython2",
   "version": "2.7.6"
  }
 },
 "nbformat": 4,
 "nbformat_minor": 0
}