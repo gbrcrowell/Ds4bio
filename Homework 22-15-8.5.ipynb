{
 "cells": [
  {
   "cell_type": "code",
   "execution_count": 7,
   "outputs": [
    {
     "name": "stdout",
     "output_type": "stream",
     "text": [
      "Optimization terminated successfully.\n",
      "         Current function value: 0.329815\n",
      "         Iterations 7\n"
     ]
    }
   ],
   "source": [
    "import pandas as pd, statsmodels.api as sm\n",
    "sites = pd.read_table(\"arabidopsis_birds/eco_data/eco_sites.txt\")\n",
    "counts = pd.read_table(\"arabidopsis_birds/eco_data/species_counts.txt\")\n",
    "\n",
    "is_mega = counts.columns.str.contains('Megalaima')\n",
    "sites['has_mega'] = counts.loc[:,is_mega].sum(axis=1) > 0\n",
    "# imports\n",
    "\n",
    "to_model = sites.loc[:,['has_mega','Elevation']]\n",
    "to_model = sm.add_constant(to_model)\n",
    "to_model.head()\n",
    "y = to_model['has_mega']\n",
    "X = to_model.drop(['has_mega'],axis=1)\n",
    "lr_mod = sm.Logit(y, X).fit()\n",
    "# builds a logistic model of our data to use for the cutoffs\n",
    "\n",
    "sites['cutoff'] = lr_mod.predict(X)\n",
    "# adds cutoff to our sites df"
   ],
   "metadata": {
    "collapsed": false,
    "pycharm": {
     "name": "#%%\n"
    }
   }
  },
  {
   "cell_type": "markdown",
   "source": [
    "Write code that uses a variable  called  cutoff . Given any value of cutoff (and the predictions from lr_mod.predict(X) your code should calculate the true positive rate and the false positive rate for that cutoff."
   ],
   "metadata": {
    "collapsed": false,
    "pycharm": {
     "name": "#%% md\n"
    }
   }
  },
  {
   "cell_type": "code",
   "execution_count": 8,
   "outputs": [
    {
     "name": "stdout",
     "output_type": "stream",
     "text": [
      "Given cutoff 0.75, our true positive test is 0.5882352941176471 and false positive test is 0.09523809523809523.\n"
     ]
    }
   ],
   "source": [
    "cutoff = 0.75\n",
    "sites_in_range = sites[sites['cutoff'] >= cutoff]\n",
    "# finds the sites that fit within our cutoff\n",
    "\n",
    "real_positive_in_range = (sites_in_range['has_mega'] == True).sum()\n",
    "real_negative_in_range = (sites_in_range['has_mega'] == False).sum()\n",
    "# finds number of real pos and real neg in range by using bool indexing and a sum\n",
    "\n",
    "total1s = (sites['has_mega'] == True).sum()\n",
    "total0s = (sites['has_mega'] == False).sum()\n",
    "# calculates the total sites in range for 1s and 0s\n",
    "\n",
    "tt_test = real_positive_in_range / total1s\n",
    "ft_test = real_negative_in_range / total0s\n",
    "# saves true positive test and false positive test and cutoff into our dictionary\n",
    "\n",
    "print(f'Given cutoff {cutoff}, our true positive test is {tt_test} and false positive test is {ft_test}.')"
   ],
   "metadata": {
    "collapsed": false,
    "pycharm": {
     "name": "#%%\n"
    }
   }
  },
  {
   "cell_type": "code",
   "execution_count": 9,
   "outputs": [
    {
     "name": "stdout",
     "output_type": "stream",
     "text": [
      "The True Positive Rate is 0.5882352941176471\n",
      "The False Positive Rate is 0.09523809523809523\n"
     ]
    }
   ],
   "source": [
    "# y is has mega\n",
    "y = to_model['has_mega']\n",
    "# creates the cutoff variable\n",
    "cutoff = 0.75\n",
    "\n",
    "# gets the total number of real 1s from the data\n",
    "total_1s = (y == True).sum()\n",
    "# gets the total number of real 0s from the data\n",
    "total_0s = (y != True).sum()\n",
    "\n",
    "# all the predicted probabilities above the cutoff\n",
    "above_cutoff = ((lr_mod.predict(X)) >= cutoff)\n",
    "\n",
    "# if it is above the cutoff (which we predict is a 1) and actually is a 1, thats the true positive. Sum to get the total #\n",
    "true_pos = (above_cutoff & y).sum()\n",
    "# if it is above the cutoff (which we predict is a 1) and actually is a 0, thats the false positive. Sum to get the total #\n",
    "false_pos = (above_cutoff & (y != True)).sum()\n",
    "\n",
    "# Uses the true positive rate equation to get the rate\n",
    "true_pos_rate = true_pos/total_1s\n",
    "#Uses the false positive rate equation to get the rate\n",
    "false_pos_rate = false_pos/total_0s\n",
    "\n",
    "print(\"The True Positive Rate is\", true_pos_rate)\n",
    "print(\"The False Positive Rate is\", false_pos_rate)"
   ],
   "metadata": {
    "collapsed": false,
    "pycharm": {
     "name": "#%%\n"
    }
   }
  }
 ],
 "metadata": {
  "kernelspec": {
   "display_name": "Python 3",
   "language": "python",
   "name": "python3"
  },
  "language_info": {
   "codemirror_mode": {
    "name": "ipython",
    "version": 2
   },
   "file_extension": ".py",
   "mimetype": "text/x-python",
   "name": "python",
   "nbconvert_exporter": "python",
   "pygments_lexer": "ipython2",
   "version": "2.7.6"
  }
 },
 "nbformat": 4,
 "nbformat_minor": 0
}